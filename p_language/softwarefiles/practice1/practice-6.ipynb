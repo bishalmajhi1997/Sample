{
 "cells": [
  {
   "cell_type": "code",
   "execution_count": 2,
   "id": "b2e54f02",
   "metadata": {},
   "outputs": [
    {
     "name": "stdout",
     "output_type": "stream",
     "text": [
      "0\n"
     ]
    }
   ],
   "source": [
    "string=\"{[()]}[]\"\n",
    "lst1=[\"{\",\"(\",\"[\"]\n",
    "lst2=[\"}\",\")\",\"]\"]\n",
    "lst=[]\n",
    "Dict={\"}\":\"{\",\")\":\"(\",\"]\":\"[\"}\n",
    "a=b=c=0\n",
    "if string[0] in lst2:\n",
    "    print(1)\n",
    "else:\n",
    "    for i in range(0,len(string)):\n",
    "        if string[i] in lst1:\n",
    "            lst.append(string[i])\n",
    "        else:\n",
    "            if len(lst)==0 and (string[i] in lst2):\n",
    "                print(i+1)\n",
    "                c=1\n",
    "                break\n",
    "            else:\n",
    "                if Dict[string[i]]==lst[len(lst)-1]:\n",
    "                    lst.pop()\n",
    "                else:\n",
    "                    print(i+1)\n",
    "                    a=1\n",
    "                    break\n",
    "    if len(lst)==0 and c==0:\n",
    "        print(0)\n",
    "        b=1\n",
    "    if a==0 and b==0 and c==0:\n",
    "        print(\"nothing\")\n",
    "            \n",
    "    "
   ]
  },
  {
   "cell_type": "code",
   "execution_count": null,
   "id": "8b6c433a",
   "metadata": {},
   "outputs": [],
   "source": []
  }
 ],
 "metadata": {
  "kernelspec": {
   "display_name": "Python 3",
   "language": "python",
   "name": "python3"
  },
  "language_info": {
   "codemirror_mode": {
    "name": "ipython",
    "version": 3
   },
   "file_extension": ".py",
   "mimetype": "text/x-python",
   "name": "python",
   "nbconvert_exporter": "python",
   "pygments_lexer": "ipython3",
   "version": "3.8.8"
  }
 },
 "nbformat": 4,
 "nbformat_minor": 5
}
