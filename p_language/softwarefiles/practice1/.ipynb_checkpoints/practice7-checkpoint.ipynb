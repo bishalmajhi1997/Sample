{
 "cells": [
  {
   "cell_type": "markdown",
   "id": "9856188a",
   "metadata": {},
   "source": [
    "Alphabet and Letters Patterns"
   ]
  },
  {
   "cell_type": "code",
   "execution_count": 2,
   "id": "3e140502",
   "metadata": {},
   "outputs": [
    {
     "name": "stdout",
     "output_type": "stream",
     "text": [
      "A  \n",
      "B C  \n",
      "D E F  \n",
      "G H I J  \n",
      "K L M N O  \n",
      "P Q R S T U  \n",
      "V W X Y Z [ \\  \n"
     ]
    }
   ],
   "source": [
    "ascii_number=65\n",
    "rows=7\n",
    "for i in range(0,rows):\n",
    "    for j in range(0,i+1):\n",
    "        charecter=chr(ascii_number)\n",
    "        print(charecter,end=\" \")\n",
    "        ascii_number +=1\n",
    "    print(\" \")"
   ]
  },
  {
   "cell_type": "code",
   "execution_count": 6,
   "id": "d95af727",
   "metadata": {},
   "outputs": [
    {
     "name": "stdout",
     "output_type": "stream",
     "text": [
      " P\n",
      " Py\n",
      " Pyt\n",
      " Pyth\n",
      " Pytho\n",
      " Python\n"
     ]
    }
   ],
   "source": [
    "word=\"Python\"\n",
    "x=\" \"\n",
    "for i in word:\n",
    "    x+=i\n",
    "    print(x)"
   ]
  },
  {
   "cell_type": "code",
   "execution_count": 12,
   "id": "d5bd0238",
   "metadata": {},
   "outputs": [
    {
     "name": "stdout",
     "output_type": "stream",
     "text": [
      "Eqivalent triangle:\n",
      "            A \n",
      "           B C \n",
      "          D E F \n",
      "         G H I J \n",
      "        K L M N O \n",
      "       P Q R S T U \n",
      "      V W X Y Z [ \\ \n"
     ]
    }
   ],
   "source": [
    "print(\"Eqivalent triangle:\")\n",
    "size=7\n",
    "ascii_number=65\n",
    "m=(2*size)-2\n",
    "for i in range(0,size):\n",
    "    for j in range(0,m):\n",
    "        print(end=\" \")\n",
    "    m=m-1\n",
    "    for i in range(0,i+1):\n",
    "        charecter=chr(ascii_number)\n",
    "        print(charecter,end=\" \")\n",
    "        ascii_number+=1\n",
    "    print(\"\")"
   ]
  },
  {
   "cell_type": "code",
   "execution_count": 16,
   "id": "8b956a79",
   "metadata": {},
   "outputs": [
    {
     "name": "stdout",
     "output_type": "stream",
     "text": [
      "V \n",
      "V V \n",
      "V V V \n",
      "V V V V \n",
      "V V V V V \n"
     ]
    }
   ],
   "source": [
    "charecter=\"V\"\n",
    "char_ascii_no=ord(charecter)\n",
    "for i in range(0,5):\n",
    "    for j in range(0,i+1):\n",
    "        user_check=chr(char_ascii_no)\n",
    "        print(user_check,end=\" \")\n",
    "    print()"
   ]
  },
  {
   "cell_type": "code",
   "execution_count": 17,
   "id": "2ac04c4b",
   "metadata": {},
   "outputs": [
    {
     "name": "stdout",
     "output_type": "stream",
     "text": [
      "1 \n",
      "2 4 \n",
      "3 6 9 \n",
      "4 8 12 16 \n",
      "5 10 15 20 25 \n",
      "6 12 18 24 30 36 \n",
      "7 14 21 28 35 42 49 \n",
      "8 16 24 32 40 48 56 64 \n",
      "9 18 27 36 45 54 63 72 81 \n",
      "10 20 30 40 50 60 70 80 90 100 \n"
     ]
    }
   ],
   "source": [
    "rows=10\n",
    "for i in range(1,rows+1):\n",
    "    for j in range(1,i+1):\n",
    "        print(i * j,end=\" \")\n",
    "    print()"
   ]
  },
  {
   "cell_type": "code",
   "execution_count": 22,
   "id": "702d7cac",
   "metadata": {},
   "outputs": [
    {
     "name": "stdout",
     "output_type": "stream",
     "text": [
      "1 \n",
      "4 2 \n",
      "27 9 3 \n",
      "256 64 16 4 \n",
      "3125 625 125 25 5 \n",
      "46656 7776 1296 216 36 6 \n",
      "823543 117649 16807 2401 343 49 7 \n",
      "16777216 2097152 262144 32768 4096 512 64 8 \n"
     ]
    }
   ],
   "source": [
    "rows=9\n",
    "for i in range(1,rows):\n",
    "    for j in range(i,0,-1):\n",
    "        print(i**j,end=\" \")\n",
    "    print()"
   ]
  },
  {
   "cell_type": "code",
   "execution_count": 23,
   "id": "6a92d72b",
   "metadata": {},
   "outputs": [
    {
     "name": "stdout",
     "output_type": "stream",
     "text": [
      "   1  \n",
      "   2    1  \n",
      "   4    2    1  \n",
      "   8    4    2    1  \n",
      "  16    8    4    2    1  \n",
      "  32   16    8    4    2    1  \n",
      "  64   32   16    8    4    2    1  \n",
      " 128   64   32   16    8    4    2    1  \n"
     ]
    }
   ],
   "source": [
    "rows=9\n",
    "for i in range(1,rows):\n",
    "    for j in range(-1+i,-1,-1):\n",
    "        print(format(2**j,\"4d\"),end=\" \")\n",
    "    print(\" \")"
   ]
  },
  {
   "cell_type": "code",
   "execution_count": 29,
   "id": "55a2a23b",
   "metadata": {},
   "outputs": [
    {
     "name": "stdout",
     "output_type": "stream",
     "text": [
      "1  \n",
      "2 1  \n",
      "4 2 1  \n",
      "8 4 2 1  \n",
      "16 8 4 2 1  \n",
      "32 16 8 4 2 1  \n",
      "64 32 16 8 4 2 1  \n",
      "128 64 32 16 8 4 2 1  \n"
     ]
    }
   ],
   "source": [
    "rows=9\n",
    "for i in range(1,rows):\n",
    "    for j in range(i-1,-1,-1):\n",
    "        print(2**j,end=\" \")\n",
    "    print(\" \")"
   ]
  },
  {
   "cell_type": "markdown",
   "id": "edb10f17",
   "metadata": {},
   "source": [
    "Random number pattern"
   ]
  },
  {
   "cell_type": "code",
   "execution_count": 34,
   "id": "85523a38",
   "metadata": {},
   "outputs": [
    {
     "name": "stdout",
     "output_type": "stream",
     "text": [
      "1 \n",
      "1 2 1 \n",
      "1 2 4 2 1 \n",
      "1 2 4 8 4 2 1 \n",
      "1 2 4 8 16 8 4 2 1 \n",
      "1 2 4 8 16 32 16 8 4 2 1 \n",
      "1 2 4 8 16 32 64 32 16 8 4 2 1 \n",
      "1 2 4 8 16 32 64 128 64 32 16 8 4 2 1 \n"
     ]
    }
   ],
   "source": [
    "rows=9\n",
    "for i in range(1,rows):\n",
    "    for j in range(0,i):\n",
    "        print(2 **j,end=\" \")\n",
    "    for j in range(i-2,-1,-1):\n",
    "        print(2**j,end=\" \")\n",
    "    print()"
   ]
  },
  {
   "cell_type": "code",
   "execution_count": 45,
   "id": "feed2226",
   "metadata": {},
   "outputs": [
    {
     "name": "stdout",
     "output_type": "stream",
     "text": [
      "1  \n",
      "2 3 4  \n",
      "5 6 7 8 9  \n"
     ]
    }
   ],
   "source": [
    "current_name=1\n",
    "stop=2\n",
    "for i in range(3):\n",
    "    for j in range(1,stop):\n",
    "        print(current_name,end=\" \")\n",
    "        current_name +=1\n",
    "    print(\" \")\n",
    "    stop +=2"
   ]
  },
  {
   "cell_type": "code",
   "execution_count": 49,
   "id": "eb263147",
   "metadata": {},
   "outputs": [
    {
     "name": "stdout",
     "output_type": "stream",
     "text": [
      "1  \n",
      "2 3  \n",
      "4 5 6  \n",
      "7 8 9 10  \n"
     ]
    }
   ],
   "source": [
    "current_name=1\n",
    "stop=2\n",
    "for i in range(4):\n",
    "    for j in range(1,stop):\n",
    "        print(current_name,end=\" \")\n",
    "        current_name +=1\n",
    "    print(\" \")\n",
    "    stop +=1"
   ]
  },
  {
   "cell_type": "code",
   "execution_count": 52,
   "id": "2324bb73",
   "metadata": {},
   "outputs": [
    {
     "name": "stdout",
     "output_type": "stream",
     "text": [
      "10  \n",
      "10 8  \n",
      "10 8 6  \n",
      "10 8 6 4  \n",
      "10 8 6 4 2  \n"
     ]
    }
   ],
   "source": [
    "current_name=10\n",
    "stop=2\n",
    "for i in range(5):\n",
    "    current_name=10\n",
    "\n",
    "    for j in range(1,stop):\n",
    "        print(current_name,end=\" \")\n",
    "        current_name -=2\n",
    "    print(\" \")\n",
    "    stop+=1"
   ]
  },
  {
   "cell_type": "code",
   "execution_count": null,
   "id": "420efa87",
   "metadata": {},
   "outputs": [],
   "source": []
  }
 ],
 "metadata": {
  "kernelspec": {
   "display_name": "Python 3",
   "language": "python",
   "name": "python3"
  },
  "language_info": {
   "codemirror_mode": {
    "name": "ipython",
    "version": 3
   },
   "file_extension": ".py",
   "mimetype": "text/x-python",
   "name": "python",
   "nbconvert_exporter": "python",
   "pygments_lexer": "ipython3",
   "version": "3.8.8"
  }
 },
 "nbformat": 4,
 "nbformat_minor": 5
}
