{
 "cells": [
  {
   "cell_type": "markdown",
   "id": "a7c2870b",
   "metadata": {},
   "source": [
    "WAP to sum of the first n poitive integer"
   ]
  },
  {
   "cell_type": "code",
   "execution_count": 1,
   "id": "ef91a1af",
   "metadata": {},
   "outputs": [
    {
     "name": "stdout",
     "output_type": "stream",
     "text": [
      "input a numbers5\n",
      "5 15\n"
     ]
    }
   ],
   "source": [
    "n=int(input(\"input a numbers\"))\n",
    "sum_num=(n*(n+1))//2\n",
    "print(n,sum_num)"
   ]
  },
  {
   "cell_type": "code",
   "execution_count": 2,
   "id": "e7ae1eb2",
   "metadata": {},
   "outputs": [
    {
     "name": "stdout",
     "output_type": "stream",
     "text": [
      "15\n"
     ]
    }
   ],
   "source": [
    "result=(sum(range(n+1)))\n",
    "print(result)"
   ]
  },
  {
   "cell_type": "code",
   "execution_count": 3,
   "id": "ceac78c1",
   "metadata": {},
   "outputs": [
    {
     "name": "stdout",
     "output_type": "stream",
     "text": [
      "136\n"
     ]
    }
   ],
   "source": [
    "def recur_sum(n):\n",
    "    if n<=1:\n",
    "        return n\n",
    "    else:\n",
    "        return n+recur_sum(n-1)\n",
    "num=16\n",
    "if num<0:\n",
    "    print(\"enter a positive integer\")\n",
    "else:\n",
    "    print(recur_sum(num))"
   ]
  },
  {
   "cell_type": "markdown",
   "id": "8f0ea56e",
   "metadata": {},
   "source": [
    "WAP to convert height(in feet and inches) to centimeter"
   ]
  },
  {
   "cell_type": "code",
   "execution_count": 4,
   "id": "9e195994",
   "metadata": {},
   "outputs": [
    {
     "name": "stdout",
     "output_type": "stream",
     "text": [
      "Feet:6\n",
      "Inches:7\n",
      "Your height is:200 c.m\n"
     ]
    }
   ],
   "source": [
    "h_ft=int(input(\"Feet:\"))\n",
    "h_inch=int(input(\"Inches:\"))\n",
    "h_inch+=h_ft *12\n",
    "h_cm=round(h_inch *2.54,1)\n",
    "print(\"Your height is:%d c.m\"%h_cm)"
   ]
  },
  {
   "cell_type": "markdown",
   "id": "bb40009d",
   "metadata": {},
   "source": [
    "WAP to convert the distance(in feet) to inches,yards,miles"
   ]
  },
  {
   "cell_type": "code",
   "execution_count": 5,
   "id": "7bec5843",
   "metadata": {},
   "outputs": [
    {
     "name": "stdout",
     "output_type": "stream",
     "text": [
      "input distances in feet:7\n",
      "84nches:\n",
      "2.33 yards\n",
      "0.00 miles\n"
     ]
    }
   ],
   "source": [
    "d_ft=int(input(\"input distances in feet:\"))\n",
    "d_inches=d_ft *12\n",
    "d_yards=d_ft/3.0\n",
    "d_miles=d_ft/5280.0\n",
    "print(\"%inches:\"%d_inches)\n",
    "print(\"%.2f yards\"%d_yards)\n",
    "print(\"%.2f miles\"%d_miles)"
   ]
  },
  {
   "cell_type": "markdown",
   "id": "8aa17232",
   "metadata": {},
   "source": [
    "wap to convert all units of times into seconds"
   ]
  },
  {
   "cell_type": "code",
   "execution_count": 6,
   "id": "93220664",
   "metadata": {},
   "outputs": [
    {
     "name": "stdout",
     "output_type": "stream",
     "text": [
      "input days:7\n",
      "input hours:7\n",
      "input minutes:7\n",
      "input seconds:7\n",
      "630427\n"
     ]
    }
   ],
   "source": [
    "days=int(input(\"input days:\"))*3600*24\n",
    "hours=int(input(\"input hours:\"))*3600\n",
    "minutes=int(input(\"input minutes:\"))*60\n",
    "seconds=int(input(\"input seconds:\"))\n",
    "time=days+hours+minutes+seconds\n",
    "print(time)"
   ]
  },
  {
   "cell_type": "markdown",
   "id": "f15caec6",
   "metadata": {},
   "source": [
    "Python program to print all prime numbers in an intetrval"
   ]
  },
  {
   "cell_type": "code",
   "execution_count": 7,
   "id": "af0ff0da",
   "metadata": {},
   "outputs": [
    {
     "name": "stdout",
     "output_type": "stream",
     "text": [
      "The prime numbers in the range [907, 911, 919, 929, 937, 941, 947, 953, 967, 971, 977, 983, 991, 997]\n"
     ]
    }
   ],
   "source": [
    "def prime(x,y):\n",
    "    \n",
    "    \n",
    "        prime_list=[]\n",
    "        for i in range(x,y):\n",
    "            if i==0 or i==1:\n",
    "                continue\n",
    "            else:\n",
    "                for j in range(2,int(i/2)+1):\n",
    "                    if i %j==0:\n",
    "                        break\n",
    "                else:\n",
    "                    prime_list.append(i)\n",
    "        return prime_list\n",
    "staring_range=900\n",
    "ending_range=1000\n",
    "lst=prime(staring_range,ending_range)\n",
    "if(len(lst))==0:\n",
    "    print(\"There are  no prime numbers in the range\")\n",
    "else:\n",
    "    print(\"The prime numbers in the range\",lst)"
   ]
  },
  {
   "cell_type": "markdown",
   "id": "f6b29b2c",
   "metadata": {},
   "source": [
    "Python program for how  to check if a given number is fibonacci number"
   ]
  },
  {
   "cell_type": "code",
   "execution_count": 8,
   "id": "6e518e37",
   "metadata": {},
   "outputs": [
    {
     "name": "stdout",
     "output_type": "stream",
     "text": [
      "8\n"
     ]
    }
   ],
   "source": [
    "def fibonacci(n):\n",
    "    a,b=0,1\n",
    "    for i in range(n):\n",
    "        a,b=b,a+b\n",
    "    return a\n",
    "print(fibonacci(6))"
   ]
  },
  {
   "cell_type": "code",
   "execution_count": 9,
   "id": "abc969c9",
   "metadata": {},
   "outputs": [
    {
     "name": "stdout",
     "output_type": "stream",
     "text": [
      "how many items:7\n",
      "fibonacci sequence\n",
      "0\n",
      "1\n",
      "1\n",
      "2\n",
      "3\n",
      "5\n",
      "8\n"
     ]
    }
   ],
   "source": [
    "def recur_fibo(n):\n",
    "    if(n<=1):\n",
    "        return n\n",
    "    else:\n",
    "        return (recur_fibo(n-1)+recur_fibo(n-2))\n",
    "items=int(input(\"how many items:\"))\n",
    "if items<=0:\n",
    "    print(\"please enter n poitive integer:\")\n",
    "else:\n",
    "    print(\"fibonacci sequence\")\n",
    "for i in range(items):\n",
    "    print(recur_fibo(i))"
   ]
  },
  {
   "cell_type": "code",
   "execution_count": 10,
   "id": "3b6150dd",
   "metadata": {},
   "outputs": [
    {
     "name": "stdout",
     "output_type": "stream",
     "text": [
      "enter the numbers:6\n",
      "no\n"
     ]
    }
   ],
   "source": [
    "n=int(input(\"enter the numbers:\"))\n",
    "c=0\n",
    "a=1\n",
    "b=1\n",
    "if n==0 or n==1:\n",
    "    print(\"yes\")\n",
    "else:\n",
    "    while c<n:\n",
    "        c=a+b\n",
    "        b=a\n",
    "        a=c\n",
    "    if c==n:\n",
    "        print(\"yes\")\n",
    "    else:\n",
    "        print(\"no\")"
   ]
  },
  {
   "cell_type": "code",
   "execution_count": null,
   "id": "34590548",
   "metadata": {},
   "outputs": [],
   "source": []
  },
  {
   "cell_type": "markdown",
   "id": "dc9956d2",
   "metadata": {},
   "source": []
  },
  {
   "cell_type": "code",
   "execution_count": null,
   "id": "c08dd940",
   "metadata": {},
   "outputs": [],
   "source": []
  },
  {
   "cell_type": "code",
   "execution_count": null,
   "id": "1bc8cbbc",
   "metadata": {},
   "outputs": [],
   "source": []
  }
 ],
 "metadata": {
  "kernelspec": {
   "display_name": "Python 3",
   "language": "python",
   "name": "python3"
  },
  "language_info": {
   "codemirror_mode": {
    "name": "ipython",
    "version": 3
   },
   "file_extension": ".py",
   "mimetype": "text/x-python",
   "name": "python",
   "nbconvert_exporter": "python",
   "pygments_lexer": "ipython3",
   "version": "3.8.8"
  }
 },
 "nbformat": 4,
 "nbformat_minor": 5
}
