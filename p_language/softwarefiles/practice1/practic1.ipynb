{
 "cells": [
  {
   "cell_type": "markdown",
   "id": "f820c71f",
   "metadata": {},
   "source": [
    "#WAP to calculate of days in between two dates."
   ]
  },
  {
   "cell_type": "code",
   "execution_count": 1,
   "id": "a59cca2a",
   "metadata": {},
   "outputs": [],
   "source": [
    "from datetime import date"
   ]
  },
  {
   "cell_type": "code",
   "execution_count": 7,
   "id": "646216dd",
   "metadata": {},
   "outputs": [
    {
     "name": "stdout",
     "output_type": "stream",
     "text": [
      "64\n"
     ]
    }
   ],
   "source": [
    "def numofdays(date1,date2):\n",
    "    return(date2-date1).days\n",
    "date1=date(2018,12,13)\n",
    "date2=date(2019,2,15)\n",
    "print(numofdays(date1,date2))"
   ]
  },
  {
   "cell_type": "markdown",
   "id": "aad00cf6",
   "metadata": {},
   "source": [
    "WAP to display the examination schedule"
   ]
  },
  {
   "cell_type": "code",
   "execution_count": 8,
   "id": "fff3b127",
   "metadata": {},
   "outputs": [
    {
     "name": "stdout",
     "output_type": "stream",
     "text": [
      "The examination will start from: 11 / 12 / 2022\n"
     ]
    }
   ],
   "source": [
    "exam_st_date=(11,12,2022)\n",
    "print(\"The examination will start from: %i / %i / %i\"%exam_st_date)"
   ]
  },
  {
   "cell_type": "markdown",
   "id": "e7962db6",
   "metadata": {},
   "source": [
    "WAP to print the calender of a given month and year"
   ]
  },
  {
   "cell_type": "code",
   "execution_count": 12,
   "id": "96078d1d",
   "metadata": {},
   "outputs": [],
   "source": [
    "import calendar"
   ]
  },
  {
   "cell_type": "code",
   "execution_count": 13,
   "id": "ff99689e",
   "metadata": {},
   "outputs": [
    {
     "name": "stdout",
     "output_type": "stream",
     "text": [
      "enter year2022\n",
      "enter month3\n",
      "     March 2022\n",
      "Mo Tu We Th Fr Sa Su\n",
      "    1  2  3  4  5  6\n",
      " 7  8  9 10 11 12 13\n",
      "14 15 16 17 18 19 20\n",
      "21 22 23 24 25 26 27\n",
      "28 29 30 31\n",
      "\n"
     ]
    }
   ],
   "source": [
    "y=int(input(\"enter year\"))\n",
    "m=int(input(\"enter month\"))\n",
    "print(calendar.month(y,m))"
   ]
  },
  {
   "cell_type": "markdown",
   "id": "2cc1e92b",
   "metadata": {},
   "source": [
    "wap to convert time from 12 hours to 24 hours"
   ]
  },
  {
   "cell_type": "code",
   "execution_count": 58,
   "id": "d6f2cc28",
   "metadata": {},
   "outputs": [],
   "source": [
    "def convert(string):\n",
    "    if string[-2:]==\"AM\" and string[:-2]==\"12\":\n",
    "        return \"00\"+string[2:-2]\n",
    "    \n",
    "    elif string[-2:]==\"AM\":\n",
    "        return string[:-2]\n",
    "    \n",
    "    elif string[-2:]==\"PM\" and string[:2==\"12\"]:\n",
    "            return string[:-2]\n",
    "    else:\n",
    "        return str(int(string[:2])+12)+string[2:8]\n",
    "    "
   ]
  },
  {
   "cell_type": "code",
   "execution_count": 60,
   "id": "43b7f87a",
   "metadata": {},
   "outputs": [
    {
     "name": "stdout",
     "output_type": "stream",
     "text": [
      "13:58:42\n"
     ]
    }
   ],
   "source": [
    "print(convert(\"01:58:42 PM\"))"
   ]
  },
  {
   "cell_type": "markdown",
   "id": "d01cd990",
   "metadata": {},
   "source": [
    "wap to create a hsitogram grom a given list of integers"
   ]
  },
  {
   "cell_type": "code",
   "execution_count": 29,
   "id": "e6d73c54",
   "metadata": {},
   "outputs": [],
   "source": [
    "def histogram(items):\n",
    "    for n in items:\n",
    "        output=\"\"\n",
    "        times=n\n",
    "        while(times>0):\n",
    "            output+=\"*\"\n",
    "            times=times-1\n",
    "        print(output)\n",
    "    "
   ]
  },
  {
   "cell_type": "code",
   "execution_count": 30,
   "id": "624f8d78",
   "metadata": {},
   "outputs": [
    {
     "name": "stdout",
     "output_type": "stream",
     "text": [
      "*\n",
      "***\n",
      "******\n",
      "*****\n"
     ]
    }
   ],
   "source": [
    "histogram([1,3,6,5])"
   ]
  },
  {
   "cell_type": "markdown",
   "id": "267bbcb2",
   "metadata": {},
   "source": [
    "WAP that will accept the base and height of a triange and compute the area"
   ]
  },
  {
   "cell_type": "code",
   "execution_count": 2,
   "id": "3ebc637f",
   "metadata": {},
   "outputs": [
    {
     "name": "stdout",
     "output_type": "stream",
     "text": [
      "input the base:123\n",
      "input the height:3\n",
      "area= 184.5\n"
     ]
    }
   ],
   "source": [
    "base=int(input(\"input the base:\"))\n",
    "height=int(input(\"input the height:\"))\n",
    "area=base * height /2\n",
    "print(\"area=\",area)"
   ]
  },
  {
   "cell_type": "markdown",
   "id": "e6082702",
   "metadata": {},
   "source": [
    "WAP  to compute the greatest common divisor(GCD) of two  positive integer"
   ]
  },
  {
   "cell_type": "code",
   "execution_count": 3,
   "id": "90058712",
   "metadata": {},
   "outputs": [],
   "source": [
    "import math"
   ]
  },
  {
   "cell_type": "code",
   "execution_count": 5,
   "id": "bdb4b36e",
   "metadata": {},
   "outputs": [
    {
     "name": "stdout",
     "output_type": "stream",
     "text": [
      "the gcd of 60 and 48 : 14\n"
     ]
    }
   ],
   "source": [
    "print(\"the gcd of 60 and 48 :\",end=\" \")\n",
    "print(math.gcd(98,56))"
   ]
  },
  {
   "cell_type": "code",
   "execution_count": 6,
   "id": "dcd07065",
   "metadata": {},
   "outputs": [],
   "source": [
    "def hcf(a,b):\n",
    "    if b==0:\n",
    "        return a\n",
    "    else:\n",
    "        return hcf(b,a%b)"
   ]
  },
  {
   "cell_type": "code",
   "execution_count": 7,
   "id": "2fd87fff",
   "metadata": {},
   "outputs": [
    {
     "name": "stdout",
     "output_type": "stream",
     "text": [
      "the gcd of 60 and 48 is:12\n"
     ]
    }
   ],
   "source": [
    "a=60\n",
    "b=48\n",
    "print(\"the gcd of 60 and 48 is:\",end=\"\")\n",
    "print(hcf(60,48))"
   ]
  },
  {
   "cell_type": "code",
   "execution_count": 8,
   "id": "ff6390b6",
   "metadata": {},
   "outputs": [],
   "source": [
    "def gcd(a,b):\n",
    "    if(a==0):\n",
    "        return b\n",
    "    if(b==0):\n",
    "        return a\n",
    "    if(a==b):\n",
    "        return a\n",
    "    if(a>b):\n",
    "        return gcd(a-b,b)\n",
    "    return gcd(a,b-a)"
   ]
  },
  {
   "cell_type": "code",
   "execution_count": 10,
   "id": "e41eb306",
   "metadata": {},
   "outputs": [
    {
     "name": "stdout",
     "output_type": "stream",
     "text": [
      "GCD OF  98 and 56 is 14\n"
     ]
    }
   ],
   "source": [
    "a=98\n",
    "b=56\n",
    "if(gcd(a,b)):\n",
    "    print(\"GCD OF \",a,\"and\",b,\"is\",gcd(a,b))\n",
    "else:\n",
    "    print(\"not found\")"
   ]
  },
  {
   "cell_type": "markdown",
   "id": "6f3c1e4f",
   "metadata": {},
   "source": [
    "#WAP to get the least common multiple numbers of two positive integers"
   ]
  },
  {
   "cell_type": "code",
   "execution_count": 15,
   "id": "a51280d2",
   "metadata": {},
   "outputs": [
    {
     "name": "stdout",
     "output_type": "stream",
     "text": [
      "The lcm is: 216\n"
     ]
    }
   ],
   "source": [
    "def common_lcm(x,y):\n",
    "    if x>y:\n",
    "        greater=x\n",
    "    else:\n",
    "        greater=y\n",
    "    while(True):\n",
    "        if(greater % x==0) and (greater % y==0):\n",
    "            lcm=greater\n",
    "            break\n",
    "        greater +=1\n",
    "    return lcm\n",
    "num1=54\n",
    "num2=24\n",
    "print(\"The lcm is:\",common_lcm(num1,num2))"
   ]
  },
  {
   "cell_type": "code",
   "execution_count": 16,
   "id": "7f8d8b5c",
   "metadata": {},
   "outputs": [
    {
     "name": "stdout",
     "output_type": "stream",
     "text": [
      "The LCM IS : 216\n"
     ]
    }
   ],
   "source": [
    "def compute_gcd(x,y):\n",
    "    while(y):\n",
    "        x,y=y,x%y\n",
    "    return x\n",
    "def compute_lcm(x,y):\n",
    "    lcm=(x*y)//compute_gcd(x,y)\n",
    "    return lcm\n",
    "num1=54\n",
    "num2=24\n",
    "print(\"The LCM IS :\",compute_lcm(num1,num2))"
   ]
  },
  {
   "cell_type": "markdown",
   "id": "fcf76083",
   "metadata": {},
   "source": [
    "#WAP to get os name,plateform,release information"
   ]
  },
  {
   "cell_type": "code",
   "execution_count": 17,
   "id": "e188bd6d",
   "metadata": {},
   "outputs": [],
   "source": [
    "import platform\n",
    "import os"
   ]
  },
  {
   "cell_type": "code",
   "execution_count": 21,
   "id": "69012584",
   "metadata": {},
   "outputs": [
    {
     "name": "stdout",
     "output_type": "stream",
     "text": [
      "nt\n",
      "Windows\n",
      "<function release at 0x0000022242B99D30>\n"
     ]
    }
   ],
   "source": [
    "print(os.name)\n",
    "print(platform.system())\n",
    "print((platform.release))"
   ]
  },
  {
   "cell_type": "code",
   "execution_count": 22,
   "id": "7a8c7d04",
   "metadata": {},
   "outputs": [],
   "source": [
    "import os\n",
    "import sys\n",
    "import platform\n",
    "import sysconfig"
   ]
  },
  {
   "cell_type": "code",
   "execution_count": 24,
   "id": "d606eaf2",
   "metadata": {},
   "outputs": [
    {
     "name": "stdout",
     "output_type": "stream",
     "text": [
      "nt\n",
      "win32\n",
      "Windows\n",
      "win-amd64\n",
      "AMD64\n",
      "('64bit', 'WindowsPE')\n"
     ]
    }
   ],
   "source": [
    "print(os.name)\n",
    "print(sys.platform)\n",
    "print(platform.system())\n",
    "print(sysconfig.get_platform())\n",
    "print(platform.machine())\n",
    "print(platform.architecture())"
   ]
  },
  {
   "cell_type": "markdown",
   "id": "04746ca3",
   "metadata": {},
   "source": [
    "#WAP to find out the numbers of cpus using"
   ]
  },
  {
   "cell_type": "code",
   "execution_count": 25,
   "id": "0d8843a3",
   "metadata": {},
   "outputs": [],
   "source": [
    "import multiprocessing"
   ]
  },
  {
   "cell_type": "code",
   "execution_count": 27,
   "id": "81934035",
   "metadata": {},
   "outputs": [
    {
     "name": "stdout",
     "output_type": "stream",
     "text": [
      "2\n"
     ]
    }
   ],
   "source": [
    "print(multiprocessing.cpu_count())"
   ]
  },
  {
   "cell_type": "code",
   "execution_count": 28,
   "id": "7772bc0c",
   "metadata": {},
   "outputs": [
    {
     "name": "stdout",
     "output_type": "stream",
     "text": [
      "2\n"
     ]
    }
   ],
   "source": [
    "print(os.cpu_count())"
   ]
  },
  {
   "cell_type": "code",
   "execution_count": 29,
   "id": "bc7c89bf",
   "metadata": {},
   "outputs": [],
   "source": [
    "import os.path\n",
    "from os import path"
   ]
  },
  {
   "cell_type": "code",
   "execution_count": 30,
   "id": "629c97d5",
   "metadata": {},
   "outputs": [
    {
     "data": {
      "text/plain": [
       "False"
      ]
     },
     "execution_count": 30,
     "metadata": {},
     "output_type": "execute_result"
    }
   ],
   "source": [
    "path.exists(\"guru99.txt\")"
   ]
  },
  {
   "cell_type": "code",
   "execution_count": 32,
   "id": "685dc022",
   "metadata": {},
   "outputs": [],
   "source": [
    "import os.path\n",
    "from os import path"
   ]
  },
  {
   "cell_type": "code",
   "execution_count": 42,
   "id": "d78c1c01",
   "metadata": {},
   "outputs": [
    {
     "name": "stdout",
     "output_type": "stream",
     "text": [
      "File exists:False\n",
      "File exists:False\n",
      "Directory exists:False\n"
     ]
    }
   ],
   "source": [
    "def main():\n",
    "    print(\"File exists:\"+str(path.exists('student.txt')))\n",
    "    print(\"File exists:\"+str(path.exists(\"carrer.guru99.txt\")))\n",
    "    print(\"Directory exists:\"+str(path.exists(\"myDirectory\")))\n",
    "if __name__==\"__main__\":\n",
    "             main()"
   ]
  },
  {
   "cell_type": "code",
   "execution_count": 36,
   "id": "62886b62",
   "metadata": {},
   "outputs": [
    {
     "data": {
      "text/plain": [
       "'__main__'"
      ]
     },
     "execution_count": 36,
     "metadata": {},
     "output_type": "execute_result"
    }
   ],
   "source": [
    "__name__"
   ]
  },
  {
   "cell_type": "code",
   "execution_count": 41,
   "id": "486b369d",
   "metadata": {},
   "outputs": [
    {
     "name": "stdout",
     "output_type": "stream",
     "text": [
      "False\n"
     ]
    }
   ],
   "source": [
    "print(path.isdir(\"guru99.txt\"))"
   ]
  },
  {
   "cell_type": "code",
   "execution_count": 43,
   "id": "93987897",
   "metadata": {},
   "outputs": [
    {
     "name": "stdout",
     "output_type": "stream",
     "text": [
      "False\n"
     ]
    }
   ],
   "source": [
    "print(path.isdir(\"guru99\"))"
   ]
  },
  {
   "cell_type": "code",
   "execution_count": 44,
   "id": "7efa1773",
   "metadata": {},
   "outputs": [],
   "source": [
    "from os import listdir"
   ]
  },
  {
   "cell_type": "code",
   "execution_count": 45,
   "id": "7f54e7da",
   "metadata": {},
   "outputs": [],
   "source": [
    "from os.path import isfile,join"
   ]
  },
  {
   "cell_type": "code",
   "execution_count": 48,
   "id": "1278f775",
   "metadata": {},
   "outputs": [],
   "source": [
    "#files_lists=[f for f in listdir('/home/students')\n",
    "#            if isfile(join(\"/home/students\",f))]"
   ]
  },
  {
   "cell_type": "markdown",
   "id": "2fe7fb07",
   "metadata": {},
   "source": [
    "#environment variiables"
   ]
  },
  {
   "cell_type": "code",
   "execution_count": 49,
   "id": "e9e6ce98",
   "metadata": {},
   "outputs": [],
   "source": [
    "import os"
   ]
  },
  {
   "cell_type": "code",
   "execution_count": 50,
   "id": "a1e8892d",
   "metadata": {},
   "outputs": [
    {
     "name": "stdout",
     "output_type": "stream",
     "text": [
      "environ({'ALLUSERSPROFILE': 'C:\\\\ProgramData', 'APPDATA': 'C:\\\\Users\\\\bisha\\\\AppData\\\\Roaming', 'COMMONPROGRAMFILES': 'C:\\\\Program Files\\\\Common Files', 'COMMONPROGRAMFILES(X86)': 'C:\\\\Program Files (x86)\\\\Common Files', 'COMMONPROGRAMW6432': 'C:\\\\Program Files\\\\Common Files', 'COMPUTERNAME': 'LAPTOP-84VH4H9N', 'COMSPEC': 'C:\\\\Windows\\\\system32\\\\cmd.exe', 'DRIVERDATA': 'C:\\\\Windows\\\\System32\\\\Drivers\\\\DriverData', 'HOMEDRIVE': 'C:', 'HOMEPATH': '\\\\Users\\\\bisha', 'LOCALAPPDATA': 'C:\\\\Users\\\\bisha\\\\AppData\\\\Local', 'LOGONSERVER': '\\\\\\\\LAPTOP-84VH4H9N', 'NUMBER_OF_PROCESSORS': '2', 'ONEDRIVE': 'C:\\\\Users\\\\bisha\\\\OneDrive', 'ONEDRIVECONSUMER': 'C:\\\\Users\\\\bisha\\\\OneDrive', 'OS': 'Windows_NT', 'PATH': 'C:\\\\ProgramData\\\\Anaconda3;C:\\\\ProgramData\\\\Anaconda3\\\\Library\\\\mingw-w64\\\\bin;C:\\\\ProgramData\\\\Anaconda3\\\\Library\\\\usr\\\\bin;C:\\\\ProgramData\\\\Anaconda3\\\\Library\\\\bin;C:\\\\ProgramData\\\\Anaconda3\\\\Scripts;C:\\\\Program Files\\\\Common Files\\\\Oracle\\\\Java\\\\javapath;C:\\\\Windows\\\\system32;C:\\\\Windows;C:\\\\Windows\\\\System32\\\\Wbem;C:\\\\Windows\\\\System32\\\\WindowsPowerShell\\\\v1.0\\\\;C:\\\\Windows\\\\System32\\\\OpenSSH\\\\;C:\\\\Users\\\\bisha\\\\AppData\\\\Local\\\\Programs\\\\Python\\\\Python39\\\\Scripts\\\\;C:\\\\Users\\\\bisha\\\\AppData\\\\Local\\\\Programs\\\\Python\\\\Python39\\\\;C:\\\\Users\\\\bisha\\\\AppData\\\\Local\\\\Microsoft\\\\WindowsApps;;C:\\\\Users\\\\bisha\\\\AppData\\\\Local\\\\Programs\\\\Microsoft VS Code\\\\bin;C:\\\\Program Files\\\\heroku\\\\bin', 'PATHEXT': '.COM;.EXE;.BAT;.CMD;.VBS;.VBE;.JS;.JSE;.WSF;.WSH;.MSC', 'PROCESSOR_ARCHITECTURE': 'AMD64', 'PROCESSOR_IDENTIFIER': 'Intel64 Family 6 Model 122 Stepping 1, GenuineIntel', 'PROCESSOR_LEVEL': '6', 'PROCESSOR_REVISION': '7a01', 'PROGRAMDATA': 'C:\\\\ProgramData', 'PROGRAMFILES': 'C:\\\\Program Files', 'PROGRAMFILES(X86)': 'C:\\\\Program Files (x86)', 'PROGRAMW6432': 'C:\\\\Program Files', 'PSMODULEPATH': 'C:\\\\Program Files\\\\WindowsPowerShell\\\\Modules;C:\\\\Windows\\\\system32\\\\WindowsPowerShell\\\\v1.0\\\\Modules', 'PUBLIC': 'C:\\\\Users\\\\Public', 'SESSIONNAME': 'Console', 'SYSTEMDRIVE': 'C:', 'SYSTEMROOT': 'C:\\\\Windows', 'TEMP': 'C:\\\\Users\\\\bisha\\\\AppData\\\\Local\\\\Temp', 'TMP': 'C:\\\\Users\\\\bisha\\\\AppData\\\\Local\\\\Temp', 'USERDOMAIN': 'LAPTOP-84VH4H9N', 'USERDOMAIN_ROAMINGPROFILE': 'LAPTOP-84VH4H9N', 'USERNAME': 'bisha', 'USERPROFILE': 'C:\\\\Users\\\\bisha', 'WINDIR': 'C:\\\\Windows', 'CONDA_PREFIX': 'C:\\\\ProgramData\\\\Anaconda3', 'JPY_INTERRUPT_EVENT': '492', 'IPY_INTERRUPT_EVENT': '492', 'JPY_PARENT_PID': '2428', 'TERM': 'xterm-color', 'CLICOLOR': '1', 'PAGER': 'cat', 'GIT_PAGER': 'cat', 'MPLBACKEND': 'module://ipykernel.pylab.backend_inline'})\n"
     ]
    }
   ],
   "source": [
    "print(os.environ)"
   ]
  },
  {
   "cell_type": "code",
   "execution_count": 53,
   "id": "a1f64d18",
   "metadata": {},
   "outputs": [
    {
     "name": "stdout",
     "output_type": "stream",
     "text": [
      "cat\n"
     ]
    }
   ],
   "source": [
    "print(os.environ[\"GIT_PAGER\"])"
   ]
  },
  {
   "cell_type": "code",
   "execution_count": 54,
   "id": "38045cde",
   "metadata": {},
   "outputs": [
    {
     "name": "stdout",
     "output_type": "stream",
     "text": [
      "ALLUSERSPROFILE\n",
      "---------------\n",
      "C:\\ProgramData\n",
      "==============================\n",
      "APPDATA\n",
      "---------------\n",
      "C:\\Users\\bisha\\AppData\\Roaming\n",
      "==============================\n",
      "COMMONPROGRAMFILES\n",
      "---------------\n",
      "C:\\Program Files\\Common Files\n",
      "==============================\n",
      "COMMONPROGRAMFILES(X86)\n",
      "---------------\n",
      "C:\\Program Files (x86)\\Common Files\n",
      "==============================\n",
      "COMMONPROGRAMW6432\n",
      "---------------\n",
      "C:\\Program Files\\Common Files\n",
      "==============================\n",
      "COMPUTERNAME\n",
      "---------------\n",
      "LAPTOP-84VH4H9N\n",
      "==============================\n",
      "COMSPEC\n",
      "---------------\n",
      "C:\\Windows\\system32\\cmd.exe\n",
      "==============================\n",
      "DRIVERDATA\n",
      "---------------\n",
      "C:\\Windows\\System32\\Drivers\\DriverData\n",
      "==============================\n",
      "HOMEDRIVE\n",
      "---------------\n",
      "C:\n",
      "==============================\n",
      "HOMEPATH\n",
      "---------------\n",
      "\\Users\\bisha\n",
      "==============================\n",
      "LOCALAPPDATA\n",
      "---------------\n",
      "C:\\Users\\bisha\\AppData\\Local\n",
      "==============================\n",
      "LOGONSERVER\n",
      "---------------\n",
      "\\\\LAPTOP-84VH4H9N\n",
      "==============================\n",
      "NUMBER_OF_PROCESSORS\n",
      "---------------\n",
      "2\n",
      "==============================\n",
      "ONEDRIVE\n",
      "---------------\n",
      "C:\\Users\\bisha\\OneDrive\n",
      "==============================\n",
      "ONEDRIVECONSUMER\n",
      "---------------\n",
      "C:\\Users\\bisha\\OneDrive\n",
      "==============================\n",
      "OS\n",
      "---------------\n",
      "Windows_NT\n",
      "==============================\n",
      "PATH\n",
      "---------------\n",
      "C:\\ProgramData\\Anaconda3;C:\\ProgramData\\Anaconda3\\Library\\mingw-w64\\bin;C:\\ProgramData\\Anaconda3\\Library\\usr\\bin;C:\\ProgramData\\Anaconda3\\Library\\bin;C:\\ProgramData\\Anaconda3\\Scripts;C:\\Program Files\\Common Files\\Oracle\\Java\\javapath;C:\\Windows\\system32;C:\\Windows;C:\\Windows\\System32\\Wbem;C:\\Windows\\System32\\WindowsPowerShell\\v1.0\\;C:\\Windows\\System32\\OpenSSH\\;C:\\Users\\bisha\\AppData\\Local\\Programs\\Python\\Python39\\Scripts\\;C:\\Users\\bisha\\AppData\\Local\\Programs\\Python\\Python39\\;C:\\Users\\bisha\\AppData\\Local\\Microsoft\\WindowsApps;;C:\\Users\\bisha\\AppData\\Local\\Programs\\Microsoft VS Code\\bin;C:\\Program Files\\heroku\\bin\n",
      "==============================\n",
      "PATHEXT\n",
      "---------------\n",
      ".COM;.EXE;.BAT;.CMD;.VBS;.VBE;.JS;.JSE;.WSF;.WSH;.MSC\n",
      "==============================\n",
      "PROCESSOR_ARCHITECTURE\n",
      "---------------\n",
      "AMD64\n",
      "==============================\n",
      "PROCESSOR_IDENTIFIER\n",
      "---------------\n",
      "Intel64 Family 6 Model 122 Stepping 1, GenuineIntel\n",
      "==============================\n",
      "PROCESSOR_LEVEL\n",
      "---------------\n",
      "6\n",
      "==============================\n",
      "PROCESSOR_REVISION\n",
      "---------------\n",
      "7a01\n",
      "==============================\n",
      "PROGRAMDATA\n",
      "---------------\n",
      "C:\\ProgramData\n",
      "==============================\n",
      "PROGRAMFILES\n",
      "---------------\n",
      "C:\\Program Files\n",
      "==============================\n",
      "PROGRAMFILES(X86)\n",
      "---------------\n",
      "C:\\Program Files (x86)\n",
      "==============================\n",
      "PROGRAMW6432\n",
      "---------------\n",
      "C:\\Program Files\n",
      "==============================\n",
      "PSMODULEPATH\n",
      "---------------\n",
      "C:\\Program Files\\WindowsPowerShell\\Modules;C:\\Windows\\system32\\WindowsPowerShell\\v1.0\\Modules\n",
      "==============================\n",
      "PUBLIC\n",
      "---------------\n",
      "C:\\Users\\Public\n",
      "==============================\n",
      "SESSIONNAME\n",
      "---------------\n",
      "Console\n",
      "==============================\n",
      "SYSTEMDRIVE\n",
      "---------------\n",
      "C:\n",
      "==============================\n",
      "SYSTEMROOT\n",
      "---------------\n",
      "C:\\Windows\n",
      "==============================\n",
      "TEMP\n",
      "---------------\n",
      "C:\\Users\\bisha\\AppData\\Local\\Temp\n",
      "==============================\n",
      "TMP\n",
      "---------------\n",
      "C:\\Users\\bisha\\AppData\\Local\\Temp\n",
      "==============================\n",
      "USERDOMAIN\n",
      "---------------\n",
      "LAPTOP-84VH4H9N\n",
      "==============================\n",
      "USERDOMAIN_ROAMINGPROFILE\n",
      "---------------\n",
      "LAPTOP-84VH4H9N\n",
      "==============================\n",
      "USERNAME\n",
      "---------------\n",
      "bisha\n",
      "==============================\n",
      "USERPROFILE\n",
      "---------------\n",
      "C:\\Users\\bisha\n",
      "==============================\n",
      "WINDIR\n",
      "---------------\n",
      "C:\\Windows\n",
      "==============================\n",
      "CONDA_PREFIX\n",
      "---------------\n",
      "C:\\ProgramData\\Anaconda3\n",
      "==============================\n",
      "JPY_INTERRUPT_EVENT\n",
      "---------------\n",
      "492\n",
      "==============================\n",
      "IPY_INTERRUPT_EVENT\n",
      "---------------\n",
      "492\n",
      "==============================\n",
      "JPY_PARENT_PID\n",
      "---------------\n",
      "2428\n",
      "==============================\n",
      "TERM\n",
      "---------------\n",
      "xterm-color\n",
      "==============================\n",
      "CLICOLOR\n",
      "---------------\n",
      "1\n",
      "==============================\n",
      "PAGER\n",
      "---------------\n",
      "cat\n",
      "==============================\n",
      "GIT_PAGER\n",
      "---------------\n",
      "cat\n",
      "==============================\n",
      "MPLBACKEND\n",
      "---------------\n",
      "module://ipykernel.pylab.backend_inline\n",
      "==============================\n"
     ]
    }
   ],
   "source": [
    "for data in os.environ:\n",
    "    print(data)\n",
    "    print(\"-\"*15)\n",
    "    print(os.environ[data])\n",
    "    print(\"=\"*30)"
   ]
  },
  {
   "cell_type": "code",
   "execution_count": 55,
   "id": "c9159811",
   "metadata": {},
   "outputs": [
    {
     "name": "stdout",
     "output_type": "stream",
     "text": [
      "ALLUSERSPROFILE:C:\\ProgramData\n",
      "APPDATA:C:\\Users\\bisha\\AppData\\Roaming\n",
      "COMMONPROGRAMFILES:C:\\Program Files\\Common Files\n",
      "COMMONPROGRAMFILES(X86):C:\\Program Files (x86)\\Common Files\n",
      "COMMONPROGRAMW6432:C:\\Program Files\\Common Files\n",
      "COMPUTERNAME:LAPTOP-84VH4H9N\n",
      "COMSPEC:C:\\Windows\\system32\\cmd.exe\n",
      "DRIVERDATA:C:\\Windows\\System32\\Drivers\\DriverData\n",
      "HOMEDRIVE:C:\n",
      "HOMEPATH:\\Users\\bisha\n",
      "LOCALAPPDATA:C:\\Users\\bisha\\AppData\\Local\n",
      "LOGONSERVER:\\\\LAPTOP-84VH4H9N\n",
      "NUMBER_OF_PROCESSORS:2\n",
      "ONEDRIVE:C:\\Users\\bisha\\OneDrive\n",
      "ONEDRIVECONSUMER:C:\\Users\\bisha\\OneDrive\n",
      "OS:Windows_NT\n",
      "PATH:C:\\ProgramData\\Anaconda3;C:\\ProgramData\\Anaconda3\\Library\\mingw-w64\\bin;C:\\ProgramData\\Anaconda3\\Library\\usr\\bin;C:\\ProgramData\\Anaconda3\\Library\\bin;C:\\ProgramData\\Anaconda3\\Scripts;C:\\Program Files\\Common Files\\Oracle\\Java\\javapath;C:\\Windows\\system32;C:\\Windows;C:\\Windows\\System32\\Wbem;C:\\Windows\\System32\\WindowsPowerShell\\v1.0\\;C:\\Windows\\System32\\OpenSSH\\;C:\\Users\\bisha\\AppData\\Local\\Programs\\Python\\Python39\\Scripts\\;C:\\Users\\bisha\\AppData\\Local\\Programs\\Python\\Python39\\;C:\\Users\\bisha\\AppData\\Local\\Microsoft\\WindowsApps;;C:\\Users\\bisha\\AppData\\Local\\Programs\\Microsoft VS Code\\bin;C:\\Program Files\\heroku\\bin\n",
      "PATHEXT:.COM;.EXE;.BAT;.CMD;.VBS;.VBE;.JS;.JSE;.WSF;.WSH;.MSC\n",
      "PROCESSOR_ARCHITECTURE:AMD64\n",
      "PROCESSOR_IDENTIFIER:Intel64 Family 6 Model 122 Stepping 1, GenuineIntel\n",
      "PROCESSOR_LEVEL:6\n",
      "PROCESSOR_REVISION:7a01\n",
      "PROGRAMDATA:C:\\ProgramData\n",
      "PROGRAMFILES:C:\\Program Files\n",
      "PROGRAMFILES(X86):C:\\Program Files (x86)\n",
      "PROGRAMW6432:C:\\Program Files\n",
      "PSMODULEPATH:C:\\Program Files\\WindowsPowerShell\\Modules;C:\\Windows\\system32\\WindowsPowerShell\\v1.0\\Modules\n",
      "PUBLIC:C:\\Users\\Public\n",
      "SESSIONNAME:Console\n",
      "SYSTEMDRIVE:C:\n",
      "SYSTEMROOT:C:\\Windows\n",
      "TEMP:C:\\Users\\bisha\\AppData\\Local\\Temp\n",
      "TMP:C:\\Users\\bisha\\AppData\\Local\\Temp\n",
      "USERDOMAIN:LAPTOP-84VH4H9N\n",
      "USERDOMAIN_ROAMINGPROFILE:LAPTOP-84VH4H9N\n",
      "USERNAME:bisha\n",
      "USERPROFILE:C:\\Users\\bisha\n",
      "WINDIR:C:\\Windows\n",
      "CONDA_PREFIX:C:\\ProgramData\\Anaconda3\n",
      "JPY_INTERRUPT_EVENT:492\n",
      "IPY_INTERRUPT_EVENT:492\n",
      "JPY_PARENT_PID:2428\n",
      "TERM:xterm-color\n",
      "CLICOLOR:1\n",
      "PAGER:cat\n",
      "GIT_PAGER:cat\n",
      "MPLBACKEND:module://ipykernel.pylab.backend_inline\n"
     ]
    }
   ],
   "source": [
    "for item,value in os.environ.items():\n",
    "    print(\"{}:{}\".format(item,value))"
   ]
  },
  {
   "cell_type": "code",
   "execution_count": null,
   "id": "b936f34c",
   "metadata": {},
   "outputs": [],
   "source": []
  }
 ],
 "metadata": {
  "kernelspec": {
   "display_name": "Python 3",
   "language": "python",
   "name": "python3"
  },
  "language_info": {
   "codemirror_mode": {
    "name": "ipython",
    "version": 3
   },
   "file_extension": ".py",
   "mimetype": "text/x-python",
   "name": "python",
   "nbconvert_exporter": "python",
   "pygments_lexer": "ipython3",
   "version": "3.8.8"
  }
 },
 "nbformat": 4,
 "nbformat_minor": 5
}
