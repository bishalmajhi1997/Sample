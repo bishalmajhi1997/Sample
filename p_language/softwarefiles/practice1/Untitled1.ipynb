{
 "cells": [
  {
   "cell_type": "code",
   "execution_count": 1,
   "id": "122deaf3",
   "metadata": {},
   "outputs": [
    {
     "name": "stdout",
     "output_type": "stream",
     "text": [
      "2\n",
      "3\n",
      "5\n",
      "7\n",
      "11\n",
      "13\n",
      "17\n",
      "19\n",
      "23\n",
      "29\n",
      "31\n",
      "37\n",
      "41\n",
      "43\n",
      "47\n",
      "53\n",
      "59\n",
      "61\n",
      "67\n",
      "71\n",
      "73\n",
      "79\n",
      "83\n",
      "89\n",
      "97\n"
     ]
    }
   ],
   "source": [
    "def is_prime(n):\n",
    "    status=True\n",
    "    if n<2:\n",
    "        status=False\n",
    "    else:\n",
    "        for i in range(2,n):\n",
    "            if n %i ==0:\n",
    "                status = False\n",
    "    return status\n",
    "for n in range(1,101):\n",
    "    if is_prime(n):\n",
    "        if n==97:\n",
    "            print(n)\n",
    "        else:\n",
    "            print(n)"
   ]
  },
  {
   "cell_type": "code",
   "execution_count": 2,
   "id": "6da194aa",
   "metadata": {},
   "outputs": [
    {
     "name": "stdout",
     "output_type": "stream",
     "text": [
      "{'a': 0, 'e': 0, 'i': 0, 'o': 0, 'u': 0}\n",
      "{'a': 2, 'e': 5, 'i': 3, 'o': 5, 'u': 3}\n"
     ]
    }
   ],
   "source": [
    "vowels=\"aeiou\"\n",
    "ip_str=\"hello,you are tried our tutorial section yet\"\n",
    "ip_str=ip_str.casefold()\n",
    "count={}.fromkeys(vowels,0)\n",
    "print(count)\n",
    "for char in ip_str:\n",
    "    if char in count:\n",
    "        count[char]+=1\n",
    "print(count)"
   ]
  },
  {
   "cell_type": "code",
   "execution_count": 3,
   "id": "5d2214d5",
   "metadata": {},
   "outputs": [],
   "source": [
    "count={x:sum([1 for char in ip_str if char==x]) for x in \"aeiou\"}"
   ]
  },
  {
   "cell_type": "code",
   "execution_count": 4,
   "id": "33a48a78",
   "metadata": {},
   "outputs": [
    {
     "data": {
      "text/plain": [
       "{'a': 2, 'e': 5, 'i': 3, 'o': 5, 'u': 3}"
      ]
     },
     "execution_count": 4,
     "metadata": {},
     "output_type": "execute_result"
    }
   ],
   "source": [
    "count"
   ]
  },
  {
   "cell_type": "code",
   "execution_count": 10,
   "id": "1a099d19",
   "metadata": {},
   "outputs": [
    {
     "name": "stdout",
     "output_type": "stream",
     "text": [
      "enter a string:madam\n",
      "madam\n"
     ]
    }
   ],
   "source": [
    "my_str=input(\"enter a string:\")\n",
    "words=my_str.split()\n",
    "words.sort()\n",
    "for word in words:\n",
    "    print(word)"
   ]
  },
  {
   "cell_type": "code",
   "execution_count": 6,
   "id": "04b44091",
   "metadata": {},
   "outputs": [
    {
     "name": "stdout",
     "output_type": "stream",
     "text": [
      "[12, 4, 3]\n",
      "[7, 5, 8]\n"
     ]
    }
   ],
   "source": [
    "#Transpose matrix\n",
    "x=[[12,7],\n",
    "  [4,5],\n",
    "  [3,8]]\n",
    "result=[[0,0,0],[0,0,0]]\n",
    "for i in range(len(x)):\n",
    "    for j in range(len(x[0])):\n",
    "        result[j][i]=x[i][j]\n",
    "        \n",
    "        \n",
    "for r in result:\n",
    "    print(r)"
   ]
  },
  {
   "cell_type": "code",
   "execution_count": 7,
   "id": "336f6c15",
   "metadata": {},
   "outputs": [
    {
     "name": "stdout",
     "output_type": "stream",
     "text": [
      "[12, 4, 3]\n",
      "[7, 5, 8]\n"
     ]
    }
   ],
   "source": [
    "result=[[x[i][j] for i in range(len(x))]for j in range(len(x[0]))]\n",
    "for r in result:\n",
    "    print (r)"
   ]
  },
  {
   "cell_type": "code",
   "execution_count": 8,
   "id": "ad055de7",
   "metadata": {},
   "outputs": [
    {
     "name": "stdout",
     "output_type": "stream",
     "text": [
      "[120, 160, 60, 27]\n",
      "[86, 97, 73, 14]\n",
      "[107, 132, 67, 18]\n"
     ]
    }
   ],
   "source": [
    "#multiply two metrics\n",
    "x=[[12,7,3],\n",
    "  [4,5,6],\n",
    "  [7,8,4]]\n",
    "y=[[5,8,1,2],\n",
    "  [6,7,3,0],\n",
    "  [6,5,9,1]]\n",
    "result=[[0,0,0,0],\n",
    "        [0,0,0,0],\n",
    "        [0,0,0,0]]\n",
    "for i in range(len(x)):\n",
    "    for j in range(len(y[0])):\n",
    "        for k in range(len(y)):\n",
    "            result[i][j]+=x[i][k] *y[k][j]\n",
    "for r in result:\n",
    "    print(r)"
   ]
  },
  {
   "cell_type": "code",
   "execution_count": 12,
   "id": "41848bca",
   "metadata": {},
   "outputs": [
    {
     "name": "stdout",
     "output_type": "stream",
     "text": [
      "120\n",
      "86\n",
      "107\n",
      "160\n",
      "97\n",
      "132\n",
      "60\n",
      "73\n",
      "67\n",
      "27\n",
      "14\n",
      "18\n"
     ]
    }
   ],
   "source": [
    "result=[sum(a*b for a,b in zip(x_row,y_col))\n",
    "       for y_col in zip(*y)\n",
    "       for x_row in x]\n",
    "for r in result:\n",
    "    print(r)"
   ]
  },
  {
   "cell_type": "code",
   "execution_count": 14,
   "id": "9726c911",
   "metadata": {},
   "outputs": [],
   "source": [
    "f=open(\"file_name.txt\",\"w\")\n"
   ]
  },
  {
   "cell_type": "code",
   "execution_count": 16,
   "id": "0b517a63",
   "metadata": {},
   "outputs": [],
   "source": [
    "f=open(\"file_name.txt\")"
   ]
  },
  {
   "cell_type": "code",
   "execution_count": 17,
   "id": "fcf01adf",
   "metadata": {},
   "outputs": [],
   "source": [
    "try:\n",
    "    f=open(\"file_name.txt\")\n",
    "finally:\n",
    "    f.close()"
   ]
  },
  {
   "cell_type": "code",
   "execution_count": 18,
   "id": "ec913b5a",
   "metadata": {},
   "outputs": [],
   "source": [
    "f=open(\"new_txt\",\"w\")\n",
    "f.write(\"hello everyone \\n\")\n",
    "f.write('enjoy the evening !! \\n')\n",
    "f.close()"
   ]
  },
  {
   "cell_type": "code",
   "execution_count": 19,
   "id": "f04a56e8",
   "metadata": {},
   "outputs": [
    {
     "data": {
      "text/plain": [
       "'hello everyone \\nenjoy the evening !! \\n'"
      ]
     },
     "execution_count": 19,
     "metadata": {},
     "output_type": "execute_result"
    }
   ],
   "source": [
    "f=open(\"new_txt\",\"r\")\n",
    "f.read()"
   ]
  },
  {
   "cell_type": "code",
   "execution_count": 23,
   "id": "80c3ea10",
   "metadata": {},
   "outputs": [],
   "source": [
    "f=open(\"new_txt\",\"r\")\n"
   ]
  },
  {
   "cell_type": "code",
   "execution_count": 24,
   "id": "cc5780ef",
   "metadata": {},
   "outputs": [
    {
     "data": {
      "text/plain": [
       "'hell'"
      ]
     },
     "execution_count": 24,
     "metadata": {},
     "output_type": "execute_result"
    }
   ],
   "source": [
    "f.read(4)"
   ]
  },
  {
   "cell_type": "code",
   "execution_count": 25,
   "id": "46df3698",
   "metadata": {},
   "outputs": [
    {
     "data": {
      "text/plain": [
       "'o everyone'"
      ]
     },
     "execution_count": 25,
     "metadata": {},
     "output_type": "execute_result"
    }
   ],
   "source": [
    "f.read(10)"
   ]
  },
  {
   "cell_type": "code",
   "execution_count": 26,
   "id": "cf01c2f5",
   "metadata": {},
   "outputs": [
    {
     "data": {
      "text/plain": [
       "14"
      ]
     },
     "execution_count": 26,
     "metadata": {},
     "output_type": "execute_result"
    }
   ],
   "source": [
    "f.tell()"
   ]
  },
  {
   "cell_type": "code",
   "execution_count": 27,
   "id": "a394a957",
   "metadata": {},
   "outputs": [
    {
     "data": {
      "text/plain": [
       "0"
      ]
     },
     "execution_count": 27,
     "metadata": {},
     "output_type": "execute_result"
    }
   ],
   "source": [
    "f.seek(0)"
   ]
  },
  {
   "cell_type": "code",
   "execution_count": 28,
   "id": "4531ea1e",
   "metadata": {},
   "outputs": [
    {
     "name": "stdout",
     "output_type": "stream",
     "text": [
      "hello everyone \n",
      "\n",
      "enjoy the evening !! \n",
      "\n"
     ]
    }
   ],
   "source": [
    "f.seek(0)\n",
    "for line in f:\n",
    "    print(line)"
   ]
  },
  {
   "cell_type": "code",
   "execution_count": 30,
   "id": "4073567f",
   "metadata": {},
   "outputs": [
    {
     "data": {
      "text/plain": [
       "'hello everyone \\n'"
      ]
     },
     "execution_count": 30,
     "metadata": {},
     "output_type": "execute_result"
    }
   ],
   "source": [
    "f=open(\"new_txt\",\"r\")\n",
    "f.readline()"
   ]
  },
  {
   "cell_type": "code",
   "execution_count": 34,
   "id": "963da1ec",
   "metadata": {},
   "outputs": [],
   "source": [
    "f=open(\"new.txt\",\"w\")\n",
    "f.write(\"hello everyone \\n\")\n",
    "f.write(\"enjoy the evening !! \\n\")\n",
    "f.close()\n",
    "f=open(\"new_txt\",\"r\")\n",
    "f.read()\n",
    "f.close()\n"
   ]
  },
  {
   "cell_type": "code",
   "execution_count": 35,
   "id": "c5c357cc",
   "metadata": {},
   "outputs": [],
   "source": [
    "import os"
   ]
  },
  {
   "cell_type": "code",
   "execution_count": 36,
   "id": "c694dda2",
   "metadata": {},
   "outputs": [
    {
     "data": {
      "text/plain": [
       "'hello everyone \\n'"
      ]
     },
     "execution_count": 36,
     "metadata": {},
     "output_type": "execute_result"
    }
   ],
   "source": [
    "os.rename(\"new_txt\",\"sample.txt\")\n",
    "f=open(\"sample.txt\",\"r\")\n",
    "f.readline()"
   ]
  },
  {
   "cell_type": "code",
   "execution_count": 39,
   "id": "5578e348",
   "metadata": {},
   "outputs": [
    {
     "ename": "FileNotFoundError",
     "evalue": "[WinError 2] The system cannot find the file specified: 'sample.txt'",
     "output_type": "error",
     "traceback": [
      "\u001b[1;31m---------------------------------------------------------------------------\u001b[0m",
      "\u001b[1;31mFileNotFoundError\u001b[0m                         Traceback (most recent call last)",
      "\u001b[1;32m<ipython-input-39-d75a9b7901e5>\u001b[0m in \u001b[0;36m<module>\u001b[1;34m\u001b[0m\n\u001b[0;32m      1\u001b[0m \u001b[0mf\u001b[0m\u001b[1;33m.\u001b[0m\u001b[0mclose\u001b[0m\u001b[1;33m(\u001b[0m\u001b[1;33m)\u001b[0m\u001b[1;33m\u001b[0m\u001b[1;33m\u001b[0m\u001b[0m\n\u001b[1;32m----> 2\u001b[1;33m \u001b[0mos\u001b[0m\u001b[1;33m.\u001b[0m\u001b[0mremove\u001b[0m\u001b[1;33m(\u001b[0m\u001b[1;34m\"sample.txt\"\u001b[0m\u001b[1;33m)\u001b[0m\u001b[1;33m\u001b[0m\u001b[1;33m\u001b[0m\u001b[0m\n\u001b[0m",
      "\u001b[1;31mFileNotFoundError\u001b[0m: [WinError 2] The system cannot find the file specified: 'sample.txt'"
     ]
    }
   ],
   "source": [
    "f.close()\n",
    "os.remove(\"sample.txt\")"
   ]
  },
  {
   "cell_type": "code",
   "execution_count": 40,
   "id": "a8083a8e",
   "metadata": {},
   "outputs": [
    {
     "data": {
      "text/plain": [
       "'C:\\\\Users\\\\bisha\\\\OneDrive\\\\Desktop\\\\practice1'"
      ]
     },
     "execution_count": 40,
     "metadata": {},
     "output_type": "execute_result"
    }
   ],
   "source": [
    "os.getcwd()"
   ]
  },
  {
   "cell_type": "code",
   "execution_count": 44,
   "id": "65c7bd28",
   "metadata": {},
   "outputs": [
    {
     "data": {
      "text/plain": [
       "'C:\\\\Users\\\\bisha\\\\OneDrive\\\\Desktop\\\\practice1'"
      ]
     },
     "execution_count": 44,
     "metadata": {},
     "output_type": "execute_result"
    }
   ],
   "source": [
    "os.getcwd()"
   ]
  },
  {
   "cell_type": "code",
   "execution_count": 45,
   "id": "d84191bb",
   "metadata": {},
   "outputs": [],
   "source": [
    "os.mkdir(\"hey\")"
   ]
  },
  {
   "cell_type": "code",
   "execution_count": 47,
   "id": "310e2cbf",
   "metadata": {},
   "outputs": [],
   "source": [
    "os.rmdir(\"hey\")"
   ]
  },
  {
   "cell_type": "code",
   "execution_count": 48,
   "id": "58c4131d",
   "metadata": {},
   "outputs": [],
   "source": [
    "import shutil"
   ]
  },
  {
   "cell_type": "code",
   "execution_count": null,
   "id": "03fe2780",
   "metadata": {},
   "outputs": [],
   "source": []
  },
  {
   "cell_type": "code",
   "execution_count": 55,
   "id": "19d32043",
   "metadata": {},
   "outputs": [],
   "source": [
    "import shutil\n",
    "os.mkdir(\"abhi\")\n"
   ]
  },
  {
   "cell_type": "code",
   "execution_count": 56,
   "id": "a20f46d5",
   "metadata": {},
   "outputs": [],
   "source": [
    "os.chdir(\"./abhi\")"
   ]
  },
  {
   "cell_type": "code",
   "execution_count": 57,
   "id": "aaadd95b",
   "metadata": {},
   "outputs": [],
   "source": [
    "f=open(\"testfile.txt\",\"w\")"
   ]
  },
  {
   "cell_type": "code",
   "execution_count": 58,
   "id": "1bb6893b",
   "metadata": {},
   "outputs": [],
   "source": [
    "f.write(\"hello world\")\n",
    "os.chdir(\"../\")"
   ]
  },
  {
   "cell_type": "code",
   "execution_count": 60,
   "id": "f1e283a4",
   "metadata": {},
   "outputs": [],
   "source": [
    "import sys\n"
   ]
  },
  {
   "cell_type": "code",
   "execution_count": 62,
   "id": "4de6fbce",
   "metadata": {},
   "outputs": [
    {
     "name": "stdout",
     "output_type": "stream",
     "text": [
      "the entry is: boys\n",
      "hey a <class 'ValueError'> exception occured\n",
      "the entry is: cat\n",
      "hey a <class 'ValueError'> exception occured\n",
      "the entry is: 0\n",
      "hey a <class 'ZeroDivisionError'> exception occured\n",
      "the entry is: 14.3\n"
     ]
    }
   ],
   "source": [
    "import sys\n",
    "list=[\"boys\",\"cat\",0,14.3]\n",
    "for entry in list:\n",
    "    try:\n",
    "        print(\"the entry is:\",entry)\n",
    "        r=1/int(entry)\n",
    "    except:\n",
    "        print(\"hey a\",sys.exc_info()[0],\"exception occured\")"
   ]
  },
  {
   "cell_type": "code",
   "execution_count": 63,
   "id": "d76fff80",
   "metadata": {},
   "outputs": [
    {
     "name": "stdout",
     "output_type": "stream",
     "text": [
      "the entry is: boys\n",
      "hey a valueerror exceptioj occured\n",
      "the entry is: cat\n",
      "hey a valueerror exceptioj occured\n",
      "the entry is: 0\n",
      "hey a zero divison\n",
      "the entry is: 14.3\n",
      "the reciprocal of the entry is: 0.07142857142857142\n"
     ]
    }
   ],
   "source": [
    "list=[\"boys\",\"cat\",0,14.3]\n",
    "for entry in list:\n",
    "    try:\n",
    "        print(\"the entry is:\",entry)\n",
    "        r=1/int(entry)\n",
    "    except(ValueError):\n",
    "        print(\"hey a valueerror exceptioj occured\")\n",
    "    except(ZeroDivisionError):\n",
    "        print(\"hey a zero divison\")\n",
    "    except:\n",
    "        print('sum error occur')\n",
    "print(\"the reciprocal of the entry is:\",r)\n"
   ]
  },
  {
   "cell_type": "code",
   "execution_count": 66,
   "id": "86658eb9",
   "metadata": {},
   "outputs": [
    {
     "name": "stdout",
     "output_type": "stream",
     "text": [
      "enter a positive integer15\n"
     ]
    }
   ],
   "source": [
    "try:\n",
    "    num=int(input(\"enter a positive integer\"))\n",
    "    if num <=10:\n",
    "        raise ValueError(\"error:entered a negative number\")\n",
    "except ValueError as e:\n",
    "    print(e)"
   ]
  },
  {
   "cell_type": "code",
   "execution_count": 67,
   "id": "35eb7ade",
   "metadata": {},
   "outputs": [],
   "source": [
    "try:\n",
    "    f=open(\"sample.txt\",\"w\")\n",
    "finally:\n",
    "    f.close()"
   ]
  },
  {
   "cell_type": "code",
   "execution_count": null,
   "id": "4a42f754",
   "metadata": {},
   "outputs": [],
   "source": []
  }
 ],
 "metadata": {
  "kernelspec": {
   "display_name": "Python 3",
   "language": "python",
   "name": "python3"
  },
  "language_info": {
   "codemirror_mode": {
    "name": "ipython",
    "version": 3
   },
   "file_extension": ".py",
   "mimetype": "text/x-python",
   "name": "python",
   "nbconvert_exporter": "python",
   "pygments_lexer": "ipython3",
   "version": "3.8.8"
  }
 },
 "nbformat": 4,
 "nbformat_minor": 5
}
