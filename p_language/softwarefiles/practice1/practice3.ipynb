{
 "cells": [
  {
   "cell_type": "code",
   "execution_count": 1,
   "id": "c2917d82",
   "metadata": {},
   "outputs": [
    {
     "name": "stdout",
     "output_type": "stream",
     "text": [
      "enter numbers2\n",
      "enter numbers2\n",
      "enter numbers3\n",
      "[2, 3]\n",
      "3\n",
      "2\n"
     ]
    }
   ],
   "source": [
    "#python program to find second largest elements in python\n",
    "list=[]\n",
    "n=int(input(\"enter numbers\"))\n",
    "for i in range(0,n):\n",
    "    k=int(input(\"enter numbers\"))\n",
    "    list.append(k)\n",
    "print(list)\n",
    "largest=list[0]\n",
    "smallest=list[0]\n",
    "for i in range(len(list)):\n",
    "    if largest<list[i]:\n",
    "        largest=list[i]\n",
    "print(largest)\n",
    "second_largest=list[0]\n",
    "for i in range(len(list)):\n",
    "    if list[i] !=largest and list[i]>second_largest:\n",
    "        second_largest=list[i]\n",
    "print(second_largest)\n"
   ]
  },
  {
   "cell_type": "markdown",
   "id": "662fe8f2",
   "metadata": {},
   "source": [
    "#WAP to remove duplicate elements in a lists"
   ]
  },
  {
   "cell_type": "code",
   "execution_count": 2,
   "id": "f43baf5a",
   "metadata": {},
   "outputs": [
    {
     "name": "stdout",
     "output_type": "stream",
     "text": [
      "enter inetger4\n",
      "enter integer4\n",
      "enter integer4\n",
      "enter integer2\n",
      "enter integer4\n",
      "[4, 4, 2, 4]\n",
      "[4, 2]\n"
     ]
    }
   ],
   "source": [
    "a=[]\n",
    "b=int(input(\"enter inetger\"))\n",
    "for i in range(b):\n",
    "    k=int(input(\"enter integer\"))\n",
    "    a.append(k)\n",
    "print(a)\n",
    "d=[]\n",
    "for i in a:\n",
    "    if i not in d:\n",
    "        d.append(i)\n",
    "print(d)\n",
    "            "
   ]
  },
  {
   "cell_type": "code",
   "execution_count": 3,
   "id": "85db11d0",
   "metadata": {},
   "outputs": [
    {
     "name": "stdout",
     "output_type": "stream",
     "text": [
      "\n",
      "am\n",
      "muskan\n"
     ]
    }
   ],
   "source": [
    "def printwords(s):\n",
    "    s=s.split(\" \")\n",
    "    for word in s:\n",
    "        if(len(word)) % 2==0:\n",
    "            print(word)\n",
    "s=\" i am muskan\"\n",
    "printwords(s)"
   ]
  },
  {
   "cell_type": "code",
   "execution_count": 4,
   "id": "7b843fb8",
   "metadata": {},
   "outputs": [
    {
     "data": {
      "text/plain": [
       "['', 'i', 'am', 'muskan']"
      ]
     },
     "execution_count": 4,
     "metadata": {},
     "output_type": "execute_result"
    }
   ],
   "source": [
    "s.split(\" \")"
   ]
  },
  {
   "cell_type": "markdown",
   "id": "3069e60d",
   "metadata": {},
   "source": [
    "#Python count the number of matching charecters in a pair of strings"
   ]
  },
  {
   "cell_type": "code",
   "execution_count": 5,
   "id": "b6e3e41e",
   "metadata": {},
   "outputs": [],
   "source": [
    "def count(str1,str2):\n",
    "    c=0\n",
    "    j=0\n",
    "    for i in range(len(str1)):\n",
    "        if str1[i] in str2:\n",
    "            c+=1\n",
    "        j+=1\n",
    "    print(\"no of matching charecters are:\",c)\n",
    "str1=\"aabcddek11122@\"\n",
    "str2=\"bb2211B55k\""
   ]
  },
  {
   "cell_type": "code",
   "execution_count": 6,
   "id": "d16b19b1",
   "metadata": {},
   "outputs": [
    {
     "name": "stdout",
     "output_type": "stream",
     "text": [
      "no of matching charecters are: 7\n"
     ]
    }
   ],
   "source": [
    "count(str1,str2)"
   ]
  },
  {
   "cell_type": "markdown",
   "id": "0f35b860",
   "metadata": {},
   "source": [
    "Remove all duplicatesfrom agiven string in python"
   ]
  },
  {
   "cell_type": "code",
   "execution_count": 7,
   "id": "328c0126",
   "metadata": {},
   "outputs": [
    {
     "name": "stdout",
     "output_type": "stream",
     "text": [
      "after removing: stdrhw\n"
     ]
    }
   ],
   "source": [
    "def remove_duplicates(s):\n",
    "    dup=\"\"\n",
    "    for i in s:\n",
    "        if i in dup:\n",
    "            pass\n",
    "        else:\n",
    "            dup=dup+i\n",
    "    print(\"after removing:\",dup)\n",
    "remove_duplicates(\"stdsrdthw\")"
   ]
  },
  {
   "cell_type": "code",
   "execution_count": 8,
   "id": "46bb7e16",
   "metadata": {},
   "outputs": [],
   "source": [
    "s=\"stdrwgsggs\"\n",
    "string=set(s)"
   ]
  },
  {
   "cell_type": "code",
   "execution_count": 9,
   "id": "7faafbb0",
   "metadata": {},
   "outputs": [
    {
     "data": {
      "text/plain": [
       "{'d', 'g', 'r', 's', 't', 'w'}"
      ]
     },
     "execution_count": 9,
     "metadata": {},
     "output_type": "execute_result"
    }
   ],
   "source": [
    "string"
   ]
  },
  {
   "cell_type": "code",
   "execution_count": 10,
   "id": "3d9ec318",
   "metadata": {},
   "outputs": [],
   "source": [
    "string=\"\".join(string)"
   ]
  },
  {
   "cell_type": "code",
   "execution_count": 11,
   "id": "0d31d4df",
   "metadata": {},
   "outputs": [
    {
     "data": {
      "text/plain": [
       "'srgtdw'"
      ]
     },
     "execution_count": 11,
     "metadata": {},
     "output_type": "execute_result"
    }
   ],
   "source": [
    "string"
   ]
  },
  {
   "cell_type": "code",
   "execution_count": 12,
   "id": "59c93c32",
   "metadata": {},
   "outputs": [],
   "source": [
    "from collections import OrderedDict\n"
   ]
  },
  {
   "cell_type": "code",
   "execution_count": 13,
   "id": "849c34c3",
   "metadata": {},
   "outputs": [
    {
     "name": "stdout",
     "output_type": "stream",
     "text": [
      "abcsdgfv\n"
     ]
    }
   ],
   "source": [
    "def remove_duplicate(s):\n",
    "    return \"\".join(OrderedDict.fromkeys(s))\n",
    "s=\"abcsdgsffdv\"\n",
    "print(remove_duplicate(s))"
   ]
  },
  {
   "cell_type": "markdown",
   "id": "53503f13",
   "metadata": {},
   "source": [
    "#Python a program to check if a string contains any special charecter"
   ]
  },
  {
   "cell_type": "code",
   "execution_count": 14,
   "id": "c7ae5d88",
   "metadata": {},
   "outputs": [],
   "source": [
    "import re"
   ]
  },
  {
   "cell_type": "code",
   "execution_count": 15,
   "id": "5026a495",
   "metadata": {},
   "outputs": [
    {
     "name": "stdout",
     "output_type": "stream",
     "text": [
      "enter any string:55@ghdhgd\n",
      "The string contains any special charecters\n"
     ]
    }
   ],
   "source": [
    "string=input(\"enter any string:\")\n",
    "special_char=re.compile(\"[@_#$%^&*()<>?|/{}:;]\")\n",
    "if(special_char.search(string)==None):\n",
    "    print(\"String does not contains any special charecters:\")\n",
    "else:\n",
    "    print(\"The string contains any special charecters\")"
   ]
  },
  {
   "cell_type": "markdown",
   "id": "9f412a4f",
   "metadata": {},
   "source": [
    "#python program to find the sum of all items in a dictionary"
   ]
  },
  {
   "cell_type": "code",
   "execution_count": 17,
   "id": "ad87951e",
   "metadata": {},
   "outputs": [
    {
     "name": "stdout",
     "output_type": "stream",
     "text": [
      "enter numbers:3\n",
      "enter key:a\n",
      "enter values:100\n",
      "enter key:b\n",
      "enter values:200\n",
      "enter key:c\n",
      "enter values:300\n",
      "{'a': 100, 'b': 200, 'c': 300}\n"
     ]
    }
   ],
   "source": [
    "dic=int(input(\"enter numbers:\"))\n",
    "k={}\n",
    "for i in range(dic):\n",
    "    key=input(\"enter key:\")\n",
    "    values=int(input(\"enter values:\"))\n",
    "    k.update({key:values})\n",
    "print(k)"
   ]
  },
  {
   "cell_type": "code",
   "execution_count": 24,
   "id": "e8e3b8e5",
   "metadata": {},
   "outputs": [
    {
     "name": "stdout",
     "output_type": "stream",
     "text": [
      "600\n"
     ]
    }
   ],
   "source": [
    "def returnSum(dict):\n",
    "    sum=0\n",
    "    for i in dict.values():\n",
    "        sum=sum+i\n",
    "    return sum\n",
    "print(returnSum(k))"
   ]
  },
  {
   "cell_type": "code",
   "execution_count": 21,
   "id": "6070aea7",
   "metadata": {},
   "outputs": [
    {
     "name": "stdout",
     "output_type": "stream",
     "text": [
      "600\n"
     ]
    }
   ],
   "source": [
    "def returnSum(Mydict):\n",
    "    list=[]\n",
    "    for i in Mydict:\n",
    "        list.append(Mydict[i])\n",
    "    final=sum(list)\n",
    "    return final\n",
    "print(returnSum(k))"
   ]
  },
  {
   "cell_type": "code",
   "execution_count": 27,
   "id": "b3f37fb0",
   "metadata": {},
   "outputs": [
    {
     "name": "stdout",
     "output_type": "stream",
     "text": [
      " \n",
      "1  \n",
      "2 2  \n",
      "3 3 3  \n",
      "4 4 4 4  \n",
      "5 5 5 5 5  \n"
     ]
    }
   ],
   "source": [
    "rows=6\n",
    "for i in range(rows):\n",
    "    for j in range(i):\n",
    "        print(i,end=' ')\n",
    "    print(' ')"
   ]
  },
  {
   "cell_type": "code",
   "execution_count": 28,
   "id": "8163a112",
   "metadata": {},
   "outputs": [
    {
     "name": "stdout",
     "output_type": "stream",
     "text": [
      "1 \n",
      "1 2 \n",
      "1 2 3 \n",
      "1 2 3 4 \n",
      "1 2 3 4 5 \n"
     ]
    }
   ],
   "source": [
    "rows=5\n",
    "for i  in range(1,rows+1):\n",
    "    for j in range(1,i+1):\n",
    "        print(j,end=\" \")\n",
    "    print(\"\")"
   ]
  },
  {
   "cell_type": "code",
   "execution_count": 29,
   "id": "fb1f45eb",
   "metadata": {},
   "outputs": [
    {
     "name": "stdout",
     "output_type": "stream",
     "text": [
      "1 1 1 1 1 \r\n",
      "2 2 2 2 \r\n",
      "3 3 3 \r\n",
      "4 4 \r\n",
      "5 \r\n"
     ]
    }
   ],
   "source": [
    "row=5\n",
    "b=0\n",
    "for i in range(5,0,-1):\n",
    "    b+=1\n",
    "    for j in range(1,i+1):\n",
    "        print(b,end=\" \")\n",
    "    print(\"\\r\")"
   ]
  },
  {
   "cell_type": "code",
   "execution_count": null,
   "id": "bcc2d9ad",
   "metadata": {},
   "outputs": [],
   "source": []
  }
 ],
 "metadata": {
  "kernelspec": {
   "display_name": "Python 3",
   "language": "python",
   "name": "python3"
  },
  "language_info": {
   "codemirror_mode": {
    "name": "ipython",
    "version": 3
   },
   "file_extension": ".py",
   "mimetype": "text/x-python",
   "name": "python",
   "nbconvert_exporter": "python",
   "pygments_lexer": "ipython3",
   "version": "3.8.8"
  }
 },
 "nbformat": 4,
 "nbformat_minor": 5
}
