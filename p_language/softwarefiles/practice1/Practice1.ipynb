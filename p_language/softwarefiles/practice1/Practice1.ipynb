{
 "cells": [
  {
   "cell_type": "code",
   "execution_count": 3,
   "id": "a58453ec",
   "metadata": {},
   "outputs": [
    {
     "name": "stdout",
     "output_type": "stream",
     "text": [
      "enter number of elments in lists:3\n",
      "enter the elements:1\n",
      "enter the elements:2\n",
      "enter the elements:5\n",
      "second largest elements is : 2\n"
     ]
    }
   ],
   "source": [
    "list_val=[]\n",
    "num_list=int(input(\"enter number of elments in lists:\"))\n",
    "for i in range(1,num_list + 1):\n",
    "    element=int(input(\"enter the elements:\"))\n",
    "    list_val.append(element)\n",
    "list_val.sort()\n",
    "print(\"second largest elements is :\",list_val[-2])\n"
   ]
  },
  {
   "cell_type": "markdown",
   "id": "5c2a958c",
   "metadata": {},
   "source": []
  },
  {
   "cell_type": "code",
   "execution_count": 6,
   "id": "c211c31e",
   "metadata": {},
   "outputs": [
    {
     "name": "stdout",
     "output_type": "stream",
     "text": [
      "30\n"
     ]
    }
   ],
   "source": [
    "def calc_largest(arr):\n",
    "    second_largest=arr[0]\n",
    "    largest_val=arr[0]\n",
    "    for i in range(len(arr)):\n",
    "        if arr[i]>largest_val:\n",
    "            largest_val=arr[i]\n",
    "    for i in range(len(arr)):\n",
    "        if arr[i]>second_largest and arr[i] != largest_val:\n",
    "            second_largest=arr[i]\n",
    "    return second_largest\n",
    "print(calc_largest([20,30,40,25,10]))"
   ]
  },
  {
   "cell_type": "code",
   "execution_count": 7,
   "id": "521cfcc4",
   "metadata": {},
   "outputs": [
    {
     "name": "stdout",
     "output_type": "stream",
     "text": [
      "DUPILCATES ELEMENTS IN GIVEN ARRAY\n",
      "2\n",
      "2\n",
      "3\n",
      "2\n",
      "8\n"
     ]
    }
   ],
   "source": [
    "arr=[1,2,3,4,2,7,2,8,8,3]\n",
    "print(\"DUPILCATES ELEMENTS IN GIVEN ARRAY\")\n",
    "for i in range(0,len(arr)):\n",
    "    for j in range(i+1,len(arr)):\n",
    "        if(arr[i]==arr[j]):\n",
    "            print(arr[j])"
   ]
  },
  {
   "cell_type": "code",
   "execution_count": 9,
   "id": "bfebec51",
   "metadata": {},
   "outputs": [
    {
     "name": "stdout",
     "output_type": "stream",
     "text": [
      "[2, 3, 8] "
     ]
    }
   ],
   "source": [
    "def findDuplicates(arr,len):\n",
    "    ifpresent=False\n",
    "    a1=[]\n",
    "    for i in range(len-1):\n",
    "        for j in range(i+1,len):\n",
    "            if (arr[i]==arr[j]):\n",
    "                if arr[i] in a1:\n",
    "                    break\n",
    "                else:\n",
    "                    a1.append(arr[i])\n",
    "                    ifpresent=True\n",
    "    if(ifpresent):\n",
    "        print(a1,end=\" \")\n",
    "    else:\n",
    "        print(\"no duplicates present in array\")\n",
    "arr=[1,2,3,4,2,7,2,8,8,3]\n",
    "n=len(arr)\n",
    "findDuplicates(arr,n)    "
   ]
  },
  {
   "cell_type": "code",
   "execution_count": 13,
   "id": "37454cc1",
   "metadata": {},
   "outputs": [
    {
     "name": "stdout",
     "output_type": "stream",
     "text": [
      "Count of Pairs is : 3\n"
     ]
    }
   ],
   "source": [
    "def getpairsCount(arr,n,sum):\n",
    "    count=0\n",
    "    for i in range(0,n):\n",
    "        for j in range(i+1,n):\n",
    "            if arr[i]+arr[j]==sum:\n",
    "                count +=1\n",
    "    return count\n",
    "arr=[1,5,7,-1,5]\n",
    "n=len(arr)\n",
    "sum=6\n",
    "print(\"Count of Pairs is :\",getpairsCount(arr,n,sum))"
   ]
  },
  {
   "cell_type": "code",
   "execution_count": 14,
   "id": "ad2665f0",
   "metadata": {},
   "outputs": [
    {
     "name": "stdout",
     "output_type": "stream",
     "text": [
      "array is equal\n"
     ]
    }
   ],
   "source": [
    "arr1=[1,7,3,4,5]\n",
    "arr2=[1,3,4,5,7]\n",
    "if len(arr1)==len(arr2):\n",
    "    print(\"array is equal\")\n",
    "else:\n",
    "    print(\"array is not equal\")"
   ]
  },
  {
   "cell_type": "code",
   "execution_count": 15,
   "id": "4c0fc39c",
   "metadata": {},
   "outputs": [
    {
     "name": "stdout",
     "output_type": "stream",
     "text": [
      "Yes\n"
     ]
    }
   ],
   "source": [
    "def areEqual(arr1,arr2,n,m):\n",
    "    if(n !=m):\n",
    "        return False\n",
    "    arr1.sort()\n",
    "    arr2.sort()\n",
    "    for i in range(0,n-1):\n",
    "        if(arr1[i] != arr2[i]):\n",
    "            return False\n",
    "        return True\n",
    "arr1=[1,7,3,4,5]\n",
    "arr2=[1,3,4,5,7]\n",
    "n=len(arr1)\n",
    "m=len(arr2)\n",
    "k=areEqual(arr1,arr2,n,m)\n",
    "if(k):\n",
    "    print(\"Yes\")\n",
    "else:\n",
    "    print(\"no\")"
   ]
  },
  {
   "cell_type": "code",
   "execution_count": 16,
   "id": "9e521af4",
   "metadata": {},
   "outputs": [
    {
     "name": "stdout",
     "output_type": "stream",
     "text": [
      "enter size of the array:5\n",
      "enter elements of array2\n",
      "enter elements of array6\n",
      "enter elements of array1\n",
      "enter elements of array6\n",
      "enter elements of array2\n",
      "6\n",
      "1\n"
     ]
    }
   ],
   "source": [
    "arr=[]\n",
    "n=int(input('enter size of the array:'))\n",
    "for x in range(n):\n",
    "    x=int(input(\"enter elements of array\"))\n",
    "    arr.append(x)\n",
    "largest=arr[0]\n",
    "smallest=arr[0]\n",
    "for i in range(n):\n",
    "    if arr[i]>largest:\n",
    "        largest=arr[i]\n",
    "    if arr[i]<smallest:\n",
    "        smallest=arr[i]\n",
    "print(largest)\n",
    "print(smallest)"
   ]
  },
  {
   "cell_type": "code",
   "execution_count": 18,
   "id": "3b3e7ad8",
   "metadata": {},
   "outputs": [
    {
     "name": "stdout",
     "output_type": "stream",
     "text": [
      "enter size of array:5\n",
      "enter elements of array2\n",
      "enter elements of array4\n",
      "enter elements of array1\n",
      "enter elements of array6\n",
      "enter elements of array7\n",
      "first two largest elements is {7}\n",
      "first two largest elements is {6}\n",
      "first two largest elements is {4}\n",
      "first two largest elements is {2}\n"
     ]
    }
   ],
   "source": [
    "import array\n",
    "arr=[]\n",
    "n=int(input(\"enter size of array:\"))\n",
    "for x in range(n):\n",
    "    x=int(input('enter elements of array'))\n",
    "    arr.append(x)\n",
    "sorted_array=sorted(array.array(\"i\",arr))\n",
    "for i in range(len(arr)-1,0,-1):\n",
    "    if sorted_array[i] != sorted_array[i-1]:\n",
    "        print(f\"first two largest elements is {sorted_array[i-1] and {sorted_array[i]}}\")"
   ]
  },
  {
   "cell_type": "code",
   "execution_count": 19,
   "id": "86559bdd",
   "metadata": {},
   "outputs": [],
   "source": [
    "def remove(duplicate):\n",
    "    final_list=[]\n",
    "    for num in duplicate:\n",
    "        if num not in final_list:\n",
    "            final_list.append(num)\n",
    "    return final_list\n",
    "duplicate=[2,4,10,20,5,20,4]"
   ]
  },
  {
   "cell_type": "code",
   "execution_count": 20,
   "id": "3c1300ec",
   "metadata": {},
   "outputs": [
    {
     "name": "stdout",
     "output_type": "stream",
     "text": [
      "[2, 4, 10, 20, 5]\n"
     ]
    }
   ],
   "source": [
    "print(remove(duplicate))"
   ]
  },
  {
   "cell_type": "code",
   "execution_count": 21,
   "id": "95298aa6",
   "metadata": {},
   "outputs": [
    {
     "ename": "SyntaxError",
     "evalue": "invalid syntax (<ipython-input-21-4cffa4a3b265>, line 11)",
     "output_type": "error",
     "traceback": [
      "\u001b[1;36m  File \u001b[1;32m\"<ipython-input-21-4cffa4a3b265>\"\u001b[1;36m, line \u001b[1;32m11\u001b[0m\n\u001b[1;33m    if count[arr[x]]==1;\u001b[0m\n\u001b[1;37m                       ^\u001b[0m\n\u001b[1;31mSyntaxError\u001b[0m\u001b[1;31m:\u001b[0m invalid syntax\n"
     ]
    }
   ],
   "source": [
    "import array\n",
    "arr,count=[],[]\n",
    "n=int(input(\"enter size of the array:\"))\n",
    "for x in range(n):\n",
    "    count.append(0)\n",
    "    x=int(input(\"enetr elements of array\"))\n",
    "    arr.append(x)\n",
    "print(\"array elememnts after removing duplicates\")\n",
    "for x in range(n):\n",
    "    count[arr[x]]=count[arr[x]]+1\n",
    "    if count[arr[x]]==1;\n",
    "    print(arr[x])"
   ]
  },
  {
   "cell_type": "code",
   "execution_count": null,
   "id": "871b44b1",
   "metadata": {},
   "outputs": [],
   "source": []
  }
 ],
 "metadata": {
  "kernelspec": {
   "display_name": "Python 3",
   "language": "python",
   "name": "python3"
  },
  "language_info": {
   "codemirror_mode": {
    "name": "ipython",
    "version": 3
   },
   "file_extension": ".py",
   "mimetype": "text/x-python",
   "name": "python",
   "nbconvert_exporter": "python",
   "pygments_lexer": "ipython3",
   "version": "3.8.8"
  }
 },
 "nbformat": 4,
 "nbformat_minor": 5
}
