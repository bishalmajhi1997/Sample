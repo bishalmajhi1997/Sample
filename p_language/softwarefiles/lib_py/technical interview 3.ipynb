{
 "cells": [
  {
   "cell_type": "code",
   "execution_count": 6,
   "id": "4dd9d098",
   "metadata": {},
   "outputs": [
    {
     "name": "stdout",
     "output_type": "stream",
     "text": [
      "6\n"
     ]
    }
   ],
   "source": [
    "def getMissingno(A):\n",
    "    n=len(A)\n",
    "    total=(n+1)*(n+2)/2\n",
    "    sum_of_A=sum(A)\n",
    "    return total-sum_of_A\n",
    "A=[1,2,3,4,5,7]\n",
    "miss=getMissingno(A)\n",
    "print(int(miss))"
   ]
  },
  {
   "cell_type": "code",
   "execution_count": 7,
   "id": "48b37826",
   "metadata": {},
   "outputs": [
    {
     "name": "stdout",
     "output_type": "stream",
     "text": [
      "[8]\n"
     ]
    }
   ],
   "source": [
    "arr=[1,2,3,4,5,6,7,9]\n",
    "miss=[]\n",
    "for ele in range(arr[0],arr[-1]+1):\n",
    "    if ele not in arr:\n",
    "        miss.append(ele)\n",
    "print(miss)"
   ]
  },
  {
   "cell_type": "code",
   "execution_count": 9,
   "id": "77c49146",
   "metadata": {},
   "outputs": [
    {
     "name": "stdout",
     "output_type": "stream",
     "text": [
      "[8]\n"
     ]
    }
   ],
   "source": [
    "miss=[ele for ele in range(arr[0],arr[-1]+1) if ele not in arr]\n",
    "print(miss)"
   ]
  },
  {
   "cell_type": "code",
   "execution_count": 12,
   "id": "311b524c",
   "metadata": {},
   "outputs": [
    {
     "name": "stdout",
     "output_type": "stream",
     "text": [
      "{8}\n"
     ]
    }
   ],
   "source": [
    "miss=set(range(arr[0],arr[-1]+1))-set(arr)\n",
    "print(miss)"
   ]
  },
  {
   "cell_type": "code",
   "execution_count": 13,
   "id": "1acfbe2b",
   "metadata": {},
   "outputs": [
    {
     "data": {
      "text/plain": [
       "{8}"
      ]
     },
     "execution_count": 13,
     "metadata": {},
     "output_type": "execute_result"
    }
   ],
   "source": [
    "set(range(arr[0],arr[-1]+1)).difference(arr)"
   ]
  },
  {
   "cell_type": "code",
   "execution_count": 14,
   "id": "95cc4d27",
   "metadata": {},
   "outputs": [
    {
     "name": "stdout",
     "output_type": "stream",
     "text": [
      "30\n"
     ]
    }
   ],
   "source": [
    "list_val=[20,30,40,25,10]\n",
    "res_list=set(list_val)\n",
    "res_list.remove(max(res_list))\n",
    "print(max(res_list))"
   ]
  },
  {
   "cell_type": "code",
   "execution_count": 16,
   "id": "6bed028f",
   "metadata": {},
   "outputs": [
    {
     "name": "stdout",
     "output_type": "stream",
     "text": [
      "enter number of elements5\n",
      "enter number of elements1\n",
      "enter number of elements2\n",
      "enter number of elements3\n",
      "enter number of elements7\n",
      "enter number of elements4\n",
      "second largest elements is: 4\n"
     ]
    }
   ],
   "source": [
    "list_val=[]\n",
    "num_list=int(input(\"enter number of elements\"))\n",
    "for i in range(1,num_list+1):\n",
    "    element=int(input(\"enter number of elements\"))\n",
    "    list_val.append(element)\n",
    "list_val.sort()\n",
    "print(\"second largest elements is:\",list_val[-2])"
   ]
  },
  {
   "cell_type": "code",
   "execution_count": 18,
   "id": "baa32bbb",
   "metadata": {},
   "outputs": [
    {
     "name": "stdout",
     "output_type": "stream",
     "text": [
      "30\n"
     ]
    }
   ],
   "source": [
    "def Calc_largest(arr):\n",
    "    second_largest=arr[0]\n",
    "    largest_val=arr[0]\n",
    "    for i in range(len(arr)):\n",
    "        if arr[i]>largest_val:\n",
    "            largest_val=arr[i]\n",
    "    for i in range(len(arr)):\n",
    "        if arr[i]>second_largest and arr[i] !=largest_val:\n",
    "            second_largest=arr[i]\n",
    "    return second_largest\n",
    "print(Calc_largest([20,30,40,25,10]))"
   ]
  },
  {
   "cell_type": "code",
   "execution_count": 19,
   "id": "bde90ae4",
   "metadata": {},
   "outputs": [
    {
     "name": "stdout",
     "output_type": "stream",
     "text": [
      "duplicated elements in given array\n",
      "2\n",
      "3\n",
      "8\n"
     ]
    }
   ],
   "source": [
    "arr=[1,2,3,2,7,8,8,3]\n",
    "print(\"duplicated elements in given array\")\n",
    "for i in range(0,len(arr)):\n",
    "    for j in range(i+1,len(arr)):\n",
    "        if arr[i]==arr[j]:\n",
    "            print(arr[j])"
   ]
  },
  {
   "cell_type": "code",
   "execution_count": 21,
   "id": "2c435214",
   "metadata": {},
   "outputs": [
    {
     "name": "stdout",
     "output_type": "stream",
     "text": [
      "[11, 14, 252]"
     ]
    }
   ],
   "source": [
    "def findduplicates(arr,len):\n",
    "    ifpresent=False\n",
    "    a1=[]\n",
    "    for i in range(len-1):\n",
    "        for j in range(i+1,len):\n",
    "            if(arr[i]==arr[j]):\n",
    "                if arr[i] in a1:\n",
    "                    break\n",
    "                else:\n",
    "                    a1.append(arr[i])\n",
    "                    ifpresent=True\n",
    "    if(ifpresent):\n",
    "        print(a1,end=\"\")\n",
    "    else:\n",
    "        print(\"no duplicate value present in array\")\n",
    "arr=[11,21,14,11,26,14,262,252,252]\n",
    "n=len(arr)\n",
    "findduplicates(arr,n)"
   ]
  },
  {
   "cell_type": "code",
   "execution_count": 22,
   "id": "333218a1",
   "metadata": {},
   "outputs": [
    {
     "name": "stdout",
     "output_type": "stream",
     "text": [
      "count of pairs 3\n"
     ]
    }
   ],
   "source": [
    "def getPairsCount(arr,n,sum):\n",
    "    count=0\n",
    "    for i in range(0,n):\n",
    "        for j in range(i+1,n):\n",
    "            if arr[i]+arr[j]==sum:\n",
    "                count +=1\n",
    "    return count\n",
    "arr=[1,5,7,-1,5]\n",
    "n=len(arr)\n",
    "sum=6\n",
    "print(\"count of pairs\",getPairsCount(arr,n,sum))"
   ]
  },
  {
   "cell_type": "code",
   "execution_count": 24,
   "id": "896119ab",
   "metadata": {},
   "outputs": [
    {
     "name": "stdout",
     "output_type": "stream",
     "text": [
      "array is equal\n"
     ]
    }
   ],
   "source": [
    "arr1=[1,7,3,4,5]\n",
    "arr2=[1,3,4,5,7]\n",
    "if(len(arr1)==len(arr2)):\n",
    "    print(\"array is equal\")\n",
    "else:\n",
    "    print(\"array is not equal\")"
   ]
  },
  {
   "cell_type": "raw",
   "id": "3cd73e96",
   "metadata": {},
   "source": [
    "def areEqual(arr1,arr2,n,m):\n",
    "\n"
   ]
  },
  {
   "cell_type": "code",
   "execution_count": 27,
   "id": "4356fec4",
   "metadata": {},
   "outputs": [
    {
     "name": "stdout",
     "output_type": "stream",
     "text": [
      "yes\n"
     ]
    }
   ],
   "source": [
    "def areEqual(arr1,arr2,n,m):\n",
    "    if(n !=m):\n",
    "        return False\n",
    "    arr1.sort()\n",
    "    arr2.sort()\n",
    "    for i in range(0,n-1):\n",
    "        if(arr[i] != arr2[i]):\n",
    "            return False\n",
    "        return True\n",
    "arr1=[1,7,3,4,5]\n",
    "arr2=[1,3,4,5,7]\n",
    "n=len(arr1)\n",
    "m=len(arr2)\n",
    "k=areEqual(arr1,arr2,n,m)\n",
    "if(k):\n",
    "    print(\"yes\")\n",
    "else:\n",
    "    print(\"no\")"
   ]
  },
  {
   "cell_type": "code",
   "execution_count": null,
   "id": "8f7f1b45",
   "metadata": {},
   "outputs": [],
   "source": []
  }
 ],
 "metadata": {
  "kernelspec": {
   "display_name": "Python 3",
   "language": "python",
   "name": "python3"
  },
  "language_info": {
   "codemirror_mode": {
    "name": "ipython",
    "version": 3
   },
   "file_extension": ".py",
   "mimetype": "text/x-python",
   "name": "python",
   "nbconvert_exporter": "python",
   "pygments_lexer": "ipython3",
   "version": "3.8.8"
  }
 },
 "nbformat": 4,
 "nbformat_minor": 5
}
