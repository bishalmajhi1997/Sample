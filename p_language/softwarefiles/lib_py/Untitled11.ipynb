{
 "cells": [
  {
   "cell_type": "code",
   "execution_count": 1,
   "id": "46c6e82f",
   "metadata": {},
   "outputs": [
    {
     "data": {
      "text/plain": [
       "{101: 'geekyshows', 102: 'geekyshows', 103: 'geekyshows'}"
      ]
     },
     "execution_count": 1,
     "metadata": {},
     "output_type": "execute_result"
    }
   ],
   "source": [
    "key={101,102,103}\n",
    "value=\"geekyshows\"\n",
    "d=dict.fromkeys(key,value)\n",
    "d"
   ]
  },
  {
   "cell_type": "code",
   "execution_count": 2,
   "id": "28584ce0",
   "metadata": {},
   "outputs": [
    {
     "data": {
      "text/plain": [
       "{101: None, 102: None, 103: None}"
      ]
     },
     "execution_count": 2,
     "metadata": {},
     "output_type": "execute_result"
    }
   ],
   "source": [
    "key={101,102,103}\n",
    "d=dict.fromkeys(key)\n",
    "d"
   ]
  },
  {
   "cell_type": "code",
   "execution_count": 3,
   "id": "9539382b",
   "metadata": {},
   "outputs": [
    {
     "data": {
      "text/plain": [
       "{101: ('geekyshows', 'python', 'youtube'),\n",
       " 102: ('geekyshows', 'python', 'youtube'),\n",
       " 103: ('geekyshows', 'python', 'youtube')}"
      ]
     },
     "execution_count": 3,
     "metadata": {},
     "output_type": "execute_result"
    }
   ],
   "source": [
    "value=(\"geekyshows\",\"python\",\"youtube\")\n",
    "d=dict.fromkeys(key,value)\n",
    "d"
   ]
  },
  {
   "cell_type": "code",
   "execution_count": 4,
   "id": "ac0a3afa",
   "metadata": {},
   "outputs": [
    {
     "data": {
      "text/plain": [
       "'rahul'"
      ]
     },
     "execution_count": 4,
     "metadata": {},
     "output_type": "execute_result"
    }
   ],
   "source": [
    "stu={101:\"rahul\",102:\"raj\",103:\"sonam\"}\n",
    "stu.get(101)"
   ]
  },
  {
   "cell_type": "code",
   "execution_count": 8,
   "id": "5fbec397",
   "metadata": {},
   "outputs": [],
   "source": [
    "k=stu.items()"
   ]
  },
  {
   "cell_type": "code",
   "execution_count": 9,
   "id": "ff613585",
   "metadata": {},
   "outputs": [],
   "source": [
    "m=list(k)"
   ]
  },
  {
   "cell_type": "code",
   "execution_count": 10,
   "id": "09e9daf9",
   "metadata": {},
   "outputs": [
    {
     "data": {
      "text/plain": [
       "[(101, 'rahul'), (102, 'raj'), (103, 'sonam')]"
      ]
     },
     "execution_count": 10,
     "metadata": {},
     "output_type": "execute_result"
    }
   ],
   "source": [
    "m"
   ]
  },
  {
   "cell_type": "code",
   "execution_count": 11,
   "id": "a47274aa",
   "metadata": {},
   "outputs": [
    {
     "data": {
      "text/plain": [
       "101"
      ]
     },
     "execution_count": 11,
     "metadata": {},
     "output_type": "execute_result"
    }
   ],
   "source": [
    "m[0][0]"
   ]
  },
  {
   "cell_type": "code",
   "execution_count": 12,
   "id": "6741c5b3",
   "metadata": {},
   "outputs": [
    {
     "data": {
      "text/plain": [
       "102"
      ]
     },
     "execution_count": 12,
     "metadata": {},
     "output_type": "execute_result"
    }
   ],
   "source": [
    "m[1][0]"
   ]
  },
  {
   "cell_type": "code",
   "execution_count": 13,
   "id": "292dfa67",
   "metadata": {},
   "outputs": [
    {
     "data": {
      "text/plain": [
       "dict_keys([101, 102, 103])"
      ]
     },
     "execution_count": 13,
     "metadata": {},
     "output_type": "execute_result"
    }
   ],
   "source": [
    "k=stu.keys()"
   ]
  },
  {
   "cell_type": "code",
   "execution_count": 15,
   "id": "e1c73279",
   "metadata": {},
   "outputs": [],
   "source": [
    "k=tuple(k)"
   ]
  },
  {
   "cell_type": "code",
   "execution_count": 16,
   "id": "b4b34066",
   "metadata": {},
   "outputs": [
    {
     "data": {
      "text/plain": [
       "((101, 'rahul'), (102, 'raj'), (103, 'sonam'))"
      ]
     },
     "execution_count": 16,
     "metadata": {},
     "output_type": "execute_result"
    }
   ],
   "source": [
    "k"
   ]
  },
  {
   "cell_type": "code",
   "execution_count": 18,
   "id": "1f7771f4",
   "metadata": {},
   "outputs": [
    {
     "data": {
      "text/plain": [
       "(101, 'rahul')"
      ]
     },
     "execution_count": 18,
     "metadata": {},
     "output_type": "execute_result"
    }
   ],
   "source": [
    "k[0]"
   ]
  },
  {
   "cell_type": "code",
   "execution_count": 20,
   "id": "15ec146e",
   "metadata": {},
   "outputs": [
    {
     "data": {
      "text/plain": [
       "'rahul'"
      ]
     },
     "execution_count": 20,
     "metadata": {},
     "output_type": "execute_result"
    }
   ],
   "source": [
    "stu.pop(101)"
   ]
  },
  {
   "cell_type": "code",
   "execution_count": 23,
   "id": "7063a635",
   "metadata": {},
   "outputs": [
    {
     "data": {
      "text/plain": [
       "(103, 'sonam')"
      ]
     },
     "execution_count": 23,
     "metadata": {},
     "output_type": "execute_result"
    }
   ],
   "source": [
    "stu.popitem()"
   ]
  },
  {
   "cell_type": "code",
   "execution_count": 25,
   "id": "33417dd0",
   "metadata": {},
   "outputs": [
    {
     "data": {
      "text/plain": [
       "'raj'"
      ]
     },
     "execution_count": 25,
     "metadata": {},
     "output_type": "execute_result"
    }
   ],
   "source": [
    "stu.setdefault(102)"
   ]
  },
  {
   "cell_type": "code",
   "execution_count": 28,
   "id": "7b8ceeaf",
   "metadata": {},
   "outputs": [
    {
     "name": "stdout",
     "output_type": "stream",
     "text": [
      "101\n",
      "rahul\n",
      "102\n",
      "raj\n",
      "103\n",
      "sonam\n"
     ]
    }
   ],
   "source": [
    "stu={101:\"rahul\",102:\"raj\",103:\"sonam\"}\n",
    "\n",
    "for k in stu:\n",
    "    print(k)\n",
    "    print(stu[k])"
   ]
  },
  {
   "cell_type": "code",
   "execution_count": 33,
   "id": "f9c1b0a8",
   "metadata": {},
   "outputs": [
    {
     "name": "stdout",
     "output_type": "stream",
     "text": [
      "numbers elements:3\n",
      "enter key2\n",
      "enter key2\n",
      "enter key1\n",
      "enter key2\n",
      "enter key3\n",
      "enter key1\n",
      "{2: 2, 1: 2, 3: 1}\n"
     ]
    }
   ],
   "source": [
    "a={}\n",
    "n=int(input(\"numbers elements:\"))\n",
    "for i in range(n):\n",
    "    k=int(input(\"enter key\"))\n",
    "    m=int(input(\"enter key\"))\n",
    "    a.update({k:m})\n",
    "print(a)\n",
    "    "
   ]
  },
  {
   "cell_type": "code",
   "execution_count": 34,
   "id": "f1598e04",
   "metadata": {},
   "outputs": [],
   "source": [
    "a={1:{},2:{}}"
   ]
  },
  {
   "cell_type": "code",
   "execution_count": 35,
   "id": "6216ccca",
   "metadata": {},
   "outputs": [
    {
     "data": {
      "text/plain": [
       "{1: {}, 2: {}}"
      ]
     },
     "execution_count": 35,
     "metadata": {},
     "output_type": "execute_result"
    }
   ],
   "source": [
    "a"
   ]
  },
  {
   "cell_type": "code",
   "execution_count": 39,
   "id": "4d819314",
   "metadata": {},
   "outputs": [
    {
     "data": {
      "text/plain": [
       "{'course': 'python',\n",
       " 'fees': 15000,\n",
       " 1: {'course': 'javavscripts', 'fees': 1000}}"
      ]
     },
     "execution_count": 39,
     "metadata": {},
     "output_type": "execute_result"
    }
   ],
   "source": [
    "a={\"course\":\"python\",\"fees\":15000,1:{\"course\":\"javavscripts\",\"fees\":1000}}\n",
    "a"
   ]
  },
  {
   "cell_type": "code",
   "execution_count": 40,
   "id": "e645703b",
   "metadata": {},
   "outputs": [
    {
     "data": {
      "text/plain": [
       "'python'"
      ]
     },
     "execution_count": 40,
     "metadata": {},
     "output_type": "execute_result"
    }
   ],
   "source": [
    "a[\"course\"]"
   ]
  },
  {
   "cell_type": "code",
   "execution_count": 43,
   "id": "862ba96b",
   "metadata": {},
   "outputs": [
    {
     "data": {
      "text/plain": [
       "'javavscripts'"
      ]
     },
     "execution_count": 43,
     "metadata": {},
     "output_type": "execute_result"
    }
   ],
   "source": [
    "a[1][\"course\"]"
   ]
  },
  {
   "cell_type": "code",
   "execution_count": 44,
   "id": "39b6f54b",
   "metadata": {},
   "outputs": [
    {
     "data": {
      "text/plain": [
       "dict_keys(['course', 'fees', 1])"
      ]
     },
     "execution_count": 44,
     "metadata": {},
     "output_type": "execute_result"
    }
   ],
   "source": [
    "a.keys()"
   ]
  },
  {
   "cell_type": "code",
   "execution_count": 46,
   "id": "c657a58a",
   "metadata": {},
   "outputs": [
    {
     "data": {
      "text/plain": [
       "dict_items([('course', 'python'), ('fees', 15000), (1, {'course': 'javavscripts', 'fees': 1000})])"
      ]
     },
     "execution_count": 46,
     "metadata": {},
     "output_type": "execute_result"
    }
   ],
   "source": [
    "a.items()"
   ]
  },
  {
   "cell_type": "code",
   "execution_count": 51,
   "id": "4e7e0832",
   "metadata": {},
   "outputs": [
    {
     "name": "stdout",
     "output_type": "stream",
     "text": [
      "1\n",
      "2\n"
     ]
    }
   ],
   "source": [
    "a={1:{\"course\":\"python\",\"fees\":15000},\n",
    "  2:{\"course\":\"javascripts\",\"fees\":1000}}\n",
    "for i in a:\n",
    "    print(i)"
   ]
  },
  {
   "cell_type": "code",
   "execution_count": 49,
   "id": "4989a53a",
   "metadata": {},
   "outputs": [
    {
     "name": "stdout",
     "output_type": "stream",
     "text": [
      "course\n",
      "fees\n",
      "course\n",
      "fees\n"
     ]
    }
   ],
   "source": [
    "for i in a:\n",
    "    for k in a[i]:\n",
    "        print(k)"
   ]
  },
  {
   "cell_type": "code",
   "execution_count": 52,
   "id": "4eaa404d",
   "metadata": {},
   "outputs": [
    {
     "data": {
      "text/plain": [
       "[1, 2, 3, 4, 5, 6, 7, 8, 9, 10, 11]"
      ]
     },
     "execution_count": 52,
     "metadata": {},
     "output_type": "execute_result"
    }
   ],
   "source": [
    "stq=[0,1,2,3,4,5,6,7,8,9,10]\n",
    "new_list=[i+1 for i in stq]\n",
    "new_list"
   ]
  },
  {
   "cell_type": "code",
   "execution_count": 53,
   "id": "589c39d3",
   "metadata": {},
   "outputs": [],
   "source": [
    "new_list=[i+1 for i in range(20)]\n"
   ]
  },
  {
   "cell_type": "code",
   "execution_count": 54,
   "id": "9902b3a8",
   "metadata": {},
   "outputs": [
    {
     "data": {
      "text/plain": [
       "[1, 2, 3, 4, 5, 6, 7, 8, 9, 10, 11, 12, 13, 14, 15, 16, 17, 18, 19, 20]"
      ]
     },
     "execution_count": 54,
     "metadata": {},
     "output_type": "execute_result"
    }
   ],
   "source": [
    "new_list"
   ]
  },
  {
   "cell_type": "code",
   "execution_count": 55,
   "id": "9dede886",
   "metadata": {},
   "outputs": [
    {
     "data": {
      "text/plain": [
       "[0, 2, 4, 6, 8, 10, 12, 14, 16, 18]"
      ]
     },
     "execution_count": 55,
     "metadata": {},
     "output_type": "execute_result"
    }
   ],
   "source": [
    "k=[i for i in range(20) if i%2==0]\n",
    "k"
   ]
  },
  {
   "cell_type": "code",
   "execution_count": 56,
   "id": "5816be01",
   "metadata": {},
   "outputs": [],
   "source": [
    "k=[i for i in range(20) if i%2==0 if i%3==0]"
   ]
  },
  {
   "cell_type": "code",
   "execution_count": 57,
   "id": "5446c194",
   "metadata": {},
   "outputs": [
    {
     "data": {
      "text/plain": [
       "[0, 6, 12, 18]"
      ]
     },
     "execution_count": 57,
     "metadata": {},
     "output_type": "execute_result"
    }
   ],
   "source": [
    "k"
   ]
  },
  {
   "cell_type": "code",
   "execution_count": 58,
   "id": "1bc8418b",
   "metadata": {},
   "outputs": [],
   "source": [
    "k=[i if i%2==0 else \"invalid\" for i in range(10)]"
   ]
  },
  {
   "cell_type": "code",
   "execution_count": 59,
   "id": "f01be9a3",
   "metadata": {},
   "outputs": [
    {
     "data": {
      "text/plain": [
       "[0, 'invalid', 2, 'invalid', 4, 'invalid', 6, 'invalid', 8, 'invalid']"
      ]
     },
     "execution_count": 59,
     "metadata": {},
     "output_type": "execute_result"
    }
   ],
   "source": [
    "k"
   ]
  },
  {
   "cell_type": "code",
   "execution_count": 62,
   "id": "bab453d0",
   "metadata": {},
   "outputs": [],
   "source": [
    "k=[[(i*j) for j in range(4,7)] for i in range(6,8)]"
   ]
  },
  {
   "cell_type": "code",
   "execution_count": 63,
   "id": "2bd60817",
   "metadata": {},
   "outputs": [
    {
     "data": {
      "text/plain": [
       "[[24, 30, 36], [28, 35, 42]]"
      ]
     },
     "execution_count": 63,
     "metadata": {},
     "output_type": "execute_result"
    }
   ],
   "source": [
    "k"
   ]
  },
  {
   "cell_type": "markdown",
   "id": "ca4870a3",
   "metadata": {},
   "source": []
  },
  {
   "cell_type": "code",
   "execution_count": 65,
   "id": "3551ef11",
   "metadata": {},
   "outputs": [],
   "source": [
    "set2={0,1,2,3,4,5}\n",
    "m={i+1 for i in set2}"
   ]
  },
  {
   "cell_type": "code",
   "execution_count": 66,
   "id": "7bab465d",
   "metadata": {},
   "outputs": [
    {
     "data": {
      "text/plain": [
       "{1, 2, 3, 4, 5, 6}"
      ]
     },
     "execution_count": 66,
     "metadata": {},
     "output_type": "execute_result"
    }
   ],
   "source": [
    "m"
   ]
  },
  {
   "cell_type": "code",
   "execution_count": 67,
   "id": "31d9bff8",
   "metadata": {},
   "outputs": [
    {
     "data": {
      "text/plain": [
       "{1, 2, 3, 4, 5, 6, 7, 8, 9, 10, 11, 12, 13, 14, 15, 16, 17, 18, 19, 20}"
      ]
     },
     "execution_count": 67,
     "metadata": {},
     "output_type": "execute_result"
    }
   ],
   "source": [
    "new={i+1 for i in range(20)}\n",
    "new"
   ]
  },
  {
   "cell_type": "code",
   "execution_count": 68,
   "id": "dbf999d0",
   "metadata": {},
   "outputs": [
    {
     "data": {
      "text/plain": [
       "{0, 2, 4, 6, 8, 10, 12, 14, 16, 18}"
      ]
     },
     "execution_count": 68,
     "metadata": {},
     "output_type": "execute_result"
    }
   ],
   "source": [
    "set={i for i in range(20) if i%2==0}\n",
    "set"
   ]
  },
  {
   "cell_type": "code",
   "execution_count": 69,
   "id": "be2bd620",
   "metadata": {},
   "outputs": [
    {
     "data": {
      "text/plain": [
       "{0, 2, 4, 6, 8, 1000, 3000, 5000, 7000, 9000}"
      ]
     },
     "execution_count": 69,
     "metadata": {},
     "output_type": "execute_result"
    }
   ],
   "source": [
    "set1={i if i%2==0 else i*1000 for i in range(10)}\n",
    "set1"
   ]
  },
  {
   "cell_type": "code",
   "execution_count": 70,
   "id": "8ae22cce",
   "metadata": {},
   "outputs": [
    {
     "data": {
      "text/plain": [
       "{0, 6, 12, 18}"
      ]
     },
     "execution_count": 70,
     "metadata": {},
     "output_type": "execute_result"
    }
   ],
   "source": [
    "set4={i for i in range(20) if i%2==0 if i%3==0}\n",
    "set4"
   ]
  },
  {
   "cell_type": "code",
   "execution_count": 73,
   "id": "c9f731b7",
   "metadata": {},
   "outputs": [
    {
     "data": {
      "text/plain": [
       "{(6, 4), (6, 5), (6, 6), (7, 4), (7, 5), (7, 6)}"
      ]
     },
     "execution_count": 73,
     "metadata": {},
     "output_type": "execute_result"
    }
   ],
   "source": [
    "set={(i,j) for j in range(4,7) for i in range(6,8)}\n",
    "set"
   ]
  },
  {
   "cell_type": "code",
   "execution_count": 74,
   "id": "2ab647ed",
   "metadata": {},
   "outputs": [
    {
     "data": {
      "text/plain": [
       "{0: 0, 1: 3, 2: 6, 3: 9, 4: 12, 5: 15, 6: 18, 7: 21, 8: 24, 9: 27}"
      ]
     },
     "execution_count": 74,
     "metadata": {},
     "output_type": "execute_result"
    }
   ],
   "source": [
    "dict1={n:n*3 for n in range(10)}\n",
    "dict1\n"
   ]
  },
  {
   "cell_type": "code",
   "execution_count": 76,
   "id": "9f206697",
   "metadata": {},
   "outputs": [
    {
     "data": {
      "text/plain": [
       "{0: 0, 1: 2, 2: 4, 3: 6, 4: 8, 5: 10, 6: 12, 7: 14, 8: 16, 9: 18}"
      ]
     },
     "execution_count": 76,
     "metadata": {},
     "output_type": "execute_result"
    }
   ],
   "source": [
    "dict2={n:n*2 for n in range(10)}\n",
    "dict2"
   ]
  },
  {
   "cell_type": "code",
   "execution_count": 77,
   "id": "e6029f70",
   "metadata": {},
   "outputs": [
    {
     "data": {
      "text/plain": [
       "{0: 0, 6: 12}"
      ]
     },
     "execution_count": 77,
     "metadata": {},
     "output_type": "execute_result"
    }
   ],
   "source": [
    "dict2={n:n*2 for n in range(10) if n%2==0 if n%3==0}\n",
    "dict2"
   ]
  },
  {
   "cell_type": "code",
   "execution_count": 82,
   "id": "59c909a4",
   "metadata": {},
   "outputs": [],
   "source": [
    "dict2={n:(n if n%2==0 else \"invalid\") for n in range(10)}"
   ]
  },
  {
   "cell_type": "code",
   "execution_count": 83,
   "id": "6b54b1ff",
   "metadata": {},
   "outputs": [
    {
     "data": {
      "text/plain": [
       "{0: 0,\n",
       " 1: 'invalid',\n",
       " 2: 2,\n",
       " 3: 'invalid',\n",
       " 4: 4,\n",
       " 5: 'invalid',\n",
       " 6: 6,\n",
       " 7: 'invalid',\n",
       " 8: 8,\n",
       " 9: 'invalid'}"
      ]
     },
     "execution_count": 83,
     "metadata": {},
     "output_type": "execute_result"
    }
   ],
   "source": [
    "dict2"
   ]
  },
  {
   "cell_type": "code",
   "execution_count": null,
   "id": "af10f516",
   "metadata": {},
   "outputs": [],
   "source": []
  }
 ],
 "metadata": {
  "kernelspec": {
   "display_name": "Python 3",
   "language": "python",
   "name": "python3"
  },
  "language_info": {
   "codemirror_mode": {
    "name": "ipython",
    "version": 3
   },
   "file_extension": ".py",
   "mimetype": "text/x-python",
   "name": "python",
   "nbconvert_exporter": "python",
   "pygments_lexer": "ipython3",
   "version": "3.8.8"
  }
 },
 "nbformat": 4,
 "nbformat_minor": 5
}
