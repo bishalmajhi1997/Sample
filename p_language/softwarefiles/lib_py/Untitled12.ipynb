{
 "cells": [
  {
   "cell_type": "code",
   "execution_count": 1,
   "id": "90862dae",
   "metadata": {},
   "outputs": [
    {
     "name": "stdout",
     "output_type": "stream",
     "text": [
      "i am student\n"
     ]
    }
   ],
   "source": [
    "class Myclass:\n",
    "    def show(self):\n",
    "        print(\"i am student\")\n",
    "x=Myclass()\n",
    "x.show()"
   ]
  },
  {
   "cell_type": "code",
   "execution_count": 4,
   "id": "7f39d525",
   "metadata": {},
   "outputs": [
    {
     "name": "stdout",
     "output_type": "stream",
     "text": [
      "model: realmex 1000\n"
     ]
    }
   ],
   "source": [
    "class Mobile:\n",
    "    def __init__(self):\n",
    "        self.model=\"realmex\"\n",
    "        \n",
    "    def show_model(self):\n",
    "        price=1000\n",
    "        print(\"model:\",self.model,price)\n",
    "realme=Mobile()\n",
    "realme.show_model()"
   ]
  },
  {
   "cell_type": "code",
   "execution_count": 3,
   "id": "8376e087",
   "metadata": {},
   "outputs": [
    {
     "data": {
      "text/plain": [
       "'realmex'"
      ]
     },
     "execution_count": 3,
     "metadata": {},
     "output_type": "execute_result"
    }
   ],
   "source": [
    "realme.model"
   ]
  },
  {
   "cell_type": "code",
   "execution_count": 5,
   "id": "39689000",
   "metadata": {},
   "outputs": [
    {
     "name": "stdout",
     "output_type": "stream",
     "text": [
      "Mobile constructor called:\n"
     ]
    }
   ],
   "source": [
    "class Mobile:\n",
    "    def __init__(self):\n",
    "        print(\"Mobile constructor called:\")\n",
    "realme=Mobile()"
   ]
  },
  {
   "cell_type": "code",
   "execution_count": 6,
   "id": "a5cdd6e7",
   "metadata": {},
   "outputs": [
    {
     "name": "stdout",
     "output_type": "stream",
     "text": [
      "model: realme x\n"
     ]
    }
   ],
   "source": [
    "class Mobile:\n",
    "    def __init__(self):\n",
    "        self.model=\"realme x\"\n",
    "    def show_model(self):\n",
    "        print(\"model:\",self.model)\n",
    "realme=Mobile()\n",
    "realme.show_model()"
   ]
  },
  {
   "cell_type": "code",
   "execution_count": 13,
   "id": "8d86a4b4",
   "metadata": {},
   "outputs": [
    {
     "name": "stdout",
     "output_type": "stream",
     "text": [
      "Model: REALMEX 80\n"
     ]
    }
   ],
   "source": [
    "class Mobile:\n",
    "    def __init__(self,n,v=80):\n",
    "        self.model=n\n",
    "        self.volumn=v\n",
    "    def show_model(self,p):\n",
    "        price=p\n",
    "        print(\"Model:\",self.model,self.volumn)\n",
    "realme=Mobile(\"REALMEX\")\n",
    "realme.show_model(1000)"
   ]
  },
  {
   "cell_type": "code",
   "execution_count": 14,
   "id": "8d6669c4",
   "metadata": {},
   "outputs": [],
   "source": [
    "class Mobile:\n",
    "    fp=\"yes\"\n",
    "    def __init__(self):\n",
    "        self.model=\"Realmex\"\n",
    "    def show_model(self):\n",
    "        print(self.model)\n",
    "realme=Mobile()"
   ]
  },
  {
   "cell_type": "code",
   "execution_count": 15,
   "id": "732b7c75",
   "metadata": {},
   "outputs": [
    {
     "data": {
      "text/plain": [
       "'yes'"
      ]
     },
     "execution_count": 15,
     "metadata": {},
     "output_type": "execute_result"
    }
   ],
   "source": [
    "Mobile.fp"
   ]
  },
  {
   "cell_type": "code",
   "execution_count": 39,
   "id": "2a9d00e9",
   "metadata": {},
   "outputs": [
    {
     "name": "stdout",
     "output_type": "stream",
     "text": [
      "Realmexx\n"
     ]
    }
   ],
   "source": [
    "class Mobile:\n",
    "    fp=\"yes\"\n",
    "    def __init__(self):\n",
    "        self.model=\"Realmexx\"\n",
    "    def show_model(self):\n",
    "        print(self.model)\n",
    "    @classmethod\n",
    "    def is_fp(cls):\n",
    "        #self.abhi=cls\n",
    "        print(\"Finger print\",cls.fp)\n",
    "realme=Mobile()\n",
    "realme.show_model()\n"
   ]
  },
  {
   "cell_type": "code",
   "execution_count": 41,
   "id": "0d62d5c3",
   "metadata": {},
   "outputs": [],
   "source": [
    "Mobile.fp=\"no\""
   ]
  },
  {
   "cell_type": "code",
   "execution_count": 42,
   "id": "b7a3a566",
   "metadata": {},
   "outputs": [
    {
     "name": "stdout",
     "output_type": "stream",
     "text": [
      "Finger print no\n"
     ]
    }
   ],
   "source": [
    "Mobile.is_fp()"
   ]
  },
  {
   "cell_type": "code",
   "execution_count": 48,
   "id": "98696c99",
   "metadata": {},
   "outputs": [],
   "source": [
    "class Mobile:\n",
    "    def __init__(self):\n",
    "        self.model=\"realmex\"\n",
    "    def set_model(self):\n",
    "        return self.model\n",
    "realme=Mobile()\n",
    "m=realme.set_model()"
   ]
  },
  {
   "cell_type": "code",
   "execution_count": 49,
   "id": "3d0b1eb4",
   "metadata": {},
   "outputs": [
    {
     "data": {
      "text/plain": [
       "'realmex'"
      ]
     },
     "execution_count": 49,
     "metadata": {},
     "output_type": "execute_result"
    }
   ],
   "source": [
    "m"
   ]
  },
  {
   "cell_type": "code",
   "execution_count": 52,
   "id": "1ce5eac1",
   "metadata": {},
   "outputs": [
    {
     "data": {
      "text/plain": [
       "False"
      ]
     },
     "execution_count": 52,
     "metadata": {},
     "output_type": "execute_result"
    }
   ],
   "source": [
    "class Mobile:\n",
    "    fp=\"yes\"\n",
    "    @classmethod\n",
    "    def show_model(cls,r):\n",
    "        cls.rem=r\n",
    "        print(cls.fp)\n",
    "realme==Mobile()\n",
    "#mobile.show_model(\"gb\")"
   ]
  },
  {
   "cell_type": "code",
   "execution_count": 54,
   "id": "de6ce1ad",
   "metadata": {},
   "outputs": [
    {
     "name": "stdout",
     "output_type": "stream",
     "text": [
      "yes\n"
     ]
    }
   ],
   "source": [
    "Mobile.show_model(\"gb\")"
   ]
  },
  {
   "cell_type": "code",
   "execution_count": 57,
   "id": "ead2b370",
   "metadata": {},
   "outputs": [
    {
     "name": "stdout",
     "output_type": "stream",
     "text": [
      "realmex yes\n"
     ]
    }
   ],
   "source": [
    "class Mobile:\n",
    "    fp=\"yes\"\n",
    "    @staticmethod\n",
    "    def show_model():\n",
    "        print(\"realmex\",Mobile.fp)\n",
    "realme=Mobile()\n",
    "Mobile.show_model()"
   ]
  },
  {
   "cell_type": "code",
   "execution_count": 58,
   "id": "6b353eb0",
   "metadata": {},
   "outputs": [
    {
     "name": "stdout",
     "output_type": "stream",
     "text": [
      "user name rahul\n",
      "user roll 101\n",
      "rahul\n",
      "101\n"
     ]
    }
   ],
   "source": [
    "class Student:\n",
    "    def __init__(self,n,r):\n",
    "        self.name=n\n",
    "        self.roll=r\n",
    "    def disp(self):\n",
    "        print(self.name)\n",
    "        print(self.roll)\n",
    "class User:\n",
    "    @staticmethod\n",
    "    def show(s):\n",
    "        print(\"user name\",s.name)\n",
    "        print(\"user roll\",s.roll)\n",
    "        s.disp()\n",
    "stu=Student(\"rahul\",101)\n",
    "User.show(stu)"
   ]
  },
  {
   "cell_type": "code",
   "execution_count": 67,
   "id": "2752b20d",
   "metadata": {},
   "outputs": [
    {
     "name": "stdout",
     "output_type": "stream",
     "text": [
      "rahul\n",
      "Nnmae rahul\n"
     ]
    }
   ],
   "source": [
    "class Army:\n",
    "    def __init__(self):\n",
    "        self.name=\"rahul\"\n",
    "    def show(self):\n",
    "        print(\"Nnmae\",self.name)\n",
    "    class Gun:\n",
    "        def __init__(self):\n",
    "            self.name=\"AK47\"\n",
    "            self.Capacity=\"75 rounds\"\n",
    "            self.length=\"34.5m\"\n",
    "        def disp(self):\n",
    "            print(\"Gun name:\",self.name)\n",
    "            print(\"capacity\",self.Capacity)\n",
    "            print(\"length\",self.length)\n",
    "a=Army()\n",
    "print(a.name)\n",
    "a.show()"
   ]
  },
  {
   "cell_type": "code",
   "execution_count": 68,
   "id": "2434c1e0",
   "metadata": {},
   "outputs": [],
   "source": [
    "k=Army().Gun()"
   ]
  },
  {
   "cell_type": "code",
   "execution_count": 69,
   "id": "12dba294",
   "metadata": {},
   "outputs": [
    {
     "data": {
      "text/plain": [
       "'AK47'"
      ]
     },
     "execution_count": 69,
     "metadata": {},
     "output_type": "execute_result"
    }
   ],
   "source": [
    "k.name"
   ]
  },
  {
   "cell_type": "code",
   "execution_count": 70,
   "id": "355b96d2",
   "metadata": {},
   "outputs": [
    {
     "data": {
      "text/plain": [
       "'75 rounds'"
      ]
     },
     "execution_count": 70,
     "metadata": {},
     "output_type": "execute_result"
    }
   ],
   "source": [
    "k.Capacity"
   ]
  },
  {
   "cell_type": "code",
   "execution_count": 71,
   "id": "648f9d53",
   "metadata": {},
   "outputs": [
    {
     "name": "stdout",
     "output_type": "stream",
     "text": [
      "Gun name: AK47\n",
      "capacity 75 rounds\n",
      "length 34.5m\n"
     ]
    }
   ],
   "source": [
    "k.disp()"
   ]
  },
  {
   "cell_type": "code",
   "execution_count": null,
   "id": "c55f4c50",
   "metadata": {},
   "outputs": [],
   "source": []
  }
 ],
 "metadata": {
  "kernelspec": {
   "display_name": "Python 3",
   "language": "python",
   "name": "python3"
  },
  "language_info": {
   "codemirror_mode": {
    "name": "ipython",
    "version": 3
   },
   "file_extension": ".py",
   "mimetype": "text/x-python",
   "name": "python",
   "nbconvert_exporter": "python",
   "pygments_lexer": "ipython3",
   "version": "3.8.8"
  }
 },
 "nbformat": 4,
 "nbformat_minor": 5
}
