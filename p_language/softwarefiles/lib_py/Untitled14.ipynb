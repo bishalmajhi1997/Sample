{
 "cells": [
  {
   "cell_type": "code",
   "execution_count": 1,
   "id": "2333fb76",
   "metadata": {},
   "outputs": [],
   "source": [
    "from abc import ABC,abstractmethod"
   ]
  },
  {
   "cell_type": "code",
   "execution_count": 4,
   "id": "77da397e",
   "metadata": {},
   "outputs": [],
   "source": [
    "class Father(ABC):\n",
    "    @abstractmethod\n",
    "    def disp(self):\n",
    "        pass\n",
    "    def show(self):\n",
    "        print(\"concreate method\")\n",
    "class Child (Father):\n",
    "    def disp(self):\n",
    "        print(\"child class:\")\n",
    "        print(\"defining abstract class:\")\n",
    "c=Child()"
   ]
  },
  {
   "cell_type": "code",
   "execution_count": 5,
   "id": "335a1b46",
   "metadata": {},
   "outputs": [
    {
     "name": "stdout",
     "output_type": "stream",
     "text": [
      "child class:\n",
      "defining abstract class:\n"
     ]
    }
   ],
   "source": [
    "c.disp()"
   ]
  },
  {
   "cell_type": "code",
   "execution_count": 6,
   "id": "d3ab541b",
   "metadata": {},
   "outputs": [
    {
     "name": "stdout",
     "output_type": "stream",
     "text": [
      "concreate method\n"
     ]
    }
   ],
   "source": [
    "c.show()"
   ]
  },
  {
   "cell_type": "code",
   "execution_count": 7,
   "id": "455b1832",
   "metadata": {},
   "outputs": [
    {
     "name": "stdout",
     "output_type": "stream",
     "text": [
      "child class \n",
      "disp1 abstract method\n"
     ]
    }
   ],
   "source": [
    "class Father(ABC):\n",
    "    @abstractmethod\n",
    "    def disp1(self):\n",
    "        pass\n",
    "    @abstractmethod\n",
    "    def disp2(self):\n",
    "        pass\n",
    "class Child(Father):\n",
    "    def disp1(self):\n",
    "        print(\"child class \")\n",
    "        print(\"disp1 abstract method\")\n",
    "class GrandcHild(Child):\n",
    "    def disp2(self):\n",
    "        print(\"grandchild clas \")\n",
    "        print(\"disp1 abstract method\")\n",
    "gc=GrandcHild()\n",
    "gc.disp1()"
   ]
  },
  {
   "cell_type": "code",
   "execution_count": 8,
   "id": "ece2abb1",
   "metadata": {},
   "outputs": [
    {
     "name": "stdout",
     "output_type": "stream",
     "text": [
      "grandchild clas \n",
      "disp1 abstract method\n"
     ]
    }
   ],
   "source": [
    "gc.disp2()"
   ]
  },
  {
   "cell_type": "code",
   "execution_count": 10,
   "id": "840c3231",
   "metadata": {},
   "outputs": [],
   "source": [
    "from time import time ,ctime,localtime"
   ]
  },
  {
   "cell_type": "code",
   "execution_count": 11,
   "id": "ed4e1edf",
   "metadata": {},
   "outputs": [],
   "source": [
    "epoch=time()"
   ]
  },
  {
   "cell_type": "code",
   "execution_count": 12,
   "id": "8576c064",
   "metadata": {},
   "outputs": [
    {
     "name": "stdout",
     "output_type": "stream",
     "text": [
      "1633574689.715644\n"
     ]
    }
   ],
   "source": [
    "print(epoch)"
   ]
  },
  {
   "cell_type": "code",
   "execution_count": 13,
   "id": "e4f7bba5",
   "metadata": {},
   "outputs": [],
   "source": [
    "et=ctime(epoch)"
   ]
  },
  {
   "cell_type": "code",
   "execution_count": 14,
   "id": "40ea81b9",
   "metadata": {},
   "outputs": [
    {
     "data": {
      "text/plain": [
       "'Thu Oct  7 08:14:49 2021'"
      ]
     },
     "execution_count": 14,
     "metadata": {},
     "output_type": "execute_result"
    }
   ],
   "source": [
    "et"
   ]
  },
  {
   "cell_type": "code",
   "execution_count": 15,
   "id": "65eb5bf4",
   "metadata": {},
   "outputs": [
    {
     "data": {
      "text/plain": [
       "'Thu Oct  7 08:15:35 2021'"
      ]
     },
     "execution_count": 15,
     "metadata": {},
     "output_type": "execute_result"
    }
   ],
   "source": [
    "ctime()"
   ]
  },
  {
   "cell_type": "code",
   "execution_count": 16,
   "id": "2d8b7f59",
   "metadata": {},
   "outputs": [],
   "source": [
    "stobj=localtime()"
   ]
  },
  {
   "cell_type": "code",
   "execution_count": 17,
   "id": "8f8f9d29",
   "metadata": {},
   "outputs": [
    {
     "data": {
      "text/plain": [
       "time.struct_time(tm_year=2021, tm_mon=10, tm_mday=7, tm_hour=8, tm_min=15, tm_sec=57, tm_wday=3, tm_yday=280, tm_isdst=0)"
      ]
     },
     "execution_count": 17,
     "metadata": {},
     "output_type": "execute_result"
    }
   ],
   "source": [
    "stobj"
   ]
  },
  {
   "cell_type": "code",
   "execution_count": 18,
   "id": "f72b60e4",
   "metadata": {},
   "outputs": [
    {
     "data": {
      "text/plain": [
       "2021"
      ]
     },
     "execution_count": 18,
     "metadata": {},
     "output_type": "execute_result"
    }
   ],
   "source": [
    "stobj.tm_year"
   ]
  },
  {
   "cell_type": "code",
   "execution_count": 19,
   "id": "136a5a36",
   "metadata": {},
   "outputs": [
    {
     "data": {
      "text/plain": [
       "10"
      ]
     },
     "execution_count": 19,
     "metadata": {},
     "output_type": "execute_result"
    }
   ],
   "source": [
    "stobj.tm_mon"
   ]
  },
  {
   "cell_type": "code",
   "execution_count": 20,
   "id": "bcb14d2e",
   "metadata": {},
   "outputs": [
    {
     "data": {
      "text/plain": [
       "7"
      ]
     },
     "execution_count": 20,
     "metadata": {},
     "output_type": "execute_result"
    }
   ],
   "source": [
    "stobj.tm_mday"
   ]
  },
  {
   "cell_type": "code",
   "execution_count": 22,
   "id": "174f4011",
   "metadata": {},
   "outputs": [
    {
     "data": {
      "text/plain": [
       "8"
      ]
     },
     "execution_count": 22,
     "metadata": {},
     "output_type": "execute_result"
    }
   ],
   "source": [
    "stobj.tm_hour"
   ]
  },
  {
   "cell_type": "code",
   "execution_count": 23,
   "id": "1a1abc3d",
   "metadata": {},
   "outputs": [
    {
     "data": {
      "text/plain": [
       "10"
      ]
     },
     "execution_count": 23,
     "metadata": {},
     "output_type": "execute_result"
    }
   ],
   "source": [
    "stobj.tm_mon"
   ]
  },
  {
   "cell_type": "code",
   "execution_count": 24,
   "id": "ee99e32b",
   "metadata": {},
   "outputs": [
    {
     "data": {
      "text/plain": [
       "7"
      ]
     },
     "execution_count": 24,
     "metadata": {},
     "output_type": "execute_result"
    }
   ],
   "source": [
    "stobj.tm_mday"
   ]
  },
  {
   "cell_type": "code",
   "execution_count": 32,
   "id": "604b0efa",
   "metadata": {},
   "outputs": [
    {
     "name": "stdout",
     "output_type": "stream",
     "text": [
      "57/"
     ]
    }
   ],
   "source": [
    "print(stobj.tm_sec,end=\"/\")\n"
   ]
  },
  {
   "cell_type": "code",
   "execution_count": 33,
   "id": "7a5730b4",
   "metadata": {},
   "outputs": [],
   "source": [
    "from datetime import datetime"
   ]
  },
  {
   "cell_type": "code",
   "execution_count": 34,
   "id": "a7b9da8a",
   "metadata": {},
   "outputs": [],
   "source": [
    "dt1=datetime(year=2019,month=6,day=30)"
   ]
  },
  {
   "cell_type": "code",
   "execution_count": 35,
   "id": "89f8d05e",
   "metadata": {},
   "outputs": [
    {
     "data": {
      "text/plain": [
       "datetime.datetime(2019, 6, 30, 0, 0)"
      ]
     },
     "execution_count": 35,
     "metadata": {},
     "output_type": "execute_result"
    }
   ],
   "source": [
    "dt1"
   ]
  },
  {
   "cell_type": "code",
   "execution_count": 37,
   "id": "38022c3a",
   "metadata": {},
   "outputs": [],
   "source": [
    "dt1=datetime(year=2019,month=6,day=30,hour=15,minute=35)"
   ]
  },
  {
   "cell_type": "code",
   "execution_count": 38,
   "id": "dbad0483",
   "metadata": {},
   "outputs": [
    {
     "data": {
      "text/plain": [
       "datetime.datetime(2019, 6, 30, 15, 35)"
      ]
     },
     "execution_count": 38,
     "metadata": {},
     "output_type": "execute_result"
    }
   ],
   "source": [
    "dt1"
   ]
  },
  {
   "cell_type": "code",
   "execution_count": 39,
   "id": "013beccd",
   "metadata": {},
   "outputs": [],
   "source": [
    "dt3=datetime(2018,7,29)"
   ]
  },
  {
   "cell_type": "code",
   "execution_count": 40,
   "id": "e23eed0f",
   "metadata": {},
   "outputs": [
    {
     "data": {
      "text/plain": [
       "datetime.datetime(2018, 7, 29, 0, 0)"
      ]
     },
     "execution_count": 40,
     "metadata": {},
     "output_type": "execute_result"
    }
   ],
   "source": [
    "dt3"
   ]
  },
  {
   "cell_type": "code",
   "execution_count": 41,
   "id": "fedb4ee4",
   "metadata": {},
   "outputs": [],
   "source": [
    "ct=datetime.now()"
   ]
  },
  {
   "cell_type": "code",
   "execution_count": 42,
   "id": "34e587d4",
   "metadata": {},
   "outputs": [
    {
     "data": {
      "text/plain": [
       "datetime.datetime(2021, 10, 7, 8, 27, 28, 459861)"
      ]
     },
     "execution_count": 42,
     "metadata": {},
     "output_type": "execute_result"
    }
   ],
   "source": [
    "ct"
   ]
  },
  {
   "cell_type": "code",
   "execution_count": 43,
   "id": "745a3b1d",
   "metadata": {},
   "outputs": [
    {
     "data": {
      "text/plain": [
       "7"
      ]
     },
     "execution_count": 43,
     "metadata": {},
     "output_type": "execute_result"
    }
   ],
   "source": [
    "ct.day"
   ]
  },
  {
   "cell_type": "code",
   "execution_count": 44,
   "id": "19b40910",
   "metadata": {},
   "outputs": [],
   "source": [
    "ct=datetime.today()"
   ]
  },
  {
   "cell_type": "code",
   "execution_count": 45,
   "id": "ee98a00f",
   "metadata": {},
   "outputs": [
    {
     "data": {
      "text/plain": [
       "datetime.datetime(2021, 10, 7, 8, 28, 10, 847630)"
      ]
     },
     "execution_count": 45,
     "metadata": {},
     "output_type": "execute_result"
    }
   ],
   "source": [
    "ct"
   ]
  },
  {
   "cell_type": "code",
   "execution_count": 46,
   "id": "783d8dd9",
   "metadata": {},
   "outputs": [
    {
     "data": {
      "text/plain": [
       "2021"
      ]
     },
     "execution_count": 46,
     "metadata": {},
     "output_type": "execute_result"
    }
   ],
   "source": [
    "ct.year"
   ]
  },
  {
   "cell_type": "code",
   "execution_count": 47,
   "id": "65cd043f",
   "metadata": {},
   "outputs": [],
   "source": [
    "from datetime import date"
   ]
  },
  {
   "cell_type": "code",
   "execution_count": 48,
   "id": "3862442e",
   "metadata": {},
   "outputs": [],
   "source": [
    "d1=date(year=2019,month=6,day=30)"
   ]
  },
  {
   "cell_type": "code",
   "execution_count": 49,
   "id": "83806037",
   "metadata": {},
   "outputs": [
    {
     "data": {
      "text/plain": [
       "datetime.date(2019, 6, 30)"
      ]
     },
     "execution_count": 49,
     "metadata": {},
     "output_type": "execute_result"
    }
   ],
   "source": [
    "d1"
   ]
  },
  {
   "cell_type": "code",
   "execution_count": 52,
   "id": "5a262d1e",
   "metadata": {},
   "outputs": [],
   "source": [
    "cd=date.today()"
   ]
  },
  {
   "cell_type": "code",
   "execution_count": 53,
   "id": "a67a28b6",
   "metadata": {},
   "outputs": [
    {
     "data": {
      "text/plain": [
       "datetime.date(2021, 10, 7)"
      ]
     },
     "execution_count": 53,
     "metadata": {},
     "output_type": "execute_result"
    }
   ],
   "source": [
    "cd"
   ]
  },
  {
   "cell_type": "code",
   "execution_count": 54,
   "id": "5c0c8b14",
   "metadata": {},
   "outputs": [],
   "source": [
    "from datetime import time"
   ]
  },
  {
   "cell_type": "code",
   "execution_count": 57,
   "id": "3eacdbb4",
   "metadata": {},
   "outputs": [],
   "source": [
    "t=time(hour=15,minute=34,second=12)"
   ]
  },
  {
   "cell_type": "code",
   "execution_count": 58,
   "id": "ca115c46",
   "metadata": {},
   "outputs": [
    {
     "data": {
      "text/plain": [
       "datetime.time(15, 34, 12)"
      ]
     },
     "execution_count": 58,
     "metadata": {},
     "output_type": "execute_result"
    }
   ],
   "source": [
    "t"
   ]
  },
  {
   "cell_type": "code",
   "execution_count": 60,
   "id": "c74d30ed",
   "metadata": {},
   "outputs": [],
   "source": [
    "from datetime import timedelta,date"
   ]
  },
  {
   "cell_type": "code",
   "execution_count": 61,
   "id": "1609f2fb",
   "metadata": {},
   "outputs": [],
   "source": [
    "td=timedelta(days=10)"
   ]
  },
  {
   "cell_type": "code",
   "execution_count": 62,
   "id": "4cf88f8e",
   "metadata": {},
   "outputs": [
    {
     "data": {
      "text/plain": [
       "datetime.timedelta(days=10)"
      ]
     },
     "execution_count": 62,
     "metadata": {},
     "output_type": "execute_result"
    }
   ],
   "source": [
    "td"
   ]
  },
  {
   "cell_type": "code",
   "execution_count": 63,
   "id": "2d30b6fa",
   "metadata": {},
   "outputs": [
    {
     "data": {
      "text/plain": [
       "datetime.date(2021, 10, 7)"
      ]
     },
     "execution_count": 63,
     "metadata": {},
     "output_type": "execute_result"
    }
   ],
   "source": [
    "date.today()"
   ]
  },
  {
   "cell_type": "code",
   "execution_count": 64,
   "id": "dc75cb52",
   "metadata": {},
   "outputs": [],
   "source": [
    "from datetime import date"
   ]
  },
  {
   "cell_type": "code",
   "execution_count": 66,
   "id": "44c00deb",
   "metadata": {},
   "outputs": [],
   "source": [
    "d1=date(year=2019,month=6,day=30)"
   ]
  },
  {
   "cell_type": "code",
   "execution_count": 70,
   "id": "8f177ee9",
   "metadata": {},
   "outputs": [],
   "source": [
    "d2=date(year=2016,month=6,day=30)"
   ]
  },
  {
   "cell_type": "code",
   "execution_count": 71,
   "id": "9997f8f1",
   "metadata": {},
   "outputs": [
    {
     "data": {
      "text/plain": [
       "True"
      ]
     },
     "execution_count": 71,
     "metadata": {},
     "output_type": "execute_result"
    }
   ],
   "source": [
    "d1==d1"
   ]
  },
  {
   "cell_type": "code",
   "execution_count": 72,
   "id": "f36c6cfa",
   "metadata": {},
   "outputs": [
    {
     "data": {
      "text/plain": [
       "False"
      ]
     },
     "execution_count": 72,
     "metadata": {},
     "output_type": "execute_result"
    }
   ],
   "source": [
    "d1>d2"
   ]
  },
  {
   "cell_type": "code",
   "execution_count": 73,
   "id": "eb8eb3f1",
   "metadata": {},
   "outputs": [
    {
     "data": {
      "text/plain": [
       "False"
      ]
     },
     "execution_count": 73,
     "metadata": {},
     "output_type": "execute_result"
    }
   ],
   "source": [
    "d1!=d2"
   ]
  },
  {
   "cell_type": "code",
   "execution_count": 74,
   "id": "9cf5ce91",
   "metadata": {},
   "outputs": [],
   "source": [
    "from datetime import datetime"
   ]
  },
  {
   "cell_type": "code",
   "execution_count": 75,
   "id": "a6667979",
   "metadata": {},
   "outputs": [],
   "source": [
    "dt=datetime.today()"
   ]
  },
  {
   "cell_type": "code",
   "execution_count": 76,
   "id": "b308a8ed",
   "metadata": {},
   "outputs": [
    {
     "data": {
      "text/plain": [
       "datetime.datetime(2021, 10, 7, 8, 37, 14, 798972)"
      ]
     },
     "execution_count": 76,
     "metadata": {},
     "output_type": "execute_result"
    }
   ],
   "source": [
    "dt"
   ]
  },
  {
   "cell_type": "code",
   "execution_count": 77,
   "id": "365673be",
   "metadata": {},
   "outputs": [],
   "source": [
    "newd1=dt.strftime(\"%B,%d,%Y\")\n"
   ]
  },
  {
   "cell_type": "code",
   "execution_count": 78,
   "id": "3b01c11a",
   "metadata": {},
   "outputs": [
    {
     "data": {
      "text/plain": [
       "'October,07,2021'"
      ]
     },
     "execution_count": 78,
     "metadata": {},
     "output_type": "execute_result"
    }
   ],
   "source": [
    "newd1"
   ]
  },
  {
   "cell_type": "code",
   "execution_count": 81,
   "id": "97348b43",
   "metadata": {},
   "outputs": [],
   "source": [
    "newd1=dt.strftime(\"%d/%b/%Y\")\n"
   ]
  },
  {
   "cell_type": "code",
   "execution_count": 82,
   "id": "e2a9109d",
   "metadata": {},
   "outputs": [
    {
     "data": {
      "text/plain": [
       "'07/Oct/2021'"
      ]
     },
     "execution_count": 82,
     "metadata": {},
     "output_type": "execute_result"
    }
   ],
   "source": [
    "newd1"
   ]
  },
  {
   "cell_type": "code",
   "execution_count": 83,
   "id": "1fffc721",
   "metadata": {},
   "outputs": [],
   "source": [
    "newd1=dt.strftime(\"%d,%m,%Y\")\n"
   ]
  },
  {
   "cell_type": "code",
   "execution_count": 84,
   "id": "55470079",
   "metadata": {},
   "outputs": [
    {
     "data": {
      "text/plain": [
       "'07,10,2021'"
      ]
     },
     "execution_count": 84,
     "metadata": {},
     "output_type": "execute_result"
    }
   ],
   "source": [
    "newd1"
   ]
  },
  {
   "cell_type": "code",
   "execution_count": 85,
   "id": "ff3885bd",
   "metadata": {},
   "outputs": [],
   "source": [
    "newd1=dt.strftime(\"%H:%M:%S\")\n"
   ]
  },
  {
   "cell_type": "code",
   "execution_count": 86,
   "id": "85b6a1e8",
   "metadata": {},
   "outputs": [
    {
     "data": {
      "text/plain": [
       "'08:37:14'"
      ]
     },
     "execution_count": 86,
     "metadata": {},
     "output_type": "execute_result"
    }
   ],
   "source": [
    "newd1"
   ]
  },
  {
   "cell_type": "code",
   "execution_count": 87,
   "id": "82d3350d",
   "metadata": {},
   "outputs": [],
   "source": [
    "newd1=dt.strftime(\"%I,%M,%S\")\n"
   ]
  },
  {
   "cell_type": "code",
   "execution_count": 88,
   "id": "ce67be67",
   "metadata": {},
   "outputs": [
    {
     "data": {
      "text/plain": [
       "'08,37,14'"
      ]
     },
     "execution_count": 88,
     "metadata": {},
     "output_type": "execute_result"
    }
   ],
   "source": [
    "newd1"
   ]
  },
  {
   "cell_type": "code",
   "execution_count": 89,
   "id": "33434c5a",
   "metadata": {},
   "outputs": [],
   "source": [
    "import time"
   ]
  },
  {
   "cell_type": "code",
   "execution_count": 90,
   "id": "14097ccd",
   "metadata": {},
   "outputs": [
    {
     "name": "stdout",
     "output_type": "stream",
     "text": [
      "0\n",
      "1\n",
      "2\n",
      "3\n",
      "4\n",
      "5\n",
      "6\n",
      "7\n",
      "8\n",
      "9\n",
      "10\n",
      "11\n",
      "12\n",
      "13\n",
      "14\n",
      "15\n",
      "16\n",
      "17\n",
      "18\n",
      "19\n"
     ]
    }
   ],
   "source": [
    "for i in range(20):\n",
    "    print(i)\n",
    "    if (i==10):\n",
    "        time.sleep(5)"
   ]
  },
  {
   "cell_type": "code",
   "execution_count": 91,
   "id": "c0900814",
   "metadata": {},
   "outputs": [],
   "source": [
    "from datetime import date"
   ]
  },
  {
   "cell_type": "code",
   "execution_count": 93,
   "id": "4a24a167",
   "metadata": {},
   "outputs": [],
   "source": [
    "dob=date(1997,5,16)"
   ]
  },
  {
   "cell_type": "code",
   "execution_count": 94,
   "id": "2ce51fd8",
   "metadata": {},
   "outputs": [],
   "source": [
    "t=date.today()"
   ]
  },
  {
   "cell_type": "raw",
   "id": "de153760",
   "metadata": {},
   "source": []
  },
  {
   "cell_type": "code",
   "execution_count": 95,
   "id": "3c7a1330",
   "metadata": {},
   "outputs": [],
   "source": [
    "age=t.year-dob.year-((t.month,t.day)<(dob.month,dob.day))"
   ]
  },
  {
   "cell_type": "code",
   "execution_count": 96,
   "id": "a35b32f0",
   "metadata": {},
   "outputs": [
    {
     "data": {
      "text/plain": [
       "24"
      ]
     },
     "execution_count": 96,
     "metadata": {},
     "output_type": "execute_result"
    }
   ],
   "source": [
    "age"
   ]
  },
  {
   "cell_type": "code",
   "execution_count": 97,
   "id": "27f25f91",
   "metadata": {},
   "outputs": [],
   "source": [
    "f=open(\"student.txt\",mode=\"w\")"
   ]
  },
  {
   "cell_type": "code",
   "execution_count": 98,
   "id": "054f1075",
   "metadata": {},
   "outputs": [
    {
     "data": {
      "text/plain": [
       "17"
      ]
     },
     "execution_count": 98,
     "metadata": {},
     "output_type": "execute_result"
    }
   ],
   "source": [
    "f.write(\"hello how are you\")"
   ]
  },
  {
   "cell_type": "code",
   "execution_count": 99,
   "id": "8fe55a3b",
   "metadata": {},
   "outputs": [],
   "source": [
    "f.close()"
   ]
  },
  {
   "cell_type": "code",
   "execution_count": 100,
   "id": "a8450a41",
   "metadata": {},
   "outputs": [],
   "source": [
    "f=open(\"student.txt\",mode=\"w\")"
   ]
  },
  {
   "cell_type": "code",
   "execution_count": 101,
   "id": "4ce44cc7",
   "metadata": {},
   "outputs": [
    {
     "data": {
      "text/plain": [
       "6"
      ]
     },
     "execution_count": 101,
     "metadata": {},
     "output_type": "execute_result"
    }
   ],
   "source": [
    "f.write(\"hello\\n\")"
   ]
  },
  {
   "cell_type": "code",
   "execution_count": 102,
   "id": "55731cb5",
   "metadata": {},
   "outputs": [
    {
     "data": {
      "text/plain": [
       "11"
      ]
     },
     "execution_count": 102,
     "metadata": {},
     "output_type": "execute_result"
    }
   ],
   "source": [
    "f.write(\"geekyshows\\n\")"
   ]
  },
  {
   "cell_type": "code",
   "execution_count": 103,
   "id": "81f62985",
   "metadata": {},
   "outputs": [
    {
     "data": {
      "text/plain": [
       "11"
      ]
     },
     "execution_count": 103,
     "metadata": {},
     "output_type": "execute_result"
    }
   ],
   "source": [
    "f.write(\"how are you\")"
   ]
  },
  {
   "cell_type": "code",
   "execution_count": 104,
   "id": "1b06fd09",
   "metadata": {},
   "outputs": [],
   "source": [
    "f.close()"
   ]
  },
  {
   "cell_type": "code",
   "execution_count": 105,
   "id": "d580fc68",
   "metadata": {},
   "outputs": [],
   "source": [
    "f=open(\"student.txt\",mode=\"r\")"
   ]
  },
  {
   "cell_type": "code",
   "execution_count": 106,
   "id": "4098a325",
   "metadata": {},
   "outputs": [],
   "source": [
    "data=f.read()"
   ]
  },
  {
   "cell_type": "code",
   "execution_count": 107,
   "id": "fe596ff1",
   "metadata": {},
   "outputs": [
    {
     "data": {
      "text/plain": [
       "'hello\\ngeekyshows\\nhow are you'"
      ]
     },
     "execution_count": 107,
     "metadata": {},
     "output_type": "execute_result"
    }
   ],
   "source": [
    "data"
   ]
  },
  {
   "cell_type": "code",
   "execution_count": 109,
   "id": "65c4ae1e",
   "metadata": {},
   "outputs": [],
   "source": [
    "f.close()"
   ]
  },
  {
   "cell_type": "code",
   "execution_count": 110,
   "id": "886b94a0",
   "metadata": {},
   "outputs": [],
   "source": [
    "f=open(\"student.txt\",mode=\"rb\")"
   ]
  },
  {
   "cell_type": "code",
   "execution_count": 111,
   "id": "0450d7af",
   "metadata": {},
   "outputs": [],
   "source": [
    "data=f.read()"
   ]
  },
  {
   "cell_type": "code",
   "execution_count": 112,
   "id": "47293d79",
   "metadata": {},
   "outputs": [
    {
     "data": {
      "text/plain": [
       "b'hello\\r\\ngeekyshows\\r\\nhow are you'"
      ]
     },
     "execution_count": 112,
     "metadata": {},
     "output_type": "execute_result"
    }
   ],
   "source": [
    "data"
   ]
  },
  {
   "cell_type": "code",
   "execution_count": 113,
   "id": "cd33a821",
   "metadata": {},
   "outputs": [],
   "source": [
    "f.close()"
   ]
  },
  {
   "cell_type": "code",
   "execution_count": 114,
   "id": "7873f36e",
   "metadata": {},
   "outputs": [],
   "source": [
    "f=open(\"student.txt\",mode=\"r\",encoding=\"utf-8\")"
   ]
  },
  {
   "cell_type": "code",
   "execution_count": 115,
   "id": "8134c5b9",
   "metadata": {},
   "outputs": [
    {
     "data": {
      "text/plain": [
       "'student.txt'"
      ]
     },
     "execution_count": 115,
     "metadata": {},
     "output_type": "execute_result"
    }
   ],
   "source": [
    "f.name"
   ]
  },
  {
   "cell_type": "code",
   "execution_count": 116,
   "id": "98353a16",
   "metadata": {},
   "outputs": [
    {
     "data": {
      "text/plain": [
       "'r'"
      ]
     },
     "execution_count": 116,
     "metadata": {},
     "output_type": "execute_result"
    }
   ],
   "source": [
    "f.mode"
   ]
  },
  {
   "cell_type": "code",
   "execution_count": 118,
   "id": "ed28234d",
   "metadata": {},
   "outputs": [
    {
     "data": {
      "text/plain": [
       "True"
      ]
     },
     "execution_count": 118,
     "metadata": {},
     "output_type": "execute_result"
    }
   ],
   "source": [
    "f.readable()"
   ]
  },
  {
   "cell_type": "code",
   "execution_count": 120,
   "id": "9d7600b5",
   "metadata": {},
   "outputs": [
    {
     "data": {
      "text/plain": [
       "False"
      ]
     },
     "execution_count": 120,
     "metadata": {},
     "output_type": "execute_result"
    }
   ],
   "source": [
    "f.writable()"
   ]
  },
  {
   "cell_type": "code",
   "execution_count": 122,
   "id": "f69a9d6e",
   "metadata": {},
   "outputs": [],
   "source": [
    "import os"
   ]
  },
  {
   "cell_type": "code",
   "execution_count": 125,
   "id": "f51c324e",
   "metadata": {},
   "outputs": [
    {
     "name": "stdout",
     "output_type": "stream",
     "text": [
      "False\n"
     ]
    }
   ],
   "source": [
    "print(os.path.isfile(\"student.txt1\"))"
   ]
  },
  {
   "cell_type": "code",
   "execution_count": 127,
   "id": "fcc6a9c2",
   "metadata": {},
   "outputs": [
    {
     "name": "stdout",
     "output_type": "stream",
     "text": [
      "file not found\n"
     ]
    }
   ],
   "source": [
    "if os.path.isfile(\"student.txt1\"):\n",
    "    f=open(\"student.txt1\")\n",
    "    print(\"file opened\")\n",
    "    f.close()\n",
    "else:\n",
    "    print(\"file not found\")"
   ]
  },
  {
   "cell_type": "code",
   "execution_count": 131,
   "id": "cc47f03b",
   "metadata": {},
   "outputs": [
    {
     "data": {
      "text/plain": [
       "5"
      ]
     },
     "execution_count": 131,
     "metadata": {},
     "output_type": "execute_result"
    }
   ],
   "source": [
    "f=open(\"student.txt\",mode=\"w\")\n",
    "f.write(\"hello\")"
   ]
  },
  {
   "cell_type": "code",
   "execution_count": 132,
   "id": "699f37e2",
   "metadata": {},
   "outputs": [
    {
     "data": {
      "text/plain": [
       "6"
      ]
     },
     "execution_count": 132,
     "metadata": {},
     "output_type": "execute_result"
    }
   ],
   "source": [
    "f.write(\"hello\\n\")"
   ]
  },
  {
   "cell_type": "code",
   "execution_count": 133,
   "id": "5041ef55",
   "metadata": {},
   "outputs": [],
   "source": [
    "f=open(\"student.txt\",mode=\"a\")"
   ]
  },
  {
   "cell_type": "code",
   "execution_count": 134,
   "id": "38d7a3cd",
   "metadata": {},
   "outputs": [],
   "source": [
    "cv=[\"Rahul\\n\",\"Sonam\\n\",\"Sumit\\n\",\"Rani\\n\",\"Raj\\n\"]\n",
    "f.writelines(cv)"
   ]
  },
  {
   "cell_type": "code",
   "execution_count": 135,
   "id": "fbd4f799",
   "metadata": {},
   "outputs": [],
   "source": [
    "f.close()"
   ]
  },
  {
   "cell_type": "code",
   "execution_count": 136,
   "id": "aa922e06",
   "metadata": {},
   "outputs": [],
   "source": [
    "f=open(\"student.txt\",mode=\"r\")\n",
    "data=f.read()"
   ]
  },
  {
   "cell_type": "code",
   "execution_count": 137,
   "id": "d11c384a",
   "metadata": {},
   "outputs": [
    {
     "data": {
      "text/plain": [
       "'hellohello\\nRahul\\nSonam\\nSumit\\nRani\\nRaj\\n'"
      ]
     },
     "execution_count": 137,
     "metadata": {},
     "output_type": "execute_result"
    }
   ],
   "source": [
    "data"
   ]
  },
  {
   "cell_type": "code",
   "execution_count": 138,
   "id": "2808c7a3",
   "metadata": {},
   "outputs": [],
   "source": [
    "f.close()"
   ]
  },
  {
   "cell_type": "code",
   "execution_count": 139,
   "id": "d4c70f93",
   "metadata": {},
   "outputs": [],
   "source": [
    "f=open(\"student.txt\",mode=\"r\")"
   ]
  },
  {
   "cell_type": "code",
   "execution_count": 140,
   "id": "6ddf312d",
   "metadata": {},
   "outputs": [],
   "source": [
    "data=f.read(2)"
   ]
  },
  {
   "cell_type": "code",
   "execution_count": 141,
   "id": "33cd2a8f",
   "metadata": {},
   "outputs": [],
   "source": [
    "data2=f.read(2)"
   ]
  },
  {
   "cell_type": "code",
   "execution_count": 142,
   "id": "8d973476",
   "metadata": {},
   "outputs": [
    {
     "data": {
      "text/plain": [
       "'he'"
      ]
     },
     "execution_count": 142,
     "metadata": {},
     "output_type": "execute_result"
    }
   ],
   "source": [
    "data"
   ]
  },
  {
   "cell_type": "code",
   "execution_count": 143,
   "id": "bec3ccec",
   "metadata": {},
   "outputs": [
    {
     "data": {
      "text/plain": [
       "'ll'"
      ]
     },
     "execution_count": 143,
     "metadata": {},
     "output_type": "execute_result"
    }
   ],
   "source": [
    "data2"
   ]
  },
  {
   "cell_type": "code",
   "execution_count": 145,
   "id": "ba0b6dfd",
   "metadata": {},
   "outputs": [],
   "source": [
    "f.close()"
   ]
  },
  {
   "cell_type": "code",
   "execution_count": 146,
   "id": "54273a03",
   "metadata": {},
   "outputs": [],
   "source": [
    "f=open(\"student.txt\",mode=\"r\")"
   ]
  },
  {
   "cell_type": "code",
   "execution_count": 147,
   "id": "5888f86f",
   "metadata": {},
   "outputs": [],
   "source": [
    "data=f.readline()"
   ]
  },
  {
   "cell_type": "code",
   "execution_count": 148,
   "id": "2a4e806a",
   "metadata": {},
   "outputs": [
    {
     "data": {
      "text/plain": [
       "'hellohello\\n'"
      ]
     },
     "execution_count": 148,
     "metadata": {},
     "output_type": "execute_result"
    }
   ],
   "source": [
    "data"
   ]
  },
  {
   "cell_type": "code",
   "execution_count": 149,
   "id": "658df80f",
   "metadata": {},
   "outputs": [],
   "source": [
    "f.close()"
   ]
  },
  {
   "cell_type": "code",
   "execution_count": 150,
   "id": "8bfcec45",
   "metadata": {},
   "outputs": [],
   "source": [
    "f=open(\"student.txt\",mode=\"r\")\n",
    "data1=f.readline()\n",
    "data2=f.readline()"
   ]
  },
  {
   "cell_type": "code",
   "execution_count": 151,
   "id": "099065ed",
   "metadata": {},
   "outputs": [
    {
     "data": {
      "text/plain": [
       "'hellohello\\n'"
      ]
     },
     "execution_count": 151,
     "metadata": {},
     "output_type": "execute_result"
    }
   ],
   "source": [
    "data1"
   ]
  },
  {
   "cell_type": "code",
   "execution_count": 152,
   "id": "d576dc34",
   "metadata": {},
   "outputs": [
    {
     "data": {
      "text/plain": [
       "'Rahul\\n'"
      ]
     },
     "execution_count": 152,
     "metadata": {},
     "output_type": "execute_result"
    }
   ],
   "source": [
    "data2"
   ]
  },
  {
   "cell_type": "code",
   "execution_count": 153,
   "id": "6238f09e",
   "metadata": {},
   "outputs": [],
   "source": [
    "f.close()"
   ]
  },
  {
   "cell_type": "code",
   "execution_count": 154,
   "id": "c1fa2d3a",
   "metadata": {},
   "outputs": [],
   "source": [
    "f=open(\"student.txt\",mode=\"r\")\n",
    "data=f.readlines()"
   ]
  },
  {
   "cell_type": "code",
   "execution_count": 155,
   "id": "9f7e78cd",
   "metadata": {},
   "outputs": [
    {
     "data": {
      "text/plain": [
       "['hellohello\\n', 'Rahul\\n', 'Sonam\\n', 'Sumit\\n', 'Rani\\n', 'Raj\\n']"
      ]
     },
     "execution_count": 155,
     "metadata": {},
     "output_type": "execute_result"
    }
   ],
   "source": [
    "data"
   ]
  },
  {
   "cell_type": "code",
   "execution_count": 156,
   "id": "74ce1f65",
   "metadata": {},
   "outputs": [
    {
     "name": "stdout",
     "output_type": "stream",
     "text": [
      "hellohello\n",
      "\n",
      "Rahul\n",
      "\n",
      "Sonam\n",
      "\n",
      "Sumit\n",
      "\n",
      "Rani\n",
      "\n",
      "Raj\n",
      "\n"
     ]
    }
   ],
   "source": [
    "for i in data:\n",
    "    print(i)"
   ]
  },
  {
   "cell_type": "code",
   "execution_count": 157,
   "id": "f686e464",
   "metadata": {},
   "outputs": [],
   "source": [
    "f.close()"
   ]
  },
  {
   "cell_type": "code",
   "execution_count": 158,
   "id": "3bd13cfe",
   "metadata": {},
   "outputs": [],
   "source": [
    "f=open(\"student.txt\",mode=\"r\")"
   ]
  },
  {
   "cell_type": "code",
   "execution_count": 159,
   "id": "e0f498ee",
   "metadata": {},
   "outputs": [
    {
     "data": {
      "text/plain": [
       "0"
      ]
     },
     "execution_count": 159,
     "metadata": {},
     "output_type": "execute_result"
    }
   ],
   "source": [
    "f.tell()"
   ]
  },
  {
   "cell_type": "code",
   "execution_count": 160,
   "id": "8b977a57",
   "metadata": {},
   "outputs": [],
   "source": [
    "data1=f.read(5)"
   ]
  },
  {
   "cell_type": "code",
   "execution_count": 161,
   "id": "19aeca61",
   "metadata": {},
   "outputs": [
    {
     "data": {
      "text/plain": [
       "'hello'"
      ]
     },
     "execution_count": 161,
     "metadata": {},
     "output_type": "execute_result"
    }
   ],
   "source": [
    "data1"
   ]
  },
  {
   "cell_type": "code",
   "execution_count": 162,
   "id": "7de88800",
   "metadata": {},
   "outputs": [
    {
     "data": {
      "text/plain": [
       "5"
      ]
     },
     "execution_count": 162,
     "metadata": {},
     "output_type": "execute_result"
    }
   ],
   "source": [
    "f.tell()"
   ]
  },
  {
   "cell_type": "code",
   "execution_count": 163,
   "id": "fd10d516",
   "metadata": {},
   "outputs": [],
   "source": [
    "data2=f.read(3)"
   ]
  },
  {
   "cell_type": "code",
   "execution_count": 164,
   "id": "fdb341bb",
   "metadata": {},
   "outputs": [
    {
     "data": {
      "text/plain": [
       "'hel'"
      ]
     },
     "execution_count": 164,
     "metadata": {},
     "output_type": "execute_result"
    }
   ],
   "source": [
    "data2"
   ]
  },
  {
   "cell_type": "code",
   "execution_count": 165,
   "id": "8827422a",
   "metadata": {},
   "outputs": [
    {
     "data": {
      "text/plain": [
       "8"
      ]
     },
     "execution_count": 165,
     "metadata": {},
     "output_type": "execute_result"
    }
   ],
   "source": [
    "f.tell()"
   ]
  },
  {
   "cell_type": "code",
   "execution_count": 166,
   "id": "d5adc125",
   "metadata": {},
   "outputs": [],
   "source": [
    "f.close()"
   ]
  },
  {
   "cell_type": "code",
   "execution_count": 167,
   "id": "8480e5d2",
   "metadata": {},
   "outputs": [
    {
     "data": {
      "text/plain": [
       "0"
      ]
     },
     "execution_count": 167,
     "metadata": {},
     "output_type": "execute_result"
    }
   ],
   "source": [
    "f=open(\"student.txt\",mode=\"r\")\n",
    "f.tell()"
   ]
  },
  {
   "cell_type": "code",
   "execution_count": 168,
   "id": "fcab1c6c",
   "metadata": {},
   "outputs": [
    {
     "data": {
      "text/plain": [
       "7"
      ]
     },
     "execution_count": 168,
     "metadata": {},
     "output_type": "execute_result"
    }
   ],
   "source": [
    "f.seek(7)"
   ]
  },
  {
   "cell_type": "code",
   "execution_count": 169,
   "id": "5d01b1ed",
   "metadata": {},
   "outputs": [
    {
     "data": {
      "text/plain": [
       "7"
      ]
     },
     "execution_count": 169,
     "metadata": {},
     "output_type": "execute_result"
    }
   ],
   "source": [
    "f.tell()"
   ]
  },
  {
   "cell_type": "code",
   "execution_count": 170,
   "id": "bb176b80",
   "metadata": {},
   "outputs": [
    {
     "data": {
      "text/plain": [
       "'llo\\nRahul\\nSonam\\nSumit\\nRani\\nRaj\\n'"
      ]
     },
     "execution_count": 170,
     "metadata": {},
     "output_type": "execute_result"
    }
   ],
   "source": [
    "f.read()"
   ]
  },
  {
   "cell_type": "code",
   "execution_count": 171,
   "id": "ccb66070",
   "metadata": {},
   "outputs": [],
   "source": [
    "f.close()"
   ]
  },
  {
   "cell_type": "code",
   "execution_count": 172,
   "id": "c68e2a89",
   "metadata": {},
   "outputs": [
    {
     "data": {
      "text/plain": [
       "0"
      ]
     },
     "execution_count": 172,
     "metadata": {},
     "output_type": "execute_result"
    }
   ],
   "source": [
    "f=open(\"student.txt\",mode=\"r\")\n",
    "f.tell()"
   ]
  },
  {
   "cell_type": "code",
   "execution_count": 173,
   "id": "9bb29382",
   "metadata": {},
   "outputs": [
    {
     "data": {
      "text/plain": [
       "7"
      ]
     },
     "execution_count": 173,
     "metadata": {},
     "output_type": "execute_result"
    }
   ],
   "source": [
    "f.seek(7)"
   ]
  },
  {
   "cell_type": "code",
   "execution_count": 174,
   "id": "bfb7a1a6",
   "metadata": {},
   "outputs": [
    {
     "data": {
      "text/plain": [
       "7"
      ]
     },
     "execution_count": 174,
     "metadata": {},
     "output_type": "execute_result"
    }
   ],
   "source": [
    "f.tell()"
   ]
  },
  {
   "cell_type": "code",
   "execution_count": 175,
   "id": "c5169c11",
   "metadata": {},
   "outputs": [],
   "source": [
    "data5=f.read()"
   ]
  },
  {
   "cell_type": "code",
   "execution_count": 176,
   "id": "b73ad36b",
   "metadata": {},
   "outputs": [
    {
     "data": {
      "text/plain": [
       "'llo\\nRahul\\nSonam\\nSumit\\nRani\\nRaj\\n'"
      ]
     },
     "execution_count": 176,
     "metadata": {},
     "output_type": "execute_result"
    }
   ],
   "source": [
    "data5"
   ]
  },
  {
   "cell_type": "code",
   "execution_count": 177,
   "id": "56550fe0",
   "metadata": {},
   "outputs": [
    {
     "data": {
      "text/plain": [
       "2"
      ]
     },
     "execution_count": 177,
     "metadata": {},
     "output_type": "execute_result"
    }
   ],
   "source": [
    "f.seek(2)"
   ]
  },
  {
   "cell_type": "code",
   "execution_count": 178,
   "id": "88a8f509",
   "metadata": {},
   "outputs": [
    {
     "data": {
      "text/plain": [
       "2"
      ]
     },
     "execution_count": 178,
     "metadata": {},
     "output_type": "execute_result"
    }
   ],
   "source": [
    "f.tell()"
   ]
  },
  {
   "cell_type": "code",
   "execution_count": 179,
   "id": "8f31099a",
   "metadata": {},
   "outputs": [],
   "source": [
    "f=open(\"student.txt\",mode=\"r+\")"
   ]
  },
  {
   "cell_type": "code",
   "execution_count": 180,
   "id": "668e0ef7",
   "metadata": {},
   "outputs": [],
   "source": [
    "data=f.read()"
   ]
  },
  {
   "cell_type": "code",
   "execution_count": 181,
   "id": "9f496dbc",
   "metadata": {},
   "outputs": [
    {
     "data": {
      "text/plain": [
       "7"
      ]
     },
     "execution_count": 181,
     "metadata": {},
     "output_type": "execute_result"
    }
   ],
   "source": [
    "f.write(\"youtube\")"
   ]
  },
  {
   "cell_type": "code",
   "execution_count": 182,
   "id": "b769ee7a",
   "metadata": {},
   "outputs": [
    {
     "data": {
      "text/plain": [
       "'hellohello\\nRahul\\nSonam\\nSumit\\nRani\\nRaj\\n'"
      ]
     },
     "execution_count": 182,
     "metadata": {},
     "output_type": "execute_result"
    }
   ],
   "source": [
    "data"
   ]
  },
  {
   "cell_type": "code",
   "execution_count": 183,
   "id": "640efb82",
   "metadata": {},
   "outputs": [],
   "source": [
    "f.close()"
   ]
  },
  {
   "cell_type": "code",
   "execution_count": 184,
   "id": "9a111a9d",
   "metadata": {},
   "outputs": [
    {
     "data": {
      "text/plain": [
       "0"
      ]
     },
     "execution_count": 184,
     "metadata": {},
     "output_type": "execute_result"
    }
   ],
   "source": [
    "f=open(\"student.txt\",mode=\"r+\")\n",
    "f.tell()"
   ]
  },
  {
   "cell_type": "code",
   "execution_count": 185,
   "id": "d6ef54bc",
   "metadata": {},
   "outputs": [
    {
     "data": {
      "text/plain": [
       "'hellohello\\nRahul\\nSonam\\nSumit\\nRani\\nRaj\\nyoutube'"
      ]
     },
     "execution_count": 185,
     "metadata": {},
     "output_type": "execute_result"
    }
   ],
   "source": [
    "f.read()"
   ]
  },
  {
   "cell_type": "code",
   "execution_count": 186,
   "id": "f035333d",
   "metadata": {},
   "outputs": [],
   "source": [
    "data=f.tell()"
   ]
  },
  {
   "cell_type": "code",
   "execution_count": 187,
   "id": "32b70f74",
   "metadata": {},
   "outputs": [
    {
     "data": {
      "text/plain": [
       "51"
      ]
     },
     "execution_count": 187,
     "metadata": {},
     "output_type": "execute_result"
    }
   ],
   "source": [
    "data"
   ]
  },
  {
   "cell_type": "code",
   "execution_count": 188,
   "id": "fd128c60",
   "metadata": {},
   "outputs": [
    {
     "data": {
      "text/plain": [
       "7"
      ]
     },
     "execution_count": 188,
     "metadata": {},
     "output_type": "execute_result"
    }
   ],
   "source": [
    "f.write(\"youtube\")"
   ]
  },
  {
   "cell_type": "code",
   "execution_count": 189,
   "id": "618ce52f",
   "metadata": {},
   "outputs": [
    {
     "data": {
      "text/plain": [
       "58"
      ]
     },
     "execution_count": 189,
     "metadata": {},
     "output_type": "execute_result"
    }
   ],
   "source": [
    "f.tell()"
   ]
  },
  {
   "cell_type": "code",
   "execution_count": 190,
   "id": "cc08bf3c",
   "metadata": {},
   "outputs": [],
   "source": [
    "f=open(\"student.txt\",mode=\"w+\")"
   ]
  },
  {
   "cell_type": "code",
   "execution_count": 191,
   "id": "7bae1bd1",
   "metadata": {},
   "outputs": [
    {
     "data": {
      "text/plain": [
       "7"
      ]
     },
     "execution_count": 191,
     "metadata": {},
     "output_type": "execute_result"
    }
   ],
   "source": [
    "f.write(\"youtube\")"
   ]
  },
  {
   "cell_type": "code",
   "execution_count": 192,
   "id": "90875a0a",
   "metadata": {},
   "outputs": [],
   "source": [
    "data=f.read()"
   ]
  },
  {
   "cell_type": "code",
   "execution_count": 193,
   "id": "dde58b98",
   "metadata": {},
   "outputs": [
    {
     "data": {
      "text/plain": [
       "''"
      ]
     },
     "execution_count": 193,
     "metadata": {},
     "output_type": "execute_result"
    }
   ],
   "source": [
    "data"
   ]
  },
  {
   "cell_type": "code",
   "execution_count": 194,
   "id": "a0b3de27",
   "metadata": {},
   "outputs": [
    {
     "data": {
      "text/plain": [
       "7"
      ]
     },
     "execution_count": 194,
     "metadata": {},
     "output_type": "execute_result"
    }
   ],
   "source": [
    "f.tell()"
   ]
  },
  {
   "cell_type": "code",
   "execution_count": 195,
   "id": "1b853aa4",
   "metadata": {},
   "outputs": [
    {
     "data": {
      "text/plain": [
       "7"
      ]
     },
     "execution_count": 195,
     "metadata": {},
     "output_type": "execute_result"
    }
   ],
   "source": [
    "f.write(\"youtube\")"
   ]
  },
  {
   "cell_type": "code",
   "execution_count": 197,
   "id": "7d8011ba",
   "metadata": {},
   "outputs": [
    {
     "data": {
      "text/plain": [
       "14"
      ]
     },
     "execution_count": 197,
     "metadata": {},
     "output_type": "execute_result"
    }
   ],
   "source": [
    "f.tell()"
   ]
  },
  {
   "cell_type": "code",
   "execution_count": 207,
   "id": "8820b865",
   "metadata": {},
   "outputs": [
    {
     "data": {
      "text/plain": [
       "''"
      ]
     },
     "execution_count": 207,
     "metadata": {},
     "output_type": "execute_result"
    }
   ],
   "source": [
    "k=f.read()\n",
    "k"
   ]
  },
  {
   "cell_type": "code",
   "execution_count": 199,
   "id": "560bc046",
   "metadata": {},
   "outputs": [
    {
     "data": {
      "text/plain": [
       "14"
      ]
     },
     "execution_count": 199,
     "metadata": {},
     "output_type": "execute_result"
    }
   ],
   "source": [
    "f.tell()"
   ]
  },
  {
   "cell_type": "code",
   "execution_count": 200,
   "id": "716cc6fc",
   "metadata": {},
   "outputs": [
    {
     "data": {
      "text/plain": [
       "14"
      ]
     },
     "execution_count": 200,
     "metadata": {},
     "output_type": "execute_result"
    }
   ],
   "source": [
    "f.tell()"
   ]
  },
  {
   "cell_type": "code",
   "execution_count": 201,
   "id": "724b352e",
   "metadata": {},
   "outputs": [
    {
     "data": {
      "text/plain": [
       "7"
      ]
     },
     "execution_count": 201,
     "metadata": {},
     "output_type": "execute_result"
    }
   ],
   "source": [
    "f.write(\"yputube\")"
   ]
  },
  {
   "cell_type": "code",
   "execution_count": 202,
   "id": "07807897",
   "metadata": {},
   "outputs": [
    {
     "data": {
      "text/plain": [
       "21"
      ]
     },
     "execution_count": 202,
     "metadata": {},
     "output_type": "execute_result"
    }
   ],
   "source": [
    "f.tell()"
   ]
  },
  {
   "cell_type": "code",
   "execution_count": 203,
   "id": "abf99634",
   "metadata": {},
   "outputs": [
    {
     "data": {
      "text/plain": [
       "0"
      ]
     },
     "execution_count": 203,
     "metadata": {},
     "output_type": "execute_result"
    }
   ],
   "source": [
    "f.seek(0)"
   ]
  },
  {
   "cell_type": "code",
   "execution_count": 204,
   "id": "6b349a87",
   "metadata": {},
   "outputs": [
    {
     "data": {
      "text/plain": [
       "0"
      ]
     },
     "execution_count": 204,
     "metadata": {},
     "output_type": "execute_result"
    }
   ],
   "source": [
    "f.tell()"
   ]
  },
  {
   "cell_type": "code",
   "execution_count": 205,
   "id": "d8992fe5",
   "metadata": {},
   "outputs": [],
   "source": [
    "data=f.read()"
   ]
  },
  {
   "cell_type": "code",
   "execution_count": 206,
   "id": "f02cfe84",
   "metadata": {},
   "outputs": [
    {
     "data": {
      "text/plain": [
       "'youtubeyoutubeyputube'"
      ]
     },
     "execution_count": 206,
     "metadata": {},
     "output_type": "execute_result"
    }
   ],
   "source": [
    "data"
   ]
  },
  {
   "cell_type": "code",
   "execution_count": 208,
   "id": "3cf1ad91",
   "metadata": {},
   "outputs": [],
   "source": [
    "f.close()"
   ]
  },
  {
   "cell_type": "code",
   "execution_count": 209,
   "id": "25967c08",
   "metadata": {},
   "outputs": [
    {
     "data": {
      "text/plain": [
       "7"
      ]
     },
     "execution_count": 209,
     "metadata": {},
     "output_type": "execute_result"
    }
   ],
   "source": [
    "f=open(\"student.txt\",mode=\"a+\")\n",
    "f.write(\"youtube\")"
   ]
  },
  {
   "cell_type": "code",
   "execution_count": 210,
   "id": "6efe3843",
   "metadata": {},
   "outputs": [],
   "source": [
    "data=f.read()"
   ]
  },
  {
   "cell_type": "code",
   "execution_count": 212,
   "id": "ec69de7c",
   "metadata": {},
   "outputs": [
    {
     "name": "stdout",
     "output_type": "stream",
     "text": [
      "\n"
     ]
    }
   ],
   "source": [
    "print(data)"
   ]
  },
  {
   "cell_type": "code",
   "execution_count": 213,
   "id": "6d0719b7",
   "metadata": {},
   "outputs": [
    {
     "data": {
      "text/plain": [
       "28"
      ]
     },
     "execution_count": 213,
     "metadata": {},
     "output_type": "execute_result"
    }
   ],
   "source": [
    "f.tell()"
   ]
  },
  {
   "cell_type": "code",
   "execution_count": 214,
   "id": "e5b505ad",
   "metadata": {},
   "outputs": [
    {
     "data": {
      "text/plain": [
       "7"
      ]
     },
     "execution_count": 214,
     "metadata": {},
     "output_type": "execute_result"
    }
   ],
   "source": [
    "f.write(\"youtube\")"
   ]
  },
  {
   "cell_type": "code",
   "execution_count": 215,
   "id": "8ff5323e",
   "metadata": {},
   "outputs": [
    {
     "data": {
      "text/plain": [
       "35"
      ]
     },
     "execution_count": 215,
     "metadata": {},
     "output_type": "execute_result"
    }
   ],
   "source": [
    "f.tell()"
   ]
  },
  {
   "cell_type": "code",
   "execution_count": 216,
   "id": "2a0c60aa",
   "metadata": {},
   "outputs": [
    {
     "data": {
      "text/plain": [
       "0"
      ]
     },
     "execution_count": 216,
     "metadata": {},
     "output_type": "execute_result"
    }
   ],
   "source": [
    "f.seek(0)"
   ]
  },
  {
   "cell_type": "code",
   "execution_count": 217,
   "id": "b25e870a",
   "metadata": {},
   "outputs": [
    {
     "data": {
      "text/plain": [
       "0"
      ]
     },
     "execution_count": 217,
     "metadata": {},
     "output_type": "execute_result"
    }
   ],
   "source": [
    "f.tell()"
   ]
  },
  {
   "cell_type": "code",
   "execution_count": 218,
   "id": "596621a9",
   "metadata": {},
   "outputs": [],
   "source": [
    "data=f.read()"
   ]
  },
  {
   "cell_type": "code",
   "execution_count": 219,
   "id": "f2aae5f5",
   "metadata": {},
   "outputs": [
    {
     "data": {
      "text/plain": [
       "'youtubeyoutubeyputubeyoutubeyoutube'"
      ]
     },
     "execution_count": 219,
     "metadata": {},
     "output_type": "execute_result"
    }
   ],
   "source": [
    "data"
   ]
  },
  {
   "cell_type": "code",
   "execution_count": 220,
   "id": "43cc708d",
   "metadata": {},
   "outputs": [],
   "source": [
    "f1=open(\"student.txt\",mode=\"r\")\n",
    "f2=open(\"student1.txt\",mode=\"w\")"
   ]
  },
  {
   "cell_type": "code",
   "execution_count": 221,
   "id": "6cbbc001",
   "metadata": {},
   "outputs": [],
   "source": [
    "data=f1.read()"
   ]
  },
  {
   "cell_type": "code",
   "execution_count": 222,
   "id": "f26ad2ac",
   "metadata": {},
   "outputs": [
    {
     "data": {
      "text/plain": [
       "35"
      ]
     },
     "execution_count": 222,
     "metadata": {},
     "output_type": "execute_result"
    }
   ],
   "source": [
    "f2.write(data)"
   ]
  },
  {
   "cell_type": "code",
   "execution_count": 223,
   "id": "19d5df65",
   "metadata": {},
   "outputs": [],
   "source": [
    "f1.close()"
   ]
  },
  {
   "cell_type": "code",
   "execution_count": 224,
   "id": "74a0ba24",
   "metadata": {},
   "outputs": [],
   "source": [
    "f2.close()"
   ]
  },
  {
   "cell_type": "code",
   "execution_count": 228,
   "id": "8fe57821",
   "metadata": {},
   "outputs": [
    {
     "name": "stdout",
     "output_type": "stream",
     "text": [
      "youtubeyoutubeyputubeyoutubeyoutube\n",
      "False\n"
     ]
    }
   ],
   "source": [
    "with open(\"student.txt\") as f:\n",
    "    data=f.read()\n",
    "    print(data)\n",
    "    print(f.closed)"
   ]
  },
  {
   "cell_type": "code",
   "execution_count": null,
   "id": "acbbf020",
   "metadata": {},
   "outputs": [],
   "source": []
  }
 ],
 "metadata": {
  "kernelspec": {
   "display_name": "Python 3",
   "language": "python",
   "name": "python3"
  },
  "language_info": {
   "codemirror_mode": {
    "name": "ipython",
    "version": 3
   },
   "file_extension": ".py",
   "mimetype": "text/x-python",
   "name": "python",
   "nbconvert_exporter": "python",
   "pygments_lexer": "ipython3",
   "version": "3.8.8"
  }
 },
 "nbformat": 4,
 "nbformat_minor": 5
}
