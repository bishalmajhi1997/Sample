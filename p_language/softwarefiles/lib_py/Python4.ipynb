{
 "cells": [
  {
   "cell_type": "code",
   "execution_count": 1,
   "id": "93b34029",
   "metadata": {},
   "outputs": [
    {
     "name": "stdout",
     "output_type": "stream",
     "text": [
      "g\n",
      "e\n",
      "e\n",
      "k\n",
      "y\n",
      "s\n",
      "h\n",
      "o\n",
      "w\n",
      "s\n",
      "rest of the code\n"
     ]
    }
   ],
   "source": [
    "st=\"geekyshows\"\n",
    "for ch in st:\n",
    "    print(ch)\n",
    "print(\"rest of the code\")"
   ]
  },
  {
   "cell_type": "code",
   "execution_count": 5,
   "id": "e0736fca",
   "metadata": {},
   "outputs": [
    {
     "name": "stdout",
     "output_type": "stream",
     "text": [
      "10\n",
      "8\n",
      "6\n",
      "4\n",
      "2\n"
     ]
    }
   ],
   "source": [
    "a=range(10,0,-2)\n",
    "for i in a:\n",
    "    print(i)"
   ]
  },
  {
   "cell_type": "code",
   "execution_count": 8,
   "id": "26230fb9",
   "metadata": {},
   "outputs": [
    {
     "name": "stdout",
     "output_type": "stream",
     "text": [
      "0 = g\n",
      "1 = e\n",
      "2 = e\n",
      "3 = k\n",
      "4 = y\n",
      "5 = s\n",
      "6 = h\n",
      "7 = o\n",
      "8 = w\n",
      "9 = s\n"
     ]
    }
   ],
   "source": [
    "st=\"geekyshows\"\n",
    "n=len(st)\n",
    "for i in range(n):\n",
    "    print(i,\"=\",st[i])"
   ]
  },
  {
   "cell_type": "code",
   "execution_count": 9,
   "id": "d7a8d06b",
   "metadata": {},
   "outputs": [
    {
     "name": "stdout",
     "output_type": "stream",
     "text": [
      "g\n",
      "e\n",
      "e\n",
      "k\n",
      "y\n",
      "s\n",
      "h\n",
      "o\n",
      "w\n",
      "s\n",
      "else part\n",
      "rest of the code\n"
     ]
    }
   ],
   "source": [
    "st=\"geekyshows\"\n",
    "for ch in st:\n",
    "    print(ch)\n",
    "else:\n",
    "    print(\"else part\")\n",
    "print(\"rest of the code\")"
   ]
  },
  {
   "cell_type": "code",
   "execution_count": 10,
   "id": "537a3428",
   "metadata": {},
   "outputs": [
    {
     "name": "stdout",
     "output_type": "stream",
     "text": [
      "inner loop\n",
      "outer loop\n",
      "outer loop\n",
      "outer loop\n",
      "inner loop\n",
      "outer loop\n",
      "outer loop\n",
      "outer loop\n",
      "rest of the code\n"
     ]
    }
   ],
   "source": [
    "for i in range(2):\n",
    "    print(\"inner loop\")\n",
    "    for j in range(3):\n",
    "        print(\"outer loop\")\n",
    "print(\"rest of the code\")"
   ]
  },
  {
   "cell_type": "code",
   "execution_count": 11,
   "id": "0ff38884",
   "metadata": {},
   "outputs": [
    {
     "name": "stdout",
     "output_type": "stream",
     "text": [
      "0\n",
      "1\n",
      "2\n",
      "3\n",
      "4\n"
     ]
    }
   ],
   "source": [
    "for i in range(10):\n",
    "    if(i==5):\n",
    "        break\n",
    "    print(i)"
   ]
  },
  {
   "cell_type": "code",
   "execution_count": 12,
   "id": "f4c1c2e0",
   "metadata": {},
   "outputs": [
    {
     "name": "stdout",
     "output_type": "stream",
     "text": [
      "0\n",
      "1\n",
      "2\n",
      "3\n",
      "4\n",
      "5\n",
      "rest of the code\n"
     ]
    }
   ],
   "source": [
    "for i in range(10):\n",
    "    print(i)\n",
    "    if(i==5):\n",
    "        break\n",
    "print(\"rest of the code\")"
   ]
  },
  {
   "cell_type": "code",
   "execution_count": 13,
   "id": "c7c74ed6",
   "metadata": {},
   "outputs": [
    {
     "name": "stdout",
     "output_type": "stream",
     "text": [
      "1\n",
      "2\n",
      "3\n",
      "4\n",
      "5\n",
      "6\n",
      "7\n",
      "8\n",
      "9\n",
      "10\n",
      "rest of the code\n"
     ]
    }
   ],
   "source": [
    "i=1\n",
    "while i<=10:\n",
    "    if(i==5):\n",
    "       pass\n",
    "    print(i)\n",
    "    i+=1\n",
    "print(\"rest of the code\")"
   ]
  },
  {
   "cell_type": "code",
   "execution_count": 15,
   "id": "b7c4978e",
   "metadata": {},
   "outputs": [
    {
     "name": "stdout",
     "output_type": "stream",
     "text": [
      "101\n"
     ]
    }
   ],
   "source": [
    "import array\n",
    "stu_roll=array.array(\"i\",[101,102,103,104,105])\n",
    "print(stu_roll[0])"
   ]
  },
  {
   "cell_type": "code",
   "execution_count": 16,
   "id": "e6ebe1b0",
   "metadata": {},
   "outputs": [
    {
     "name": "stdout",
     "output_type": "stream",
     "text": [
      "102\n"
     ]
    }
   ],
   "source": [
    "print(stu_roll[1])"
   ]
  },
  {
   "cell_type": "code",
   "execution_count": null,
   "id": "32db0712",
   "metadata": {},
   "outputs": [],
   "source": []
  }
 ],
 "metadata": {
  "kernelspec": {
   "display_name": "Python 3",
   "language": "python",
   "name": "python3"
  },
  "language_info": {
   "codemirror_mode": {
    "name": "ipython",
    "version": 3
   },
   "file_extension": ".py",
   "mimetype": "text/x-python",
   "name": "python",
   "nbconvert_exporter": "python",
   "pygments_lexer": "ipython3",
   "version": "3.8.8"
  }
 },
 "nbformat": 4,
 "nbformat_minor": 5
}
