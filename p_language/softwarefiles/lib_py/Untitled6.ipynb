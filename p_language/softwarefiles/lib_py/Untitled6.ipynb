{
 "cells": [
  {
   "cell_type": "code",
   "execution_count": 15,
   "id": "0ff16b21",
   "metadata": {},
   "outputs": [
    {
     "name": "stdout",
     "output_type": "stream",
     "text": [
      "30\n"
     ]
    }
   ],
   "source": [
    "def add(y):\n",
    "    x=10\n",
    "    return x+y\n",
    "sum=add(20)\n",
    "print(sum)"
   ]
  },
  {
   "cell_type": "code",
   "execution_count": 18,
   "id": "d9d33320",
   "metadata": {},
   "outputs": [
    {
     "name": "stdout",
     "output_type": "stream",
     "text": [
      "30\n",
      "10\n",
      "50\n"
     ]
    }
   ],
   "source": [
    "def add(y):\n",
    "    x=10\n",
    "    c=x+y\n",
    "    d=y-x\n",
    "    return c,d\n",
    "sum,sub=add(20)\n",
    "print(sum)\n",
    "print(sub)\n",
    "print(a)\n",
    "\n",
    "    "
   ]
  },
  {
   "cell_type": "code",
   "execution_count": 19,
   "id": "b1373315",
   "metadata": {},
   "outputs": [
    {
     "name": "stdout",
     "output_type": "stream",
     "text": [
      "disp function\n",
      "show function\n"
     ]
    }
   ],
   "source": [
    "def disp():\n",
    "    def show():\n",
    "        print(\"show function\")\n",
    "    print(\"disp function\")\n",
    "    show()\n",
    "disp()"
   ]
  },
  {
   "cell_type": "code",
   "execution_count": 21,
   "id": "59bbc681",
   "metadata": {},
   "outputs": [
    {
     "data": {
      "text/plain": [
       "'show functiondisp function'"
      ]
     },
     "execution_count": 21,
     "metadata": {},
     "output_type": "execute_result"
    }
   ],
   "source": [
    "def disp(a):\n",
    "    def show():\n",
    "        return \"show function\"\n",
    "    result=show()+\"disp function\"\n",
    "    return result\n",
    "a=disp(\"geekyshows\")\n",
    "a"
   ]
  },
  {
   "cell_type": "code",
   "execution_count": 27,
   "id": "723f552a",
   "metadata": {},
   "outputs": [
    {
     "name": "stdout",
     "output_type": "stream",
     "text": [
      "show functiondisp function\n"
     ]
    }
   ],
   "source": [
    "def dish(sh):\n",
    "    return \"dis function \" + sh()\n",
    "def show():\n",
    "    return \" show function \"\n",
    "result=disp(show)\n",
    "print(result)"
   ]
  },
  {
   "cell_type": "code",
   "execution_count": 28,
   "id": "954c89cc",
   "metadata": {},
   "outputs": [
    {
     "name": "stdout",
     "output_type": "stream",
     "text": [
      "disp function\n",
      "show function \n"
     ]
    }
   ],
   "source": [
    "def disp():\n",
    "    def show():\n",
    "        return \"show function \"\n",
    "    print(\"disp function\")\n",
    "    return show\n",
    "r_sh=disp()\n",
    "print(r_sh())"
   ]
  },
  {
   "cell_type": "code",
   "execution_count": 31,
   "id": "d551f22a",
   "metadata": {},
   "outputs": [
    {
     "name": "stdout",
     "output_type": "stream",
     "text": [
      "disp function\n",
      "show function\n"
     ]
    }
   ],
   "source": [
    "def disp(k):\n",
    "    print(\"disp function\")\n",
    "    return k\n",
    "def show():\n",
    "    return \"show function\"\n",
    "r_sh=disp(show)\n",
    "print(r_sh())"
   ]
  },
  {
   "cell_type": "code",
   "execution_count": 32,
   "id": "eff6b982",
   "metadata": {},
   "outputs": [
    {
     "name": "stdout",
     "output_type": "stream",
     "text": [
      "25\n"
     ]
    }
   ],
   "source": [
    "def fun(x,y):\n",
    "    z=x**y\n",
    "    print(z)\n",
    "fun(5,2)"
   ]
  },
  {
   "cell_type": "code",
   "execution_count": 33,
   "id": "40a8ab41",
   "metadata": {},
   "outputs": [
    {
     "name": "stdout",
     "output_type": "stream",
     "text": [
      "geeky 62\n"
     ]
    }
   ],
   "source": [
    "def show(name,age):\n",
    "    print(name,age)\n",
    "show(name=\"geeky\",age=62)"
   ]
  },
  {
   "cell_type": "code",
   "execution_count": 34,
   "id": "e70e4f4e",
   "metadata": {},
   "outputs": [
    {
     "name": "stdout",
     "output_type": "stream",
     "text": [
      "62 geeky\n"
     ]
    }
   ],
   "source": [
    "show(62,\"geeky\")"
   ]
  },
  {
   "cell_type": "code",
   "execution_count": 35,
   "id": "7cb116ed",
   "metadata": {},
   "outputs": [],
   "source": [
    "def show(name,age=27):\n",
    "    print(f\"name:{name} age:{age}\")"
   ]
  },
  {
   "cell_type": "code",
   "execution_count": 36,
   "id": "9ea69678",
   "metadata": {},
   "outputs": [
    {
     "name": "stdout",
     "output_type": "stream",
     "text": [
      "name:geekyshows age:27\n"
     ]
    }
   ],
   "source": [
    "show(name=\"geekyshows\")"
   ]
  },
  {
   "cell_type": "code",
   "execution_count": 37,
   "id": "5f41e603",
   "metadata": {},
   "outputs": [
    {
     "name": "stdout",
     "output_type": "stream",
     "text": [
      "addition: 7\n"
     ]
    }
   ],
   "source": [
    "def add(x,y):\n",
    "    z=x+y\n",
    "    print(\"addition:\",z)\n",
    "add(5,2)"
   ]
  },
  {
   "cell_type": "code",
   "execution_count": 38,
   "id": "55d4947e",
   "metadata": {},
   "outputs": [
    {
     "name": "stdout",
     "output_type": "stream",
     "text": [
      "5\n",
      "2\n",
      "4\n"
     ]
    }
   ],
   "source": [
    "def add(*num):\n",
    "    print(num[0])\n",
    "    print(num[1])\n",
    "    print(num[2])\n",
    "add(5,2,4)"
   ]
  },
  {
   "cell_type": "code",
   "execution_count": 42,
   "id": "53c6d26c",
   "metadata": {},
   "outputs": [
    {
     "name": "stdout",
     "output_type": "stream",
     "text": [
      "addition 11\n"
     ]
    }
   ],
   "source": [
    "def add(x,*num):\n",
    "    z=x+num[0]+num[1]\n",
    "    print(\"addition\",z)\n",
    "add(5,2,4)"
   ]
  },
  {
   "cell_type": "code",
   "execution_count": 43,
   "id": "6a85f73c",
   "metadata": {},
   "outputs": [
    {
     "name": "stdout",
     "output_type": "stream",
     "text": [
      "addition 11\n"
     ]
    }
   ],
   "source": [
    "def add(**num):\n",
    "    z=num[\"a\"]+num[\"b\"]+num[\"c\"]\n",
    "    print(\"addition\",z)\n",
    "add(a=5,b=2,c=4)"
   ]
  },
  {
   "cell_type": "code",
   "execution_count": 44,
   "id": "644f996d",
   "metadata": {},
   "outputs": [
    {
     "data": {
      "text/plain": [
       "<function __main__.<lambda>(x)>"
      ]
     },
     "execution_count": 44,
     "metadata": {},
     "output_type": "execute_result"
    }
   ],
   "source": [
    "lambda x:print(x)"
   ]
  },
  {
   "cell_type": "code",
   "execution_count": 45,
   "id": "197eda1a",
   "metadata": {},
   "outputs": [
    {
     "data": {
      "text/plain": [
       "6"
      ]
     },
     "execution_count": 45,
     "metadata": {},
     "output_type": "execute_result"
    }
   ],
   "source": [
    "sum=lambda x:x+1\n",
    "sum(5)"
   ]
  },
  {
   "cell_type": "code",
   "execution_count": 51,
   "id": "634cc173",
   "metadata": {},
   "outputs": [
    {
     "data": {
      "text/plain": [
       "(7, 3)"
      ]
     },
     "execution_count": 51,
     "metadata": {},
     "output_type": "execute_result"
    }
   ],
   "source": [
    "add=lambda x,y:(x+y,x-y)\n",
    "add(5,2)"
   ]
  },
  {
   "cell_type": "code",
   "execution_count": 57,
   "id": "524e5ade",
   "metadata": {},
   "outputs": [
    {
     "name": "stdout",
     "output_type": "stream",
     "text": [
      "<function <lambda>.<locals>.<lambda> at 0x000001EA91137430>\n"
     ]
    }
   ],
   "source": [
    "add=lambda x=10:(lambda y:x+y)\n",
    "a=add(20)\n",
    "print(add(10))"
   ]
  },
  {
   "cell_type": "code",
   "execution_count": 58,
   "id": "bdb21502",
   "metadata": {},
   "outputs": [
    {
     "data": {
      "text/plain": [
       "40"
      ]
     },
     "execution_count": 58,
     "metadata": {},
     "output_type": "execute_result"
    }
   ],
   "source": [
    "a(20)"
   ]
  },
  {
   "cell_type": "code",
   "execution_count": 59,
   "id": "18377d98",
   "metadata": {},
   "outputs": [
    {
     "name": "stdout",
     "output_type": "stream",
     "text": [
      "8\n"
     ]
    }
   ],
   "source": [
    "def show(a):\n",
    "    print(a(8))\n",
    "show(lambda x:x)"
   ]
  },
  {
   "cell_type": "code",
   "execution_count": 60,
   "id": "f43ffd82",
   "metadata": {},
   "outputs": [
    {
     "name": "stdout",
     "output_type": "stream",
     "text": [
      "30\n"
     ]
    }
   ],
   "source": [
    "def add():\n",
    "    y=20\n",
    "    return (lambda x:x+y)\n",
    "a=add()\n",
    "print(a(10))"
   ]
  },
  {
   "cell_type": "code",
   "execution_count": 62,
   "id": "e14996bb",
   "metadata": {},
   "outputs": [
    {
     "name": "stdout",
     "output_type": "stream",
     "text": [
      "11\n"
     ]
    }
   ],
   "source": [
    "(lambda x,y:print(x+y))(5,6)"
   ]
  },
  {
   "cell_type": "code",
   "execution_count": 64,
   "id": "440b9ef2",
   "metadata": {},
   "outputs": [
    {
     "name": "stdout",
     "output_type": "stream",
     "text": [
      "10\n"
     ]
    }
   ],
   "source": [
    "def show():\n",
    "    x=10\n",
    "    print(x)\n",
    "show()"
   ]
  },
  {
   "cell_type": "code",
   "execution_count": 66,
   "id": "b7724c2d",
   "metadata": {},
   "outputs": [
    {
     "name": "stdout",
     "output_type": "stream",
     "text": [
      "10\n",
      "30\n"
     ]
    }
   ],
   "source": [
    "def add(y):\n",
    "    x=10\n",
    "    print(x)\n",
    "    print(x+y)\n",
    "add(20)"
   ]
  },
  {
   "cell_type": "code",
   "execution_count": 68,
   "id": "2c57a6be",
   "metadata": {},
   "outputs": [
    {
     "name": "stdout",
     "output_type": "stream",
     "text": [
      "50\n",
      "10\n",
      "50\n",
      "a 50\n"
     ]
    }
   ],
   "source": [
    "a=50\n",
    "def show():\n",
    "    x=10\n",
    "    print(a)\n",
    "    print(x)\n",
    "show()\n",
    "print(a)\n",
    "print(\"a\",a)"
   ]
  },
  {
   "cell_type": "code",
   "execution_count": 70,
   "id": "53abd842",
   "metadata": {},
   "outputs": [
    {
     "name": "stdout",
     "output_type": "stream",
     "text": [
      "A 10\n"
     ]
    },
    {
     "data": {
      "text/plain": [
       "50"
      ]
     },
     "execution_count": 70,
     "metadata": {},
     "output_type": "execute_result"
    }
   ],
   "source": [
    "a=50\n",
    "def show():\n",
    "    a=10\n",
    "    print(\"A\",a)\n",
    "show()\n",
    "a"
   ]
  },
  {
   "cell_type": "code",
   "execution_count": 72,
   "id": "f76c5e99",
   "metadata": {},
   "outputs": [
    {
     "name": "stdout",
     "output_type": "stream",
     "text": [
      "A 1\n",
      "A 1\n"
     ]
    }
   ],
   "source": [
    "i=0\n",
    "def show():\n",
    "    global i\n",
    "    i=i+1\n",
    "    print(\"A\",i)\n",
    "show()\n",
    "print(\"A\",i)"
   ]
  },
  {
   "cell_type": "code",
   "execution_count": 76,
   "id": "598aeeaf",
   "metadata": {},
   "outputs": [
    {
     "name": "stdout",
     "output_type": "stream",
     "text": [
      "1\n",
      "2\n",
      "3\n",
      "4\n",
      "5\n",
      "global 5\n"
     ]
    }
   ],
   "source": [
    "i=0\n",
    "def myfun():\n",
    "    global i\n",
    "    while i<5:\n",
    "        i+=1\n",
    "        print(i)\n",
    "myfun()\n",
    "print(\"global\",i)"
   ]
  },
  {
   "cell_type": "code",
   "execution_count": 77,
   "id": "d3eb9e4c",
   "metadata": {},
   "outputs": [
    {
     "name": "stdout",
     "output_type": "stream",
     "text": [
      "Local variabkle 10\n",
      "global variable 50\n"
     ]
    }
   ],
   "source": [
    "a=50\n",
    "def show():\n",
    "    a=10\n",
    "    print(\"Local variabkle\",a)\n",
    "show()\n",
    "print(\"global variable\",a)"
   ]
  },
  {
   "cell_type": "code",
   "execution_count": 84,
   "id": "bec5e4b8",
   "metadata": {},
   "outputs": [
    {
     "name": "stdout",
     "output_type": "stream",
     "text": [
      "local variable A: 10\n",
      "x 0\n",
      "x 40\n",
      "global varibale 50\n"
     ]
    }
   ],
   "source": [
    "a=50\n",
    "def show():\n",
    "    a=10\n",
    "    x=0\n",
    "    print(\"local variable A:\",a)\n",
    "   # global a\n",
    "    print(\"x\",x)\n",
    "    x=40\n",
    "    print(\"x\",x)\n",
    "show()\n",
    "print(\"global varibale\",a)"
   ]
  },
  {
   "cell_type": "code",
   "execution_count": 87,
   "id": "1a775df2",
   "metadata": {},
   "outputs": [
    {
     "name": "stdout",
     "output_type": "stream",
     "text": [
      "3000\n"
     ]
    }
   ],
   "source": [
    "import sys\n",
    "print(sys.getrecursionlimit())"
   ]
  },
  {
   "cell_type": "code",
   "execution_count": 88,
   "id": "a08e9c98",
   "metadata": {},
   "outputs": [],
   "source": [
    "sys.setrecursionlimit(4000)"
   ]
  },
  {
   "cell_type": "code",
   "execution_count": 89,
   "id": "2dd1f27e",
   "metadata": {},
   "outputs": [
    {
     "data": {
      "text/plain": [
       "4000"
      ]
     },
     "execution_count": 89,
     "metadata": {},
     "output_type": "execute_result"
    }
   ],
   "source": [
    "sys.getrecursionlimit()"
   ]
  },
  {
   "cell_type": "code",
   "execution_count": 90,
   "id": "32c2f473",
   "metadata": {},
   "outputs": [
    {
     "name": "stdout",
     "output_type": "stream",
     "text": [
      "15 140715421477104\n",
      "20 140715421477264\n"
     ]
    }
   ],
   "source": [
    "def val(x):\n",
    "    x=15\n",
    "    print(x,id(x))\n",
    "x=20\n",
    "val(x)\n",
    "print(x,id(x))"
   ]
  },
  {
   "cell_type": "code",
   "execution_count": 91,
   "id": "f57b76ee",
   "metadata": {},
   "outputs": [
    {
     "name": "stdout",
     "output_type": "stream",
     "text": [
      "[1, 2, 3] 2106968153536\n",
      "15 140715421477104\n",
      "[1, 2, 3] 2106968153536\n"
     ]
    }
   ],
   "source": [
    "def value(s):\n",
    "    print(s,id(s))\n",
    "    s.append(5)\n",
    "    print(s,id(s))\n",
    "s=[1,2,3]\n",
    "print(s,id(s))\n",
    "val(s)\n",
    "print(s,id(s))"
   ]
  },
  {
   "cell_type": "code",
   "execution_count": 93,
   "id": "09babd9f",
   "metadata": {},
   "outputs": [
    {
     "ename": "NameError",
     "evalue": "name 'num' is not defined",
     "output_type": "error",
     "traceback": [
      "\u001b[1;31m---------------------------------------------------------------------------\u001b[0m",
      "\u001b[1;31mNameError\u001b[0m                                 Traceback (most recent call last)",
      "\u001b[1;32m<ipython-input-93-0fe2932d1713>\u001b[0m in \u001b[0;36m<module>\u001b[1;34m\u001b[0m\n\u001b[0;32m      8\u001b[0m         \u001b[0mprint\u001b[0m\u001b[1;33m(\u001b[0m\u001b[1;34m\"we will use this function\"\u001b[0m\u001b[1;33m)\u001b[0m\u001b[1;33m\u001b[0m\u001b[1;33m\u001b[0m\u001b[0m\n\u001b[0;32m      9\u001b[0m         \u001b[0mprint\u001b[0m\u001b[1;33m(\u001b[0m\u001b[1;34m\"and will enhance this indecorate\"\u001b[0m\u001b[1;33m)\u001b[0m\u001b[1;33m\u001b[0m\u001b[1;33m\u001b[0m\u001b[0m\n\u001b[1;32m---> 10\u001b[1;33m \u001b[0mresult_fun\u001b[0m\u001b[1;33m=\u001b[0m\u001b[0mdecor\u001b[0m\u001b[1;33m(\u001b[0m\u001b[0mnum\u001b[0m\u001b[1;33m)\u001b[0m\u001b[1;33m\u001b[0m\u001b[1;33m\u001b[0m\u001b[0m\n\u001b[0m\u001b[0;32m     11\u001b[0m \u001b[0mresult_fun\u001b[0m\u001b[1;33m(\u001b[0m\u001b[1;33m)\u001b[0m\u001b[1;33m\u001b[0m\u001b[1;33m\u001b[0m\u001b[0m\n",
      "\u001b[1;31mNameError\u001b[0m: name 'num' is not defined"
     ]
    }
   ],
   "source": []
  },
  {
   "cell_type": "code",
   "execution_count": 100,
   "id": "659b4152",
   "metadata": {},
   "outputs": [
    {
     "ename": "TypeError",
     "evalue": "'NoneType' object is not callable",
     "output_type": "error",
     "traceback": [
      "\u001b[1;31m---------------------------------------------------------------------------\u001b[0m",
      "\u001b[1;31mTypeError\u001b[0m                                 Traceback (most recent call last)",
      "\u001b[1;32m<ipython-input-100-c9ec65755d52>\u001b[0m in \u001b[0;36m<module>\u001b[1;34m\u001b[0m\n\u001b[0;32m      7\u001b[0m     \u001b[1;32mreturn\u001b[0m \u001b[1;36m10\u001b[0m\u001b[1;33m\u001b[0m\u001b[1;33m\u001b[0m\u001b[0m\n\u001b[0;32m      8\u001b[0m \u001b[0mresult_fun\u001b[0m\u001b[1;33m=\u001b[0m\u001b[0mdecor\u001b[0m\u001b[1;33m(\u001b[0m\u001b[0mnum\u001b[0m\u001b[1;33m)\u001b[0m\u001b[1;33m\u001b[0m\u001b[1;33m\u001b[0m\u001b[0m\n\u001b[1;32m----> 9\u001b[1;33m \u001b[0mprint\u001b[0m\u001b[1;33m(\u001b[0m\u001b[0mresult_fun\u001b[0m\u001b[1;33m(\u001b[0m\u001b[1;33m)\u001b[0m\u001b[1;33m)\u001b[0m\u001b[1;33m\u001b[0m\u001b[1;33m\u001b[0m\u001b[0m\n\u001b[0m",
      "\u001b[1;31mTypeError\u001b[0m: 'NoneType' object is not callable"
     ]
    }
   ],
   "source": [
    "def decor(fun):\n",
    "    def inner():\n",
    "        a=num()\n",
    "        add=a+5\n",
    "        return add\n",
    "def num():\n",
    "    return 10\n",
    "result_fun=decor(num)\n",
    "print(result_fun())    "
   ]
  },
  {
   "cell_type": "code",
   "execution_count": null,
   "id": "70646f2e",
   "metadata": {},
   "outputs": [],
   "source": []
  }
 ],
 "metadata": {
  "kernelspec": {
   "display_name": "Python 3",
   "language": "python",
   "name": "python3"
  },
  "language_info": {
   "codemirror_mode": {
    "name": "ipython",
    "version": 3
   },
   "file_extension": ".py",
   "mimetype": "text/x-python",
   "name": "python",
   "nbconvert_exporter": "python",
   "pygments_lexer": "ipython3",
   "version": "3.8.8"
  }
 },
 "nbformat": 4,
 "nbformat_minor": 5
}
