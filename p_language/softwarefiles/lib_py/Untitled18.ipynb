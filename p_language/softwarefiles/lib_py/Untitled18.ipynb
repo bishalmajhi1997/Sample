{
 "cells": [
  {
   "cell_type": "code",
   "execution_count": 2,
   "id": "e27c2ae7",
   "metadata": {},
   "outputs": [
    {
     "name": "stdout",
     "output_type": "stream",
     "text": [
      "enter size of the array5\n",
      "enter element of array11\n",
      "enter element of array12\n",
      "enter element of array13\n",
      "enter element of array14\n",
      "enter element of array12\n",
      "largest element in array is 14\n",
      "smallest element in arrayb is 11\n"
     ]
    }
   ],
   "source": [
    "arr=[]\n",
    "n=int(input(\"enter size of the array\"))\n",
    "for x in range(n):\n",
    "    x=int(input(\"enter element of array\"))\n",
    "    arr.append(x)\n",
    "largest=arr[0]\n",
    "smallest=arr[0]\n",
    "for i in range(n):\n",
    "    if arr[i]>largest:\n",
    "        largest=arr[i]\n",
    "    if arr[i]<smallest:\n",
    "        smallest=arr[i]\n",
    "print(f\"largest element in array is {largest}\")\n",
    "print(f\"smallest element in arrayb is {smallest}\")"
   ]
  },
  {
   "cell_type": "code",
   "execution_count": 3,
   "id": "578e33aa",
   "metadata": {},
   "outputs": [
    {
     "name": "stdout",
     "output_type": "stream",
     "text": [
      "enter size of the array:5\n",
      "enter element of array:11\n",
      "enter element of array:45\n",
      "enter element of array:5\n",
      "enter element of array:3\n",
      "enter element of array:23\n",
      "first two largest element of array is 23 and 45\n",
      "first two largest element of array is 11 and 23\n",
      "first two largest element of array is 5 and 11\n",
      "first two largest element of array is 3 and 5\n"
     ]
    }
   ],
   "source": [
    "import array\n",
    "arr=[]\n",
    "n=int(input(\"enter size of the array:\"))\n",
    "for x in range(n):\n",
    "    x=int(input(\"enter element of array:\"))\n",
    "    arr.append(x)\n",
    "sorted_array=sorted(array.array(\"i\",arr))\n",
    "for i in range(len(arr)-1,0,-1):\n",
    "    if sorted_array[i] != sorted_array[i-1]:\n",
    "        print(f\"first two largest element of array is {sorted_array[i-1]} and {sorted_array[i]}\")"
   ]
  },
  {
   "cell_type": "code",
   "execution_count": 9,
   "id": "0314c48c",
   "metadata": {},
   "outputs": [
    {
     "name": "stdout",
     "output_type": "stream",
     "text": [
      "[2, 4, 10, 20, 5]\n"
     ]
    }
   ],
   "source": [
    "def remove(duplicate):\n",
    "    final_list=[]\n",
    "    for num in duplicate:\n",
    "        if num not in final_list:\n",
    "            final_list.append(num)\n",
    "    return final_list\n",
    "duplicate=[2,4,10,20,5,20,4,2]\n",
    "print(remove(duplicate))"
   ]
  },
  {
   "cell_type": "code",
   "execution_count": 11,
   "id": "cab4249a",
   "metadata": {},
   "outputs": [
    {
     "name": "stdout",
     "output_type": "stream",
     "text": [
      "the original string is: geekyforgeeks\n",
      "skeegrofykeeg\n"
     ]
    }
   ],
   "source": [
    "def reverse(s):\n",
    "    if len(s)==0:\n",
    "        return s\n",
    "    else:\n",
    "        return reverse (s[1:])+s[0]\n",
    "s=\"geekyforgeeks\"\n",
    "print(\"the original string is:\",end=\" \")\n",
    "print(s)\n",
    "print(reverse(s))"
   ]
  },
  {
   "cell_type": "code",
   "execution_count": 12,
   "id": "807fe676",
   "metadata": {},
   "outputs": [
    {
     "name": "stdout",
     "output_type": "stream",
     "text": [
      "geekforgeeks\n",
      "skeegrofkeeg \n"
     ]
    }
   ],
   "source": [
    "def reverse(s):\n",
    "    str=\" \"\n",
    "    for i in s:\n",
    "        str=i+str\n",
    "    return str\n",
    "s=\"geekforgeeks\"\n",
    "print(s)\n",
    "print(reverse(s))"
   ]
  },
  {
   "cell_type": "code",
   "execution_count": null,
   "id": "77104e7b",
   "metadata": {},
   "outputs": [],
   "source": []
  }
 ],
 "metadata": {
  "kernelspec": {
   "display_name": "Python 3",
   "language": "python",
   "name": "python3"
  },
  "language_info": {
   "codemirror_mode": {
    "name": "ipython",
    "version": 3
   },
   "file_extension": ".py",
   "mimetype": "text/x-python",
   "name": "python",
   "nbconvert_exporter": "python",
   "pygments_lexer": "ipython3",
   "version": "3.8.8"
  }
 },
 "nbformat": 4,
 "nbformat_minor": 5
}
