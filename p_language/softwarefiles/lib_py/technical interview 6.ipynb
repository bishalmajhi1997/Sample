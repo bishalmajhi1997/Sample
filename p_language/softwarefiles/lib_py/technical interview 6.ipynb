{
 "cells": [
  {
   "cell_type": "code",
   "execution_count": 2,
   "id": "d1bef0c8",
   "metadata": {},
   "outputs": [
    {
     "name": "stdout",
     "output_type": "stream",
     "text": [
      "3\n"
     ]
    }
   ],
   "source": [
    "def getmissingNo(A):\n",
    "    n=len(A)\n",
    "    total=(n+1)*(n+2)//2\n",
    "    sum_of_A=sum(A)\n",
    "    return total-sum_of_A\n",
    "A=[1,2,4,5,6]\n",
    "miss=getmissingNo(A)\n",
    "print(miss)"
   ]
  },
  {
   "cell_type": "code",
   "execution_count": 3,
   "id": "304ca6a5",
   "metadata": {},
   "outputs": [
    {
     "name": "stdout",
     "output_type": "stream",
     "text": [
      "[7, 9]\n"
     ]
    }
   ],
   "source": [
    "arr=[1,2,3,4,5,6,8,10]\n",
    "missing_elements=[]\n",
    "for ele in range(arr[0],arr[-1]+1):\n",
    "    if ele not in arr:\n",
    "        missing_elements.append(ele)\n",
    "print(missing_elements)"
   ]
  },
  {
   "cell_type": "code",
   "execution_count": 4,
   "id": "1f29f6ec",
   "metadata": {},
   "outputs": [
    {
     "name": "stdout",
     "output_type": "stream",
     "text": [
      "[7, 9]\n"
     ]
    }
   ],
   "source": [
    "missing_elements=[item for item in range(arr[0],arr[-1]+1) if item not in arr]\n",
    "print(missing_elements)"
   ]
  },
  {
   "cell_type": "code",
   "execution_count": 6,
   "id": "b9d7ae01",
   "metadata": {},
   "outputs": [
    {
     "name": "stdout",
     "output_type": "stream",
     "text": [
      "{9, 7}\n"
     ]
    }
   ],
   "source": [
    "missing_value=set(range(arr[0],arr[-1]+1))-set(arr)\n",
    "print(missing_value)"
   ]
  },
  {
   "cell_type": "code",
   "execution_count": 16,
   "id": "534c9964",
   "metadata": {},
   "outputs": [
    {
     "name": "stdout",
     "output_type": "stream",
     "text": [
      "30\n"
     ]
    }
   ],
   "source": [
    "list_val=[20,30,40,25,23]\n",
    "res_list=set(list_val)\n",
    "res_list.remove(max(res_list))\n",
    "print(max(res_list))"
   ]
  },
  {
   "cell_type": "code",
   "execution_count": 17,
   "id": "84a06d7c",
   "metadata": {},
   "outputs": [
    {
     "name": "stdout",
     "output_type": "stream",
     "text": [
      "enter number of elements:11\n",
      "enter the elements22\n",
      "enter the elements10\n",
      "enter the elements13\n",
      "enter the elements14\n",
      "enter the elements16\n",
      "enter the elements12\n",
      "enter the elements14\n",
      "enter the elements16\n",
      "enter the elements12\n",
      "enter the elements15\n",
      "enter the elements17\n",
      "second largest element is: 17\n"
     ]
    }
   ],
   "source": [
    "list_val=[]\n",
    "num_list=int(input(\"enter number of elements:\"))\n",
    "for i in range(1,num_list+1):\n",
    "    element=int(input(\"enter the elements\"))\n",
    "    list_val.append(element)\n",
    "list_val.sort()\n",
    "print(\"second largest element is:\",list_val[-2])"
   ]
  },
  {
   "cell_type": "code",
   "execution_count": 18,
   "id": "749edc6f",
   "metadata": {},
   "outputs": [
    {
     "name": "stdout",
     "output_type": "stream",
     "text": [
      "44\n"
     ]
    }
   ],
   "source": [
    "def calc_largest(arr):\n",
    "    second_largest=arr[0]\n",
    "    largest_val=arr[0]\n",
    "    for i in range(len(arr)):\n",
    "        if arr[i]>largest_val:\n",
    "            largest_val=arr[i]\n",
    "    for i in range(len(arr)):\n",
    "        if arr[i]>second_largest and arr[i] != largest_val:\n",
    "            second_largest=arr[i]\n",
    "    return second_largest\n",
    "print(calc_largest([20,30,50,21,44]))"
   ]
  },
  {
   "cell_type": "code",
   "execution_count": 19,
   "id": "1c46ace4",
   "metadata": {},
   "outputs": [
    {
     "name": "stdout",
     "output_type": "stream",
     "text": [
      "duplicate element in given array\n",
      "2\n",
      "3\n",
      "8\n"
     ]
    }
   ],
   "source": [
    "arr=[1,2,3,4,2,7,8,8,3]\n",
    "print(\"duplicate element in given array\")\n",
    "for i in range(0,len(arr)):\n",
    "    for j in range(i+1,len(arr)):\n",
    "        if(arr[i]==arr[j]):\n",
    "            print(arr[j])"
   ]
  },
  {
   "cell_type": "code",
   "execution_count": 21,
   "id": "d95b6606",
   "metadata": {},
   "outputs": [
    {
     "name": "stdout",
     "output_type": "stream",
     "text": [
      "[12, 11, 6] "
     ]
    }
   ],
   "source": [
    "def findduplicates(arr,len):\n",
    "    ifpresent=False\n",
    "    a1=[]\n",
    "    for i in range(len-1):\n",
    "        for j in range(i+1,len):\n",
    "            if arr[i]==arr[j]:\n",
    "                if arr[i] in a1:\n",
    "                    break\n",
    "                else:\n",
    "                    a1.append(arr[i])\n",
    "                    ifpresent=True\n",
    "    if(ifpresent):\n",
    "        print(a1,end=\" \")\n",
    "    else:\n",
    "        print(\"no duplicated present in array\")\n",
    "arr=[12,11,40,12,11,6,4,6,2,99,11]\n",
    "n=len(arr)\n",
    "findduplicates(arr,n)"
   ]
  },
  {
   "cell_type": "code",
   "execution_count": 22,
   "id": "70203dbf",
   "metadata": {},
   "outputs": [
    {
     "name": "stdout",
     "output_type": "stream",
     "text": [
      "count of pairs is : 3\n"
     ]
    }
   ],
   "source": [
    "def getpairscount(arr,n,sum):\n",
    "    count=0\n",
    "    for i in range(0,n):\n",
    "        for j in range(i+1,n):\n",
    "            if arr[i]+arr[j]==sum:\n",
    "                count+=1\n",
    "    return count\n",
    "arr=[1,5,7,-1,5]\n",
    "n=len(arr)\n",
    "sum=6\n",
    "print(\"count of pairs is :\",getpairscount(arr,n,sum))"
   ]
  },
  {
   "cell_type": "code",
   "execution_count": 23,
   "id": "90759176",
   "metadata": {},
   "outputs": [
    {
     "name": "stdout",
     "output_type": "stream",
     "text": [
      "array is equal\n"
     ]
    }
   ],
   "source": [
    "arr1=[1,7,3,4,5]\n",
    "arr2=[1,3,4,5,7]\n",
    "if len(arr1)==len(arr2):\n",
    "    print(\"array is equal\")\n",
    "else:\n",
    "    print(\"arry is not equal\")"
   ]
  },
  {
   "cell_type": "code",
   "execution_count": 48,
   "id": "2577fd1e",
   "metadata": {},
   "outputs": [
    {
     "ename": "IndexError",
     "evalue": "list index out of range",
     "output_type": "error",
     "traceback": [
      "\u001b[1;31m---------------------------------------------------------------------------\u001b[0m",
      "\u001b[1;31mIndexError\u001b[0m                                Traceback (most recent call last)",
      "\u001b[1;32m<ipython-input-48-f81a1512673d>\u001b[0m in \u001b[0;36m<module>\u001b[1;34m\u001b[0m\n\u001b[0;32m     12\u001b[0m \u001b[0mn\u001b[0m\u001b[1;33m=\u001b[0m\u001b[0mlen\u001b[0m\u001b[1;33m(\u001b[0m\u001b[0marr1\u001b[0m\u001b[1;33m)\u001b[0m\u001b[1;33m\u001b[0m\u001b[1;33m\u001b[0m\u001b[0m\n\u001b[0;32m     13\u001b[0m \u001b[0mm\u001b[0m\u001b[1;33m=\u001b[0m\u001b[0mlen\u001b[0m\u001b[1;33m(\u001b[0m\u001b[0marr2\u001b[0m\u001b[1;33m)\u001b[0m\u001b[1;33m\u001b[0m\u001b[1;33m\u001b[0m\u001b[0m\n\u001b[1;32m---> 14\u001b[1;33m \u001b[1;32mif\u001b[0m\u001b[1;33m(\u001b[0m\u001b[0marrEqual\u001b[0m\u001b[1;33m(\u001b[0m\u001b[0marr1\u001b[0m\u001b[1;33m,\u001b[0m\u001b[0marr2\u001b[0m\u001b[1;33m,\u001b[0m\u001b[0mn\u001b[0m\u001b[1;33m,\u001b[0m\u001b[0mm\u001b[0m\u001b[1;33m)\u001b[0m\u001b[1;33m)\u001b[0m\u001b[1;33m:\u001b[0m\u001b[1;33m\u001b[0m\u001b[1;33m\u001b[0m\u001b[0m\n\u001b[0m\u001b[0;32m     15\u001b[0m     \u001b[0mprint\u001b[0m\u001b[1;33m(\u001b[0m\u001b[1;34m\"yes\"\u001b[0m\u001b[1;33m)\u001b[0m\u001b[1;33m\u001b[0m\u001b[1;33m\u001b[0m\u001b[0m\n\u001b[0;32m     16\u001b[0m \u001b[1;32melse\u001b[0m\u001b[1;33m:\u001b[0m\u001b[1;33m\u001b[0m\u001b[1;33m\u001b[0m\u001b[0m\n",
      "\u001b[1;32m<ipython-input-48-f81a1512673d>\u001b[0m in \u001b[0;36marrEqual\u001b[1;34m(arr1, arr2, n, m)\u001b[0m\n\u001b[0;32m      5\u001b[0m     \u001b[0marr2\u001b[0m\u001b[1;33m.\u001b[0m\u001b[0msort\u001b[0m\u001b[1;33m(\u001b[0m\u001b[1;33m)\u001b[0m\u001b[1;33m\u001b[0m\u001b[1;33m\u001b[0m\u001b[0m\n\u001b[0;32m      6\u001b[0m     \u001b[1;32mfor\u001b[0m \u001b[0mi\u001b[0m \u001b[1;32min\u001b[0m \u001b[0mrange\u001b[0m\u001b[1;33m(\u001b[0m\u001b[1;36m0\u001b[0m\u001b[1;33m,\u001b[0m\u001b[0mn\u001b[0m\u001b[1;33m-\u001b[0m\u001b[1;33m-\u001b[0m\u001b[1;36m1\u001b[0m\u001b[1;33m)\u001b[0m\u001b[1;33m:\u001b[0m\u001b[1;33m\u001b[0m\u001b[1;33m\u001b[0m\u001b[0m\n\u001b[1;32m----> 7\u001b[1;33m         \u001b[1;32mif\u001b[0m\u001b[1;33m(\u001b[0m\u001b[0marr1\u001b[0m\u001b[1;33m[\u001b[0m\u001b[0mi\u001b[0m\u001b[1;33m]\u001b[0m\u001b[1;33m!=\u001b[0m \u001b[0marr2\u001b[0m\u001b[1;33m[\u001b[0m\u001b[0mj\u001b[0m\u001b[1;33m]\u001b[0m\u001b[1;33m)\u001b[0m\u001b[1;33m:\u001b[0m\u001b[1;33m\u001b[0m\u001b[1;33m\u001b[0m\u001b[0m\n\u001b[0m\u001b[0;32m      8\u001b[0m             \u001b[1;32mreturn\u001b[0m \u001b[1;32mFalse\u001b[0m\u001b[1;33m\u001b[0m\u001b[1;33m\u001b[0m\u001b[0m\n\u001b[0;32m      9\u001b[0m         \u001b[1;32mreturn\u001b[0m \u001b[1;32mTrue\u001b[0m\u001b[1;33m\u001b[0m\u001b[1;33m\u001b[0m\u001b[0m\n",
      "\u001b[1;31mIndexError\u001b[0m: list index out of range"
     ]
    }
   ],
   "source": [
    "def arrEqual(arr1,arr2,n,m):\n",
    "    if(n !=m):\n",
    "        return True\n",
    "    arr1.sort()\n",
    "    arr2.sort()\n",
    "    for i in range(0,n--1):\n",
    "        if(arr1[i]!= arr2[j]):\n",
    "            return False\n",
    "    return True\n",
    "arr1=[1,7,3,4,5]\n",
    "arr2=[1,3,4,5,7]\n",
    "n=len(arr1)\n",
    "m=len(arr2)\n",
    "if(arrEqual(arr1,arr2,n,m)):\n",
    "    print(\"yes\")\n",
    "else:\n",
    "    print(\"no\")"
   ]
  },
  {
   "cell_type": "code",
   "execution_count": 36,
   "id": "f42242f1",
   "metadata": {},
   "outputs": [
    {
     "name": "stdout",
     "output_type": "stream",
     "text": [
      "enter size of the array:4\n",
      "enter elements of array:11\n",
      "enter elements of array:10\n",
      "enter elements of array:14\n",
      "enter elements of array:13\n",
      "largest elements in array is 14\n",
      "smallest elements in array is 10\n"
     ]
    }
   ],
   "source": [
    "arr=[]\n",
    "n=int(input(\"enter size of the array:\"))\n",
    "for x in range(n):\n",
    "    x=int(input(\"enter elements of array:\"))\n",
    "    arr.append(x)\n",
    "largest=arr[0]\n",
    "smallest=arr[1]\n",
    "for i in range(n):\n",
    "    if(arr[i]>largest):\n",
    "        largest=arr[i]\n",
    "    if (arr[i]<smallest):\n",
    "        smallest=arr[j]\n",
    "print(f\"largest elements in array is {largest}\")\n",
    "print(f\"smallest elements in array is {smallest}\")"
   ]
  },
  {
   "cell_type": "code",
   "execution_count": 41,
   "id": "0578f2cf",
   "metadata": {},
   "outputs": [
    {
     "name": "stdout",
     "output_type": "stream",
     "text": [
      "enter size of the array4\n",
      "enter element of array:11\n",
      "enter element of array:14\n",
      "enter element of array:13\n",
      "enter element of array:12\n",
      "first two largest elements of array is13 and 14\n",
      "first two largest elements of array is12 and 13\n",
      "first two largest elements of array is11 and 12\n"
     ]
    }
   ],
   "source": [
    "import array\n",
    "arr=[]\n",
    "n=int(input(\"enter size of the array\"))\n",
    "for x in range(n):\n",
    "    x=int(input(\"enter element of array:\"))\n",
    "    arr.append(x)\n",
    "sorted_array=sorted(array.array(\"i\",arr))\n",
    "for i in range(len(arr)-1,0,-1):\n",
    "    if sorted_array[i] != sorted_array[i-1]:\n",
    "        print(f\"first two largest elements of array is{sorted_array[i-1]} and {sorted_array[i]}\")"
   ]
  },
  {
   "cell_type": "code",
   "execution_count": 51,
   "id": "9bb5c319",
   "metadata": {},
   "outputs": [
    {
     "name": "stdout",
     "output_type": "stream",
     "text": [
      "[2, 4, 10, 20, 52]\n"
     ]
    }
   ],
   "source": [
    "def remove(duplicate):\n",
    "    final_list=[]\n",
    "    for num in duplicate:\n",
    "        if num not in final_list:\n",
    "            final_list.append(num)\n",
    "    return final_list\n",
    "duplicate=[2,4,10,20,52,20]\n",
    "print(remove(duplicate))\n"
   ]
  },
  {
   "cell_type": "code",
   "execution_count": null,
   "id": "bec9e0d8",
   "metadata": {},
   "outputs": [],
   "source": []
  },
  {
   "cell_type": "code",
   "execution_count": null,
   "id": "a471da5b",
   "metadata": {},
   "outputs": [],
   "source": []
  }
 ],
 "metadata": {
  "kernelspec": {
   "display_name": "Python 3",
   "language": "python",
   "name": "python3"
  },
  "language_info": {
   "codemirror_mode": {
    "name": "ipython",
    "version": 3
   },
   "file_extension": ".py",
   "mimetype": "text/x-python",
   "name": "python",
   "nbconvert_exporter": "python",
   "pygments_lexer": "ipython3",
   "version": "3.8.8"
  }
 },
 "nbformat": 4,
 "nbformat_minor": 5
}
