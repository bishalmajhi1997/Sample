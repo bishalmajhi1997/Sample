{
 "cells": [
  {
   "cell_type": "code",
   "execution_count": 2,
   "id": "a2e4c860",
   "metadata": {},
   "outputs": [
    {
     "name": "stdout",
     "output_type": "stream",
     "text": [
      "10.0\n",
      "31.622776601683793\n"
     ]
    }
   ],
   "source": [
    "from numpy import *\n",
    "a=logspace(1,3,5)\n",
    "print(a[0])\n",
    "print(a[1])"
   ]
  },
  {
   "cell_type": "code",
   "execution_count": 3,
   "id": "061331a0",
   "metadata": {},
   "outputs": [
    {
     "name": "stdout",
     "output_type": "stream",
     "text": [
      "10.0\n",
      "31.622776601683793\n",
      "100.0\n",
      "316.22776601683796\n",
      "1000.0\n"
     ]
    }
   ],
   "source": [
    "for el in a:\n",
    "    print(el)"
   ]
  },
  {
   "cell_type": "code",
   "execution_count": 4,
   "id": "bc73d421",
   "metadata": {},
   "outputs": [
    {
     "name": "stdout",
     "output_type": "stream",
     "text": [
      "10.0\n",
      "31.622776601683793\n",
      "100.0\n",
      "316.22776601683796\n",
      "1000.0\n"
     ]
    }
   ],
   "source": [
    "from numpy import *\n",
    "a=logspace(1,3,5)\n",
    "n=len(a)\n",
    "i=0\n",
    "while i<n:\n",
    "    print(a[i])\n",
    "    i+=1"
   ]
  },
  {
   "cell_type": "code",
   "execution_count": 8,
   "id": "6fe09158",
   "metadata": {},
   "outputs": [
    {
     "data": {
      "text/plain": [
       "array([1, 3, 5])"
      ]
     },
     "execution_count": 8,
     "metadata": {},
     "output_type": "execute_result"
    }
   ],
   "source": [
    "a=arange(1,10,2)\n",
    "a"
   ]
  },
  {
   "cell_type": "code",
   "execution_count": 10,
   "id": "6828c47c",
   "metadata": {},
   "outputs": [
    {
     "name": "stdout",
     "output_type": "stream",
     "text": [
      "1\n",
      "3\n",
      "5\n"
     ]
    }
   ],
   "source": [
    "for el in a:\n",
    "    print(el)"
   ]
  },
  {
   "cell_type": "code",
   "execution_count": 13,
   "id": "3283e1ac",
   "metadata": {},
   "outputs": [
    {
     "data": {
      "text/plain": [
       "array([1., 1., 1., 1., 1.])"
      ]
     },
     "execution_count": 13,
     "metadata": {},
     "output_type": "execute_result"
    }
   ],
   "source": [
    "a=ones(5)\n",
    "a"
   ]
  },
  {
   "cell_type": "code",
   "execution_count": 14,
   "id": "92313ca4",
   "metadata": {},
   "outputs": [
    {
     "data": {
      "text/plain": [
       "array([106, 107, 108, 109, 110])"
      ]
     },
     "execution_count": 14,
     "metadata": {},
     "output_type": "execute_result"
    }
   ],
   "source": [
    "a=array([101,102,103,104,105])\n",
    "a=a+5\n",
    "a"
   ]
  },
  {
   "cell_type": "code",
   "execution_count": 16,
   "id": "e9dd37a5",
   "metadata": {},
   "outputs": [
    {
     "data": {
      "text/plain": [
       "array([ 203, 1123,  206,  208, 1123])"
      ]
     },
     "execution_count": 16,
     "metadata": {},
     "output_type": "execute_result"
    }
   ],
   "source": [
    "a=array([101,102,104,106,107])\n",
    "b=array([102,1021,102,102,1016])\n",
    "c=a+b\n",
    "c"
   ]
  },
  {
   "cell_type": "code",
   "execution_count": 18,
   "id": "d538f0ac",
   "metadata": {},
   "outputs": [
    {
     "name": "stdout",
     "output_type": "stream",
     "text": [
      "101\n",
      "102\n",
      "104\n",
      "106\n",
      "107\n"
     ]
    }
   ],
   "source": [
    "for eel in a:\n",
    "    print(eel)"
   ]
  },
  {
   "cell_type": "code",
   "execution_count": 27,
   "id": "baf70d06",
   "metadata": {},
   "outputs": [
    {
     "data": {
      "text/plain": [
       "array([100,  20, 300, 400, 500])"
      ]
     },
     "execution_count": 27,
     "metadata": {},
     "output_type": "execute_result"
    }
   ],
   "source": [
    "a=array([100,2,300,4,500])\n",
    "b=array([100,20,30,400,50])\n",
    "result=where(a>b,a,b)\n",
    "result"
   ]
  },
  {
   "cell_type": "code",
   "execution_count": 36,
   "id": "63321c4e",
   "metadata": {},
   "outputs": [
    {
     "name": "stdout",
     "output_type": "stream",
     "text": [
      "1544763083632\n",
      "1544763083632\n"
     ]
    }
   ],
   "source": [
    "a=array([100,2,300,4,500,0])\n",
    "b=a\n",
    "print(id(b))\n",
    "print(id(a))\n"
   ]
  },
  {
   "cell_type": "code",
   "execution_count": 30,
   "id": "8e02ba08",
   "metadata": {},
   "outputs": [
    {
     "data": {
      "text/plain": [
       "array([100,  80,  50,   4, 500,   0])"
      ]
     },
     "execution_count": 30,
     "metadata": {},
     "output_type": "execute_result"
    }
   ],
   "source": [
    "b=a.view()\n",
    "a[1]=80\n",
    "b[2]=50\n",
    "a"
   ]
  },
  {
   "cell_type": "code",
   "execution_count": 31,
   "id": "9fb47749",
   "metadata": {},
   "outputs": [
    {
     "data": {
      "text/plain": [
       "array([100,  80,  50,   4, 500,   0])"
      ]
     },
     "execution_count": 31,
     "metadata": {},
     "output_type": "execute_result"
    }
   ],
   "source": [
    "b"
   ]
  },
  {
   "cell_type": "code",
   "execution_count": 32,
   "id": "52d82167",
   "metadata": {},
   "outputs": [
    {
     "data": {
      "text/plain": [
       "1544763280240"
      ]
     },
     "execution_count": 32,
     "metadata": {},
     "output_type": "execute_result"
    }
   ],
   "source": [
    "id(a)"
   ]
  },
  {
   "cell_type": "code",
   "execution_count": 33,
   "id": "a5c3a0e7",
   "metadata": {},
   "outputs": [
    {
     "data": {
      "text/plain": [
       "1544757871024"
      ]
     },
     "execution_count": 33,
     "metadata": {},
     "output_type": "execute_result"
    }
   ],
   "source": [
    "id(b)"
   ]
  },
  {
   "cell_type": "code",
   "execution_count": 37,
   "id": "c26de2c4",
   "metadata": {},
   "outputs": [
    {
     "name": "stdout",
     "output_type": "stream",
     "text": [
      "1544763083632\n",
      "1544763083632\n"
     ]
    }
   ],
   "source": [
    "print(id(b))\n",
    "print(id(a))\n"
   ]
  },
  {
   "cell_type": "code",
   "execution_count": 39,
   "id": "c69bc2e1",
   "metadata": {},
   "outputs": [
    {
     "name": "stdout",
     "output_type": "stream",
     "text": [
      "1544763355472\n",
      "1544763083632\n"
     ]
    }
   ],
   "source": [
    "b=copy(a)\n",
    "print(id(b))\n",
    "print(id(a))"
   ]
  },
  {
   "cell_type": "markdown",
   "id": "69cc7491",
   "metadata": {},
   "source": [
    "n=int(input(\"enter number of elments\"))\n",
    "a=zeros(n)\n",
    "for i in range(n):\n",
    "    u=int(input(\"enter elements\"))\n",
    "    a[i]=u\n",
    "a"
   ]
  },
  {
   "cell_type": "code",
   "execution_count": 46,
   "id": "7d8f22c7",
   "metadata": {},
   "outputs": [
    {
     "name": "stdout",
     "output_type": "stream",
     "text": [
      "enter number of elments5\n",
      "enter elemnts1\n",
      "enter elemnts2\n",
      "enter elemnts3\n",
      "enter elemnts4\n",
      "enter elemnts5\n",
      "1\n",
      "2\n",
      "3\n",
      "4\n",
      "5\n"
     ]
    }
   ],
   "source": [
    "from numpy import*\n",
    "n=int(input(\"enter number of elments\"))\n",
    "a=zeros(n,dtype(int))\n",
    "for i in range(len(a)):\n",
    "    x=int(input(\"enter elemnts\"))\n",
    "    a[i]=x\n",
    "for i in range(len(a)):\n",
    "    print(a[i])"
   ]
  },
  {
   "cell_type": "code",
   "execution_count": 51,
   "id": "22718c48",
   "metadata": {},
   "outputs": [
    {
     "name": "stdout",
     "output_type": "stream",
     "text": [
      "enter number of elements5\n",
      "enter elements1\n",
      "enter elements2\n",
      "enter elements3\n",
      "enter elements4\n",
      "enter elements5\n",
      "[1. 2. 3. 4. 5.]\n",
      "1.0\n",
      "2.0\n",
      "3.0\n",
      "4.0\n",
      "5.0\n",
      "[1. 2. 3. 4. 5.]\n"
     ]
    }
   ],
   "source": [
    "from numpy import *\n",
    "n=int(input(\"enter number of elements\"))\n",
    "a=zeros(n)\n",
    "x=len(a)\n",
    "i=0\n",
    "j=0\n",
    "while i<x:\n",
    "    m=int(input(\"enter elements\"))\n",
    "    a[i]=m\n",
    "    i+=1\n",
    "print(a)\n",
    "while j<x:\n",
    "    print(a[j])\n",
    "    j+=1\n",
    "print(a)"
   ]
  },
  {
   "cell_type": "code",
   "execution_count": 54,
   "id": "a5b01f5b",
   "metadata": {},
   "outputs": [
    {
     "name": "stdout",
     "output_type": "stream",
     "text": [
      "10\n",
      "20\n",
      "30\n",
      "40\n",
      "50\n",
      "60\n",
      "70\n",
      "80\n"
     ]
    }
   ],
   "source": [
    "from numpy import *\n",
    "a=array([[10,20,30,40],\n",
    "       [50,60,70,80]])\n",
    "print(a[0][0])\n",
    "print(a[0][1])\n",
    "print(a[0][2])\n",
    "print(a[0][3])\n",
    "print(a[1][0])\n",
    "print(a[1][1])\n",
    "print(a[1][2])\n",
    "print(a[1][3])"
   ]
  },
  {
   "cell_type": "code",
   "execution_count": 56,
   "id": "33de44c2",
   "metadata": {},
   "outputs": [
    {
     "name": "stdout",
     "output_type": "stream",
     "text": [
      "800\n"
     ]
    }
   ],
   "source": [
    "a[1][3]=800\n",
    "print(a[1][3])"
   ]
  },
  {
   "cell_type": "code",
   "execution_count": 57,
   "id": "e524919e",
   "metadata": {},
   "outputs": [
    {
     "name": "stdout",
     "output_type": "stream",
     "text": [
      "10\n",
      "20\n",
      "30\n",
      "40\n",
      "50\n",
      "60\n",
      "70\n",
      "800\n"
     ]
    }
   ],
   "source": [
    "for r in a:\n",
    "    for c in r:\n",
    "        print(c)"
   ]
  },
  {
   "cell_type": "code",
   "execution_count": 60,
   "id": "99aa4c99",
   "metadata": {},
   "outputs": [
    {
     "name": "stdout",
     "output_type": "stream",
     "text": [
      "10\n",
      "20\n",
      "30\n",
      "40\n",
      "50\n",
      "60\n",
      "70\n",
      "800\n"
     ]
    }
   ],
   "source": [
    "n=len(a)\n",
    "for i in range(n):\n",
    "    for c in range(len(a[i])):\n",
    "          print(a[i][c])"
   ]
  },
  {
   "cell_type": "code",
   "execution_count": 61,
   "id": "3a734aaf",
   "metadata": {},
   "outputs": [
    {
     "name": "stdout",
     "output_type": "stream",
     "text": [
      "10\n",
      "20\n",
      "30\n",
      "40\n",
      "50\n",
      "60\n",
      "70\n",
      "800\n"
     ]
    }
   ],
   "source": [
    "i=0\n",
    "while i<n:\n",
    "    j=0\n",
    "    while j<len(a[i]):\n",
    "        print(a[i][j])\n",
    "        j+=1\n",
    "    i+=1"
   ]
  },
  {
   "cell_type": "code",
   "execution_count": 64,
   "id": "1a087b52",
   "metadata": {},
   "outputs": [
    {
     "name": "stdout",
     "output_type": "stream",
     "text": [
      "0.0\n",
      "0.0\n",
      "0.0\n",
      "0.0\n",
      "0.0\n",
      "0.0\n"
     ]
    }
   ],
   "source": [
    "a=zeros((3,2))\n",
    "print(a[0][0])\n",
    "print(a[0][1])\n",
    "print(a[1][0])\n",
    "print(a[1][1])\n",
    "print(a[2][0])\n",
    "print(a[2][1])"
   ]
  },
  {
   "cell_type": "code",
   "execution_count": 65,
   "id": "54c6e8d3",
   "metadata": {},
   "outputs": [
    {
     "name": "stdout",
     "output_type": "stream",
     "text": [
      "[0. 0.]\n",
      "[0. 0.]\n",
      "[0. 0.]\n",
      "[0. 0.]\n",
      "[0. 0.]\n",
      "[0. 0.]\n",
      "[0. 0.]\n",
      "[0. 0.]\n",
      "[0. 0.]\n"
     ]
    }
   ],
   "source": [
    "for r in a:\n",
    "    for c in a:\n",
    "        print(c)"
   ]
  },
  {
   "cell_type": "code",
   "execution_count": 68,
   "id": "e3d7c7bb",
   "metadata": {},
   "outputs": [
    {
     "name": "stdout",
     "output_type": "stream",
     "text": [
      "index 0 0 0.0\n",
      "index 0 1 0.0\n",
      "index 1 0 0.0\n",
      "index 1 1 0.0\n",
      "index 2 0 0.0\n",
      "index 2 1 0.0\n"
     ]
    }
   ],
   "source": [
    "n=len(a)\n",
    "for i in range(n):\n",
    "    for j in range(len(a[i])):\n",
    "        print(\"index\",i,j,a[i][j])"
   ]
  },
  {
   "cell_type": "code",
   "execution_count": 69,
   "id": "b74ead79",
   "metadata": {},
   "outputs": [
    {
     "name": "stdout",
     "output_type": "stream",
     "text": [
      "index 0 0 = 0.0\n",
      "index 0 1 = 0.0\n",
      "index 1 0 = 0.0\n",
      "index 1 1 = 0.0\n",
      "index 2 0 = 0.0\n",
      "index 2 1 = 0.0\n"
     ]
    }
   ],
   "source": [
    "i=0\n",
    "while i<n:\n",
    "    j=0\n",
    "    while j<len(a[i]):\n",
    "        print(\"index\",i,j,\"=\",a[i][j])\n",
    "        j+=1\n",
    "    i+=1"
   ]
  },
  {
   "cell_type": "code",
   "execution_count": 72,
   "id": "2d013c10",
   "metadata": {},
   "outputs": [],
   "source": [
    "a=array([1,2,3,4,5,6,7,9,8,10,11,12])\n",
    "b=reshape(a,(2,3,2))"
   ]
  },
  {
   "cell_type": "code",
   "execution_count": 73,
   "id": "39ddc411",
   "metadata": {},
   "outputs": [
    {
     "data": {
      "text/plain": [
       "array([[[ 1,  2],\n",
       "        [ 3,  4],\n",
       "        [ 5,  6]],\n",
       "\n",
       "       [[ 7,  9],\n",
       "        [ 8, 10],\n",
       "        [11, 12]]])"
      ]
     },
     "execution_count": 73,
     "metadata": {},
     "output_type": "execute_result"
    }
   ],
   "source": [
    "b"
   ]
  },
  {
   "cell_type": "code",
   "execution_count": 75,
   "id": "ca32a30d",
   "metadata": {},
   "outputs": [
    {
     "data": {
      "text/plain": [
       "array([1, 2, 3, 4, 5, 6])"
      ]
     },
     "execution_count": 75,
     "metadata": {},
     "output_type": "execute_result"
    }
   ],
   "source": [
    "a=array([[1,2,3],[4,5,6]])\n",
    "b=reshape(a,6)\n",
    "b"
   ]
  },
  {
   "cell_type": "code",
   "execution_count": 77,
   "id": "302900e2",
   "metadata": {},
   "outputs": [
    {
     "data": {
      "text/plain": [
       "array([1, 2, 3, 4, 5, 6])"
      ]
     },
     "execution_count": 77,
     "metadata": {},
     "output_type": "execute_result"
    }
   ],
   "source": [
    "from numpy import *\n",
    "e=array([[1,2,3],[4,5,6]])\n",
    "f=e.flatten()\n",
    "f"
   ]
  },
  {
   "cell_type": "markdown",
   "id": "9b4f012a",
   "metadata": {},
   "source": [
    "from numpy import *\n",
    "m=int(input(\"enter number of elemnts\"))\n",
    "n=int(input(\"enter number of elemnts\"))\n",
    "a=zeros((m,n))\n",
    "x=len(a)\n",
    "for i in range(x):\n",
    "    for j in range(len(a[i])):\n",
    "        u=int(input(\"enter elements\"))\n",
    "        a[i][j]=u\n",
    "for i in range(u):\n",
    "    for j in range(len(a[i])):\n",
    "        print(a[i][j])\n",
    "print(a)"
   ]
  },
  {
   "cell_type": "code",
   "execution_count": 80,
   "id": "7294d8c2",
   "metadata": {},
   "outputs": [
    {
     "name": "stdout",
     "output_type": "stream",
     "text": [
      "enter number of elemnts2\n",
      "enter number of elemnts3\n",
      "enter elements1\n",
      "enter elements2\n",
      "enter elements3\n",
      "enter elements4\n",
      "enter elements5\n",
      "enter elements6\n",
      "1.0\n",
      "2.0\n",
      "3.0\n",
      "4.0\n",
      "5.0\n",
      "6.0\n",
      "[[1. 2. 3.]\n",
      " [4. 5. 6.]]\n"
     ]
    }
   ],
   "source": [
    "from numpy import *\n",
    "m=int(input(\"enter number of elemnts\"))\n",
    "n=int(input(\"enter number of elemnts\"))\n",
    "a=zeros((m,n))\n",
    "x=len(a)\n",
    "for i in range(x):\n",
    "    for j in range(len(a[i])):\n",
    "        u=int(input(\"enter elements\"))\n",
    "        a[i][j]=u\n",
    "for i in range(x):\n",
    "    for j in range(len(a[i])):\n",
    "        print(a[i][j])\n",
    "print(a)"
   ]
  },
  {
   "cell_type": "code",
   "execution_count": 83,
   "id": "c9954482",
   "metadata": {},
   "outputs": [
    {
     "name": "stdout",
     "output_type": "stream",
     "text": [
      "enter elements:2\n",
      "enter elements:3\n",
      "enter elements:1\n",
      "[[2. 3. 1.]\n",
      " [4. 5. 6.]]\n"
     ]
    }
   ],
   "source": [
    "i=0\n",
    "while i<x:\n",
    "    j=0\n",
    "    while j<len(a[i]):\n",
    "        x=int(input(\"enter elements:\"))\n",
    "        a[i][j]=x\n",
    "        j+=1\n",
    "    i+=1\n",
    "while i<x:\n",
    "    j=0\n",
    "    while j<len(a[i]):\n",
    "        print(\"index\",i,j,\"=\",a[i][j])\n",
    "        j+=1\n",
    "    i+=1\n",
    "print(a)"
   ]
  },
  {
   "cell_type": "markdown",
   "id": "6763fd08",
   "metadata": {},
   "source": []
  }
 ],
 "metadata": {
  "kernelspec": {
   "display_name": "Python 3",
   "language": "python",
   "name": "python3"
  },
  "language_info": {
   "codemirror_mode": {
    "name": "ipython",
    "version": 3
   },
   "file_extension": ".py",
   "mimetype": "text/x-python",
   "name": "python",
   "nbconvert_exporter": "python",
   "pygments_lexer": "ipython3",
   "version": "3.8.8"
  }
 },
 "nbformat": 4,
 "nbformat_minor": 5
}
