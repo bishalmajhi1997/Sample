{
 "cells": [
  {
   "cell_type": "code",
   "execution_count": 3,
   "id": "68d023e6",
   "metadata": {},
   "outputs": [
    {
     "name": "stdout",
     "output_type": "stream",
     "text": [
      "child class instance method:\n",
      "parent class instance method:\n",
      "parent class method 1000\n",
      "parent class static method: 10\n"
     ]
    }
   ],
   "source": [
    "class Father:\n",
    "    money=1000\n",
    "    def show(self):\n",
    "        print(\"parent class instance method:\")\n",
    "    @classmethod\n",
    "    def showmoney(cls):\n",
    "        print(\"parent class method\",cls.money)\n",
    "    @staticmethod\n",
    "    def start():\n",
    "        a=10\n",
    "        print(\"parent class static method:\",a)\n",
    "class Son(Father):\n",
    "    def disp(self):\n",
    "        print(\"child class instance method:\")\n",
    "s=Son()\n",
    "s.disp()\n",
    "s.show()\n",
    "s.showmoney()\n",
    "s.start()"
   ]
  },
  {
   "cell_type": "code",
   "execution_count": 4,
   "id": "d748e7ea",
   "metadata": {},
   "outputs": [
    {
     "name": "stdout",
     "output_type": "stream",
     "text": [
      "parent class instance method:\n",
      "parent class method 1000\n",
      "parent class static method: 10\n"
     ]
    }
   ],
   "source": [
    "f=Father()\n",
    "f.show()\n",
    "f.showmoney()\n",
    "f.start()"
   ]
  },
  {
   "cell_type": "code",
   "execution_count": 5,
   "id": "681302cd",
   "metadata": {},
   "outputs": [
    {
     "name": "stdout",
     "output_type": "stream",
     "text": [
      "father class constructor:\n"
     ]
    },
    {
     "data": {
      "text/plain": [
       "1000"
      ]
     },
     "execution_count": 5,
     "metadata": {},
     "output_type": "execute_result"
    }
   ],
   "source": [
    "class Father:\n",
    "    def __init__(self,m):\n",
    "        self.money=m\n",
    "        print(\"father class constructor:\")\n",
    "    def show(self):\n",
    "        print(\"father class instance method:\")\n",
    "class Son(Father):\n",
    "    def disp(self):\n",
    "        print(\"son class instance method:\",self.money+1000)\n",
    "s=Son(1000)\n",
    "s.money"
   ]
  },
  {
   "cell_type": "code",
   "execution_count": 6,
   "id": "ca9742c4",
   "metadata": {},
   "outputs": [
    {
     "name": "stdout",
     "output_type": "stream",
     "text": [
      "father class instance method:\n"
     ]
    }
   ],
   "source": [
    "s.show()"
   ]
  },
  {
   "cell_type": "code",
   "execution_count": 8,
   "id": "03180ee3",
   "metadata": {},
   "outputs": [
    {
     "name": "stdout",
     "output_type": "stream",
     "text": [
      "son class constructor\n"
     ]
    },
    {
     "data": {
      "text/plain": [
       "1000"
      ]
     },
     "execution_count": 8,
     "metadata": {},
     "output_type": "execute_result"
    }
   ],
   "source": [
    "class Father:\n",
    "    def __init__(self,m):\n",
    "        self.money=m\n",
    "        print(\"father class constructor:\")\n",
    "    def show(self):\n",
    "        print(\"father class instance method:\")\n",
    "class Son(Father):\n",
    "    def __init__(self,r):\n",
    "        self.money=r\n",
    "        self.car=\"bmw\"\n",
    "        print(\"son class constructor\")\n",
    "    def disp(self):\n",
    "        print(\"son class instance method:\",self.money+1000)\n",
    "s=Son(1000)\n",
    "s.money"
   ]
  },
  {
   "cell_type": "code",
   "execution_count": 9,
   "id": "60dbe437",
   "metadata": {},
   "outputs": [
    {
     "data": {
      "text/plain": [
       "'bmw'"
      ]
     },
     "execution_count": 9,
     "metadata": {},
     "output_type": "execute_result"
    }
   ],
   "source": [
    "s.car"
   ]
  },
  {
   "cell_type": "code",
   "execution_count": 13,
   "id": "b0302dae",
   "metadata": {},
   "outputs": [
    {
     "name": "stdout",
     "output_type": "stream",
     "text": [
      "father class constructor:\n",
      "son class constructor\n"
     ]
    }
   ],
   "source": [
    "class Father:\n",
    "    def __init__(self,m):\n",
    "        self.money=m\n",
    "        print(\"father class constructor:\")\n",
    "    def show(self):\n",
    "        print(\"father class instance method:\")\n",
    "class Son(Father):\n",
    "    def __init__(self,r,m):\n",
    "        super().__init__(r)\n",
    "        self.job=m\n",
    "        \n",
    "        print(\"son class constructor\")\n",
    "    def disp(self):\n",
    "        print(\"son class instance method:\",self.money+1000,self.job)\n",
    "s=Son(1000,\"python\")\n"
   ]
  },
  {
   "cell_type": "code",
   "execution_count": 14,
   "id": "f086d1af",
   "metadata": {},
   "outputs": [
    {
     "name": "stdout",
     "output_type": "stream",
     "text": [
      "son class instance method: 2000 python\n"
     ]
    }
   ],
   "source": [
    "s.disp()"
   ]
  },
  {
   "cell_type": "code",
   "execution_count": 19,
   "id": "64b71c8c",
   "metadata": {},
   "outputs": [
    {
     "name": "stdout",
     "output_type": "stream",
     "text": [
      "father class constructor:\n",
      "gurdian class constructor:\n",
      "gurdian class method:\n"
     ]
    }
   ],
   "source": [
    "class Father:\n",
    "    def __init__(self):\n",
    "        print(\"father class constructor:\")\n",
    "    def showf(self):\n",
    "        print(\"father class method\")\n",
    "class Son(Father):\n",
    "    def __init__(self):\n",
    "        super().__init__()\n",
    "    def shows(self):\n",
    "        print(\"son class method:\")\n",
    "class Grandson(Son):\n",
    "    def __init__(self):\n",
    "        super().__init__()\n",
    "        print(\"gurdian class constructor:\")\n",
    "    def show(self):\n",
    "        print(\"gurdian class method:\")\n",
    "g=Grandson()\n",
    "g.show()\n",
    "    "
   ]
  },
  {
   "cell_type": "code",
   "execution_count": 20,
   "id": "b1112a85",
   "metadata": {},
   "outputs": [
    {
     "name": "stdout",
     "output_type": "stream",
     "text": [
      "son class method:\n"
     ]
    }
   ],
   "source": [
    "g.shows()"
   ]
  },
  {
   "cell_type": "code",
   "execution_count": 22,
   "id": "c61ccc16",
   "metadata": {},
   "outputs": [
    {
     "name": "stdout",
     "output_type": "stream",
     "text": [
      "gurdian class method:\n"
     ]
    }
   ],
   "source": [
    "g.show()"
   ]
  },
  {
   "cell_type": "code",
   "execution_count": 25,
   "id": "099603fe",
   "metadata": {},
   "outputs": [
    {
     "name": "stdout",
     "output_type": "stream",
     "text": [
      "FCS\n",
      "DCC\n",
      "DCM\n"
     ]
    }
   ],
   "source": [
    "class Father:\n",
    "    def __init__(self):\n",
    "        print(\"FCS\")\n",
    "    def showF(self):\n",
    "        print(\"FCM\")\n",
    "class Son(Father):\n",
    "    def __init__(self):\n",
    "        super().__init__()\n",
    "        print(\"Son class constructor\")\n",
    "    def shows(self):\n",
    "        print(\"scm\")\n",
    "class Daughter(Father):\n",
    "    def __init__(self):\n",
    "        super().__init__()\n",
    "        print(\"DCC\")\n",
    "    def showD(self):\n",
    "        print(\"DCM\")\n",
    "d=Daughter()\n",
    "d.showD()\n",
    "        "
   ]
  },
  {
   "cell_type": "code",
   "execution_count": 27,
   "id": "eb53a6e1",
   "metadata": {},
   "outputs": [
    {
     "name": "stdout",
     "output_type": "stream",
     "text": [
      "FCM\n"
     ]
    }
   ],
   "source": [
    "d.showF()"
   ]
  },
  {
   "cell_type": "code",
   "execution_count": 28,
   "id": "0e86cfc6",
   "metadata": {},
   "outputs": [
    {
     "name": "stdout",
     "output_type": "stream",
     "text": [
      "FCS\n",
      "Son class constructor\n"
     ]
    }
   ],
   "source": [
    "a=Son()"
   ]
  },
  {
   "cell_type": "code",
   "execution_count": 29,
   "id": "02b8f225",
   "metadata": {},
   "outputs": [
    {
     "name": "stdout",
     "output_type": "stream",
     "text": [
      "scm\n"
     ]
    }
   ],
   "source": [
    "a.shows()"
   ]
  },
  {
   "cell_type": "code",
   "execution_count": 30,
   "id": "fefbd208",
   "metadata": {},
   "outputs": [
    {
     "name": "stdout",
     "output_type": "stream",
     "text": [
      "FCM\n"
     ]
    }
   ],
   "source": [
    "a.showF()"
   ]
  },
  {
   "cell_type": "code",
   "execution_count": 31,
   "id": "ccaae194",
   "metadata": {},
   "outputs": [
    {
     "name": "stdout",
     "output_type": "stream",
     "text": [
      "MCC\n",
      "son class constructor\n",
      "FCM\n"
     ]
    }
   ],
   "source": [
    "class Father:\n",
    "    def __init__(self):\n",
    "        super().__init__()\n",
    "    def showF(self):\n",
    "        print(\"FCM\")\n",
    "class Mother:\n",
    "    def __init__(self):\n",
    "        super().__init__()\n",
    "        print(\"MCC\")\n",
    "    def showM(self):\n",
    "        print(\"MCM\")\n",
    "class Son(Father,Mother):\n",
    "    def __init__(self):\n",
    "        super().__init__()\n",
    "        print(\"son class constructor\")\n",
    "    def shows(self):\n",
    "        print(\"SCM\")\n",
    "a=Son()\n",
    "a.showF()"
   ]
  },
  {
   "cell_type": "code",
   "execution_count": 32,
   "id": "2d8e6181",
   "metadata": {},
   "outputs": [
    {
     "name": "stdout",
     "output_type": "stream",
     "text": [
      "MCM\n"
     ]
    }
   ],
   "source": [
    "a.showM()"
   ]
  },
  {
   "cell_type": "code",
   "execution_count": 34,
   "id": "f41537a7",
   "metadata": {},
   "outputs": [
    {
     "name": "stdout",
     "output_type": "stream",
     "text": [
      "SCM\n"
     ]
    }
   ],
   "source": [
    "a.shows()"
   ]
  },
  {
   "cell_type": "code",
   "execution_count": 41,
   "id": "9e734173",
   "metadata": {},
   "outputs": [],
   "source": [
    "class Duck:\n",
    "    def walk(self):\n",
    "        print(\"TTTTTT\")\n",
    "class Horse:\n",
    "    def talk(self):\n",
    "        print(\"ffff\")\n",
    "class Cat:\n",
    "    def walk(self):\n",
    "        print(\"mmmmm\")\n",
    "def myfunction(obj):\n",
    "    obj.walk()"
   ]
  },
  {
   "cell_type": "code",
   "execution_count": 42,
   "id": "9cf02429",
   "metadata": {},
   "outputs": [
    {
     "name": "stdout",
     "output_type": "stream",
     "text": [
      "TTTTTT\n"
     ]
    }
   ],
   "source": [
    "d=Duck()\n",
    "myfunction(d)"
   ]
  },
  {
   "cell_type": "code",
   "execution_count": 43,
   "id": "731c3aa5",
   "metadata": {},
   "outputs": [
    {
     "ename": "AttributeError",
     "evalue": "'Horse' object has no attribute 'walk'",
     "output_type": "error",
     "traceback": [
      "\u001b[1;31m---------------------------------------------------------------------------\u001b[0m",
      "\u001b[1;31mAttributeError\u001b[0m                            Traceback (most recent call last)",
      "\u001b[1;32m<ipython-input-43-ef9b217a319c>\u001b[0m in \u001b[0;36m<module>\u001b[1;34m\u001b[0m\n\u001b[0;32m      1\u001b[0m \u001b[0mh\u001b[0m\u001b[1;33m=\u001b[0m\u001b[0mHorse\u001b[0m\u001b[1;33m(\u001b[0m\u001b[1;33m)\u001b[0m\u001b[1;33m\u001b[0m\u001b[1;33m\u001b[0m\u001b[0m\n\u001b[1;32m----> 2\u001b[1;33m \u001b[0mmyfunction\u001b[0m\u001b[1;33m(\u001b[0m\u001b[0mh\u001b[0m\u001b[1;33m)\u001b[0m\u001b[1;33m\u001b[0m\u001b[1;33m\u001b[0m\u001b[0m\n\u001b[0m",
      "\u001b[1;32m<ipython-input-41-9d3318dc02bd>\u001b[0m in \u001b[0;36mmyfunction\u001b[1;34m(obj)\u001b[0m\n\u001b[0;32m      9\u001b[0m         \u001b[0mprint\u001b[0m\u001b[1;33m(\u001b[0m\u001b[1;34m\"mmmmm\"\u001b[0m\u001b[1;33m)\u001b[0m\u001b[1;33m\u001b[0m\u001b[1;33m\u001b[0m\u001b[0m\n\u001b[0;32m     10\u001b[0m \u001b[1;32mdef\u001b[0m \u001b[0mmyfunction\u001b[0m\u001b[1;33m(\u001b[0m\u001b[0mobj\u001b[0m\u001b[1;33m)\u001b[0m\u001b[1;33m:\u001b[0m\u001b[1;33m\u001b[0m\u001b[1;33m\u001b[0m\u001b[0m\n\u001b[1;32m---> 11\u001b[1;33m     \u001b[0mobj\u001b[0m\u001b[1;33m.\u001b[0m\u001b[0mwalk\u001b[0m\u001b[1;33m(\u001b[0m\u001b[1;33m)\u001b[0m\u001b[1;33m\u001b[0m\u001b[1;33m\u001b[0m\u001b[0m\n\u001b[0m",
      "\u001b[1;31mAttributeError\u001b[0m: 'Horse' object has no attribute 'walk'"
     ]
    }
   ],
   "source": [
    "h=Horse()\n",
    "myfunction(h)"
   ]
  },
  {
   "cell_type": "code",
   "execution_count": 46,
   "id": "e5128da4",
   "metadata": {},
   "outputs": [],
   "source": [
    "def myfunction(obj):\n",
    "    if hasattr(obj,\"walk\"):\n",
    "        obj.walk()"
   ]
  },
  {
   "cell_type": "code",
   "execution_count": 47,
   "id": "6399f6ac",
   "metadata": {},
   "outputs": [
    {
     "name": "stdout",
     "output_type": "stream",
     "text": [
      "TTTTTT\n"
     ]
    }
   ],
   "source": [
    "d=Duck()\n",
    "myfunction(d)"
   ]
  },
  {
   "cell_type": "code",
   "execution_count": 50,
   "id": "8d958748",
   "metadata": {},
   "outputs": [
    {
     "name": "stdout",
     "output_type": "stream",
     "text": [
      "2nd sum method\n"
     ]
    }
   ],
   "source": [
    "class Myclass:\n",
    "    def sum(self,a):\n",
    "        print(\"ist sum method\",a)\n",
    "    def sum(self):\n",
    "        print(\"2nd sum method\")\n",
    "obj=Myclass()\n",
    "obj.sum()"
   ]
  },
  {
   "cell_type": "code",
   "execution_count": 51,
   "id": "f5fc4b73",
   "metadata": {},
   "outputs": [
    {
     "data": {
      "text/plain": [
       "60"
      ]
     },
     "execution_count": 51,
     "metadata": {},
     "output_type": "execute_result"
    }
   ],
   "source": [
    "class Myclass:\n",
    "    def sum(self,a=None,b=None,c=None):\n",
    "        s=a+b+c\n",
    "        return s\n",
    "obj=Myclass()\n",
    "obj.sum(10,20,30)"
   ]
  },
  {
   "cell_type": "code",
   "execution_count": 55,
   "id": "0a8d1f8f",
   "metadata": {},
   "outputs": [
    {
     "data": {
      "text/plain": [
       "'provide atleast two numbers'"
      ]
     },
     "execution_count": 55,
     "metadata": {},
     "output_type": "execute_result"
    }
   ],
   "source": [
    "class Myclass:\n",
    "    def sum(self,a=None,b=None,c=None):\n",
    "        if a!=None and b!=None and c!=None:\n",
    "            s=a+b+c\n",
    "        elif a!=None and b!=None:\n",
    "            s=a+b\n",
    "        else:\n",
    "            s=\"provide atleast two numbers\"\n",
    "        return s\n",
    "obj=Myclass()\n",
    "obj.sum(230)"
   ]
  },
  {
   "cell_type": "code",
   "execution_count": 57,
   "id": "52bf4b94",
   "metadata": {},
   "outputs": [
    {
     "name": "stdout",
     "output_type": "stream",
     "text": [
      "multiplication 200\n"
     ]
    }
   ],
   "source": [
    "class Add:\n",
    "    def result(self,a,b):\n",
    "        print(\"Addition:\",a+b)\n",
    "class Multi:\n",
    "    def result(self,a,b):\n",
    "        print(\"multiplication\",a*b)\n",
    "a=Multi()\n",
    "a.result(10,20)"
   ]
  },
  {
   "cell_type": "code",
   "execution_count": 58,
   "id": "16157cd0",
   "metadata": {},
   "outputs": [
    {
     "name": "stdout",
     "output_type": "stream",
     "text": [
      "Addition: 40\n"
     ]
    }
   ],
   "source": [
    "b=Add()\n",
    "b.result(20,20)"
   ]
  },
  {
   "cell_type": "code",
   "execution_count": 59,
   "id": "10278567",
   "metadata": {},
   "outputs": [
    {
     "name": "stdout",
     "output_type": "stream",
     "text": [
      "addition 30\n"
     ]
    }
   ],
   "source": [
    "class Add:\n",
    "    def result(self,a,b):\n",
    "        print(\"addition\",a+b)\n",
    "class multi(Add):\n",
    "    pass\n",
    "m=multi()\n",
    "m.result(10,20)"
   ]
  },
  {
   "cell_type": "code",
   "execution_count": 60,
   "id": "8718a578",
   "metadata": {},
   "outputs": [],
   "source": [
    "class Add:\n",
    "    def result(self,x,y):\n",
    "        print(\"addition\",x+y)\n",
    "class Multi(Add):\n",
    "    def result(self,a,b):\n",
    "        super().result(30,50)\n",
    "        print(a*b)"
   ]
  },
  {
   "cell_type": "code",
   "execution_count": 61,
   "id": "e903fc5f",
   "metadata": {},
   "outputs": [
    {
     "name": "stdout",
     "output_type": "stream",
     "text": [
      "addition 80\n",
      "200\n"
     ]
    }
   ],
   "source": [
    "a=Multi()\n",
    "a.result(10,20)"
   ]
  },
  {
   "cell_type": "code",
   "execution_count": 62,
   "id": "da6667e6",
   "metadata": {},
   "outputs": [
    {
     "name": "stdout",
     "output_type": "stream",
     "text": [
      "30\n"
     ]
    }
   ],
   "source": [
    "print(10+20)"
   ]
  },
  {
   "cell_type": "code",
   "execution_count": 64,
   "id": "4aa484ce",
   "metadata": {},
   "outputs": [
    {
     "data": {
      "text/plain": [
       "30"
      ]
     },
     "execution_count": 64,
     "metadata": {},
     "output_type": "execute_result"
    }
   ],
   "source": [
    "int.__add__(10,20)"
   ]
  },
  {
   "cell_type": "code",
   "execution_count": 66,
   "id": "48e97bde",
   "metadata": {},
   "outputs": [],
   "source": [
    "class A:\n",
    "    def __init__(self,x):\n",
    "        self.x=x\n",
    "    def __add__(self,other):\n",
    "        return self.x+other\n",
    "class B:\n",
    "    def __init__(self,x):\n",
    "        self.x=x"
   ]
  },
  {
   "cell_type": "code",
   "execution_count": 67,
   "id": "96fa1504",
   "metadata": {},
   "outputs": [],
   "source": [
    "a=A(100)"
   ]
  },
  {
   "cell_type": "code",
   "execution_count": 68,
   "id": "842c1a81",
   "metadata": {},
   "outputs": [],
   "source": [
    "b=B(200)"
   ]
  },
  {
   "cell_type": "code",
   "execution_count": 69,
   "id": "fa1b905f",
   "metadata": {},
   "outputs": [
    {
     "ename": "TypeError",
     "evalue": "unsupported operand type(s) for +: 'int' and 'B'",
     "output_type": "error",
     "traceback": [
      "\u001b[1;31m---------------------------------------------------------------------------\u001b[0m",
      "\u001b[1;31mTypeError\u001b[0m                                 Traceback (most recent call last)",
      "\u001b[1;32m<ipython-input-69-ca730b97bf8a>\u001b[0m in \u001b[0;36m<module>\u001b[1;34m\u001b[0m\n\u001b[1;32m----> 1\u001b[1;33m \u001b[0ma\u001b[0m\u001b[1;33m+\u001b[0m\u001b[0mb\u001b[0m\u001b[1;33m\u001b[0m\u001b[1;33m\u001b[0m\u001b[0m\n\u001b[0m",
      "\u001b[1;32m<ipython-input-66-4a16e0f62191>\u001b[0m in \u001b[0;36m__add__\u001b[1;34m(self, other)\u001b[0m\n\u001b[0;32m      3\u001b[0m         \u001b[0mself\u001b[0m\u001b[1;33m.\u001b[0m\u001b[0mx\u001b[0m\u001b[1;33m=\u001b[0m\u001b[0mx\u001b[0m\u001b[1;33m\u001b[0m\u001b[1;33m\u001b[0m\u001b[0m\n\u001b[0;32m      4\u001b[0m     \u001b[1;32mdef\u001b[0m \u001b[0m__add__\u001b[0m\u001b[1;33m(\u001b[0m\u001b[0mself\u001b[0m\u001b[1;33m,\u001b[0m\u001b[0mother\u001b[0m\u001b[1;33m)\u001b[0m\u001b[1;33m:\u001b[0m\u001b[1;33m\u001b[0m\u001b[1;33m\u001b[0m\u001b[0m\n\u001b[1;32m----> 5\u001b[1;33m         \u001b[1;32mreturn\u001b[0m \u001b[0mself\u001b[0m\u001b[1;33m.\u001b[0m\u001b[0mx\u001b[0m\u001b[1;33m+\u001b[0m\u001b[0mother\u001b[0m\u001b[1;33m\u001b[0m\u001b[1;33m\u001b[0m\u001b[0m\n\u001b[0m\u001b[0;32m      6\u001b[0m \u001b[1;32mclass\u001b[0m \u001b[0mB\u001b[0m\u001b[1;33m:\u001b[0m\u001b[1;33m\u001b[0m\u001b[1;33m\u001b[0m\u001b[0m\n\u001b[0;32m      7\u001b[0m     \u001b[1;32mdef\u001b[0m \u001b[0m__init__\u001b[0m\u001b[1;33m(\u001b[0m\u001b[0mself\u001b[0m\u001b[1;33m,\u001b[0m\u001b[0mx\u001b[0m\u001b[1;33m)\u001b[0m\u001b[1;33m:\u001b[0m\u001b[1;33m\u001b[0m\u001b[1;33m\u001b[0m\u001b[0m\n",
      "\u001b[1;31mTypeError\u001b[0m: unsupported operand type(s) for +: 'int' and 'B'"
     ]
    }
   ],
   "source": [
    "a+b"
   ]
  },
  {
   "cell_type": "code",
   "execution_count": null,
   "id": "c4215a86",
   "metadata": {},
   "outputs": [],
   "source": []
  }
 ],
 "metadata": {
  "kernelspec": {
   "display_name": "Python 3",
   "language": "python",
   "name": "python3"
  },
  "language_info": {
   "codemirror_mode": {
    "name": "ipython",
    "version": 3
   },
   "file_extension": ".py",
   "mimetype": "text/x-python",
   "name": "python",
   "nbconvert_exporter": "python",
   "pygments_lexer": "ipython3",
   "version": "3.8.8"
  }
 },
 "nbformat": 4,
 "nbformat_minor": 5
}
