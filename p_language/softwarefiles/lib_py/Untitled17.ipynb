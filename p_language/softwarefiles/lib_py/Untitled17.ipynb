{
 "cells": [
  {
   "cell_type": "code",
   "execution_count": 1,
   "id": "d0f47aad",
   "metadata": {},
   "outputs": [
    {
     "name": "stdout",
     "output_type": "stream",
     "text": [
      "enter a number250\n",
      "2 250\n",
      "5 250\n"
     ]
    }
   ],
   "source": [
    "number=int(input(\"enter a number\"))\n",
    "i=1\n",
    "while(i<=number):\n",
    "    count=0\n",
    "    if(number %i ==0):\n",
    "        j=1\n",
    "        while(j<=i):\n",
    "            if(i%j==0):\n",
    "                count=count+1\n",
    "            j=j+1\n",
    "        if(count==2):\n",
    "            print(i,number)\n",
    "\n",
    "    i=i+1"
   ]
  },
  {
   "cell_type": "code",
   "execution_count": 8,
   "id": "0bd4b5e6",
   "metadata": {},
   "outputs": [
    {
     "name": "stdout",
     "output_type": "stream",
     "text": [
      "enter a number777\n",
      "3 777\n",
      "7 777\n",
      "37 777\n"
     ]
    }
   ],
   "source": [
    "  num=int(input(\"enter a number\"))\n",
    "for i in range(2,num+1):\n",
    "    if(num %i ==0):\n",
    "        for"
   ]
  },
  {
   "cell_type": "code",
   "execution_count": 10,
   "id": "e2411df5",
   "metadata": {},
   "outputs": [
    {
     "name": "stdout",
     "output_type": "stream",
     "text": [
      "enter a number2\n",
      "enter a number3\n",
      "5\n"
     ]
    }
   ],
   "source": [
    "a=int(input(\"enter a number\"))\n",
    "b=int(input(\"enter a number\"))\n",
    "def add(a,b):\n",
    "    while(b !=0):\n",
    "        c=a & b\n",
    "        a=a^b\n",
    "        b=c<<1\n",
    "    return a\n",
    "print(add(a,b))"
   ]
  },
  {
   "cell_type": "code",
   "execution_count": 15,
   "id": "ccfcf1d1",
   "metadata": {},
   "outputs": [
    {
     "name": "stdout",
     "output_type": "stream",
     "text": [
      "enter a number6\n",
      "perfect number 6\n"
     ]
    }
   ],
   "source": [
    "n=int(input(\"enter a number\"))\n",
    "sum1=0\n",
    "for i in range(1,n):\n",
    "    if(n %i==0):\n",
    "        sum1=sum1+i\n",
    "if(sum1==n):\n",
    "    print(\"perfect number\",n)\n",
    "else:\n",
    "    print(\"not perfect number\",n)"
   ]
  },
  {
   "cell_type": "code",
   "execution_count": null,
   "id": "cdff80a7",
   "metadata": {},
   "outputs": [],
   "source": []
  },
  {
   "cell_type": "code",
   "execution_count": null,
   "id": "0c3ae144",
   "metadata": {},
   "outputs": [],
   "source": []
  }
 ],
 "metadata": {
  "kernelspec": {
   "display_name": "Python 3",
   "language": "python",
   "name": "python3"
  },
  "language_info": {
   "codemirror_mode": {
    "name": "ipython",
    "version": 3
   },
   "file_extension": ".py",
   "mimetype": "text/x-python",
   "name": "python",
   "nbconvert_exporter": "python",
   "pygments_lexer": "ipython3",
   "version": "3.8.8"
  }
 },
 "nbformat": 4,
 "nbformat_minor": 5
}
