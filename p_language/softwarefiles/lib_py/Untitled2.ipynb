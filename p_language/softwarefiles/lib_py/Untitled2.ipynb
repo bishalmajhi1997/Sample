{
 "cells": [
  {
   "cell_type": "code",
   "execution_count": 1,
   "id": "19549c5c",
   "metadata": {},
   "outputs": [
    {
     "name": "stdout",
     "output_type": "stream",
     "text": [
      "enter number of elements2\n",
      "enter elemnets1\n",
      "enter elemnets2\n",
      "1\n",
      "2\n"
     ]
    }
   ],
   "source": [
    "from array import *\n",
    "stu_roll=array(\"i\",[])\n",
    "n=int(input(\"enter number of elements\"))\n",
    "i=0\n",
    "j=0\n",
    "while i<n:\n",
    "    stu_roll.append(int(input(\"enter elemnets\")))\n",
    "    i+=1\n",
    "    \n",
    "while j<len(stu_roll):\n",
    "    print(stu_roll[j])\n",
    "    \n",
    "    j+=1"
   ]
  },
  {
   "cell_type": "code",
   "execution_count": 3,
   "id": "b2401f53",
   "metadata": {},
   "outputs": [
    {
     "name": "stdout",
     "output_type": "stream",
     "text": [
      "101\n",
      "102\n",
      "103\n",
      "104\n",
      "105\n",
      "array after insert\n",
      "101\n",
      "106\n",
      "102\n",
      "107\n",
      "103\n",
      "104\n",
      "105\n"
     ]
    }
   ],
   "source": [
    "from array import *\n",
    "stu_roll=array(\"i\",[101,102,103,104,105])\n",
    "n=len(stu_roll)\n",
    "i=0\n",
    "while (i<n):\n",
    "    print(stu_roll[i])\n",
    "    i+=1\n",
    "print(\"array after insert\")\n",
    "stu_roll.insert(1,106)\n",
    "stu_roll.insert(3,107)\n",
    "n=len(stu_roll)\n",
    "j=0\n",
    "while j<n:\n",
    "    print(stu_roll[j])\n",
    "    j+=1"
   ]
  },
  {
   "cell_type": "code",
   "execution_count": 9,
   "id": "53308f71",
   "metadata": {},
   "outputs": [
    {
     "name": "stdout",
     "output_type": "stream",
     "text": [
      "101\n",
      "102\n",
      "103\n",
      "104\n",
      "105\n",
      "array after insert\n",
      "101\n",
      "103\n",
      "104\n",
      "105\n"
     ]
    }
   ],
   "source": [
    "from array import *\n",
    "stu_roll=array(\"i\",[101,102,103,104,105])\n",
    "n=len(stu_roll)\n",
    "i=0\n",
    "while (i<n):\n",
    "    print(stu_roll[i])\n",
    "    i+=1\n",
    "print(\"array after insert\")\n",
    "stu_roll.remove(102)\n",
    "#stu_roll.insert(3,107)\n",
    "n=len(stu_roll)\n",
    "j=0\n",
    "while j<n:\n",
    "    print(stu_roll[j])\n",
    "    j+=1"
   ]
  },
  {
   "cell_type": "code",
   "execution_count": 13,
   "id": "110c8bc6",
   "metadata": {},
   "outputs": [
    {
     "name": "stdout",
     "output_type": "stream",
     "text": [
      "2\n"
     ]
    }
   ],
   "source": [
    "print(stu_roll.index(104))"
   ]
  },
  {
   "cell_type": "code",
   "execution_count": 15,
   "id": "733f420a",
   "metadata": {},
   "outputs": [
    {
     "name": "stdout",
     "output_type": "stream",
     "text": [
      "None\n"
     ]
    }
   ],
   "source": [
    "stu_roll=array(\"i\",[101,102,103,104,105])\n",
    "print(stu_roll.reverse())"
   ]
  },
  {
   "cell_type": "code",
   "execution_count": 16,
   "id": "6568e19a",
   "metadata": {},
   "outputs": [
    {
     "name": "stdout",
     "output_type": "stream",
     "text": [
      "101\n",
      "102\n",
      "103\n",
      "104\n",
      "105\n",
      "array after ectend\n",
      "101\n",
      "102\n",
      "103\n",
      "104\n",
      "105\n",
      "107\n",
      "108\n",
      "109\n"
     ]
    }
   ],
   "source": [
    "stu_roll=array(\"i\",[101,102,103,104,105])\n",
    "arr=array(\"i\",[107,108,109])\n",
    "n=len(stu_roll)\n",
    "i=0\n",
    "while i<n:\n",
    "    print(stu_roll[i])\n",
    "    i+=1\n",
    "print(\"array after ectend\")\n",
    "stu_roll.extend(arr)\n",
    "n=len(stu_roll)\n",
    "i=0\n",
    "while i<n:\n",
    "    print(stu_roll[i])\n",
    "    i+=1"
   ]
  },
  {
   "cell_type": "code",
   "execution_count": 25,
   "id": "e46d8a62",
   "metadata": {},
   "outputs": [
    {
     "name": "stdout",
     "output_type": "stream",
     "text": [
      "original array\n",
      "0 = 101\n",
      "1 = 102\n",
      "2 = 103\n",
      "3 = 104\n",
      "4 = 105\n",
      "5 = 106\n",
      "6 = 107\n",
      "*********\n",
      "101\n",
      "103\n",
      "105\n",
      "107\n"
     ]
    }
   ],
   "source": [
    "from array import*\n",
    "stu_roll=array(\"i\",[101,102,103,104,105,106,107])\n",
    "print(\"original array\")\n",
    "n=len(stu_roll)\n",
    "for i in range(n):\n",
    "    print(i,\"=\",stu_roll[i])\n",
    "print(\"*********\")\n",
    "a=stu_roll[0:7:2]\n",
    "for i in a:\n",
    "    print(i)"
   ]
  },
  {
   "cell_type": "code",
   "execution_count": 26,
   "id": "46dac458",
   "metadata": {},
   "outputs": [
    {
     "name": "stdout",
     "output_type": "stream",
     "text": [
      "101\n"
     ]
    }
   ],
   "source": [
    "import numpy\n",
    "stu_roll=numpy.array([101,102,103,104,105])\n",
    "stu_roll=numpy.array([101,102,103,104,105],int)\n",
    "a=numpy.array([10.1,10.2,106.0],float)\n",
    "from numpy import *\n",
    "stu_roll=array([101,102,103,104,105])\n",
    "print(stu_roll[0])"
   ]
  },
  {
   "cell_type": "code",
   "execution_count": 28,
   "id": "33b58f35",
   "metadata": {},
   "outputs": [
    {
     "data": {
      "text/plain": [
       "array([101, 110, 103, 104, 105])"
      ]
     },
     "execution_count": 28,
     "metadata": {},
     "output_type": "execute_result"
    }
   ],
   "source": [
    "stu_roll[1]=110\n",
    "stu_roll"
   ]
  },
  {
   "cell_type": "code",
   "execution_count": 31,
   "id": "4d5a3888",
   "metadata": {},
   "outputs": [
    {
     "name": "stdout",
     "output_type": "stream",
     "text": [
      "[101 102 103 104 105 106]\n",
      "101\n",
      "102\n",
      "103\n",
      "104\n",
      "105\n",
      "106\n"
     ]
    }
   ],
   "source": [
    "import numpy\n",
    "stu_roll=numpy.array([101,102,103,104,105,106])\n",
    "print(stu_roll)\n",
    "print(stu_roll[0])\n",
    "print(stu_roll[1])\n",
    "print(stu_roll[2])\n",
    "print(stu_roll[3])\n",
    "print(stu_roll[4])\n",
    "print(stu_roll[5])"
   ]
  },
  {
   "cell_type": "code",
   "execution_count": 36,
   "id": "43e6de50",
   "metadata": {},
   "outputs": [
    {
     "name": "stdout",
     "output_type": "stream",
     "text": [
      "[1.   2.75 4.5  6.25 8.  ]\n"
     ]
    }
   ],
   "source": [
    "from numpy import *\n",
    "a=linspace(1,8,5)\n",
    "print(a)"
   ]
  },
  {
   "cell_type": "code",
   "execution_count": 37,
   "id": "dce3a335",
   "metadata": {},
   "outputs": [
    {
     "name": "stdout",
     "output_type": "stream",
     "text": [
      "1.0\n",
      "2.75\n",
      "4.5\n",
      "6.25\n",
      "8.0\n"
     ]
    }
   ],
   "source": [
    "for el in a:\n",
    "    print(el)"
   ]
  },
  {
   "cell_type": "code",
   "execution_count": 39,
   "id": "58302677",
   "metadata": {},
   "outputs": [
    {
     "name": "stdout",
     "output_type": "stream",
     "text": [
      "index 0 = 1.0\n",
      "index 1 = 2.75\n",
      "index 2 = 4.5\n",
      "index 3 = 6.25\n",
      "index 4 = 8.0\n"
     ]
    }
   ],
   "source": [
    "n=len(a)\n",
    "for i in range(n):\n",
    "    print(\"index\",i,\"=\",a[i])\n",
    "    "
   ]
  },
  {
   "cell_type": "code",
   "execution_count": null,
   "id": "c0aeb83e",
   "metadata": {},
   "outputs": [],
   "source": [
    "from numpy import *\n",
    "stu_roll=array([101,102,103,104])\n",
    "for element in stu_roll:\n",
    "    print(element)\n",
    "n=len(stu_roll)\n",
    "for i in range(n):\n",
    "    print(\"index\",\"=\",stu_roll[i])\n",
    "i=0\n",
    "while i<n:\n",
    "    print(\"index\",)"
   ]
  }
 ],
 "metadata": {
  "kernelspec": {
   "display_name": "Python 3",
   "language": "python",
   "name": "python3"
  },
  "language_info": {
   "codemirror_mode": {
    "name": "ipython",
    "version": 3
   },
   "file_extension": ".py",
   "mimetype": "text/x-python",
   "name": "python",
   "nbconvert_exporter": "python",
   "pygments_lexer": "ipython3",
   "version": "3.8.8"
  }
 },
 "nbformat": 4,
 "nbformat_minor": 5
}
