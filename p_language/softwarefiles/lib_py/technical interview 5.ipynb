{
 "cells": [
  {
   "cell_type": "code",
   "execution_count": 1,
   "id": "c2bf2240",
   "metadata": {},
   "outputs": [
    {
     "name": "stdout",
     "output_type": "stream",
     "text": [
      "flexipl!e\n",
      "flexibl e\n"
     ]
    }
   ],
   "source": [
    "string=\"flexibl!e\"\n",
    "s2=string.replace(\"b\",\"p\")\n",
    "print(s2)\n",
    "s3=string.replace(\"!\",\" \")\n",
    "print(s3)"
   ]
  },
  {
   "cell_type": "code",
   "execution_count": 2,
   "id": "5278de0a",
   "metadata": {},
   "outputs": [
    {
     "name": "stdout",
     "output_type": "stream",
     "text": [
      "flexipl!e\n"
     ]
    }
   ],
   "source": [
    "x=\"b\"\n",
    "y=\"p\"\n",
    "table=string.maketrans(x,y)\n",
    "print(string.translate(table))"
   ]
  },
  {
   "cell_type": "code",
   "execution_count": 3,
   "id": "099e2980",
   "metadata": {},
   "outputs": [
    {
     "name": "stdout",
     "output_type": "stream",
     "text": [
      "flexible\n"
     ]
    }
   ],
   "source": [
    "s1=string.translate({ord(\"!\"):None})\n",
    "print(s1)"
   ]
  },
  {
   "cell_type": "code",
   "execution_count": 7,
   "id": "430c8c72",
   "metadata": {},
   "outputs": [
    {
     "name": "stdout",
     "output_type": "stream",
     "text": [
      "please enter a stringmadammama\n",
      "please enter a charecterm\n",
      "the total number of times m  4\n"
     ]
    }
   ],
   "source": [
    "string=input(\"please enter a string\")\n",
    "char=input(\"please enter a charecter\")\n",
    "i=0\n",
    "count=0\n",
    "while (i<len(string)):\n",
    "    \n",
    "    if (string[i]==char):\n",
    "        count=count+1\n",
    "    i=i+1\n",
    "    \n",
    "print(\"the total number of times\",char,\"\",count)\n",
    "        "
   ]
  },
  {
   "cell_type": "code",
   "execution_count": 8,
   "id": "ac502078",
   "metadata": {},
   "outputs": [
    {
     "name": "stdout",
     "output_type": "stream",
     "text": [
      "please enter own stringmadammmafgsm\n",
      "please  enter own charecterm\n",
      "the total number of times m has occuranced 5\n"
     ]
    }
   ],
   "source": [
    "def count_occurance(ch,str1):\n",
    "    count=0\n",
    "    for i in range(len(string)):\n",
    "        if(string[i]==char):\n",
    "            count=count+1\n",
    "    return count\n",
    "string=input('please enter own string')\n",
    "char=input(\"please  enter own charecter\")\n",
    "cnt=count_occurance(string,char)\n",
    "print(\"the total number of times\",char,\"has occuranced\",cnt)"
   ]
  },
  {
   "cell_type": "code",
   "execution_count": 16,
   "id": "422aff6f",
   "metadata": {},
   "outputs": [
    {
     "name": "stdout",
     "output_type": "stream",
     "text": [
      "enter string:12321\n",
      "enter string:12321\n",
      "anagrams\n"
     ]
    }
   ],
   "source": [
    "def check(s1,s2):\n",
    "    if(sorted(s1)==sorted(s2)):\n",
    "        print(\"anagrams\")\n",
    "    else:\n",
    "        print(\"not anagrams\")\n",
    "s=input(\"enter string:\")\n",
    "s2=input('enter string:')\n",
    "check(s,s2)"
   ]
  },
  {
   "cell_type": "code",
   "execution_count": 21,
   "id": "e6063ca3",
   "metadata": {},
   "outputs": [
    {
     "name": "stdout",
     "output_type": "stream",
     "text": [
      "enter a stringmadam\n",
      "enter a  stringmadam\n",
      "anagrams\n"
     ]
    }
   ],
   "source": [
    "str1=input(\"enter a string\")\n",
    "str2=input(\"enter a  string\")\n",
    "str1=str1.lower()\n",
    "str2=str2.lower()\n",
    "if(len(str1)==len(str2)):\n",
    "    sorted_str1=sorted(str1)\n",
    "    sorted_str2=sorted(str2)\n",
    "    if(sorted_str1==sorted_str2):\n",
    "        print(\"anagrams\")\n",
    "    else:\n",
    "        print(\"not anagrams\")"
   ]
  },
  {
   "cell_type": "code",
   "execution_count": 19,
   "id": "d97c82c3",
   "metadata": {},
   "outputs": [],
   "source": [
    "from collections import Counter\n"
   ]
  },
  {
   "cell_type": "code",
   "execution_count": 20,
   "id": "212554f9",
   "metadata": {},
   "outputs": [
    {
     "name": "stdout",
     "output_type": "stream",
     "text": [
      "enter stringsmadam\n",
      "enter stringsmadam\n",
      "anagrams\n"
     ]
    }
   ],
   "source": [
    "def check(s1,s2):\n",
    "    if(Counter(s1)==Counter(s2)):\n",
    "        print(\"anagrams\")\n",
    "    else:\n",
    "        print(\"not anagrams\")\n",
    "s1=input(\"enter strings\")\n",
    "s2=input(\"enter strings\")\n",
    "check(s1,s2)"
   ]
  },
  {
   "cell_type": "code",
   "execution_count": 22,
   "id": "b012606c",
   "metadata": {},
   "outputs": [
    {
     "name": "stdout",
     "output_type": "stream",
     "text": [
      "enter stringmadam\n",
      "the string is a palindrome\n"
     ]
    }
   ],
   "source": [
    "my_str=input(\"enter string\")\n",
    "my_str=my_str.casefold()\n",
    "rev_str=reversed(my_str)\n",
    "if(list(my_str)==list(rev_str)):\n",
    "    print(\"the string is a palindrome\")\n",
    "else:\n",
    "    pri8nt(\"the string is not a palindrome\")"
   ]
  },
  {
   "cell_type": "code",
   "execution_count": 38,
   "id": "6ba3796e",
   "metadata": {},
   "outputs": [
    {
     "name": "stdout",
     "output_type": "stream",
     "text": [
      "enter number12321\n",
      "\n",
      "yes\n"
     ]
    }
   ],
   "source": [
    "x=input(\"enter number\")\n",
    "w=\"\"\n",
    "print(w)\n",
    "for i in x:\n",
    "    w=i+w\n",
    "if x==w:\n",
    "    print(\"yes\")\n",
    "else:\n",
    "    print(\"bo\")\n",
    "    "
   ]
  },
  {
   "cell_type": "code",
   "execution_count": 33,
   "id": "eb763c78",
   "metadata": {},
   "outputs": [],
   "source": [
    "my_str=\"mada\"\n",
    "k=my_str.casefold()"
   ]
  },
  {
   "cell_type": "code",
   "execution_count": 35,
   "id": "bfbaef0d",
   "metadata": {},
   "outputs": [
    {
     "data": {
      "text/plain": [
       "['a', 'd', 'a', 'm']"
      ]
     },
     "execution_count": 35,
     "metadata": {},
     "output_type": "execute_result"
    }
   ],
   "source": [
    "list(reversed(k))"
   ]
  },
  {
   "cell_type": "code",
   "execution_count": null,
   "id": "70c010cf",
   "metadata": {},
   "outputs": [],
   "source": []
  }
 ],
 "metadata": {
  "kernelspec": {
   "display_name": "Python 3",
   "language": "python",
   "name": "python3"
  },
  "language_info": {
   "codemirror_mode": {
    "name": "ipython",
    "version": 3
   },
   "file_extension": ".py",
   "mimetype": "text/x-python",
   "name": "python",
   "nbconvert_exporter": "python",
   "pygments_lexer": "ipython3",
   "version": "3.8.8"
  }
 },
 "nbformat": 4,
 "nbformat_minor": 5
}
