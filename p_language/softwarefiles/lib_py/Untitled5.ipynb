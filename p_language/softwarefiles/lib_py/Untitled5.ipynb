{
 "cells": [
  {
   "cell_type": "code",
   "execution_count": 1,
   "id": "3c8f0f3a",
   "metadata": {},
   "outputs": [
    {
     "data": {
      "text/plain": [
       "'geekyshows'"
      ]
     },
     "execution_count": 1,
     "metadata": {},
     "output_type": "execute_result"
    }
   ],
   "source": [
    "str1=\"geekyshows\"\n",
    "str1"
   ]
  },
  {
   "cell_type": "code",
   "execution_count": 2,
   "id": "0978df51",
   "metadata": {},
   "outputs": [
    {
     "data": {
      "text/plain": [
       "'hello guys please'"
      ]
     },
     "execution_count": 2,
     "metadata": {},
     "output_type": "execute_result"
    }
   ],
   "source": [
    "str1=\"\"\"hello guys please\"\"\"\n",
    "str1"
   ]
  },
  {
   "cell_type": "markdown",
   "id": "755989db",
   "metadata": {},
   "source": [
    "str1=\"geekyshows\"\n",
    "str1"
   ]
  },
  {
   "cell_type": "code",
   "execution_count": 5,
   "id": "b5385bca",
   "metadata": {},
   "outputs": [
    {
     "name": "stdout",
     "output_type": "stream",
     "text": [
      "1525140890608\n",
      "1525140890608\n"
     ]
    }
   ],
   "source": [
    "str1=\"geekyshows\"\n",
    "str2=\"geekyshows\"\n",
    "print(id(str1))\n",
    "print(id(str2))"
   ]
  },
  {
   "cell_type": "code",
   "execution_count": 7,
   "id": "3c6257a9",
   "metadata": {},
   "outputs": [
    {
     "name": "stdout",
     "output_type": "stream",
     "text": [
      "g\n",
      "e\n",
      "e\n",
      "k\n",
      "y\n",
      "s\n",
      "h\n",
      "o\n",
      "w\n",
      "s\n"
     ]
    }
   ],
   "source": [
    "str1=\"geekyshows\"\n",
    "for i in str1:\n",
    "    print(i)"
   ]
  },
  {
   "cell_type": "code",
   "execution_count": 9,
   "id": "3da5e143",
   "metadata": {},
   "outputs": [
    {
     "name": "stdout",
     "output_type": "stream",
     "text": [
      "g\n",
      "e\n",
      "e\n",
      "k\n",
      "y\n",
      "s\n",
      "h\n",
      "o\n",
      "w\n",
      "s\n"
     ]
    }
   ],
   "source": [
    "n=len(str1)\n",
    "for i in range(n):\n",
    "    print(str1[i])"
   ]
  },
  {
   "cell_type": "code",
   "execution_count": 11,
   "id": "3f8ba806",
   "metadata": {},
   "outputs": [
    {
     "name": "stdout",
     "output_type": "stream",
     "text": [
      "g\n",
      "e\n",
      "e\n",
      "k\n",
      "y\n",
      "s\n",
      "h\n",
      "o\n",
      "w\n",
      "s\n"
     ]
    }
   ],
   "source": [
    "i=0\n",
    "while i<n:\n",
    "    print(str1[i])\n",
    "    i+=1"
   ]
  },
  {
   "cell_type": "code",
   "execution_count": 13,
   "id": "930447ed",
   "metadata": {},
   "outputs": [
    {
     "data": {
      "text/plain": [
       "'geekygeekygeekygeekygeeky'"
      ]
     },
     "execution_count": 13,
     "metadata": {},
     "output_type": "execute_result"
    }
   ],
   "source": [
    "str1[0:5]*5"
   ]
  },
  {
   "cell_type": "code",
   "execution_count": 18,
   "id": "abc2ec33",
   "metadata": {},
   "outputs": [
    {
     "name": "stdout",
     "output_type": "stream",
     "text": [
      "Myname is geekyshows and my age is 62\n"
     ]
    }
   ],
   "source": [
    "print(\"Myname is %(nm)s and my age is %(ag)d\"%{\"nm\":\"geekyshows\",\"ag\":62})"
   ]
  },
  {
   "cell_type": "code",
   "execution_count": 19,
   "id": "8975cd27",
   "metadata": {},
   "outputs": [
    {
     "name": "stdout",
     "output_type": "stream",
     "text": [
      "Myname is geekyshows and my age is 62\n"
     ]
    }
   ],
   "source": [
    "print(\"Myname is %(nm)s and my age is %(ag)d\"%{\"ag\":62,\"nm\":\"geekyshows\"})"
   ]
  },
  {
   "cell_type": "code",
   "execution_count": 22,
   "id": "6421d3cc",
   "metadata": {},
   "outputs": [
    {
     "name": "stdout",
     "output_type": "stream",
     "text": [
      "10\n"
     ]
    }
   ],
   "source": [
    "print(\"{}\".format(10))"
   ]
  },
  {
   "cell_type": "code",
   "execution_count": 23,
   "id": "e7f23e1c",
   "metadata": {},
   "outputs": [
    {
     "name": "stdout",
     "output_type": "stream",
     "text": [
      "1020\n"
     ]
    }
   ],
   "source": [
    "print(\"{}{}\".format(10,20))"
   ]
  },
  {
   "cell_type": "code",
   "execution_count": 24,
   "id": "3fa50214",
   "metadata": {},
   "outputs": [
    {
     "name": "stdout",
     "output_type": "stream",
     "text": [
      "geekyshows\n"
     ]
    }
   ],
   "source": [
    "name=\"geekyshows\"\n",
    "print(name)"
   ]
  },
  {
   "cell_type": "code",
   "execution_count": 26,
   "id": "43992ebb",
   "metadata": {},
   "outputs": [
    {
     "data": {
      "text/plain": [
       "'geekyshows'"
      ]
     },
     "execution_count": 26,
     "metadata": {},
     "output_type": "execute_result"
    }
   ],
   "source": [
    "name.lower()"
   ]
  },
  {
   "cell_type": "code",
   "execution_count": 28,
   "id": "28123449",
   "metadata": {},
   "outputs": [
    {
     "data": {
      "text/plain": [
       "'GEEKYSHOWS'"
      ]
     },
     "execution_count": 28,
     "metadata": {},
     "output_type": "execute_result"
    }
   ],
   "source": [
    "name.swapcase()"
   ]
  },
  {
   "cell_type": "markdown",
   "id": "0bede0ed",
   "metadata": {},
   "source": [
    "n"
   ]
  },
  {
   "cell_type": "code",
   "execution_count": 30,
   "id": "fbc9a00f",
   "metadata": {},
   "outputs": [
    {
     "data": {
      "text/plain": [
       "'Hello Geekyshows How Are You'"
      ]
     },
     "execution_count": 30,
     "metadata": {},
     "output_type": "execute_result"
    }
   ],
   "source": [
    "name=\"hello geekyshows how are you\"\n",
    "name.title()"
   ]
  },
  {
   "cell_type": "code",
   "execution_count": 38,
   "id": "d8072c91",
   "metadata": {},
   "outputs": [
    {
     "data": {
      "text/plain": [
       "True"
      ]
     },
     "execution_count": 38,
     "metadata": {},
     "output_type": "execute_result"
    }
   ],
   "source": [
    "name=\"eeky\"\n",
    "str1=name.islower()\n",
    "str1"
   ]
  },
  {
   "cell_type": "code",
   "execution_count": 42,
   "id": "3295a1ab",
   "metadata": {},
   "outputs": [
    {
     "data": {
      "text/plain": [
       "True"
      ]
     },
     "execution_count": 42,
     "metadata": {},
     "output_type": "execute_result"
    }
   ],
   "source": [
    "a=\"geekd\"\n",
    "a.isalpha()"
   ]
  },
  {
   "cell_type": "code",
   "execution_count": 44,
   "id": "fc5d491d",
   "metadata": {},
   "outputs": [
    {
     "data": {
      "text/plain": [
       "'abhishows'"
      ]
     },
     "execution_count": 44,
     "metadata": {},
     "output_type": "execute_result"
    }
   ],
   "source": [
    "name=\"geekyshows\"\n",
    "old=\"geeky\"\n",
    "new=\"abhi\"\n",
    "name.replace(old,new)"
   ]
  },
  {
   "cell_type": "code",
   "execution_count": 47,
   "id": "5f2d0acd",
   "metadata": {},
   "outputs": [
    {
     "name": "stdout",
     "output_type": "stream",
     "text": [
      "gee-k-y-shows\n"
     ]
    },
    {
     "data": {
      "text/plain": [
       "['gee', 'k', 'y', 'shows']"
      ]
     },
     "execution_count": 47,
     "metadata": {},
     "output_type": "execute_result"
    }
   ],
   "source": [
    "name=\"gee-k-y-shows\"\n",
    "str1=name.split(\"-\")\n",
    "print(name)\n",
    "str1\n"
   ]
  },
  {
   "cell_type": "code",
   "execution_count": 48,
   "id": "80f04171",
   "metadata": {},
   "outputs": [],
   "source": [
    "name=[\"geeky\",\"go\",\"how\"]\n",
    "str1=\"_\".join(name)"
   ]
  },
  {
   "cell_type": "code",
   "execution_count": 49,
   "id": "fbf27a8d",
   "metadata": {},
   "outputs": [
    {
     "data": {
      "text/plain": [
       "'geeky_go_how'"
      ]
     },
     "execution_count": 49,
     "metadata": {},
     "output_type": "execute_result"
    }
   ],
   "source": [
    "str1"
   ]
  },
  {
   "cell_type": "code",
   "execution_count": null,
   "id": "bc34860d",
   "metadata": {},
   "outputs": [],
   "source": []
  }
 ],
 "metadata": {
  "kernelspec": {
   "display_name": "Python 3",
   "language": "python",
   "name": "python3"
  },
  "language_info": {
   "codemirror_mode": {
    "name": "ipython",
    "version": 3
   },
   "file_extension": ".py",
   "mimetype": "text/x-python",
   "name": "python",
   "nbconvert_exporter": "python",
   "pygments_lexer": "ipython3",
   "version": "3.8.8"
  }
 },
 "nbformat": 4,
 "nbformat_minor": 5
}
