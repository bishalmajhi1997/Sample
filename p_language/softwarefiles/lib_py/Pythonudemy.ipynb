{
 "cells": [
  {
   "cell_type": "code",
   "execution_count": 2,
   "id": "faa183a8",
   "metadata": {},
   "outputs": [
    {
     "name": "stdout",
     "output_type": "stream",
     "text": [
      "Today is a good day to learn Python\n",
      "python is fun\n",
      "Python's string are easy to use\n",
      "We can even include \"quotes\" in strings\n",
      "HelloWorld\n",
      "Please enter your namebishal\n",
      "Hello bishal\n",
      "Hello abhi\n",
      "24\n",
      "<class 'str'>\n",
      "<class 'int'>\n",
      "2 years\n",
      "<class 'str'>\n",
      "abhiis2 yearsYears old\n",
      "<class 'str'>\n"
     ]
    }
   ],
   "source": [
    "print(\"Today is a good day to learn Python\")\n",
    "print(\"python is fun\")\n",
    "print(\"Python's string are easy to use\")\n",
    "print('We can even include \"quotes\" in strings')\n",
    "print(\"Hello\"+\"World\")\n",
    "greeting=\"Hello\"\n",
    "name=input(\"Please enter your name\")\n",
    "print(greeting+\" \"+name)\n",
    "name=\"abhi\"\n",
    "print(greeting+\" \"+name)\n",
    "age=24\n",
    "print(age)\n",
    "print(type(greeting))\n",
    "print(type(age))\n",
    "age=\"2 years\"\n",
    "print(age)\n",
    "print(type(age))\n",
    "age_in_words=\"2 Years\"\n",
    "print(name+\"is\"+age+\"Years old\")\n",
    "print(type(age))"
   ]
  },
  {
   "cell_type": "code",
   "execution_count": 3,
   "id": "4c0c73dd",
   "metadata": {},
   "outputs": [
    {
     "name": "stdout",
     "output_type": "stream",
     "text": [
      "This string has been\\split over\n",
      "several\n",
      "lines\n",
      "1\t2\t3\t4\t5\n",
      "The pet shop owner said\"No,no,'e's uh,......he's resting\".\n",
      "The pet shop owner said \"No,no,'e's uh,......he's resting\".\n",
      "The pet shop owner said \"No,no,'e's  uh,...he's resting\".  \n",
      "This string has been split overseveral lines\n"
     ]
    }
   ],
   "source": [
    "splitstring=\"This string has been\\split over\\nseveral\\nlines\"\n",
    "print(splitstring)\n",
    "tabbedstring=\"1\\t2\\t3\\t4\\t5\"\n",
    "print(tabbedstring)\n",
    "print('The pet shop owner said\"No,no,\\'e\\'s uh,......he\\'s resting\".')\n",
    "print(\"The pet shop owner said \\\"No,no,'e's uh,......he's resting\\\".\")\n",
    "print(\"\"\"The pet shop owner said \"No,no,'e's  uh,...he's resting\".  \"\"\")\n",
    "anotherSplitstring=\"\"\"This string has been \\\n",
    "split over\\\n",
    "several lines\"\"\"\n",
    "print(anotherSplitstring)      "
   ]
  },
  {
   "cell_type": "code",
   "execution_count": 4,
   "id": "e4c96085",
   "metadata": {},
   "outputs": [
    {
     "name": "stdout",
     "output_type": "stream",
     "text": [
      "C:\\Users\\timechalka\\notes.txt\n",
      "C:\\Users\\timechalka\\notes.txt\n"
     ]
    }
   ],
   "source": [
    "print(\"C:\\\\Users\\\\timechalka\\\\notes.txt\")\n",
    "print(r\"C:\\Users\\timechalka\\notes.txt\")"
   ]
  },
  {
   "cell_type": "code",
   "execution_count": 5,
   "id": "c0adcc43",
   "metadata": {},
   "outputs": [
    {
     "name": "stdout",
     "output_type": "stream",
     "text": [
      "15\n",
      "9\n",
      "36\n",
      "4.0\n",
      "4\n",
      "0\n",
      "\n",
      "1\n",
      "2\n",
      "3\n",
      "1\n",
      "2\n",
      "3\n",
      "1\n",
      "2\n",
      "3\n",
      "\n",
      "-35.0\n",
      "-35.0\n",
      "12.0\n",
      "12.0\n",
      "168\n",
      "\n",
      "0.1111111111111111\n"
     ]
    }
   ],
   "source": [
    "a=12\n",
    "b=3\n",
    "print(a+b)\n",
    "print(a-b)\n",
    "print(a*b)\n",
    "print(a/b)\n",
    "print(a//b)\n",
    "print(a%b)\n",
    "print()\n",
    "for i in range(1,4):\n",
    "    print(i)\n",
    "#for i in range(1,a/b):\n",
    "#    print(i)\n",
    "for i in range(1,a//b):\n",
    "    print(i)\n",
    "i=1\n",
    "print(i)\n",
    "i=2\n",
    "print(i)\n",
    "i=3\n",
    "print(i)\n",
    "print()\n",
    "print(a+b/3-4*12)\n",
    "print(a+(b/3)-(4*12))\n",
    "print((((a+b)/3)-4)*12)\n",
    "print(((a+b)/3-4)*12)\n",
    "c=a+b\n",
    "d=c+3\n",
    "e=d-4\n",
    "print(e*12)\n",
    "print()\n",
    "print(a/(b*a)/b)"
   ]
  },
  {
   "cell_type": "code",
   "execution_count": 6,
   "id": "e37516b3",
   "metadata": {},
   "outputs": [
    {
     "name": "stdout",
     "output_type": "stream",
     "text": [
      "Norwegian Blue\n",
      "w\n",
      "e\n",
      " \n",
      "w\n",
      "i\n",
      "n\n",
      "\n",
      "w\n",
      "e\n",
      " \n",
      "w\n",
      "i\n",
      "n\n",
      "\n",
      "w\n",
      "e\n",
      " \n",
      "w\n",
      "i\n",
      "n\n",
      "\n",
      "Norweg\n",
      "Norweg\n",
      "\n",
      "Bl\n",
      "Bl\n",
      "\n"
     ]
    }
   ],
   "source": [
    "parrot=\"Norwegian Blue\"\n",
    "print(parrot)\n",
    "print(parrot[3])\n",
    "print(parrot[4])\n",
    "print(parrot[9])\n",
    "print(parrot[3])\n",
    "print(parrot[6])\n",
    "print(parrot[8])\n",
    "print()\n",
    "print(parrot[-11])\n",
    "print(parrot[-10])\n",
    "print(parrot[-5])\n",
    "print(parrot[-11])\n",
    "print(parrot[-8])\n",
    "print(parrot[-6])\n",
    "print()\n",
    "print(parrot[3-14])\n",
    "print(parrot[4-14])\n",
    "print(parrot[9-14])\n",
    "print(parrot[3-14])\n",
    "print(parrot[6-14])\n",
    "print(parrot[8-14])\n",
    "print()\n",
    "print(parrot[0:6])\n",
    "print(parrot[-14:-8])\n",
    "print()\n",
    "print(parrot[-4:-2])\n",
    "print(parrot[-4:12])\n",
    "print(parrot[4:-12])"
   ]
  },
  {
   "cell_type": "code",
   "execution_count": 7,
   "id": "2fe15f6f",
   "metadata": {},
   "outputs": [
    {
     "name": "stdout",
     "output_type": "stream",
     "text": [
      "Norweg\n",
      "we\n",
      "Norwegian\n",
      "Norwegian\n",
      "Blue\n",
      "Blue\n",
      "Norwegian Blue\n",
      "Norwegian Blue\n",
      "\n"
     ]
    }
   ],
   "source": [
    "parrot=\"Norwegian Blue\"\n",
    "print(parrot[0:6])\n",
    "print(parrot[3:5])\n",
    "print(parrot[0:9])\n",
    "print(parrot[:9])\n",
    "print(parrot[10:14])\n",
    "print(parrot[10:])\n",
    "print(parrot[:6]+parrot[6:])\n",
    "print(parrot[:])\n",
    "print(parrot[4:-12])"
   ]
  },
  {
   "cell_type": "code",
   "execution_count": 8,
   "id": "fc352976",
   "metadata": {},
   "outputs": [
    {
     "name": "stdout",
     "output_type": "stream",
     "text": [
      "Nre\n",
      "Nw\n"
     ]
    }
   ],
   "source": [
    "parrot=\"Norwegian Blue\"\n",
    "print(parrot[0:6:2])\n",
    "print(parrot[0:6:3])"
   ]
  },
  {
   "cell_type": "code",
   "execution_count": 9,
   "id": "117a0d2d",
   "metadata": {},
   "outputs": [
    {
     "name": "stdout",
     "output_type": "stream",
     "text": [
      ",;: ,;\n",
      "[9, 236, 372, 36, 854, 775, 807]\n"
     ]
    }
   ],
   "source": [
    "numbers=\"9,236;372:036 854,775;807\"\n",
    "separators=numbers[1::4]\n",
    "print(separators)\n",
    "values=\"\".join(char if char not in separators else\" \" for char in numbers).split()\n",
    "print([int(val) for val in values])"
   ]
  },
  {
   "cell_type": "code",
   "execution_count": 10,
   "id": "a5f90b88",
   "metadata": {},
   "outputs": [
    {
     "name": "stdout",
     "output_type": "stream",
     "text": [
      "zyxwvutsrqponmlkjihgfedcb\n",
      "zyxwvutsrqponmlkjihgfedcba\n",
      "zyxwvutsrqponmlkjihgfedcba\n",
      "qpo\n",
      "zyxwvuts\n",
      "edcba\n",
      "wxyz\n",
      "z\n",
      "bcdefghijklmnopqrstuvwxyz\n",
      "a\n",
      "a\n",
      "qpo\n"
     ]
    }
   ],
   "source": [
    "letters=\"abcdefghijklmnopqrstuvwxyz\"\n",
    "backwards=letters[25:0:-1]\n",
    "print(backwards)\n",
    "print(letters[25::-1])\n",
    "print(letters[::-1])\n",
    "print(letters[16:13:-1])\n",
    "print(letters[:-9:-1])\n",
    "print(letters[4::-1])\n",
    "print(letters[-4:])\n",
    "print(letters[-1:])\n",
    "print(letters[1:])\n",
    "print(letters[:1])\n",
    "print(letters[0])\n",
    "print(letters[16:-13:-1])"
   ]
  },
  {
   "cell_type": "code",
   "execution_count": 11,
   "id": "d1186927",
   "metadata": {},
   "outputs": [
    {
     "name": "stdout",
     "output_type": "stream",
     "text": [
      "he's probably pining For the fjrords \n",
      "he's probably pining for the fjords\n",
      "Hello Hello Hello Hello Hello \n",
      "Hello Hello Hello Hello Hello Hello Hello Hello Hello \n",
      "Hello Hello Hello Hello Hello  4\n",
      "True\n",
      "True\n",
      "False\n",
      "False\n"
     ]
    }
   ],
   "source": [
    "string1=\"he's \"\n",
    "string2= \"probably \"\n",
    "string3= \"pining \"\n",
    "string4= \"For the \"\n",
    "string5=\"fjrords \"\n",
    "print(string1 + string2 + string3 + string4 + string5)\n",
    "print(\"he's \" + \"probably \" \"pining \" \"for the \" \"fjords\")\n",
    "print(\"Hello \" * 5)\n",
    "print(\"Hello \"*( 5+4))\n",
    "print(\"Hello \"*5+\" 4\")\n",
    "today=\"friday\"\n",
    "print(\"day\" in today)\n",
    "print(\"fri\" in today)\n",
    "print(\"thur\" in today)\n",
    "print(\"parrot\" in \"fjord\")"
   ]
  },
  {
   "cell_type": "code",
   "execution_count": 12,
   "id": "e2c087ed",
   "metadata": {},
   "outputs": [
    {
     "name": "stdout",
     "output_type": "stream",
     "text": [
      "My age is 24 years \n",
      "There are 31 days in jan  ,Mar ,May ,jul ,Aug ,Oct  and dec  \n",
      "there are 31 days in jan,mar,may,jul,aug,oct,dec \n",
      "jan:31,feb:28,Mar:31,apr:30,may:31,Jun:30,jul:31,sep:30,oct:31 \n",
      "\n",
      "jan:31\n",
      "feb:28\n",
      "mar:31\n",
      "apr:30\n",
      "may:31\n",
      "june:30\n",
      "july:31\n",
      "sep:30\n",
      "oct:31\n",
      "nov:30\n",
      "dec:31 \n"
     ]
    }
   ],
   "source": [
    "age=24\n",
    "print(\"My age is {0} years \".format(age))\n",
    "print(\"There are {0} days in {1} ,{2},{3},{4},{5},{6} and {7} \".format(31,\"jan \",\"Mar \",\"May \",\"jul \",\"Aug \",\"Oct \",\"dec \"))\n",
    "print(\"there are {0} days in jan,mar,may,jul,aug,oct,dec \".format(31))\n",
    "print(\"jan:{2},feb:{0},Mar:{2},apr:{1},may:{2},Jun:{1},jul:{2},sep:{1},oct:{2} \".format(28,30,31))\n",
    "print()\n",
    "print(\"\"\"jan:{2}\n",
    "feb:{0}\n",
    "mar:{2}\n",
    "apr:{1}\n",
    "may:{2}\n",
    "june:{1}\n",
    "july:{2}\n",
    "sep:{1}\n",
    "oct:{2}\n",
    "nov:{1}\n",
    "dec:{2} \"\"\".format(28,30,31))"
   ]
  },
  {
   "cell_type": "code",
   "execution_count": 13,
   "id": "511492b8",
   "metadata": {},
   "outputs": [
    {
     "name": "stdout",
     "output_type": "stream",
     "text": [
      "No,1 squared is 1 and cubed is 1 \n",
      "\n",
      "No, 1 squared is   1 and cubed is    1 \n",
      "No,2 squared is 4 and cubed is 8 \n",
      "\n",
      "No, 2 squared is   4 and cubed is    8 \n",
      "No,3 squared is 9 and cubed is 27 \n",
      "\n",
      "No, 3 squared is   9 and cubed is   27 \n",
      "No,4 squared is 16 and cubed is 64 \n",
      "\n",
      "No, 4 squared is  16 and cubed is   64 \n",
      "No,5 squared is 25 and cubed is 125 \n",
      "\n",
      "No, 5 squared is  25 and cubed is  125 \n",
      "No,6 squared is 36 and cubed is 216 \n",
      "\n",
      "No, 6 squared is  36 and cubed is  216 \n",
      "No,7 squared is 49 and cubed is 343 \n",
      "\n",
      "No, 7 squared is  49 and cubed is  343 \n",
      "No,8 squared is 64 and cubed is 512 \n",
      "\n",
      "No, 8 squared is  64 and cubed is  512 \n",
      "No,9 squared is 81 and cubed is 729 \n",
      "\n",
      "No, 9 squared is  81 and cubed is  729 \n",
      "No,10 squared is 100 and cubed is 1000 \n",
      "\n",
      "No,10 squared is 100 and cubed is 1000 \n",
      "No,11 squared is 121 and cubed is 1331 \n",
      "\n",
      "No,11 squared is 121 and cubed is 1331 \n",
      "No,12 squared is 144 and cubed is 1728 \n",
      "\n",
      "No,12 squared is 144 and cubed is 1728 \n"
     ]
    }
   ],
   "source": [
    "for i in range(1,13):\n",
    "    print(\"No,{0} squared is {1} and cubed is {2} \".format(i,i**2,i**3))\n",
    "    print()\n",
    "    print(\"No,{0:2} squared is {1:3} and cubed is {2:4} \".format(i,i**2,i**3))"
   ]
  },
  {
   "cell_type": "code",
   "execution_count": 14,
   "id": "81c5b807",
   "metadata": {},
   "outputs": [
    {
     "name": "stdout",
     "output_type": "stream",
     "text": [
      "No, 1 squared is 1   and cubed is  1  \n",
      "No, 2 squared is 4   and cubed is  8  \n",
      "No, 3 squared is 9   and cubed is  27 \n",
      "No, 4 squared is 16  and cubed is  64 \n",
      "No, 5 squared is 25  and cubed is 125 \n",
      "No, 6 squared is 36  and cubed is 216 \n",
      "No, 7 squared is 49  and cubed is 343 \n",
      "No, 8 squared is 64  and cubed is 512 \n",
      "No, 9 squared is 81  and cubed is 729 \n",
      "No,10 squared is 100 and cubed is 1000\n",
      "No,11 squared is 121 and cubed is 1331\n",
      "No,12 squared is 144 and cubed is 1728\n"
     ]
    }
   ],
   "source": [
    "for i in range(1,13):\n",
    "    print(\"No,{0:2} squared is {1:<3} and cubed is {2:^4}\".format(i,i**2,i**3))"
   ]
  },
  {
   "cell_type": "code",
   "execution_count": 15,
   "id": "44a700f3",
   "metadata": {},
   "outputs": [
    {
     "name": "stdout",
     "output_type": "stream",
     "text": [
      "\n",
      "pi is approximately 3.142857142857143\n",
      "pi is approximately     3.142857\n",
      "pi is approximately 3.14285714285714279370154144999105483293533325195312\n",
      "pi is approximately 3.14285714285714279370154144999105483293533325195312\n",
      "pi is approximately           3.14285714285714279370154144999105483293533325195312\n",
      "pi is approximately                     3.14285714285714279370154144999105483293533325195312\n",
      "pi is approximately 3.14285714285714279370154144999105483293533325195312                    \n",
      "pi is approximately 3.142857142857142793701541449991054832935333251953125000                \n"
     ]
    }
   ],
   "source": [
    "print()\n",
    "print(\"pi is approximately {0:12}\".format(22/7))\n",
    "print(\"pi is approximately {0:12f}\".format(22/7))\n",
    "print(\"pi is approximately {0:12.50f}\".format(22/7))\n",
    "print(\"pi is approximately {0:52.50f}\".format(22/7))\n",
    "print(\"pi is approximately {0:62.50f}\".format(22/7))\n",
    "print(\"pi is approximately {0:72.50f}\".format(22/7))\n",
    "print(\"pi is approximately {0:<72.50f}\".format(22/7))\n",
    "print(\"pi is approximately {0:<72.54f}\".format(22/7))"
   ]
  },
  {
   "cell_type": "code",
   "execution_count": 16,
   "id": "e36fe221",
   "metadata": {},
   "outputs": [
    {
     "name": "stdout",
     "output_type": "stream",
     "text": [
      "No,1 squared is 1 and cubed is    1\n",
      "No,2 squared is 4 and cubed is    8\n",
      "No,3 squared is 9 and cubed is   27\n",
      "No,4 squared is 16 and cubed is   64\n",
      "No,5 squared is 25 and cubed is  125\n",
      "No,6 squared is 36 and cubed is  216\n",
      "No,7 squared is 49 and cubed is  343\n",
      "No,8 squared is 64 and cubed is  512\n",
      "No,9 squared is 81 and cubed is  729\n",
      "No,10 squared is 100 and cubed is 1000\n",
      "No,11 squared is 121 and cubed is 1331\n",
      "No,12 squared is 144 and cubed is 1728\n"
     ]
    }
   ],
   "source": [
    "for i in range(1,13):\n",
    "    print(\"No,{} squared is {} and cubed is {:4}\".format(i,i**2,i**3))"
   ]
  },
  {
   "cell_type": "code",
   "execution_count": 17,
   "id": "ca30d217",
   "metadata": {},
   "outputs": [
    {
     "name": "stdout",
     "output_type": "stream",
     "text": [
      "70Abhi\n",
      "70 Abhi\n",
      "24\n",
      "<class 'str'>\n",
      "<class 'int'>\n",
      "Abhiis 24 years old\n",
      "pi is approximately 3.14285714285714279370154144999105483293533325195312\n",
      "pi is approximately 3.14285714285714279370154144999105483293533325195312\n"
     ]
    }
   ],
   "source": [
    "name=\"Abhi\"\n",
    "greeting=\"70\"\n",
    "print(greeting+name)\n",
    "print(greeting+\" \"+name)\n",
    "age=24\n",
    "print(age)\n",
    "print(type(greeting))\n",
    "print(type(age))\n",
    "age_in_words=\"2 years\"\n",
    "print(name+f\"is {age} years old\")\n",
    "print(f\"pi is approximately {22/7:12.50f}\")\n",
    "pi=22/7\n",
    "print(f\"pi is approximately {pi:12.50f}\")      \n",
    "      "
   ]
  },
  {
   "cell_type": "code",
   "execution_count": 18,
   "id": "fa7a5293",
   "metadata": {},
   "outputs": [
    {
     "name": "stdout",
     "output_type": "stream",
     "text": [
      "My age  is 24 years\n",
      "My age is 24 years ,6 Months \n",
      "PI is approximately 3.142857 \n",
      "PI  is approximately         3.14285714285714279370154144999105483293533325195312 \n"
     ]
    }
   ],
   "source": [
    "age=24\n",
    "print(\"My age  is %d years\" % age )\n",
    "major=\"years\"\n",
    "minor=\"Months\"\n",
    "print(\"My age is %d %s ,%d %s \"% (age,major,6,minor))\n",
    "print(\"PI is approximately %f \" % (22/7))\n",
    "print(\"PI  is approximately %60.50f \" %(22/7))"
   ]
  },
  {
   "cell_type": "code",
   "execution_count": 19,
   "id": "475472c9",
   "metadata": {},
   "outputs": [
    {
     "name": "stdout",
     "output_type": "stream",
     "text": [
      "Please enter your name:\n",
      "how old are you,6\n",
      "6\n",
      "please come back in 12 years.\n",
      "Please come back in 12 years.\n"
     ]
    }
   ],
   "source": [
    "name=input(\"Please enter your name:\")\n",
    "age=int(input(\"how old are you,{0}\".format(name)))\n",
    "print(age)\n",
    "if age>=18:\n",
    "    print(\"You are old enough to vote \")\n",
    "    print(\"Please put an x in the box\")\n",
    "else:\n",
    "    print(\"please come back in {0} years.\".format(18-age))\n",
    "if age<18:\n",
    "    print(\"Please come back in {0} years.\".format(18-age))\n",
    "else:\n",
    "    print(\"You are old enough to vote\")\n",
    "    print(\"Please put an X in the box\")"
   ]
  },
  {
   "cell_type": "code",
   "execution_count": 20,
   "id": "d366ed8b",
   "metadata": {},
   "outputs": [
    {
     "name": "stdout",
     "output_type": "stream",
     "text": [
      "Please enter your namebu\n",
      "how old are you,bu?6\n",
      "6\n",
      "Please come back in 12 years\n"
     ]
    }
   ],
   "source": [
    "name=input(\"Please enter your name\")\n",
    "age=int(input(\"how old are you,{0}?\".format(name)))\n",
    "print(age)\n",
    "if age<18:\n",
    "    print('Please come back in {0} years'.format(18-age))\n",
    "elif age==900:\n",
    "    print(\"Sorry,yoda,You die in return of the jedi\")\n",
    "else:\n",
    "    print(\"You are old enough to vote\")\n",
    "    print(\"Please put an x in the box\")"
   ]
  },
  {
   "cell_type": "code",
   "execution_count": 22,
   "id": "0df9d9b7",
   "metadata": {},
   "outputs": [
    {
     "name": "stdout",
     "output_type": "stream",
     "text": [
      "Please guess number between 1 and 10\n",
      "4\n",
      "Please guess higher\n"
     ]
    }
   ],
   "source": [
    "answer=5\n",
    "print(\"Please guess number between 1 and 10\")\n",
    "guess=int(input())\n",
    "if guess<answer:\n",
    "    print('Please guess higher')\n",
    "elif guess>answer:\n",
    "    print(\"Please guess lower \")\n",
    "else:\n",
    "    print(\"you got it first time\")"
   ]
  },
  {
   "cell_type": "code",
   "execution_count": 23,
   "id": "39c6c192",
   "metadata": {},
   "outputs": [
    {
     "name": "stdout",
     "output_type": "stream",
     "text": [
      "Please guess number betwwn 1 and 10\n",
      "8\n",
      "Please guesss lower\n",
      "8\n",
      "sorry,you have not guessed correctly\n"
     ]
    }
   ],
   "source": [
    "answer=5\n",
    "print('Please guess number betwwn 1 and 10')\n",
    "guess=int(input())\n",
    "if guess<answer:\n",
    "    print(\"Please guess higher\")\n",
    "    guess=int(input())\n",
    "    if guess==answer:\n",
    "        print(\"well done,you guessed it\")\n",
    "    else:\n",
    "        print(\"sorry,you have not guessed correctly\")\n",
    "elif guess>answer:\n",
    "    print(\"Please guesss lower\")\n",
    "    guess=int(input())\n",
    "    if guess==answer:\n",
    "        print(\"well done,you guessed it\")\n",
    "    else:\n",
    "        print(\"sorry,you have not guessed correctly\")\n",
    "else:\n",
    "    print(\"you got it first done\")\n",
    "        "
   ]
  },
  {
   "cell_type": "code",
   "execution_count": 24,
   "id": "0bad9d4c",
   "metadata": {},
   "outputs": [
    {
     "name": "stdout",
     "output_type": "stream",
     "text": [
      "please guess between 1 and 10\n",
      "8\n",
      "Please guess lowewr\n",
      "9\n",
      "Sorry,You have not guessed correctly\n"
     ]
    }
   ],
   "source": [
    "answer=5\n",
    "print(\"please guess between 1 and 10\")\n",
    "guess=int(input())\n",
    "if guess != answer:\n",
    "    if guess <answer:\n",
    "        print('Please guess higher')\n",
    "    else:\n",
    "        print('Please guess lowewr')\n",
    "    guess=int(input())\n",
    "    if guess== answer:\n",
    "        print(\"Well done,you guess it\")\n",
    "    else:\n",
    "        print(\"Sorry,You have not guessed correctly\")\n",
    "else:\n",
    "    print(\"You got it first time\")"
   ]
  },
  {
   "cell_type": "code",
   "execution_count": null,
   "id": "00e33e57",
   "metadata": {},
   "outputs": [],
   "source": []
  },
  {
   "cell_type": "code",
   "execution_count": 25,
   "id": "a3eff8a6",
   "metadata": {},
   "outputs": [
    {
     "name": "stdout",
     "output_type": "stream",
     "text": [
      "please gues between 1 and 10\n",
      "7\n",
      "please guess lower \n",
      "6\n",
      "Sorry,you have not guessed correctly\n"
     ]
    }
   ],
   "source": [
    "answer=5\n",
    "print(\"please gues between 1 and 10\")\n",
    "guess=int(input())\n",
    "if guess==answer:\n",
    "    print(\"You got it first\")\n",
    "else:\n",
    "    if guess<answer:\n",
    "        print(\"please guess higher\")\n",
    "    else:\n",
    "        print(\"please guess lower \")\n",
    "    guess=int(input())\n",
    "    if guess==answer:\n",
    "        print(\"well done,you guessed it\")\n",
    "    else:\n",
    "    \n",
    "        print(\"Sorry,you have not guessed correctly\")"
   ]
  },
  {
   "cell_type": "code",
   "execution_count": 26,
   "id": "cc8e4d7b",
   "metadata": {},
   "outputs": [
    {
     "name": "stdout",
     "output_type": "stream",
     "text": [
      "hpw old are you67\n"
     ]
    }
   ],
   "source": [
    "age=int(input(\"hpw old are you\"))\n",
    "if age>=16 and age <65:\n",
    "    print(\"have a good day at work\")"
   ]
  },
  {
   "cell_type": "code",
   "execution_count": 27,
   "id": "0698b487",
   "metadata": {},
   "outputs": [
    {
     "name": "stdout",
     "output_type": "stream",
     "text": [
      "how old are you ?67\n",
      "Enjoy your free time \n",
      "________________________________________________________________________________\n",
      "enjoy your free time\n"
     ]
    }
   ],
   "source": [
    "age=int(input('how old are you ?'))\n",
    "if 16<=age <=65:\n",
    "    print(\"have a good day at work\")\n",
    "else:\n",
    "    print(\"Enjoy your free time \")\n",
    "print(\"_\"*80)\n",
    "if age<16 or age>65:\n",
    "    print(\"enjoy your free time\")"
   ]
  },
  {
   "cell_type": "code",
   "execution_count": 28,
   "id": "0d66dc0e",
   "metadata": {},
   "outputs": [
    {
     "name": "stdout",
     "output_type": "stream",
     "text": [
      "Go swimming\n"
     ]
    }
   ],
   "source": [
    "day=\"friday\"\n",
    "temperature=30\n",
    "raining=False\n",
    "if (day==\"Saturday\" and temperature>27 or not raining):\n",
    "    print(\"Go swimming\")\n",
    "else:\n",
    "    print(\"Learn Python\")"
   ]
  },
  {
   "cell_type": "code",
   "execution_count": 29,
   "id": "09e0768c",
   "metadata": {},
   "outputs": [
    {
     "name": "stdout",
     "output_type": "stream",
     "text": [
      "False\n",
      "Please enter your namebishal\n",
      "hello,bishal\n",
      "\n"
     ]
    }
   ],
   "source": [
    "if 0:\n",
    "    print(\"True\")\n",
    "else:\n",
    "    print(\"False\")\n",
    "name=input(\"Please enter your name\")\n",
    "#if name:\n",
    "if name !=\"\":\n",
    "    print(\"hello,{}\".format(name))\n",
    "else:\n",
    "    print('Are you the man with no name?')\n",
    "print()\n",
    "\n",
    "    "
   ]
  },
  {
   "cell_type": "code",
   "execution_count": 30,
   "id": "ceafeff2",
   "metadata": {},
   "outputs": [
    {
     "name": "stdout",
     "output_type": "stream",
     "text": [
      "Enter a charecters:bishal\n",
      "I don't need that letter \n"
     ]
    }
   ],
   "source": [
    "parrot=\"Norwegian Blue\"\n",
    "letter=input('Enter a charecters:')\n",
    "if letter in parrot:\n",
    "    \n",
    "    print(\"{} is in {}\".format(letter,parrot))\n",
    "else:\n",
    "    print(\"I don't need that letter \")"
   ]
  },
  {
   "cell_type": "code",
   "execution_count": 31,
   "id": "28651b27",
   "metadata": {},
   "outputs": [
    {
     "name": "stdout",
     "output_type": "stream",
     "text": [
      "wHAT Would you like to do today i want to go to do today\n",
      "but I want to go to the cinema \n"
     ]
    }
   ],
   "source": [
    "activity=input(\"wHAT Would you like to do today\")\n",
    "if \"cinema\" not in activity.casefold():\n",
    "    print(\"but I want to go to the cinema \")"
   ]
  },
  {
   "cell_type": "code",
   "execution_count": 32,
   "id": "439f7158",
   "metadata": {},
   "outputs": [
    {
     "name": "stdout",
     "output_type": "stream",
     "text": [
      "Please enter your name bishal\n",
      "how old are you56\n",
      "i'm sorry,our holidays are only for cool people \n"
     ]
    }
   ],
   "source": [
    "name=input('Please enter your name ')\n",
    "age=int(input(\"how old are you\"))\n",
    "if 18<=age<31:\n",
    "    print(\"welcome to club 18-30 holidays,{0}\".format(name))\n",
    "else:\n",
    "    print(\"i'm sorry,our holidays are only for cool people \")"
   ]
  },
  {
   "cell_type": "code",
   "execution_count": 33,
   "id": "df240f19",
   "metadata": {},
   "outputs": [
    {
     "name": "stdout",
     "output_type": "stream",
     "text": [
      "N\n",
      "o\n",
      "r\n",
      "w\n",
      "e\n",
      "g\n",
      "i\n",
      "a\n",
      "n\n",
      " \n",
      "B\n",
      "l\n",
      "u\n",
      "e\n"
     ]
    }
   ],
   "source": [
    "parrot=\"Norwegian Blue\"\n",
    "for charecter in parrot:\n",
    "    print(charecter)"
   ]
  },
  {
   "cell_type": "code",
   "execution_count": 34,
   "id": "f312a743",
   "metadata": {},
   "outputs": [
    {
     "name": "stdout",
     "output_type": "stream",
     "text": [
      ",;: ,;\n",
      "[9, 223, 372, 36, 854, 775, 807]\n"
     ]
    }
   ],
   "source": [
    "number=\"9,223;372:036 854,775;807\"\n",
    "separators=\"\"\n",
    "for char in number:\n",
    "    if not char.isnumeric():\n",
    "        separators=separators+char\n",
    "print(separators)\n",
    "values=\"\".join(char if char not in separators else \" \" for char in number).split()\n",
    "print([int(val) for val in values])\n",
    "        "
   ]
  },
  {
   "cell_type": "code",
   "execution_count": 35,
   "id": "fc65df95",
   "metadata": {},
   "outputs": [
    {
     "name": "stdout",
     "output_type": "stream",
     "text": [
      "i is now 1\n",
      "i is now 2\n",
      "i is now 3\n",
      "i is now 4\n",
      "i is now 5\n",
      "i is now 6\n",
      "i is now 7\n",
      "i is now 8\n",
      "i is now 9\n",
      "i is now 10\n",
      "i is now 11\n",
      "i is now 12\n",
      "i is now 13\n",
      "i is now 14\n",
      "i is now 15\n",
      "i is now 16\n",
      "i is now 17\n",
      "i is now 18\n",
      "i is now 19\n"
     ]
    }
   ],
   "source": [
    "for i in range(1,20):\n",
    "    print(\"i is now {}\".format(i))"
   ]
  },
  {
   "cell_type": "code",
   "execution_count": 36,
   "id": "d6b97f1d",
   "metadata": {},
   "outputs": [
    {
     "name": "stdout",
     "output_type": "stream",
     "text": [
      "i is now 10\n",
      "i is now 8\n",
      "i is now 6\n",
      "i is now 4\n",
      "i is now 2\n"
     ]
    }
   ],
   "source": [
    "for i in range(10,0,-2):\n",
    "    print(\"i is now {}\".format(i))"
   ]
  },
  {
   "cell_type": "code",
   "execution_count": 37,
   "id": "3f772ffd",
   "metadata": {},
   "outputs": [
    {
     "name": "stdout",
     "output_type": "stream",
     "text": [
      "How old are you?56\n",
      "Have a good day at work \n",
      "________________________________________________________________________________\n",
      "have a good day at work\n"
     ]
    }
   ],
   "source": [
    "age=int(input(\"How old are you?\"))\n",
    "if age in range(16,66):\n",
    "    print(\"Have a good day at work \")\n",
    "else:\n",
    "    print(\"Enjoy your free time\")\n",
    "print(\"_\"*80)\n",
    "if age<16 or age>65:\n",
    "    print(\"Enjoy your free Time\")\n",
    "else:\n",
    "    print(\"have a good day at work\")"
   ]
  },
  {
   "cell_type": "code",
   "execution_count": 38,
   "id": "7ad9950a",
   "metadata": {},
   "outputs": [
    {
     "name": "stdout",
     "output_type": "stream",
     "text": [
      "1 times 1 1\n",
      "2 times 1 2\n",
      "3 times 1 3\n",
      "4 times 1 4\n",
      "5 times 1 5\n",
      "6 times 1 6\n",
      "7 times 1 7\n",
      "8 times 1 8\n",
      "9 times 1 9\n",
      "10 times 1 10\n",
      "11 times 1 11\n",
      "12 times 1 12\n",
      "___________________________________-\n",
      "1 times 2 2\n",
      "2 times 2 4\n",
      "3 times 2 6\n",
      "4 times 2 8\n",
      "5 times 2 10\n",
      "6 times 2 12\n",
      "7 times 2 14\n",
      "8 times 2 16\n",
      "9 times 2 18\n",
      "10 times 2 20\n",
      "11 times 2 22\n",
      "12 times 2 24\n",
      "___________________________________-\n",
      "1 times 3 3\n",
      "2 times 3 6\n",
      "3 times 3 9\n",
      "4 times 3 12\n",
      "5 times 3 15\n",
      "6 times 3 18\n",
      "7 times 3 21\n",
      "8 times 3 24\n",
      "9 times 3 27\n",
      "10 times 3 30\n",
      "11 times 3 33\n",
      "12 times 3 36\n",
      "___________________________________-\n",
      "1 times 4 4\n",
      "2 times 4 8\n",
      "3 times 4 12\n",
      "4 times 4 16\n",
      "5 times 4 20\n",
      "6 times 4 24\n",
      "7 times 4 28\n",
      "8 times 4 32\n",
      "9 times 4 36\n",
      "10 times 4 40\n",
      "11 times 4 44\n",
      "12 times 4 48\n",
      "___________________________________-\n",
      "1 times 5 5\n",
      "2 times 5 10\n",
      "3 times 5 15\n",
      "4 times 5 20\n",
      "5 times 5 25\n",
      "6 times 5 30\n",
      "7 times 5 35\n",
      "8 times 5 40\n",
      "9 times 5 45\n",
      "10 times 5 50\n",
      "11 times 5 55\n",
      "12 times 5 60\n",
      "___________________________________-\n",
      "1 times 6 6\n",
      "2 times 6 12\n",
      "3 times 6 18\n",
      "4 times 6 24\n",
      "5 times 6 30\n",
      "6 times 6 36\n",
      "7 times 6 42\n",
      "8 times 6 48\n",
      "9 times 6 54\n",
      "10 times 6 60\n",
      "11 times 6 66\n",
      "12 times 6 72\n",
      "___________________________________-\n",
      "1 times 7 7\n",
      "2 times 7 14\n",
      "3 times 7 21\n",
      "4 times 7 28\n",
      "5 times 7 35\n",
      "6 times 7 42\n",
      "7 times 7 49\n",
      "8 times 7 56\n",
      "9 times 7 63\n",
      "10 times 7 70\n",
      "11 times 7 77\n",
      "12 times 7 84\n",
      "___________________________________-\n",
      "1 times 8 8\n",
      "2 times 8 16\n",
      "3 times 8 24\n",
      "4 times 8 32\n",
      "5 times 8 40\n",
      "6 times 8 48\n",
      "7 times 8 56\n",
      "8 times 8 64\n",
      "9 times 8 72\n",
      "10 times 8 80\n",
      "11 times 8 88\n",
      "12 times 8 96\n",
      "___________________________________-\n",
      "1 times 9 9\n",
      "2 times 9 18\n",
      "3 times 9 27\n",
      "4 times 9 36\n",
      "5 times 9 45\n",
      "6 times 9 54\n",
      "7 times 9 63\n",
      "8 times 9 72\n",
      "9 times 9 81\n",
      "10 times 9 90\n",
      "11 times 9 99\n",
      "12 times 9 108\n",
      "___________________________________-\n",
      "1 times 10 10\n",
      "2 times 10 20\n",
      "3 times 10 30\n",
      "4 times 10 40\n",
      "5 times 10 50\n",
      "6 times 10 60\n",
      "7 times 10 70\n",
      "8 times 10 80\n",
      "9 times 10 90\n",
      "10 times 10 100\n",
      "11 times 10 110\n",
      "12 times 10 120\n",
      "___________________________________-\n",
      "1 times 11 11\n",
      "2 times 11 22\n",
      "3 times 11 33\n",
      "4 times 11 44\n",
      "5 times 11 55\n",
      "6 times 11 66\n",
      "7 times 11 77\n",
      "8 times 11 88\n",
      "9 times 11 99\n",
      "10 times 11 110\n",
      "11 times 11 121\n",
      "12 times 11 132\n",
      "___________________________________-\n",
      "1 times 12 12\n",
      "2 times 12 24\n",
      "3 times 12 36\n",
      "4 times 12 48\n",
      "5 times 12 60\n",
      "6 times 12 72\n",
      "7 times 12 84\n",
      "8 times 12 96\n",
      "9 times 12 108\n",
      "10 times 12 120\n",
      "11 times 12 132\n",
      "12 times 12 144\n",
      "___________________________________-\n"
     ]
    }
   ],
   "source": [
    "for i in range(1,13):\n",
    "    for j in range(1,13):\n",
    "        print(\"{0} times {1} {2}\".format(j,i,i*j))\n",
    "    print(\"___________________________________-\")   "
   ]
  },
  {
   "cell_type": "code",
   "execution_count": 39,
   "id": "650b80ce",
   "metadata": {},
   "outputs": [
    {
     "name": "stdout",
     "output_type": "stream",
     "text": [
      "Buy milk\n",
      "Buy pasta\n",
      "Buy eggs\n",
      "Buy spam\n",
      "Buy bread\n",
      "Buy rice\n"
     ]
    }
   ],
   "source": [
    "shopping_list=[\"milk\",\"pasta\",\"eggs\",\"spam\",\"bread\",\"rice\"]\n",
    "for item in shopping_list:\n",
    "    print(\"Buy \"+item)"
   ]
  },
  {
   "cell_type": "code",
   "execution_count": 40,
   "id": "f454e42d",
   "metadata": {},
   "outputs": [
    {
     "name": "stdout",
     "output_type": "stream",
     "text": [
      "Buy milk\n",
      "Buy pasta\n",
      "Buy eggs\n",
      "Buy bread\n",
      "Buy rice\n"
     ]
    }
   ],
   "source": [
    "shopping_list=[\"milk\",\"pasta\",\"eggs\",\"spam\",\"bread\",\"rice\"]\n",
    "for item in shopping_list:\n",
    "    if item !=\"spam\":\n",
    "        print(\"Buy \"+item)"
   ]
  },
  {
   "cell_type": "code",
   "execution_count": 41,
   "id": "5d7db1ee",
   "metadata": {},
   "outputs": [
    {
     "name": "stdout",
     "output_type": "stream",
     "text": [
      "Buy milk\n",
      "Buy pasta\n",
      "Buy eggs\n",
      "Buy bread\n",
      "Buy rice\n"
     ]
    }
   ],
   "source": [
    "for item in shopping_list:\n",
    "    if item ==\"spam\":\n",
    "        continue\n",
    "    print(\"Buy \"+item)   "
   ]
  },
  {
   "cell_type": "code",
   "execution_count": 42,
   "id": "eb0f366a",
   "metadata": {
    "scrolled": true
   },
   "outputs": [
    {
     "name": "stdout",
     "output_type": "stream",
     "text": [
      "Buy milk\n",
      "Buy pasta\n",
      "Buy eggs\n"
     ]
    }
   ],
   "source": [
    "for item in shopping_list:\n",
    "    if item == \"spam\":\n",
    "        break\n",
    "    print(\"Buy \"+item)   "
   ]
  },
  {
   "cell_type": "code",
   "execution_count": 43,
   "id": "3f80275f",
   "metadata": {},
   "outputs": [
    {
     "name": "stdout",
     "output_type": "stream",
     "text": [
      "Item found at position 3\n"
     ]
    }
   ],
   "source": [
    "item_to_find=\"spam\"\n",
    "found_at=None\n",
    "for index in range(len(shopping_list)):\n",
    "    if shopping_list[index]==item_to_find:\n",
    "        found_at=index\n",
    "print(\"Item found at position {}\".format(found_at))        "
   ]
  },
  {
   "cell_type": "code",
   "execution_count": 46,
   "id": "3a6d3c19",
   "metadata": {},
   "outputs": [],
   "source": [
    "shopping_list=[\"milk\",\"pasta\",\"eggs\",\"spam\",\"bread\",\"rice\"]\n",
    "item_to_find=\"albatross\"\n",
    "found_at=None\n",
    "#for index in range(len(shopping_list)):\n",
    " #   if shopping_list[index]==item_to_find:\n",
    "  #      found_at=index\n",
    "   #     break\n",
    "if found_at is not None:\n",
    "    print(\"Item found at position {} \".format(found_at))"
   ]
  },
  {
   "cell_type": "code",
   "execution_count": null,
   "id": "004d593d",
   "metadata": {},
   "outputs": [],
   "source": []
  },
  {
   "cell_type": "code",
   "execution_count": null,
   "id": "aab4d6f0",
   "metadata": {},
   "outputs": [],
   "source": []
  },
  {
   "cell_type": "code",
   "execution_count": null,
   "id": "059b0e10",
   "metadata": {},
   "outputs": [],
   "source": []
  }
 ],
 "metadata": {
  "kernelspec": {
   "display_name": "Python 3",
   "language": "python",
   "name": "python3"
  },
  "language_info": {
   "codemirror_mode": {
    "name": "ipython",
    "version": 3
   },
   "file_extension": ".py",
   "mimetype": "text/x-python",
   "name": "python",
   "nbconvert_exporter": "python",
   "pygments_lexer": "ipython3",
   "version": "3.8.8"
  }
 },
 "nbformat": 4,
 "nbformat_minor": 5
}
