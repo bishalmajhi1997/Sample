{
 "cells": [
  {
   "cell_type": "code",
   "execution_count": 10,
   "id": "bccecc7e",
   "metadata": {},
   "outputs": [
    {
     "name": "stdout",
     "output_type": "stream",
     "text": [
      "pickle done\n",
      "unpickily done\n",
      "name:Rahul,roll:101,address:Ranchi\n",
      "name:Rahu,roll:201,address:anchi\n"
     ]
    }
   ],
   "source": [
    "import pickle\n",
    "class Student:\n",
    "    def __init__(self,name,roll,address):\n",
    "        self.name=name\n",
    "        self.roll=roll\n",
    "        self.address=address\n",
    "    def disp(self):\n",
    "        print(f'name:{self.name},roll:{self.roll},address:{self.address}')\n",
    "with open(\"student.txt\",mode=\"wb\") as f:\n",
    "    stu1=Student(\"Rahul\",101,\"Ranchi\")\n",
    "    stu2=Student(\"Rahu\",201,\"anchi\")\n",
    "\n",
    "    pickle.dump(stu1,f)\n",
    "    pickle.dump(stu2,f)\n",
    "    print(\"pickle done\")\n",
    "with open(\"student.txt\",mode=\"rb\") as f:\n",
    "    obj=pickle.load(f)\n",
    "    obj2=pickle.load(f)\n",
    "    print(\"unpickily done\")\n",
    "    obj.disp()\n",
    "    obj2.disp()"
   ]
  },
  {
   "cell_type": "code",
   "execution_count": 12,
   "id": "8f105e5a",
   "metadata": {},
   "outputs": [
    {
     "name": "stdout",
     "output_type": "stream",
     "text": [
      "pickle done\n",
      "unpickily done\n",
      "name:Rahul,roll:101,address:Ranchi\n",
      "name:Rahu,roll:201,address:anchi\n"
     ]
    }
   ],
   "source": [
    "import pickle\n",
    "class Student:\n",
    "    def __init__(self,name,roll,address):\n",
    "        self.name=name\n",
    "        self.roll=roll\n",
    "        self.address=address\n",
    "    def disp(self):\n",
    "        print(f'name:{self.name},roll:{self.roll},address:{self.address}')\n",
    "with open(\"student.txt\",mode=\"wb\") as f:\n",
    "    stu1=Student(\"Rahul\",101,\"Ranchi\")\n",
    "    stu2=Student(\"Rahu\",201,\"anchi\")\n",
    "\n",
    "    pickle.dump(stu1,f)\n",
    "    pickle.dump(stu2,f)\n",
    "    print(\"pickle done\")\n",
    "with open(\"student.txt\",mode=\"rb\") as f:\n",
    "    obj=pickle.load(f)\n",
    "    obj2=pickle.load(f)\n",
    "    print(\"unpickily done\")\n",
    "    obj.disp()\n",
    "    obj2.disp()\n"
   ]
  },
  {
   "cell_type": "code",
   "execution_count": 19,
   "id": "b44fa2ab",
   "metadata": {},
   "outputs": [],
   "source": [
    "def divide(x,y):\n",
    "    try:\n",
    "        result=x//y\n",
    "    except ZeroDivisionError:\n",
    "        print(\"Sorry you are dividing by zero\")"
   ]
  },
  {
   "cell_type": "code",
   "execution_count": 20,
   "id": "55587737",
   "metadata": {},
   "outputs": [
    {
     "name": "stdout",
     "output_type": "stream",
     "text": [
      "Sorry you are dividing by zero\n"
     ]
    }
   ],
   "source": [
    "divide(3,0)"
   ]
  },
  {
   "cell_type": "code",
   "execution_count": 21,
   "id": "62074e00",
   "metadata": {},
   "outputs": [],
   "source": [
    "def ab(a,b):\n",
    "    try:\n",
    "        c=((a+b)/(a-b))\n",
    "    except ZeroDivisionError:\n",
    "        print(\"not divide\")\n",
    "    else:\n",
    "        print(c)"
   ]
  },
  {
   "cell_type": "code",
   "execution_count": 22,
   "id": "c91c6a29",
   "metadata": {},
   "outputs": [
    {
     "name": "stdout",
     "output_type": "stream",
     "text": [
      "3.068965517241379\n"
     ]
    }
   ],
   "source": [
    "ab(5.9,3.0)"
   ]
  },
  {
   "cell_type": "code",
   "execution_count": 25,
   "id": "93b0b102",
   "metadata": {},
   "outputs": [
    {
     "name": "stdout",
     "output_type": "stream",
     "text": [
      "Sorry you are dividing by zero\n",
      "this is always executed:\n"
     ]
    }
   ],
   "source": [
    "\n",
    "    try:\n",
    "        result=5//0\n",
    "    except ZeroDivisionError:\n",
    "        print(\"Sorry you are dividing by zero\")\n",
    "    finally:\n",
    "        print(\"this is always executed:\")"
   ]
  },
  {
   "cell_type": "code",
   "execution_count": 28,
   "id": "8f616c65",
   "metadata": {},
   "outputs": [
    {
     "name": "stdout",
     "output_type": "stream",
     "text": [
      "Sorry you are dividing by zero\n"
     ]
    }
   ],
   "source": [
    "\n",
    "    try:\n",
    "        result=10//0\n",
    "    except ArithmeticError:\n",
    "        print(\"Sorry you are dividing by zero\")\n",
    "    else:\n",
    "        print(\"success\")"
   ]
  },
  {
   "cell_type": "code",
   "execution_count": 33,
   "id": "003dea6e",
   "metadata": {},
   "outputs": [
    {
     "name": "stdout",
     "output_type": "stream",
     "text": [
      "index out of bound error\n"
     ]
    }
   ],
   "source": [
    "try:\n",
    "    a=[1,2,3]\n",
    "    print(a[3])\n",
    "except LookupError:\n",
    "    print(\"index out of bound error\")\n",
    "else :\n",
    "    print(\"success\")"
   ]
  },
  {
   "cell_type": "code",
   "execution_count": 35,
   "id": "8041d8b2",
   "metadata": {},
   "outputs": [],
   "source": [
    "assert True,\"The assertion Failed\""
   ]
  },
  {
   "cell_type": "code",
   "execution_count": 38,
   "id": "f0185f24",
   "metadata": {},
   "outputs": [
    {
     "ename": "AttributeError",
     "evalue": "type object 'object' has no attribute 'Attribute'",
     "output_type": "error",
     "traceback": [
      "\u001b[1;31m---------------------------------------------------------------------------\u001b[0m",
      "\u001b[1;31mAttributeError\u001b[0m                            Traceback (most recent call last)",
      "\u001b[1;32m<ipython-input-38-b7ca60319d0a>\u001b[0m in \u001b[0;36m<module>\u001b[1;34m\u001b[0m\n\u001b[0;32m      2\u001b[0m     \u001b[1;32mpass\u001b[0m\u001b[1;33m\u001b[0m\u001b[1;33m\u001b[0m\u001b[0m\n\u001b[0;32m      3\u001b[0m \u001b[0mobjects\u001b[0m\u001b[1;33m=\u001b[0m\u001b[0mAttribute\u001b[0m\u001b[1;33m(\u001b[0m\u001b[1;33m)\u001b[0m\u001b[1;33m\u001b[0m\u001b[1;33m\u001b[0m\u001b[0m\n\u001b[1;32m----> 4\u001b[1;33m \u001b[0mprint\u001b[0m\u001b[1;33m(\u001b[0m\u001b[0mobject\u001b[0m\u001b[1;33m.\u001b[0m\u001b[0mAttribute\u001b[0m\u001b[1;33m)\u001b[0m\u001b[1;33m\u001b[0m\u001b[1;33m\u001b[0m\u001b[0m\n\u001b[0m",
      "\u001b[1;31mAttributeError\u001b[0m: type object 'object' has no attribute 'Attribute'"
     ]
    }
   ],
   "source": [
    "class Attribute(object):\n",
    "    pass\n",
    "objects=Attribute()\n",
    "print(object.Attribute)"
   ]
  },
  {
   "cell_type": "code",
   "execution_count": null,
   "id": "56257c35",
   "metadata": {},
   "outputs": [],
   "source": []
  },
  {
   "cell_type": "code",
   "execution_count": null,
   "id": "fb18f596",
   "metadata": {},
   "outputs": [],
   "source": []
  }
 ],
 "metadata": {
  "kernelspec": {
   "display_name": "Python 3",
   "language": "python",
   "name": "python3"
  },
  "language_info": {
   "codemirror_mode": {
    "name": "ipython",
    "version": 3
   },
   "file_extension": ".py",
   "mimetype": "text/x-python",
   "name": "python",
   "nbconvert_exporter": "python",
   "pygments_lexer": "ipython3",
   "version": "3.8.8"
  }
 },
 "nbformat": 4,
 "nbformat_minor": 5
}
