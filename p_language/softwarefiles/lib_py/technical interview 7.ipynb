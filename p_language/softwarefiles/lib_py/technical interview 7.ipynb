{
 "cells": [
  {
   "cell_type": "code",
   "execution_count": 1,
   "id": "56ede1cf",
   "metadata": {},
   "outputs": [
    {
     "name": "stdout",
     "output_type": "stream",
     "text": [
      "enter the number121\n",
      "n reverse of entered number is 121\n"
     ]
    }
   ],
   "source": [
    "num=int(input(\"enter the number\"))\n",
    "rev_num=0\n",
    "def recur_reverse(num):\n",
    "    global rev_num\n",
    "    if(num>0):\n",
    "        remainder=num %10\n",
    "        rev_num=(rev_num*10)+remainder\n",
    "        recur_reverse(num//10)\n",
    "    return rev_num\n",
    "rev_num=recur_reverse(num)\n",
    "print(\"n reverse of entered number is %d\"%rev_num)"
   ]
  },
  {
   "cell_type": "code",
   "execution_count": 2,
   "id": "13361802",
   "metadata": {},
   "outputs": [
    {
     "name": "stdout",
     "output_type": "stream",
     "text": [
      "enter number of elements:121\n",
      "121 is not armstrong number\n"
     ]
    }
   ],
   "source": [
    "n=int(input(\"enter number of elements:\"))\n",
    "s=0\n",
    "t=n\n",
    "while t>0:\n",
    "    digit=t%10\n",
    "    s+=digit**3\n",
    "    t//=10\n",
    "if n==s:\n",
    "    print(n,\"is an armstrong number:\")\n",
    "else:\n",
    "    print(n,\"is not armstrong number\")"
   ]
  },
  {
   "cell_type": "code",
   "execution_count": 3,
   "id": "f6a07820",
   "metadata": {},
   "outputs": [
    {
     "name": "stdout",
     "output_type": "stream",
     "text": [
      "enter a number:7\n",
      "7 is a prime number\n"
     ]
    }
   ],
   "source": [
    "num=int(input(\"enter a number:\"))\n",
    "flag=False\n",
    "if num>1:\n",
    "    for i in range(2,num):\n",
    "        if(num %i)==0:\n",
    "            flag=True\n",
    "            break\n",
    "if flag:\n",
    "    print(num,\"is not a prime number\")\n",
    "else:\n",
    "    print(num,\"is a prime number\")"
   ]
  },
  {
   "cell_type": "code",
   "execution_count": 4,
   "id": "ae292dcf",
   "metadata": {},
   "outputs": [
    {
     "name": "stdout",
     "output_type": "stream",
     "text": [
      "enter the number of terms in the sequence:12\n",
      "0 1 1 2 3 5 8 13 21 34 55 89 "
     ]
    }
   ],
   "source": [
    "a=0\n",
    "b=1\n",
    "n=int(input(\"enter the number of terms in the sequence:\"))\n",
    "print(a,b,end=\" \")\n",
    "while(n-2):\n",
    "    c=a+b\n",
    "    a,b=b,c\n",
    "    print(c,end=\" \")\n",
    "    n=n-1"
   ]
  },
  {
   "cell_type": "code",
   "execution_count": 5,
   "id": "8f8381e9",
   "metadata": {},
   "outputs": [
    {
     "name": "stdout",
     "output_type": "stream",
     "text": [
      "8\n"
     ]
    }
   ],
   "source": [
    "def fibonaccis(n):\n",
    "    a,b=0,1\n",
    "    for i in range(0,n):\n",
    "        a,b=b,a+b\n",
    "    return a\n",
    "print(fibonaccis(6))"
   ]
  },
  {
   "cell_type": "code",
   "execution_count": 6,
   "id": "8215213e",
   "metadata": {},
   "outputs": [
    {
     "name": "stdout",
     "output_type": "stream",
     "text": [
      "how many terms:12\n",
      "fibonacci sequences\n",
      "0\n",
      "1\n",
      "1\n",
      "2\n",
      "3\n",
      "5\n",
      "8\n",
      "13\n",
      "21\n",
      "34\n",
      "55\n",
      "89\n"
     ]
    }
   ],
   "source": [
    "def recur_fibo(n):\n",
    "    if(n<=1):\n",
    "        return n\n",
    "    else:\n",
    "        return (recur_fibo(n-1)+recur_fibo(n-2))\n",
    "nterms=int(input(\"how many terms:\"))\n",
    "if nterms <=0:\n",
    "    print(\"please entered a psoitive integer\")\n",
    "else:\n",
    "    print(\"fibonacci sequences\")\n",
    "for i in range(nterms):\n",
    "    print(recur_fibo(i))"
   ]
  },
  {
   "cell_type": "code",
   "execution_count": 7,
   "id": "c690c0e4",
   "metadata": {},
   "outputs": [
    {
     "name": "stdout",
     "output_type": "stream",
     "text": [
      "enter a number13\n",
      "the number is notr palindrome\n"
     ]
    }
   ],
   "source": [
    "num=int(input(\"enter a number\"))\n",
    "temp=num\n",
    "rev=0\n",
    "while (num>0):\n",
    "    dig=num %10\n",
    "    rev=rev * 10+dig\n",
    "    num=num//10\n",
    "    \n",
    "if(temp==rev):\n",
    "    print(\"the number is palindrome\")\n",
    "else:\n",
    "    print(\"the number is notr palindrome\")"
   ]
  },
  {
   "cell_type": "code",
   "execution_count": 8,
   "id": "0c8778fd",
   "metadata": {},
   "outputs": [
    {
     "name": "stdout",
     "output_type": "stream",
     "text": [
      "enter your numbers:12\n",
      "12 is not a palindrome number\n"
     ]
    }
   ],
   "source": [
    "rev=0\n",
    "def num_reverse(num):\n",
    "    global rev\n",
    "    if num !=0:\n",
    "        remainder=num %10\n",
    "        rev=(rev *10)+remainder\n",
    "        num_reverse(num//10)\n",
    "    return rev\n",
    "num=int(input(\"enter your numbers:\"))\n",
    "if(num_reverse(num)==num):\n",
    "    print(num,\"is a palindrome number:\")\n",
    "else:\n",
    "    print(num,\"is not a palindrome number\")"
   ]
  },
  {
   "cell_type": "code",
   "execution_count": 9,
   "id": "ef06f54b",
   "metadata": {},
   "outputs": [
    {
     "name": "stdout",
     "output_type": "stream",
     "text": [
      "enter first number:15\n",
      "enter second number:46\n",
      "enter third numbers:45\n",
      "the largest  number is: 46.0\n"
     ]
    }
   ],
   "source": [
    "num1=float(input(\"enter first number:\"))\n",
    "num2=float(input(\"enter second number:\"))\n",
    "num3=float(input(\"enter third numbers:\"))\n",
    "if(num1>num2) and (num2>num3):\n",
    "    largest=num1\n",
    "elif(num2>num1) and (num2>num3):\n",
    "    largest=num2\n",
    "else:\n",
    "    largest=num3\n",
    "print(\"the largest  number is:\",largest)"
   ]
  },
  {
   "cell_type": "code",
   "execution_count": 10,
   "id": "c3569491",
   "metadata": {},
   "outputs": [
    {
     "name": "stdout",
     "output_type": "stream",
     "text": [
      "enter a number to check:45\n",
      "45 is not a binary number:\n"
     ]
    }
   ],
   "source": [
    "num=int(input(\"enter a number to check:\"))\n",
    "n=num\n",
    "flag=0\n",
    "while(num !=0):\n",
    "    digit=num %10\n",
    "    if(digit==0 or digit==1):\n",
    "        num=num//10\n",
    "        continue\n",
    "    else:\n",
    "        flag=flag+1\n",
    "        break\n",
    "if(flag==0):\n",
    "    print(n,\"is a binary number:\")\n",
    "else:\n",
    "    print(n,\"is not a binary number:\")\n",
    "    \n"
   ]
  },
  {
   "cell_type": "code",
   "execution_count": 11,
   "id": "00e996aa",
   "metadata": {},
   "outputs": [
    {
     "name": "stdout",
     "output_type": "stream",
     "text": [
      "enter a numbers:56\n",
      "11\n"
     ]
    }
   ],
   "source": [
    "l=[]\n",
    "def sum_digits(b):\n",
    "    if(b==0):\n",
    "        return 1\n",
    "    dig=b %10\n",
    "    l.append(dig)\n",
    "    sum_digits(b//10)\n",
    "n=int(input(\"enter a numbers:\"))\n",
    "sum_digits(n)\n",
    "print(sum(l))"
   ]
  },
  {
   "cell_type": "code",
   "execution_count": 12,
   "id": "07637833",
   "metadata": {},
   "outputs": [
    {
     "name": "stdout",
     "output_type": "stream",
     "text": [
      "enter a numbers:6\n",
      "enters a numbers:4\n",
      "before swapping\n",
      "value of x: 6 and y: 4\n",
      "after swapping:\n",
      "value of x: 4 and y: 6\n"
     ]
    }
   ],
   "source": [
    "x=int(input(\"enter a numbers:\"))\n",
    "y=int(input(\"enters a numbers:\"))\n",
    "print(\"before swapping\")\n",
    "print(\"value of x:\",x,\"and y:\",y)\n",
    "x,y=y,x\n",
    "print(\"after swapping:\")\n",
    "print(\"value of x:\",x,\"and y:\",y)"
   ]
  },
  {
   "cell_type": "code",
   "execution_count": 13,
   "id": "0c488d66",
   "metadata": {},
   "outputs": [
    {
     "name": "stdout",
     "output_type": "stream",
     "text": [
      "enter a numbers:46\n",
      "enters a numbers:57\n",
      "57\n",
      "46\n"
     ]
    }
   ],
   "source": [
    "x=int(input(\"enter a numbers:\"))\n",
    "y=int(input(\"enters a numbers:\"))\n",
    "\n",
    "temp=x\n",
    "x=y\n",
    "y=temp\n",
    "print(x)\n",
    "print(y)"
   ]
  },
  {
   "cell_type": "code",
   "execution_count": 24,
   "id": "00b82139",
   "metadata": {},
   "outputs": [
    {
     "name": "stdout",
     "output_type": "stream",
     "text": [
      "enter numbers2464278\n",
      "7 is prime factors\n",
      "2 is prime factors\n",
      "2 is prime factors\n"
     ]
    }
   ],
   "source": [
    "num=int(input(\"enter numbers\"))\n",
    "while(num>0):\n",
    "    rem=num %10\n",
    "    if rem <0:\n",
    "        print(\"rem is not a factor number\",rem)\n",
    "        num=num//10\n",
    "    elif(rem==2 or rem==1):\n",
    "        print(rem,\"is prime factors\")\n",
    "        num=num//10\n",
    "    elif(rem %2==0):\n",
    "        count=0\n",
    "        num=num//10\n",
    "    \n",
    "    else:\n",
    "        count=count+1\n",
    "        print(rem,\"is prime factors\")\n",
    "        num=num//10\n",
    "        \n",
    "    "
   ]
  },
  {
   "cell_type": "code",
   "execution_count": 5,
   "id": "34c8db0a",
   "metadata": {},
   "outputs": [
    {
     "name": "stdout",
     "output_type": "stream",
     "text": [
      "enter the number of array11\n",
      "enter the nyumber of array12\n",
      "23\n"
     ]
    }
   ],
   "source": [
    "a=int(input(\"enter the number of array\"))\n",
    "b=int(input(\"enter the nyumber of array\"))\n",
    "def add(a,b):\n",
    "    while(b!=0):\n",
    "        c=a&b\n",
    "        a=a^b\n",
    "        b=c<<1\n",
    "    return a\n",
    "print(add(a,b))\n",
    "        "
   ]
  },
  {
   "cell_type": "code",
   "execution_count": 7,
   "id": "c2926ce5",
   "metadata": {},
   "outputs": [
    {
     "name": "stdout",
     "output_type": "stream",
     "text": [
      "enter any number:6\n",
      "the number is a perfect number\n"
     ]
    }
   ],
   "source": [
    "n=int(input(\"enter any number:\"))\n",
    "sum1=0\n",
    "for i in range(1,n):\n",
    "    if(n%i==0):\n",
    "        sum1=sum1+i\n",
    "if(sum1==n):\n",
    "    print(\"the number is a perfect number\")\n",
    "else:\n",
    "    print(\"the number is not a perfect number\")"
   ]
  },
  {
   "cell_type": "code",
   "execution_count": null,
   "id": "7eea0985",
   "metadata": {},
   "outputs": [],
   "source": []
  }
 ],
 "metadata": {
  "kernelspec": {
   "display_name": "Python 3",
   "language": "python",
   "name": "python3"
  },
  "language_info": {
   "codemirror_mode": {
    "name": "ipython",
    "version": 3
   },
   "file_extension": ".py",
   "mimetype": "text/x-python",
   "name": "python",
   "nbconvert_exporter": "python",
   "pygments_lexer": "ipython3",
   "version": "3.8.8"
  }
 },
 "nbformat": 4,
 "nbformat_minor": 5
}
