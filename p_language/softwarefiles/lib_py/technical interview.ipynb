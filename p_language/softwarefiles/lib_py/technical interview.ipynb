{
 "cells": [
  {
   "cell_type": "code",
   "execution_count": 2,
   "id": "8904afcf",
   "metadata": {},
   "outputs": [
    {
     "name": "stdout",
     "output_type": "stream",
     "text": [
      "enter a number123\n",
      "321\n"
     ]
    }
   ],
   "source": [
    "num=int(input(\"enter a number\"))\n",
    "j=0\n",
    "def Bishak(num):\n",
    "    global j\n",
    "    if(num>0):\n",
    "        r=num%10\n",
    "        j=(j*10)+r\n",
    "        Bishak(num//10)\n",
    "    return j\n",
    "print(Bishak(num))\n",
    "\n",
    "        \n",
    "        \n",
    "\n"
   ]
  },
  {
   "cell_type": "markdown",
   "id": "68215fbd",
   "metadata": {},
   "source": [
    "num=int(input(\"enter a number\"))\n",
    "s=0\n",
    "k=num\n",
    "while (k>0):\n",
    "    r=k%10\n",
    "    s+=r**3\n",
    "    k//=10\n",
    "if(s==num):\n",
    "    print(\"armstrong\")\n",
    "else:\n",
    "    print(\"no armstrong\")"
   ]
  },
  {
   "cell_type": "markdown",
   "id": "43de0361",
   "metadata": {},
   "source": [
    " n=int(input(\"enter a number\"))\n",
    "flag=False\n",
    "if n>1:\n",
    "    for i in range(2,n):\n",
    "        if(n % 2==0):\n",
    "            flag=True\n",
    "            break;\n",
    "if flag:\n",
    "    print(n,\"is not prime number\")\n",
    "else:\n",
    "    print(n,\"is prime number\")"
   ]
  },
  {
   "cell_type": "code",
   "execution_count": null,
   "id": "02f7ae82",
   "metadata": {},
   "outputs": [],
   "source": [
    "a=0\n",
    "b=1\n",
    "n=int(input(\"enter a number\"))\n",
    "for i in range(0,n):\n",
    "    c=a+b\n",
    "    a,b=b,c\n",
    "    \n",
    "print(a)"
   ]
  },
  {
   "cell_type": "code",
   "execution_count": null,
   "id": "833276f3",
   "metadata": {},
   "outputs": [],
   "source": [
    "def fibo(num):\n",
    "    a,b=0,1\n",
    "    for i in range(0,n):\n",
    "        c=a+b\n",
    "        a,b=b,c\n",
    "    return a\n",
    "num=int(input(\"enter a number\"))\n",
    "print(fibo(num))"
   ]
  },
  {
   "cell_type": "code",
   "execution_count": null,
   "id": "613db33d",
   "metadata": {},
   "outputs": [],
   "source": [
    "def fibo(n):\n",
    "    if (n<=1):\n",
    "        return 1\n",
    "    else:\n",
    "        return(fibo(n-1)+fibo(n-2))\n",
    "num=int(input(\"enter a number\"))\n",
    "if(num<=0):\n",
    "    print(\"enter a positive number\")\n",
    "else:\n",
    "    print(\"fibonacci sequnece\")\n",
    "    for i in range(num):\n",
    "        k=fibo(i)\n",
    "print(k)"
   ]
  },
  {
   "cell_type": "code",
   "execution_count": null,
   "id": "96deba45",
   "metadata": {},
   "outputs": [],
   "source": [
    "n=int(input(\"enter a number\"))\n",
    "k=n\n",
    "if(k>1):\n",
    "    r=k%10\n",
    "    \n",
    "    for i in range(1,k):\n",
    "        n=n*i\n",
    "    k//=10   \n",
    "print(n)"
   ]
  },
  {
   "cell_type": "code",
   "execution_count": null,
   "id": "85d67b72",
   "metadata": {},
   "outputs": [],
   "source": [
    "def fact(num):\n",
    "    if num==1:\n",
    "        return n\n",
    "    else:\n",
    "        return num *fact(num-1)\n",
    "n=int(input(\"enter a number\"))\n",
    "if(n<=0):\n",
    "    print(\"enter a positive integer\")\n",
    "else:\n",
    "    print(\"factorial number\")\n",
    "    for i in range(1,n):\n",
    "        j=fact(i)\n",
    "print(j)"
   ]
  },
  {
   "cell_type": "code",
   "execution_count": null,
   "id": "98c45c84",
   "metadata": {},
   "outputs": [],
   "source": [
    "num=int(input(\"enter a number\"))\n",
    "temp=num\n",
    "rev=0\n",
    "while(temp>0):\n",
    "    r=temp%10\n",
    "    rev=rev*10+r\n",
    "    temp//=10\n",
    "if(rev==num):\n",
    "    print(\"palindrome\")\n",
    "else:\n",
    "    print(\"not palindrome\")"
   ]
  },
  {
   "cell_type": "code",
   "execution_count": null,
   "id": "78c78b3a",
   "metadata": {},
   "outputs": [],
   "source": [
    "string=input(\"enter a string\")\n",
    "if(string==string[::-1]):\n",
    "    print(\"the string is a palindrome\")\n",
    "else:\n",
    "    print(\"not palindrome\")"
   ]
  },
  {
   "cell_type": "code",
   "execution_count": null,
   "id": "f2281d2e",
   "metadata": {},
   "outputs": [],
   "source": [
    "rev=0\n",
    "def Num_reverse(num):\n",
    "    global rev\n",
    "    if(num ==0 ):\n",
    "        print(\"none\")\n",
    "    else:\n",
    "        rem=num%10\n",
    "        rev=(rev*10)+rem\n",
    "        Num_reverse(num//10)\n",
    "    return rev\n",
    "\n",
    "num=int(input(\"enter a number\"))\n",
    "if(Num_reverse(num)==num):\n",
    "    print(num,\"is a  palindrome\")\n",
    "else:\n",
    "    print(num,\"is not a palindrome\")"
   ]
  },
  {
   "cell_type": "code",
   "execution_count": null,
   "id": "e03f3953",
   "metadata": {},
   "outputs": [],
   "source": [
    "num1=int(input(\"enter a number\"))\n",
    "num2=int(input(\"enter second number\"))\n",
    "num3=int(input(\"enter third number\"))\n",
    "if(num1>num2) and (num1>num3):\n",
    "    largest=num1\n",
    "elif(num2>num1) and (num2>num3):\n",
    "    largest=num2\n",
    "else:\n",
    "    largest=num3\n",
    "print(largest)"
   ]
  },
  {
   "cell_type": "markdown",
   "id": "20bced34",
   "metadata": {},
   "source": [
    "num=int(input("
   ]
  },
  {
   "cell_type": "code",
   "execution_count": null,
   "id": "03cd9166",
   "metadata": {},
   "outputs": [],
   "source": [
    "n=int(input(\"enter a number\"))\n",
    "num=n\n",
    "flag=0\n",
    "for i in range(num):\n",
    "    digit =num %10\n",
    "    if(digit==0 or digit==1):\n",
    "        num=num //10\n",
    "        continue\n",
    "    else:\n",
    "        flag=1\n",
    "        break\n",
    "if(flag==0):\n",
    "    print(n,\"is a binary number\")\n",
    "else:\n",
    "    print(n,\"is not a binary number\")"
   ]
  },
  {
   "cell_type": "code",
   "execution_count": null,
   "id": "6ca4ae8b",
   "metadata": {},
   "outputs": [],
   "source": [
    "l=[]\n",
    "def Sum_digits(b):\n",
    "    if(b==0):\n",
    "        return 1\n",
    "    dig=b%10\n",
    "    l.append(dig)\n",
    "    Sum_digits(b//10)\n",
    "n=int(input(\"enter a number\"))\n",
    "Sum_digits(n)\n",
    "print(sum(l))"
   ]
  },
  {
   "cell_type": "code",
   "execution_count": null,
   "id": "6f33b4bf",
   "metadata": {},
   "outputs": [],
   "source": [
    "a=int(input(\"enter a number\"))\n",
    "b=int(input(\"enter a number\"))\n",
    "a,b=b,a\n",
    "print(a,b)"
   ]
  },
  {
   "cell_type": "code",
   "execution_count": null,
   "id": "81c5fba1",
   "metadata": {},
   "outputs": [],
   "source": [
    "a=int(input(\"enter a number\"))\n",
    "b=int(input(\"enter a number\"))\n",
    "temp=a\n",
    "a=b\n",
    "b=temp\n",
    "print(a,b)"
   ]
  },
  {
   "cell_type": "code",
   "execution_count": null,
   "id": "0b5bbc84",
   "metadata": {},
   "outputs": [],
   "source": [
    "\n",
    "        \n",
    "    \n",
    "        "
   ]
  },
  {
   "cell_type": "code",
   "execution_count": null,
   "id": "0d7c3e7d",
   "metadata": {},
   "outputs": [],
   "source": []
  },
  {
   "cell_type": "code",
   "execution_count": null,
   "id": "9ad0f5cf",
   "metadata": {},
   "outputs": [],
   "source": []
  }
 ],
 "metadata": {
  "kernelspec": {
   "display_name": "Python 3",
   "language": "python",
   "name": "python3"
  },
  "language_info": {
   "codemirror_mode": {
    "name": "ipython",
    "version": 3
   },
   "file_extension": ".py",
   "mimetype": "text/x-python",
   "name": "python",
   "nbconvert_exporter": "python",
   "pygments_lexer": "ipython3",
   "version": "3.8.8"
  }
 },
 "nbformat": 4,
 "nbformat_minor": 5
}
