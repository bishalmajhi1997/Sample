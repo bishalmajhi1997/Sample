{
 "cells": [
  {
   "cell_type": "markdown",
   "id": "587ac503",
   "metadata": {},
   "source": [
    "# String"
   ]
  },
  {
   "cell_type": "code",
   "execution_count": 1,
   "id": "c7d39968",
   "metadata": {},
   "outputs": [
    {
     "name": "stdout",
     "output_type": "stream",
     "text": [
      "flexiple!\n",
      "flexible\n"
     ]
    }
   ],
   "source": [
    "string=\"flexible!\"\n",
    "s2=string.replace(\"b\",\"p\")\n",
    "print(s2)\n",
    "s3=string.replace(\"!\",\"\")\n",
    "print(s3)"
   ]
  },
  {
   "cell_type": "code",
   "execution_count": 2,
   "id": "5f491a0f",
   "metadata": {},
   "outputs": [
    {
     "name": "stdout",
     "output_type": "stream",
     "text": [
      "flexiple\n"
     ]
    }
   ],
   "source": [
    "s=\"flexible\"\n",
    "x=\"b\"\n",
    "y=\"p\"\n",
    "table=s.maketrans(x,y)\n",
    "print(s.translate(table))"
   ]
  },
  {
   "cell_type": "code",
   "execution_count": 3,
   "id": "47d47438",
   "metadata": {},
   "outputs": [
    {
     "name": "stdout",
     "output_type": "stream",
     "text": [
      "flexible\n"
     ]
    }
   ],
   "source": [
    "s1=s.translate({ord(\"1\"):None})\n",
    "print(s1)"
   ]
  },
  {
   "cell_type": "code",
   "execution_count": 4,
   "id": "558d75d9",
   "metadata": {},
   "outputs": [
    {
     "name": "stdout",
     "output_type": "stream",
     "text": [
      "please enter a stringbishal\n",
      "please enter a charectera\n",
      "the total number ogf times a has occured 1\n"
     ]
    }
   ],
   "source": [
    "string=input(\"please enter a string\")\n",
    "char=input(\"please enter a charecter\")\n",
    "i=0\n",
    "count=0\n",
    "while(i<len(string)):\n",
    "    if(string[i]==char):\n",
    "        count=count+1\n",
    "    i=i+1\n",
    "print(\"the total number ogf times\",char,\"has occured\",count)"
   ]
  },
  {
   "cell_type": "code",
   "execution_count": 5,
   "id": "738b932b",
   "metadata": {},
   "outputs": [
    {
     "name": "stdout",
     "output_type": "stream",
     "text": [
      "please enter your own stringbishal\n",
      "please enter a charbsb\n",
      "0\n"
     ]
    }
   ],
   "source": [
    "def count_occurance(str1,ch):\n",
    "    count=0\n",
    "    for i in range(len(str1)):\n",
    "        if(str1[i]==char):\n",
    "            count=count+1\n",
    "    return count\n",
    "string=input(\"please enter your own string\")\n",
    "char=input(\"please enter a char\")\n",
    "print(count_occurance(string,char))"
   ]
  },
  {
   "cell_type": "code",
   "execution_count": 6,
   "id": "d1849f4f",
   "metadata": {},
   "outputs": [
    {
     "name": "stdout",
     "output_type": "stream",
     "text": [
      "enter stringbhs\n",
      "enter stringbsj\n",
      "not anagrams\n",
      "None\n"
     ]
    }
   ],
   "source": [
    "def check(s1,s2):\n",
    "    if(sorted(s1)==sorted(s2)):\n",
    "        print(\"anagrams\")\n",
    "    else:\n",
    "        print(\"not anagrams\")\n",
    "s1=input(\"enter string\")\n",
    "s2=input(\"enter string\")\n",
    "print(check(s1,s2))"
   ]
  },
  {
   "cell_type": "code",
   "execution_count": 7,
   "id": "b680adc4",
   "metadata": {},
   "outputs": [
    {
     "name": "stdout",
     "output_type": "stream",
     "text": [
      "anagrams\n"
     ]
    }
   ],
   "source": [
    "str1=\"Race\"\n",
    "str2=\"Care\"\n",
    "str1=str1.lower()\n",
    "str2=str2.lower()\n",
    "if(len(str1)==len(str2)):\n",
    "    sorted_str1=sorted(str1)\n",
    "    sorted_str2=sorted(str2)\n",
    "    if(sorted_str1==sorted_str2):\n",
    "        print(\"anagrams\")\n",
    "    else:\n",
    "        print(\"not anagrams\")\n",
    "    "
   ]
  },
  {
   "cell_type": "code",
   "execution_count": 8,
   "id": "c7f749fc",
   "metadata": {},
   "outputs": [
    {
     "name": "stdout",
     "output_type": "stream",
     "text": [
      "enter stringbjs\n",
      "enter stringbsj\n",
      "anagarams\n"
     ]
    }
   ],
   "source": [
    "from collections import Counter\n",
    "def check(s1,s2):\n",
    "    if(Counter(s1)==Counter(s2)):\n",
    "        print(\"anagarams\")\n",
    "    else:\n",
    "        print(\"not anagrams\")\n",
    "s1=input(\"enter string\")\n",
    "s2=input(\"enter string\")\n",
    "check(s1,s2)"
   ]
  },
  {
   "cell_type": "code",
   "execution_count": 9,
   "id": "40bb4622",
   "metadata": {},
   "outputs": [
    {
     "name": "stdout",
     "output_type": "stream",
     "text": [
      "enter stringbsj\n",
      "not plaindrome\n"
     ]
    }
   ],
   "source": [
    "my_str=input(\"enter string\")\n",
    "my_str=my_str.casefold()\n",
    "rev_str=reversed(my_str)\n",
    "if list(my_str)==list(rev_str):\n",
    "    print(\"palnudrome\")\n",
    "else:\n",
    "    print(\"not plaindrome\")"
   ]
  },
  {
   "cell_type": "code",
   "execution_count": 10,
   "id": "db181164",
   "metadata": {},
   "outputs": [
    {
     "name": "stdout",
     "output_type": "stream",
     "text": [
      "enter a stringbsj'\n",
      "yes\n"
     ]
    }
   ],
   "source": [
    "x=input(\"enter a string\")\n",
    "w=\"\"\n",
    "for i in x:\n",
    "    x=i+w\n",
    "if x==w:\n",
    "    print(\"no\")\n",
    "else:\n",
    "    print(\"yes\")"
   ]
  },
  {
   "cell_type": "code",
   "execution_count": 11,
   "id": "ac67333c",
   "metadata": {},
   "outputs": [
    {
     "name": "stdout",
     "output_type": "stream",
     "text": [
      "flexiple!\n",
      "flexible\n"
     ]
    }
   ],
   "source": [
    "str1=\"flexible!\"\n",
    "s2=str1.replace(\"b\",\"p\")\n",
    "print(s2)\n",
    "s3=str1.replace(\"!\",\"\")\n",
    "print(s3)"
   ]
  },
  {
   "cell_type": "code",
   "execution_count": 12,
   "id": "b4e886a6",
   "metadata": {},
   "outputs": [
    {
     "name": "stdout",
     "output_type": "stream",
     "text": [
      "flexiple\n"
     ]
    }
   ],
   "source": [
    "x=\"b\"\n",
    "y=\"p\"\n",
    "table=s.maketrans(x,y)\n",
    "print(s.translate(table))"
   ]
  },
  {
   "cell_type": "code",
   "execution_count": 13,
   "id": "e068826c",
   "metadata": {},
   "outputs": [],
   "source": [
    "s1=s.translate({ord(\"!\"):None})"
   ]
  },
  {
   "cell_type": "code",
   "execution_count": 14,
   "id": "c458a02a",
   "metadata": {},
   "outputs": [
    {
     "name": "stdout",
     "output_type": "stream",
     "text": [
      "flexible\n"
     ]
    }
   ],
   "source": [
    "print(s1)"
   ]
  },
  {
   "cell_type": "code",
   "execution_count": 15,
   "id": "63103fd9",
   "metadata": {},
   "outputs": [
    {
     "name": "stdout",
     "output_type": "stream",
     "text": [
      "please enter a stringbjs\n",
      "please enter a countbjs\n",
      "bjs 0\n"
     ]
    }
   ],
   "source": [
    "string=input(\"please enter a string\")\n",
    "string2=input(\"please enter a count\")\n",
    "i=0\n",
    "count=0\n",
    "while (i<len(string)):\n",
    "    if(string[i]==string2):\n",
    "        count=count+1\n",
    "    i+=1\n",
    "print(string,count)    "
   ]
  },
  {
   "cell_type": "code",
   "execution_count": 16,
   "id": "ee8137a4",
   "metadata": {},
   "outputs": [
    {
     "name": "stdout",
     "output_type": "stream",
     "text": [
      "please enter a stringbishal bismaya biswa\n",
      "please enter a charb\n",
      "3\n"
     ]
    }
   ],
   "source": [
    "def count_occurance(string,char):\n",
    "    count=0\n",
    "    for i in range(len(string)):\n",
    "        if(string[i]==char):\n",
    "            count=count+1\n",
    "    return count\n",
    "string=input(\"please enter a string\")\n",
    "char=input(\"please enter a char\")\n",
    "print(count_occurance(string,char))\n",
    "\n"
   ]
  },
  {
   "cell_type": "code",
   "execution_count": 21,
   "id": "e2f3e330",
   "metadata": {},
   "outputs": [
    {
     "name": "stdout",
     "output_type": "stream",
     "text": [
      "enter str4ingbhig\n",
      "enet stringbgj\n",
      "not anagarams\n"
     ]
    }
   ],
   "source": [
    "def check(s1,s2):\n",
    "    if(sorted(s1)==sorted(s2)):\n",
    "        print(\"anagrams\")\n",
    "    else:\n",
    "        print(\"not anagarams\")\n",
    "    \n",
    "s1=input(\"enter str4ing\")\n",
    "s2=input(\"enet string\")\n",
    "check(s1,s2)\n"
   ]
  },
  {
   "cell_type": "code",
   "execution_count": 23,
   "id": "e6647cc7",
   "metadata": {},
   "outputs": [
    {
     "name": "stdout",
     "output_type": "stream",
     "text": [
      "anagarams\n"
     ]
    }
   ],
   "source": [
    "s1=\"race\"\n",
    "s2=\"care\"\n",
    "str1=s1.lower()\n",
    "str2=s2.lower()\n",
    "if(len(str1)==len(str2)):\n",
    "    sorted_str1=sorted(str1)\n",
    "    sorted_str2=sorted(str2)\n",
    "    if(sorted_str1==sorted_str2):\n",
    "        print(\"anagarams\")\n",
    "    else:\n",
    "        print(\"not anagarms\")\n",
    "        "
   ]
  },
  {
   "cell_type": "code",
   "execution_count": 29,
   "id": "f3624df3",
   "metadata": {},
   "outputs": [
    {
     "name": "stdout",
     "output_type": "stream",
     "text": [
      "please enter a stringbishal\n",
      "please enter a numberbishal\n",
      "anagrams\n"
     ]
    }
   ],
   "source": [
    "from collections import Counter\n",
    "def check(s1,s2):\n",
    "    if(Counter(s1)==Counter(s2)):\n",
    "        print(\"anagrams\")\n",
    "    else:\n",
    "        print(\"not anagrams\")\n",
    "s1=input(\"please enter a string\")\n",
    "s2=input(\"please enter a number\")\n",
    "check(s1,s2)"
   ]
  },
  {
   "cell_type": "code",
   "execution_count": 32,
   "id": "a29a2746",
   "metadata": {},
   "outputs": [
    {
     "name": "stdout",
     "output_type": "stream",
     "text": [
      "enter stringmadam\n",
      "the string is a plaindrome\n"
     ]
    }
   ],
   "source": [
    "my_str=input(\"enter string\")\n",
    "my_str=my_str.casefold()\n",
    "rev_str=reversed(my_str)\n",
    "if list(my_str)==list(rev_str):\n",
    "    print(\"the string is a plaindrome\")\n",
    "else:\n",
    "    print(\"the string is not a palindrome\")"
   ]
  },
  {
   "cell_type": "code",
   "execution_count": null,
   "id": "3704e3f7",
   "metadata": {},
   "outputs": [],
   "source": []
  }
 ],
 "metadata": {
  "kernelspec": {
   "display_name": "Python 3",
   "language": "python",
   "name": "python3"
  },
  "language_info": {
   "codemirror_mode": {
    "name": "ipython",
    "version": 3
   },
   "file_extension": ".py",
   "mimetype": "text/x-python",
   "name": "python",
   "nbconvert_exporter": "python",
   "pygments_lexer": "ipython3",
   "version": "3.8.8"
  }
 },
 "nbformat": 4,
 "nbformat_minor": 5
}
