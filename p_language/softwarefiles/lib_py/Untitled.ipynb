{
 "cells": [
  {
   "cell_type": "code",
   "execution_count": 1,
   "id": "59b72982",
   "metadata": {},
   "outputs": [],
   "source": [
    "import array"
   ]
  },
  {
   "cell_type": "code",
   "execution_count": 2,
   "id": "df9b180e",
   "metadata": {},
   "outputs": [],
   "source": [
    "stu_roll=array.array(\"i\",[101,102,103,104])"
   ]
  },
  {
   "cell_type": "code",
   "execution_count": 3,
   "id": "f684d2e0",
   "metadata": {},
   "outputs": [
    {
     "name": "stdout",
     "output_type": "stream",
     "text": [
      "101\n"
     ]
    }
   ],
   "source": [
    "print(stu_roll[0])"
   ]
  },
  {
   "cell_type": "code",
   "execution_count": 4,
   "id": "48ed6e36",
   "metadata": {},
   "outputs": [
    {
     "name": "stdout",
     "output_type": "stream",
     "text": [
      "101\n",
      "102\n",
      "103\n",
      "104\n"
     ]
    }
   ],
   "source": [
    "print(stu_roll[0])\n",
    "print(stu_roll[1])\n",
    "print(stu_roll[2])\n",
    "print(stu_roll[3])"
   ]
  },
  {
   "cell_type": "code",
   "execution_count": 5,
   "id": "7b248f27",
   "metadata": {},
   "outputs": [
    {
     "name": "stdout",
     "output_type": "stream",
     "text": [
      "101\n",
      "102\n",
      "103\n",
      "104\n",
      "105\n"
     ]
    }
   ],
   "source": [
    "from array import *\n",
    "stu_roll=array(\"i\",[101,102,103,104,105])\n",
    "for element in stu_roll:\n",
    "    print(element)"
   ]
  },
  {
   "cell_type": "code",
   "execution_count": 6,
   "id": "aed4f39f",
   "metadata": {},
   "outputs": [
    {
     "name": "stdout",
     "output_type": "stream",
     "text": [
      "101\n",
      "102\n",
      "103\n",
      "104\n",
      "105\n"
     ]
    }
   ],
   "source": [
    "n=len(stu_roll)\n",
    "for i in range(n):\n",
    "    print(stu_roll[i])"
   ]
  },
  {
   "cell_type": "code",
   "execution_count": 7,
   "id": "e5c7005b",
   "metadata": {},
   "outputs": [
    {
     "name": "stdout",
     "output_type": "stream",
     "text": [
      "5\n"
     ]
    }
   ],
   "source": [
    "print(n)"
   ]
  },
  {
   "cell_type": "code",
   "execution_count": 9,
   "id": "3496c4c1",
   "metadata": {},
   "outputs": [
    {
     "name": "stdout",
     "output_type": "stream",
     "text": [
      "101\n",
      "i = 101\n",
      "102\n",
      "i = 102\n",
      "103\n",
      "i = 103\n",
      "104\n",
      "i = 104\n",
      "105\n",
      "i = 105\n"
     ]
    }
   ],
   "source": [
    "for i in range(n):\n",
    "    print(stu_roll[i])\n",
    "    print(\"i\",\"=\",stu_roll[i])"
   ]
  },
  {
   "cell_type": "code",
   "execution_count": 11,
   "id": "33a59b6c",
   "metadata": {},
   "outputs": [
    {
     "name": "stdout",
     "output_type": "stream",
     "text": [
      "101\n",
      "102\n",
      "103\n",
      "104\n",
      "105\n"
     ]
    }
   ],
   "source": [
    "stu_roll=array(\"i\",[101,102,103,104,105])\n",
    "n=len(stu_roll)\n",
    "i=0\n",
    "while i<n:\n",
    "    print(stu_roll[i])\n",
    "    i+=1"
   ]
  },
  {
   "cell_type": "code",
   "execution_count": 19,
   "id": "5915157f",
   "metadata": {},
   "outputs": [
    {
     "name": "stdout",
     "output_type": "stream",
     "text": [
      "i\n",
      "[101, 102, 103, 105, 106]\n",
      "array after append\n",
      "i\n",
      "[101, 102, 103, 105, 106]\n"
     ]
    }
   ],
   "source": [
    "from array import *\n",
    "stu_roll=(\"i\",[101,102,103,105,106])\n",
    "n=len(stu_roll)\n",
    "i=0\n",
    "while i<n:\n",
    "    print(stu_roll[i])\n",
    "    i+=1\n",
    "print(\"array after append\")\n",
    "#stu_roll.append(105)\n",
    "#stu_roll.append(103)\n",
    "n=len(stu_roll)\n",
    "i=0\n",
    "while i<n:\n",
    "    print(stu_roll[i])\n",
    "    i+=1"
   ]
  },
  {
   "cell_type": "code",
   "execution_count": 23,
   "id": "3086e49a",
   "metadata": {},
   "outputs": [
    {
     "name": "stdout",
     "output_type": "stream",
     "text": [
      "enter number of elemnets3\n",
      "enter number of elemnst1\n",
      "enter number of elemnst2\n",
      "enter number of elemnst3\n",
      "1\n",
      "2\n",
      "3\n"
     ]
    }
   ],
   "source": [
    "from array import *\n",
    "stu_roll=array(\"i\",[])\n",
    "n=int(input(\"enter number of elemnets\"))\n",
    "for i in range(n):\n",
    "    stu_roll.append(int(input(\"enter number of elemnst\")))\n",
    "for i in range(len(stu_roll)):\n",
    "    print(stu_roll[i])"
   ]
  },
  {
   "cell_type": "code",
   "execution_count": null,
   "id": "92d330dc",
   "metadata": {},
   "outputs": [],
   "source": [
    "from array import *\n",
    "stu_roll=array(\"i\",[])\n",
    "n=int(input(\"enter number of elements\"))\n",
    "i=0\n",
    "j=0\n",
    "while i<n:\n",
    "    stu_roll.append(int(input(\"enter elemnets\")))\n",
    "    i+=1\n",
    "    \n",
    "while j<len(stu_roll):\n",
    "    print(stu_roll[j])\n",
    "    \n",
    "    i+=1"
   ]
  },
  {
   "cell_type": "code",
   "execution_count": null,
   "id": "71bfee92",
   "metadata": {},
   "outputs": [],
   "source": []
  }
 ],
 "metadata": {
  "kernelspec": {
   "display_name": "Python 3",
   "language": "python",
   "name": "python3"
  },
  "language_info": {
   "codemirror_mode": {
    "name": "ipython",
    "version": 3
   },
   "file_extension": ".py",
   "mimetype": "text/x-python",
   "name": "python",
   "nbconvert_exporter": "python",
   "pygments_lexer": "ipython3",
   "version": "3.8.8"
  }
 },
 "nbformat": 4,
 "nbformat_minor": 5
}
