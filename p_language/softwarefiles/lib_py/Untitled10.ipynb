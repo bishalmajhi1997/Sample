{
 "cells": [
  {
   "cell_type": "code",
   "execution_count": 1,
   "id": "2afb82db",
   "metadata": {},
   "outputs": [
    {
     "name": "stdout",
     "output_type": "stream",
     "text": [
      "10\n",
      "21.3\n",
      "geekushows\n"
     ]
    }
   ],
   "source": [
    "a=(10,21.3,\"geekushows\")\n",
    "for element in a:\n",
    "    print(element)"
   ]
  },
  {
   "cell_type": "code",
   "execution_count": 2,
   "id": "901fb6c2",
   "metadata": {},
   "outputs": [],
   "source": [
    "a=(10,20,-50,21.3,\"geeky\")\n"
   ]
  },
  {
   "cell_type": "code",
   "execution_count": 3,
   "id": "cfa1ab4c",
   "metadata": {},
   "outputs": [
    {
     "data": {
      "text/plain": [
       "(10, 20, -50, 21.3, 'geeky')"
      ]
     },
     "execution_count": 3,
     "metadata": {},
     "output_type": "execute_result"
    }
   ],
   "source": [
    "a"
   ]
  },
  {
   "cell_type": "code",
   "execution_count": 4,
   "id": "2315929b",
   "metadata": {},
   "outputs": [],
   "source": [
    "del a"
   ]
  },
  {
   "cell_type": "code",
   "execution_count": 6,
   "id": "5e36e591",
   "metadata": {},
   "outputs": [
    {
     "name": "stdout",
     "output_type": "stream",
     "text": [
      "enter number of elements:5\n",
      "enter eleements:1\n",
      "enter eleements:2\n",
      "enter eleements:3\n",
      "enter eleements:4\n",
      "enter eleements:5\n",
      "<class 'list'>\n",
      "<class 'tuple'>\n",
      "tuples:\n",
      "1\n",
      "2\n",
      "3\n",
      "4\n",
      "5\n"
     ]
    }
   ],
   "source": [
    "a=[]\n",
    "n=int(input(\"enter number of elements:\"))\n",
    "for i in range(n):\n",
    "    a.append(int(input(\"enter eleements:\")))\n",
    "print(type(a))\n",
    "a=tuple(a)\n",
    "print(type(a))\n",
    "print(\"tuples:\")\n",
    "for element in a:\n",
    "    print(element)"
   ]
  },
  {
   "cell_type": "code",
   "execution_count": 9,
   "id": "9192d748",
   "metadata": {},
   "outputs": [
    {
     "name": "stdout",
     "output_type": "stream",
     "text": [
      "0 10\n",
      "1 20\n",
      "2 30\n",
      "3 0 50\n",
      "3 1 60\n"
     ]
    }
   ],
   "source": [
    "a=(10,20,30,(50,60))\n",
    "n=len(a)\n",
    "for i in range(n):\n",
    "    if type(a[i]) is tuple:\n",
    "        if len(a[i])>1:\n",
    "            m=len(a[i])\n",
    "            for j in range(m):\n",
    "                print(i,j,a[i][j])\n",
    "    else:\n",
    "        print(i,a[i])"
   ]
  },
  {
   "cell_type": "code",
   "execution_count": 10,
   "id": "de4c294b",
   "metadata": {},
   "outputs": [
    {
     "name": "stdout",
     "output_type": "stream",
     "text": [
      "10\n",
      "20\n",
      "30\n",
      "40\n",
      "50\n",
      "60\n"
     ]
    }
   ],
   "source": [
    "a=((10,20,30),(40,50,60))\n",
    "for r in a:\n",
    "    for c in r:\n",
    "        print(c)\n",
    "        "
   ]
  },
  {
   "cell_type": "code",
   "execution_count": 12,
   "id": "8bcd7c39",
   "metadata": {},
   "outputs": [
    {
     "name": "stdout",
     "output_type": "stream",
     "text": [
      "0 0 10\n",
      "0 1 20\n",
      "0 2 30\n",
      "\n",
      "1 0 40\n",
      "1 1 50\n",
      "1 2 60\n",
      "\n"
     ]
    }
   ],
   "source": [
    "n=len(a)\n",
    "for i in range(n):\n",
    "    for j in range(len(a[i])):\n",
    "        print(i,j,a[i][j])\n",
    "    print()"
   ]
  },
  {
   "cell_type": "code",
   "execution_count": 15,
   "id": "723ea5d5",
   "metadata": {},
   "outputs": [
    {
     "name": "stdout",
     "output_type": "stream",
     "text": [
      "0 10\n",
      "1 20\n",
      "2 30\n",
      "3 0 40\n",
      "3 1 50\n"
     ]
    }
   ],
   "source": [
    "a=(10,20,30,(40,50))\n",
    "n=len(a)\n",
    "i=0\n",
    "while i<n:\n",
    "    if type(a[i]) is tuple:\n",
    "        if len(a[i])>1:\n",
    "            j=0\n",
    "            m=len(a[i])\n",
    "            while j<m:\n",
    "                print(i,j,a[i][j])\n",
    "                j+=1\n",
    "            i+=1\n",
    "    else:\n",
    "        print(i,a[i])\n",
    "        i+=1"
   ]
  },
  {
   "cell_type": "code",
   "execution_count": 17,
   "id": "d4c9071c",
   "metadata": {},
   "outputs": [
    {
     "name": "stdout",
     "output_type": "stream",
     "text": [
      "(10, 20, 30, 40, 'geekyshows')\n",
      "<class 'tuple'>\n",
      "10\n",
      "20\n",
      "30\n",
      "40\n",
      "geekyshows\n",
      "(10, 20, 30, 40, 'geekyshows')\n"
     ]
    }
   ],
   "source": [
    "def show(t):\n",
    "    print(t)\n",
    "    print(type(t))\n",
    "    for i in t:\n",
    "        print(i)\n",
    "    return t\n",
    "tuple=(10,20,30,40,\"geekyshows\")\n",
    "new_tup=show(tuple)\n",
    "print(new_tup)"
   ]
  },
  {
   "cell_type": "code",
   "execution_count": 18,
   "id": "c9b3c327",
   "metadata": {},
   "outputs": [
    {
     "name": "stdout",
     "output_type": "stream",
     "text": [
      "original list A: [10, 20, (30, 40)]\n",
      "2439285662144\n",
      "<class 'list'>\n",
      "after appending a tuple [10, 20, (30, 40), (50, 60)]\n"
     ]
    }
   ],
   "source": [
    "a=[10,20,(30,40)]\n",
    "print(\"original list A:\",a)\n",
    "print(id(a))\n",
    "print(type(a))\n",
    "a.append((50,60))\n",
    "print(\"after appending a tuple\",a)"
   ]
  },
  {
   "cell_type": "code",
   "execution_count": 19,
   "id": "19db6a49",
   "metadata": {},
   "outputs": [
    {
     "name": "stdout",
     "output_type": "stream",
     "text": [
      "0 10\n",
      "1 20\n",
      "2 (30, 40)\n",
      "3 (50, 60)\n"
     ]
    }
   ],
   "source": [
    "n=len(a)\n",
    "for i in range(n):\n",
    "    if type(a[i]) is tuple:\n",
    "        if len(a[i])>1:\n",
    "            m=len(a[i])\n",
    "            for j in range(m):\n",
    "                print(i,j,a[i][j])\n",
    "    else:\n",
    "        print(i,a[i])\n",
    "    "
   ]
  },
  {
   "cell_type": "code",
   "execution_count": 20,
   "id": "f972a001",
   "metadata": {},
   "outputs": [
    {
     "name": "stdout",
     "output_type": "stream",
     "text": [
      "2439285802368\n",
      "enter number of elemnets5\n",
      "enter elements1\n",
      "enter elements2\n",
      "enter elements3\n",
      "enter elements4\n",
      "enter elements5\n",
      "{'2', '1', '4', '3', '5'}\n"
     ]
    }
   ],
   "source": [
    "a=set()\n",
    "print(id(a))\n",
    "n=int(input(\"enter number of elemnets\"))\n",
    "for i in range(n):\n",
    "    el=input(\"enter elements\")\n",
    "    a.add(el)\n",
    "print(a)"
   ]
  },
  {
   "cell_type": "code",
   "execution_count": 21,
   "id": "46cbafe2",
   "metadata": {},
   "outputs": [
    {
     "data": {
      "text/plain": [
       "{'rahul', 'rani'}"
      ]
     },
     "execution_count": 21,
     "metadata": {},
     "output_type": "execute_result"
    }
   ],
   "source": [
    "a={\"rahul\",\"raj\",'sonam',\"rani\"}\n",
    "b={\"summit\",\"rahul\",\"python\",\"java\",\"rani\"}\n",
    "a.intersection(b)"
   ]
  },
  {
   "cell_type": "code",
   "execution_count": 22,
   "id": "5b4d26f9",
   "metadata": {},
   "outputs": [
    {
     "data": {
      "text/plain": [
       "{'java', 'python', 'rahul', 'raj', 'rani', 'sonam', 'summit'}"
      ]
     },
     "execution_count": 22,
     "metadata": {},
     "output_type": "execute_result"
    }
   ],
   "source": [
    "a.union(b)"
   ]
  },
  {
   "cell_type": "code",
   "execution_count": 23,
   "id": "ee7b5a9c",
   "metadata": {},
   "outputs": [
    {
     "data": {
      "text/plain": [
       "{'raj', 'sonam'}"
      ]
     },
     "execution_count": 23,
     "metadata": {},
     "output_type": "execute_result"
    }
   ],
   "source": [
    "a.difference(b)"
   ]
  },
  {
   "cell_type": "code",
   "execution_count": 24,
   "id": "7a63b765",
   "metadata": {},
   "outputs": [
    {
     "data": {
      "text/plain": [
       "{'java', 'python', 'summit'}"
      ]
     },
     "execution_count": 24,
     "metadata": {},
     "output_type": "execute_result"
    }
   ],
   "source": [
    "b.difference(a)"
   ]
  },
  {
   "cell_type": "code",
   "execution_count": 30,
   "id": "e096e947",
   "metadata": {},
   "outputs": [
    {
     "data": {
      "text/plain": [
       "True"
      ]
     },
     "execution_count": 30,
     "metadata": {},
     "output_type": "execute_result"
    }
   ],
   "source": [
    "a={\"rahul\",\"rani\"}\n",
    "b={\"rahul\",\"rani\",\"python\"}\n",
    "b.issuperset(a)"
   ]
  },
  {
   "cell_type": "code",
   "execution_count": 27,
   "id": "541a634a",
   "metadata": {},
   "outputs": [
    {
     "data": {
      "text/plain": [
       "False"
      ]
     },
     "execution_count": 27,
     "metadata": {},
     "output_type": "execute_result"
    }
   ],
   "source": [
    "a={\"rahul\",\"raj\",'sonam',\"rani\"}\n",
    "b={\"summit\",\"rahul\",\"python\",\"java\",\"rani\"}\n",
    "a.issuperset(b)"
   ]
  },
  {
   "cell_type": "code",
   "execution_count": null,
   "id": "14dc1fbc",
   "metadata": {},
   "outputs": [],
   "source": []
  }
 ],
 "metadata": {
  "kernelspec": {
   "display_name": "Python 3",
   "language": "python",
   "name": "python3"
  },
  "language_info": {
   "codemirror_mode": {
    "name": "ipython",
    "version": 3
   },
   "file_extension": ".py",
   "mimetype": "text/x-python",
   "name": "python",
   "nbconvert_exporter": "python",
   "pygments_lexer": "ipython3",
   "version": "3.8.8"
  }
 },
 "nbformat": 4,
 "nbformat_minor": 5
}
